{
 "cells": [
  {
   "cell_type": "markdown",
   "source": "# Medidas de tendencial central\n\n>*\"No se puede predecir el comportamiento individual, pero sí el comportamiento promedio\"*  -Alejandro Quintela del Río\n\n## La ley de los grandes números\n\nDice que, bajo ciertas condiciones generales (variables aleatorias), la medida de $n$ variables aleatorias $X_1, X_2,... , X_N$ se aproxima a la media de las $n$ medias $\\mu_1, \\mu_2,...,\\mu_n$ (donde $\\mu_i=E(X_i)$)\n\n$\\frac{X_1+X_2+...+X_n}{n}\\rightarrow\\frac{\\mu_1+\\mu_2+...+\\mu_n}{n}$\n\n## El teorema del límite central\n\nCuando el tamaño de la muestra es lo suficientemente grande, la distribución de las medias sigue aproximadamente una distribución normal.\n\n![Picture title](image-20220409-195639.png)",
   "metadata": {
    "cell_id": "dbb46f95eac24e0fb38012e2b346f88b",
    "tags": [],
    "deepnote_cell_type": "markdown",
    "deepnote_cell_height": 439.046875
   }
  },
  {
   "cell_type": "markdown",
   "source": "# Medidas de dispersión\n\n## Desviación estándar\n\n$\\sigma = \\sqrt{\\frac{(x_1-\\bar{x})^2 +(x_2-\\bar{x})^2+...+(x_n-\\bar{x})^2}{n-1}}=\\sqrt{\\frac{ \\sum_{i=1}^n (x_i-\\bar{x})^2}{ n-1 }}$\n\nLa desviación estándar de una población repasa la cantidad de dispersión de los datos de una población entera.\n\n",
   "metadata": {
    "cell_id": "17c68a890ffb44b49c72ffb1fa5bcf49",
    "tags": [],
    "deepnote_cell_type": "markdown",
    "deepnote_cell_height": 221.984375
   }
  },
  {
   "cell_type": "markdown",
   "source": "![Picture title](image-20220409-201156.png)\n\n**Cantidad de desviaciones estándar**\n\nUn valor bajo de la desviación típica indica que los números del conjunto están relativamente concentrados alrededor de la media.",
   "metadata": {
    "cell_id": "f9fcade72e9d468ca764fef404f60135",
    "tags": [],
    "deepnote_cell_type": "markdown",
    "deepnote_cell_height": 128.796875
   }
  },
  {
   "cell_type": "markdown",
   "source": "## Varianza\n\n$\\sigma_n^2=\\frac{1}{n}\\sum_{i=1}^n (x_i-\\bar{X})^2=(\\frac{1}{n}\\sum_{i=1}^n x_i)^2-\\bar{X}^2=\\frac{1}{n^2}\\sum_{i=1}^n \\sum_{j>i} (x_i-x_j)^2$\n\nLa varianza es una media de dispersión que representa la variabilidad de una serie de datos respecto a su media\n\n",
   "metadata": {
    "cell_id": "bd8b705172164e5fadde147158b2f732",
    "tags": [],
    "deepnote_cell_type": "markdown",
    "deepnote_cell_height": 145.765625
   }
  },
  {
   "cell_type": "markdown",
   "source": "![Picture title](image-20220409-202209.png)\n\nLas medias de asimetría son indicadores que permiten establecer el grado de simetría (o asimetría) que presenta una distribución de probabilidad de una variable aleatoria sin tener que hacer su representación gráfica",
   "metadata": {
    "cell_id": "1676fcebf3de4811bc5d2766e1085cf5",
    "tags": [],
    "deepnote_cell_type": "markdown",
    "deepnote_cell_height": 114.796875
   }
  },
  {
   "cell_type": "markdown",
   "source": "## Curtosis\nLa curtosis de una variable estadística/aleatoria es una característica de forma de su distribución de frecuencias/probabilidad. Es decir, la curtosis te dice que tan acumulados estan tus datos.\n\n![Picture title](image-20220410-163356.png)\n",
   "metadata": {
    "cell_id": "9632d6be75b44f1399f46ff37ce6d4a2",
    "tags": [],
    "deepnote_cell_type": "markdown",
    "deepnote_cell_height": 170.796875
   }
  },
  {
   "cell_type": "markdown",
   "source": "# Agrupamiento de datasets\n",
   "metadata": {
    "cell_id": "f12895adb0f64234b572dcacd8bf4bc1",
    "tags": [],
    "deepnote_cell_type": "markdown",
    "deepnote_cell_height": 82
   }
  },
  {
   "cell_type": "code",
   "metadata": {
    "tags": [],
    "cell_id": "9f86b16c-59b8-4800-960b-c3cec256e00a",
    "deepnote_to_be_reexecuted": false,
    "source_hash": "d441d65b",
    "execution_start": 1649808534655,
    "execution_millis": 572,
    "deepnote_cell_type": "code",
    "deepnote_cell_height": 117
   },
   "source": "# Llamamos el set de datos públicos\nimport pandas as pd\nimport altair as alt",
   "execution_count": null,
   "outputs": []
  },
  {
   "cell_type": "code",
   "metadata": {
    "cell_id": "aa50cb46e0dc46de8d3c33276c9b2ff1",
    "tags": [],
    "deepnote_to_be_reexecuted": false,
    "source_hash": "7ad6af6c",
    "execution_start": 1649808535251,
    "execution_millis": 961,
    "deepnote_cell_type": "code",
    "deepnote_cell_height": 670.796875
   },
   "source": "chicago_data = 'https://raw.githubusercontent.com/terranigmark/curso-analisis-exploratorio-datos-platzi/main/Traffic_Crashes1.csv'\ndf_chicago = pd.read_csv(chicago_data)\ndf_chicago\n",
   "execution_count": null,
   "outputs": [
    {
     "output_type": "execute_result",
     "execution_count": 2,
     "data": {
      "application/vnd.deepnote.dataframe.v3+json": {
       "column_count": 51,
       "row_count": 27961,
       "columns": [
        {
         "name": "Unnamed: 0",
         "dtype": "int64",
         "stats": {
          "unique_count": 27961,
          "nan_count": 0,
          "min": "5",
          "max": "447370",
          "histogram": [
           {
            "bin_start": 5,
            "bin_end": 44741.5,
            "count": 2794
           },
           {
            "bin_start": 44741.5,
            "bin_end": 89478,
            "count": 2779
           },
           {
            "bin_start": 89478,
            "bin_end": 134214.5,
            "count": 2847
           },
           {
            "bin_start": 134214.5,
            "bin_end": 178951,
            "count": 2758
           },
           {
            "bin_start": 178951,
            "bin_end": 223687.5,
            "count": 2784
           },
           {
            "bin_start": 223687.5,
            "bin_end": 268424,
            "count": 2826
           },
           {
            "bin_start": 268424,
            "bin_end": 313160.5,
            "count": 2740
           },
           {
            "bin_start": 313160.5,
            "bin_end": 357897,
            "count": 2759
           },
           {
            "bin_start": 357897,
            "bin_end": 402633.5,
            "count": 2844
           },
           {
            "bin_start": 402633.5,
            "bin_end": 447370,
            "count": 2830
           }
          ]
         }
        },
        {
         "name": "CRASH_RECORD_ID",
         "dtype": "object",
         "stats": {
          "unique_count": 27961,
          "nan_count": 0,
          "categories": [
           {
            "name": "9e97e92753166de921a0e87199513aa841142c6fbb3a1ea166f4e3ec5f919e4002ef990a54b8c540c17fc2316727ee19b30019c881cbabb5502feccb8fed0f91",
            "count": 1
           },
           {
            "name": "e5fe82ab7757d630a7f79927113bc63b5bede0cda7466568034102305859bac13dde19a66a69fcca588fda8e54f05f2dba7b8f3c49f28b48025deca7232188cb",
            "count": 1
           },
           {
            "name": "27959 others",
            "count": 27959
           }
          ]
         }
        },
        {
         "name": "RD_NO",
         "dtype": "object",
         "stats": {
          "unique_count": 27713,
          "nan_count": 248,
          "categories": [
           {
            "name": "JA154528",
            "count": 1
           },
           {
            "name": "27712 others",
            "count": 27712
           },
           {
            "name": "Missing",
            "count": 248
           }
          ]
         }
        },
        {
         "name": "CRASH_DATE_EST_I",
         "dtype": "object"
        },
        {
         "name": "CRASH_DATE",
         "dtype": "object"
        },
        {
         "name": "POSTED_SPEED_LIMIT",
         "dtype": "int64"
        },
        {
         "name": "TRAFFIC_CONTROL_DEVICE",
         "dtype": "object"
        },
        {
         "name": "DEVICE_CONDITION",
         "dtype": "object"
        },
        {
         "name": "WEATHER_CONDITION",
         "dtype": "object"
        },
        {
         "name": "LIGHTING_CONDITION",
         "dtype": "object"
        },
        {
         "name": "FIRST_CRASH_TYPE",
         "dtype": "object"
        },
        {
         "name": "TRAFFICWAY_TYPE",
         "dtype": "object"
        },
        {
         "name": "LANE_CNT",
         "dtype": "float64"
        },
        {
         "name": "ALIGNMENT",
         "dtype": "object"
        },
        {
         "name": "ROADWAY_SURFACE_COND",
         "dtype": "object"
        },
        {
         "name": "ROAD_DEFECT",
         "dtype": "object"
        },
        {
         "name": "REPORT_TYPE",
         "dtype": "object"
        },
        {
         "name": "CRASH_TYPE",
         "dtype": "object"
        },
        {
         "name": "INTERSECTION_RELATED_I",
         "dtype": "object"
        },
        {
         "name": "NOT_RIGHT_OF_WAY_I",
         "dtype": "object"
        },
        {
         "name": "HIT_AND_RUN_I",
         "dtype": "object"
        },
        {
         "name": "DAMAGE",
         "dtype": "object"
        },
        {
         "name": "DATE_POLICE_NOTIFIED",
         "dtype": "object"
        },
        {
         "name": "PRIM_CONTRIBUTORY_CAUSE",
         "dtype": "object"
        },
        {
         "name": "SEC_CONTRIBUTORY_CAUSE",
         "dtype": "object"
        },
        {
         "name": "STREET_NO",
         "dtype": "int64"
        },
        {
         "name": "STREET_DIRECTION",
         "dtype": "object"
        },
        {
         "name": "STREET_NAME",
         "dtype": "object"
        },
        {
         "name": "BEAT_OF_OCCURRENCE",
         "dtype": "float64"
        },
        {
         "name": "PHOTOS_TAKEN_I",
         "dtype": "object"
        },
        {
         "name": "STATEMENTS_TAKEN_I",
         "dtype": "object"
        },
        {
         "name": "DOORING_I",
         "dtype": "object"
        },
        {
         "name": "WORK_ZONE_I",
         "dtype": "object"
        },
        {
         "name": "WORK_ZONE_TYPE",
         "dtype": "object"
        },
        {
         "name": "WORKERS_PRESENT_I",
         "dtype": "object"
        },
        {
         "name": "NUM_UNITS",
         "dtype": "int64"
        },
        {
         "name": "MOST_SEVERE_INJURY",
         "dtype": "object"
        },
        {
         "name": "INJURIES_TOTAL",
         "dtype": "float64"
        },
        {
         "name": "INJURIES_FATAL",
         "dtype": "float64"
        },
        {
         "name": "INJURIES_INCAPACITATING",
         "dtype": "float64"
        },
        {
         "name": "INJURIES_NON_INCAPACITATING",
         "dtype": "float64"
        },
        {
         "name": "INJURIES_REPORTED_NOT_EVIDENT",
         "dtype": "float64"
        },
        {
         "name": "INJURIES_NO_INDICATION",
         "dtype": "float64"
        },
        {
         "name": "INJURIES_UNKNOWN",
         "dtype": "float64"
        },
        {
         "name": "CRASH_HOUR",
         "dtype": "int64"
        },
        {
         "name": "CRASH_DAY_OF_WEEK",
         "dtype": "int64"
        },
        {
         "name": "CRASH_MONTH",
         "dtype": "int64"
        },
        {
         "name": "LATITUDE",
         "dtype": "float64"
        },
        {
         "name": "LONGITUDE",
         "dtype": "float64"
        },
        {
         "name": "LOCATION",
         "dtype": "object"
        },
        {
         "name": "date_real",
         "dtype": "object"
        },
        {
         "name": "_deepnote_index_column",
         "dtype": "int64"
        }
       ],
       "rows": [
        {
         "Unnamed: 0": 290702,
         "CRASH_RECORD_ID": "9e97e92753166de921a0e87199513aa841142c6fbb3a1ea166f4e3ec5f919e4002ef990a54b8c540c17fc2316727ee19b30019c881cbabb5502feccb8fed0f91",
         "RD_NO": "JA154528",
         "CRASH_DATE_EST_I": "nan",
         "CRASH_DATE": "2017-02-14 10:00:00",
         "POSTED_SPEED_LIMIT": 30,
         "TRAFFIC_CONTROL_DEVICE": "NO CONTROLS",
         "DEVICE_CONDITION": "NO CONTROLS",
         "WEATHER_CONDITION": "CLEAR",
         "LIGHTING_CONDITION": "DAYLIGHT",
         "FIRST_CRASH_TYPE": "PARKED MOTOR VEHICLE",
         "TRAFFICWAY_TYPE": "ONE-WAY",
         "LANE_CNT": "nan",
         "ALIGNMENT": "STRAIGHT AND LEVEL",
         "ROADWAY_SURFACE_COND": "DRY",
         "ROAD_DEFECT": "NO DEFECTS",
         "REPORT_TYPE": "NOT ON SCENE (DESK REPORT)",
         "CRASH_TYPE": "NO INJURY / DRIVE AWAY",
         "INTERSECTION_RELATED_I": "nan",
         "NOT_RIGHT_OF_WAY_I": "nan",
         "HIT_AND_RUN_I": "Y",
         "DAMAGE": "$500 OR LESS",
         "DATE_POLICE_NOTIFIED": "02/15/2017 11:22:00 AM",
         "PRIM_CONTRIBUTORY_CAUSE": "UNABLE TO DETERMINE",
         "SEC_CONTRIBUTORY_CAUSE": "UNABLE TO DETERMINE",
         "STREET_NO": 1417,
         "STREET_DIRECTION": "W",
         "STREET_NAME": "ALBION AVE",
         "BEAT_OF_OCCURRENCE": 2432,
         "PHOTOS_TAKEN_I": "nan",
         "STATEMENTS_TAKEN_I": "nan",
         "DOORING_I": "nan",
         "WORK_ZONE_I": "nan",
         "WORK_ZONE_TYPE": "nan",
         "WORKERS_PRESENT_I": "nan",
         "NUM_UNITS": 2,
         "MOST_SEVERE_INJURY": "NO INDICATION OF INJURY",
         "INJURIES_TOTAL": 0,
         "INJURIES_FATAL": 0,
         "INJURIES_INCAPACITATING": 0,
         "INJURIES_NON_INCAPACITATING": 0,
         "INJURIES_REPORTED_NOT_EVIDENT": 0,
         "INJURIES_NO_INDICATION": 1,
         "INJURIES_UNKNOWN": 0,
         "CRASH_HOUR": 10,
         "CRASH_DAY_OF_WEEK": 3,
         "CRASH_MONTH": 2,
         "LATITUDE": 42.001675862,
         "LONGITUDE": -87.666364005,
         "LOCATION": "POINT (-87.666364005301 42.001675862416)",
         "date_real": "2017-02-14",
         "_deepnote_index_column": 0
        },
        {
         "Unnamed: 0": 405524,
         "CRASH_RECORD_ID": "e5fe82ab7757d630a7f79927113bc63b5bede0cda7466568034102305859bac13dde19a66a69fcca588fda8e54f05f2dba7b8f3c49f28b48025deca7232188cb",
         "RD_NO": "JC391213",
         "CRASH_DATE_EST_I": "nan",
         "CRASH_DATE": "2019-08-13 19:12:00",
         "POSTED_SPEED_LIMIT": 35,
         "TRAFFIC_CONTROL_DEVICE": "TRAFFIC SIGNAL",
         "DEVICE_CONDITION": "FUNCTIONING PROPERLY",
         "WEATHER_CONDITION": "CLEAR",
         "LIGHTING_CONDITION": "DAYLIGHT",
         "FIRST_CRASH_TYPE": "SIDESWIPE SAME DIRECTION",
         "TRAFFICWAY_TYPE": "DIVIDED - W/MEDIAN (NOT RAISED)",
         "LANE_CNT": "nan",
         "ALIGNMENT": "STRAIGHT AND LEVEL",
         "ROADWAY_SURFACE_COND": "DRY",
         "ROAD_DEFECT": "NO DEFECTS",
         "REPORT_TYPE": "ON SCENE",
         "CRASH_TYPE": "NO INJURY / DRIVE AWAY",
         "INTERSECTION_RELATED_I": "nan",
         "NOT_RIGHT_OF_WAY_I": "nan",
         "HIT_AND_RUN_I": "nan",
         "DAMAGE": "$500 OR LESS",
         "DATE_POLICE_NOTIFIED": "08/13/2019 07:13:00 PM",
         "PRIM_CONTRIBUTORY_CAUSE": "IMPROPER OVERTAKING/PASSING",
         "SEC_CONTRIBUTORY_CAUSE": "NOT APPLICABLE",
         "STREET_NO": 3202,
         "STREET_DIRECTION": "N",
         "STREET_NAME": "CLARK ST",
         "BEAT_OF_OCCURRENCE": 1924,
         "PHOTOS_TAKEN_I": "nan",
         "STATEMENTS_TAKEN_I": "nan",
         "DOORING_I": "nan",
         "WORK_ZONE_I": "nan",
         "WORK_ZONE_TYPE": "nan",
         "WORKERS_PRESENT_I": "nan",
         "NUM_UNITS": 2,
         "MOST_SEVERE_INJURY": "NO INDICATION OF INJURY",
         "INJURIES_TOTAL": 0,
         "INJURIES_FATAL": 0,
         "INJURIES_INCAPACITATING": 0,
         "INJURIES_NON_INCAPACITATING": 0,
         "INJURIES_REPORTED_NOT_EVIDENT": 0,
         "INJURIES_NO_INDICATION": 8,
         "INJURIES_UNKNOWN": 0,
         "CRASH_HOUR": 19,
         "CRASH_DAY_OF_WEEK": 3,
         "CRASH_MONTH": 8,
         "LATITUDE": 41.940040917,
         "LONGITUDE": -87.65092322299999,
         "LOCATION": "POINT (-87.650923222567 41.940040917032)",
         "date_real": "2019-08-13",
         "_deepnote_index_column": 1
        },
        {
         "Unnamed: 0": 261834,
         "CRASH_RECORD_ID": "8c8ea6db9e1950765419429e2732ba5598fc6f87ac9e0ce3a3670ba533ad43e06ececf8931e5138c5299d355e0d7185074d40b58882cf28425dca715efd89044",
         "RD_NO": "JC273287",
         "CRASH_DATE_EST_I": "nan",
         "CRASH_DATE": "2019-05-22 08:30:00",
         "POSTED_SPEED_LIMIT": 25,
         "TRAFFIC_CONTROL_DEVICE": "STOP SIGN/FLASHER",
         "DEVICE_CONDITION": "FUNCTIONING PROPERLY",
         "WEATHER_CONDITION": "RAIN",
         "LIGHTING_CONDITION": "DAYLIGHT",
         "FIRST_CRASH_TYPE": "REAR TO FRONT",
         "TRAFFICWAY_TYPE": "ONE-WAY",
         "LANE_CNT": "nan",
         "ALIGNMENT": "STRAIGHT AND LEVEL",
         "ROADWAY_SURFACE_COND": "WET",
         "ROAD_DEFECT": "NO DEFECTS",
         "REPORT_TYPE": "ON SCENE",
         "CRASH_TYPE": "NO INJURY / DRIVE AWAY",
         "INTERSECTION_RELATED_I": "nan",
         "NOT_RIGHT_OF_WAY_I": "nan",
         "HIT_AND_RUN_I": "Y",
         "DAMAGE": "$500 OR LESS",
         "DATE_POLICE_NOTIFIED": "05/22/2019 08:45:00 AM",
         "PRIM_CONTRIBUTORY_CAUSE": "OPERATING VEHICLE IN ERRATIC, RECKLESS, CARELESS, NEGLIGENT OR AGGRESSIVE MANNER",
         "SEC_CONTRIBUTORY_CAUSE": "NOT APPLICABLE",
         "STREET_NO": 3300,
         "STREET_DIRECTION": "W",
         "STREET_NAME": "BELLE PLAINE AVE",
         "BEAT_OF_OCCURRENCE": 1724,
         "PHOTOS_TAKEN_I": "nan",
         "STATEMENTS_TAKEN_I": "nan",
         "DOORING_I": "nan",
         "WORK_ZONE_I": "nan",
         "WORK_ZONE_TYPE": "nan",
         "WORKERS_PRESENT_I": "nan",
         "NUM_UNITS": 2,
         "MOST_SEVERE_INJURY": "NO INDICATION OF INJURY",
         "INJURIES_TOTAL": 0,
         "INJURIES_FATAL": 0,
         "INJURIES_INCAPACITATING": 0,
         "INJURIES_NON_INCAPACITATING": 0,
         "INJURIES_REPORTED_NOT_EVIDENT": 0,
         "INJURIES_NO_INDICATION": 2,
         "INJURIES_UNKNOWN": 0,
         "CRASH_HOUR": 8,
         "CRASH_DAY_OF_WEEK": 4,
         "CRASH_MONTH": 5,
         "LATITUDE": 41.95585361,
         "LONGITUDE": -87.710644535,
         "LOCATION": "POINT (-87.710644534923 41.955853610383)",
         "date_real": "2019-05-22",
         "_deepnote_index_column": 2
        },
        {
         "Unnamed: 0": 38519,
         "CRASH_RECORD_ID": "02671b7d36a9d189d607778816fec23bbb2e5ac3cd3039a4cc351a1f839fcc8dc9ff54c43fd87d247c05507f431e8b2d4436bc3417f561a00431094dbd8f60fe",
         "RD_NO": "JA307115",
         "CRASH_DATE_EST_I": "nan",
         "CRASH_DATE": "2017-06-14 16:50:00",
         "POSTED_SPEED_LIMIT": 0,
         "TRAFFIC_CONTROL_DEVICE": "UNKNOWN",
         "DEVICE_CONDITION": "UNKNOWN",
         "WEATHER_CONDITION": "UNKNOWN",
         "LIGHTING_CONDITION": "UNKNOWN",
         "FIRST_CRASH_TYPE": "REAR END",
         "TRAFFICWAY_TYPE": "PARKING LOT",
         "LANE_CNT": 1,
         "ALIGNMENT": "STRAIGHT AND LEVEL",
         "ROADWAY_SURFACE_COND": "UNKNOWN",
         "ROAD_DEFECT": "UNKNOWN",
         "REPORT_TYPE": "ON SCENE",
         "CRASH_TYPE": "NO INJURY / DRIVE AWAY",
         "INTERSECTION_RELATED_I": "nan",
         "NOT_RIGHT_OF_WAY_I": "Y",
         "HIT_AND_RUN_I": "nan",
         "DAMAGE": "$501 - $1,500",
         "DATE_POLICE_NOTIFIED": "06/14/2017 06:39:00 PM",
         "PRIM_CONTRIBUTORY_CAUSE": "FAILING TO YIELD RIGHT-OF-WAY",
         "SEC_CONTRIBUTORY_CAUSE": "NOT APPLICABLE",
         "STREET_NO": 1340,
         "STREET_DIRECTION": "S",
         "STREET_NAME": "DAMEN AVE",
         "BEAT_OF_OCCURRENCE": 1233,
         "PHOTOS_TAKEN_I": "nan",
         "STATEMENTS_TAKEN_I": "nan",
         "DOORING_I": "nan",
         "WORK_ZONE_I": "nan",
         "WORK_ZONE_TYPE": "nan",
         "WORKERS_PRESENT_I": "nan",
         "NUM_UNITS": 2,
         "MOST_SEVERE_INJURY": "NO INDICATION OF INJURY",
         "INJURIES_TOTAL": 0,
         "INJURIES_FATAL": 0,
         "INJURIES_INCAPACITATING": 0,
         "INJURIES_NON_INCAPACITATING": 0,
         "INJURIES_REPORTED_NOT_EVIDENT": 0,
         "INJURIES_NO_INDICATION": 2,
         "INJURIES_UNKNOWN": 0,
         "CRASH_HOUR": 16,
         "CRASH_DAY_OF_WEEK": 4,
         "CRASH_MONTH": 6,
         "LATITUDE": 41.863734391,
         "LONGITUDE": -87.67631269,
         "LOCATION": "POINT (-87.676312689993 41.863734390899)",
         "date_real": "2017-06-14",
         "_deepnote_index_column": 3
        },
        {
         "Unnamed: 0": 420197,
         "CRASH_RECORD_ID": "ef1b1d450f65c6d16245dffdd3304d93b8be7d7bbf47f35ba8690274cc9cbb54272e7832f3fce3597abfd89b69cad625ebdca7fed39bcb6c03a189582b88cbf7",
         "RD_NO": "JB247942",
         "CRASH_DATE_EST_I": "nan",
         "CRASH_DATE": "2018-05-03 08:35:00",
         "POSTED_SPEED_LIMIT": 30,
         "TRAFFIC_CONTROL_DEVICE": "NO CONTROLS",
         "DEVICE_CONDITION": "NO CONTROLS",
         "WEATHER_CONDITION": "RAIN",
         "LIGHTING_CONDITION": "DAYLIGHT",
         "FIRST_CRASH_TYPE": "SIDESWIPE SAME DIRECTION",
         "TRAFFICWAY_TYPE": "NOT DIVIDED",
         "LANE_CNT": "nan",
         "ALIGNMENT": "STRAIGHT AND LEVEL",
         "ROADWAY_SURFACE_COND": "WET",
         "ROAD_DEFECT": "NO DEFECTS",
         "REPORT_TYPE": "NOT ON SCENE (DESK REPORT)",
         "CRASH_TYPE": "NO INJURY / DRIVE AWAY",
         "INTERSECTION_RELATED_I": "nan",
         "NOT_RIGHT_OF_WAY_I": "nan",
         "HIT_AND_RUN_I": "nan",
         "DAMAGE": "OVER $1,500",
         "DATE_POLICE_NOTIFIED": "05/03/2018 09:15:00 AM",
         "PRIM_CONTRIBUTORY_CAUSE": "IMPROPER OVERTAKING/PASSING",
         "SEC_CONTRIBUTORY_CAUSE": "UNABLE TO DETERMINE",
         "STREET_NO": 2755,
         "STREET_DIRECTION": "W",
         "STREET_NAME": "CERMAK RD",
         "BEAT_OF_OCCURRENCE": 1034,
         "PHOTOS_TAKEN_I": "nan",
         "STATEMENTS_TAKEN_I": "nan",
         "DOORING_I": "nan",
         "WORK_ZONE_I": "nan",
         "WORK_ZONE_TYPE": "nan",
         "WORKERS_PRESENT_I": "nan",
         "NUM_UNITS": 2,
         "MOST_SEVERE_INJURY": "NO INDICATION OF INJURY",
         "INJURIES_TOTAL": 0,
         "INJURIES_FATAL": 0,
         "INJURIES_INCAPACITATING": 0,
         "INJURIES_NON_INCAPACITATING": 0,
         "INJURIES_REPORTED_NOT_EVIDENT": 0,
         "INJURIES_NO_INDICATION": 2,
         "INJURIES_UNKNOWN": 0,
         "CRASH_HOUR": 8,
         "CRASH_DAY_OF_WEEK": 5,
         "CRASH_MONTH": 5,
         "LATITUDE": 41.851794252,
         "LONGITUDE": -87.695223114,
         "LOCATION": "POINT (-87.695223114296 41.851794251516)",
         "date_real": "2018-05-03",
         "_deepnote_index_column": 4
        },
        {
         "Unnamed: 0": 119253,
         "CRASH_RECORD_ID": "345729c9593fdf3d42bafb07f647dadf200ca36280c1e3884cdf80b428ee705cf020c4b4e88f651d481df21f008715d19fdd74e352622261f4a122d35ffe370c",
         "RD_NO": "JD171221",
         "CRASH_DATE_EST_I": "nan",
         "CRASH_DATE": "2020-03-02 11:00:00",
         "POSTED_SPEED_LIMIT": 30,
         "TRAFFIC_CONTROL_DEVICE": "NO CONTROLS",
         "DEVICE_CONDITION": "NO CONTROLS",
         "WEATHER_CONDITION": "CLEAR",
         "LIGHTING_CONDITION": "DAYLIGHT",
         "FIRST_CRASH_TYPE": "REAR TO SIDE",
         "TRAFFICWAY_TYPE": "NOT DIVIDED",
         "LANE_CNT": "nan",
         "ALIGNMENT": "STRAIGHT AND LEVEL",
         "ROADWAY_SURFACE_COND": "DRY",
         "ROAD_DEFECT": "NO DEFECTS",
         "REPORT_TYPE": "NOT ON SCENE (DESK REPORT)",
         "CRASH_TYPE": "NO INJURY / DRIVE AWAY",
         "INTERSECTION_RELATED_I": "nan",
         "NOT_RIGHT_OF_WAY_I": "nan",
         "HIT_AND_RUN_I": "nan",
         "DAMAGE": "$501 - $1,500",
         "DATE_POLICE_NOTIFIED": "03/02/2020 11:15:00 AM",
         "PRIM_CONTRIBUTORY_CAUSE": "UNABLE TO DETERMINE",
         "SEC_CONTRIBUTORY_CAUSE": "NOT APPLICABLE",
         "STREET_NO": 6120,
         "STREET_DIRECTION": "S",
         "STREET_NAME": "JUSTINE ST",
         "BEAT_OF_OCCURRENCE": 713,
         "PHOTOS_TAKEN_I": "nan",
         "STATEMENTS_TAKEN_I": "nan",
         "DOORING_I": "nan",
         "WORK_ZONE_I": "nan",
         "WORK_ZONE_TYPE": "nan",
         "WORKERS_PRESENT_I": "nan",
         "NUM_UNITS": 2,
         "MOST_SEVERE_INJURY": "NO INDICATION OF INJURY",
         "INJURIES_TOTAL": 0,
         "INJURIES_FATAL": 0,
         "INJURIES_INCAPACITATING": 0,
         "INJURIES_NON_INCAPACITATING": 0,
         "INJURIES_REPORTED_NOT_EVIDENT": 0,
         "INJURIES_NO_INDICATION": 2,
         "INJURIES_UNKNOWN": 0,
         "CRASH_HOUR": 11,
         "CRASH_DAY_OF_WEEK": 2,
         "CRASH_MONTH": 3,
         "LATITUDE": 41.782470517,
         "LONGITUDE": -87.66320518399999,
         "LOCATION": "POINT (-87.663205183759 41.78247051714)",
         "date_real": "2020-03-02",
         "_deepnote_index_column": 5
        },
        {
         "Unnamed: 0": 442780,
         "CRASH_RECORD_ID": "fd438efdc61972cb0ac7b27ffa4568df01873fc04b7d03c1329d73dcace986397fd215f42a157f64bb3e81d8eaae6e6679c81f8726570030b050dfc3c4568636",
         "RD_NO": "JB363267",
         "CRASH_DATE_EST_I": "nan",
         "CRASH_DATE": "2018-07-24 13:20:00",
         "POSTED_SPEED_LIMIT": 30,
         "TRAFFIC_CONTROL_DEVICE": "NO CONTROLS",
         "DEVICE_CONDITION": "NO CONTROLS",
         "WEATHER_CONDITION": "CLEAR",
         "LIGHTING_CONDITION": "DAYLIGHT",
         "FIRST_CRASH_TYPE": "SIDESWIPE SAME DIRECTION",
         "TRAFFICWAY_TYPE": "NOT DIVIDED",
         "LANE_CNT": "nan",
         "ALIGNMENT": "STRAIGHT AND LEVEL",
         "ROADWAY_SURFACE_COND": "DRY",
         "ROAD_DEFECT": "NO DEFECTS",
         "REPORT_TYPE": "ON SCENE",
         "CRASH_TYPE": "NO INJURY / DRIVE AWAY",
         "INTERSECTION_RELATED_I": "nan",
         "NOT_RIGHT_OF_WAY_I": "nan",
         "HIT_AND_RUN_I": "nan",
         "DAMAGE": "OVER $1,500",
         "DATE_POLICE_NOTIFIED": "07/24/2018 01:22:00 PM",
         "PRIM_CONTRIBUTORY_CAUSE": "DRIVING SKILLS/KNOWLEDGE/EXPERIENCE",
         "SEC_CONTRIBUTORY_CAUSE": "NOT APPLICABLE",
         "STREET_NO": 3548,
         "STREET_DIRECTION": "W",
         "STREET_NAME": "ARTHINGTON ST",
         "BEAT_OF_OCCURRENCE": 1133,
         "PHOTOS_TAKEN_I": "nan",
         "STATEMENTS_TAKEN_I": "nan",
         "DOORING_I": "nan",
         "WORK_ZONE_I": "nan",
         "WORK_ZONE_TYPE": "nan",
         "WORKERS_PRESENT_I": "nan",
         "NUM_UNITS": 2,
         "MOST_SEVERE_INJURY": "NO INDICATION OF INJURY",
         "INJURIES_TOTAL": 0,
         "INJURIES_FATAL": 0,
         "INJURIES_INCAPACITATING": 0,
         "INJURIES_NON_INCAPACITATING": 0,
         "INJURIES_REPORTED_NOT_EVIDENT": 0,
         "INJURIES_NO_INDICATION": 3,
         "INJURIES_UNKNOWN": 0,
         "CRASH_HOUR": 13,
         "CRASH_DAY_OF_WEEK": 3,
         "CRASH_MONTH": 7,
         "LATITUDE": 41.870061053,
         "LONGITUDE": -87.71503619799999,
         "LOCATION": "POINT (-87.715036197762 41.87006105302)",
         "date_real": "2018-07-24",
         "_deepnote_index_column": 6
        },
        {
         "Unnamed: 0": 251434,
         "CRASH_RECORD_ID": "8607ea59568ab3bd9c15c5eb91da10bbc96b98e28bdb2f602ec37446d14a27b90e50ff49d868116e24c0c72acc4e65ccf849fd7e6d2f239f781bea7f93fb59cd",
         "RD_NO": "JC464663",
         "CRASH_DATE_EST_I": "nan",
         "CRASH_DATE": "2019-10-08 12:18:00",
         "POSTED_SPEED_LIMIT": 10,
         "TRAFFIC_CONTROL_DEVICE": "NO CONTROLS",
         "DEVICE_CONDITION": "NO CONTROLS",
         "WEATHER_CONDITION": "CLEAR",
         "LIGHTING_CONDITION": "DAYLIGHT",
         "FIRST_CRASH_TYPE": "PARKED MOTOR VEHICLE",
         "TRAFFICWAY_TYPE": "PARKING LOT",
         "LANE_CNT": "nan",
         "ALIGNMENT": "STRAIGHT AND LEVEL",
         "ROADWAY_SURFACE_COND": "DRY",
         "ROAD_DEFECT": "NO DEFECTS",
         "REPORT_TYPE": "ON SCENE",
         "CRASH_TYPE": "NO INJURY / DRIVE AWAY",
         "INTERSECTION_RELATED_I": "nan",
         "NOT_RIGHT_OF_WAY_I": "nan",
         "HIT_AND_RUN_I": "nan",
         "DAMAGE": "$501 - $1,500",
         "DATE_POLICE_NOTIFIED": "10/08/2019 12:20:00 PM",
         "PRIM_CONTRIBUTORY_CAUSE": "UNABLE TO DETERMINE",
         "SEC_CONTRIBUTORY_CAUSE": "UNABLE TO DETERMINE",
         "STREET_NO": 5252,
         "STREET_DIRECTION": "W",
         "STREET_NAME": "PALMER ST",
         "BEAT_OF_OCCURRENCE": 2515,
         "PHOTOS_TAKEN_I": "nan",
         "STATEMENTS_TAKEN_I": "nan",
         "DOORING_I": "nan",
         "WORK_ZONE_I": "nan",
         "WORK_ZONE_TYPE": "nan",
         "WORKERS_PRESENT_I": "nan",
         "NUM_UNITS": 2,
         "MOST_SEVERE_INJURY": "NO INDICATION OF INJURY",
         "INJURIES_TOTAL": 0,
         "INJURIES_FATAL": 0,
         "INJURIES_INCAPACITATING": 0,
         "INJURIES_NON_INCAPACITATING": 0,
         "INJURIES_REPORTED_NOT_EVIDENT": 0,
         "INJURIES_NO_INDICATION": 1,
         "INJURIES_UNKNOWN": 0,
         "CRASH_HOUR": 12,
         "CRASH_DAY_OF_WEEK": 3,
         "CRASH_MONTH": 10,
         "LATITUDE": 41.920538447,
         "LONGITUDE": -87.75820003,
         "LOCATION": "POINT (-87.758200029995 41.920538446762)",
         "date_real": "2019-10-08",
         "_deepnote_index_column": 7
        },
        {
         "Unnamed: 0": 346960,
         "CRASH_RECORD_ID": "c16d497258988ff9d7c0227218de4fbf16ef490ce2eab2b1072eb3b80bd773d791011b6004bf840e6582584b3eb939ed326bcaccfdf7eb643c6e9ab001f71f58",
         "RD_NO": "JC490370",
         "CRASH_DATE_EST_I": "nan",
         "CRASH_DATE": "2019-10-29 03:20:00",
         "POSTED_SPEED_LIMIT": 30,
         "TRAFFIC_CONTROL_DEVICE": "TRAFFIC SIGNAL",
         "DEVICE_CONDITION": "FUNCTIONING PROPERLY",
         "WEATHER_CONDITION": "RAIN",
         "LIGHTING_CONDITION": "DARKNESS, LIGHTED ROAD",
         "FIRST_CRASH_TYPE": "REAR END",
         "TRAFFICWAY_TYPE": "DIVIDED - W/MEDIAN (NOT RAISED)",
         "LANE_CNT": "nan",
         "ALIGNMENT": "STRAIGHT AND LEVEL",
         "ROADWAY_SURFACE_COND": "WET",
         "ROAD_DEFECT": "RUT, HOLES",
         "REPORT_TYPE": "ON SCENE",
         "CRASH_TYPE": "NO INJURY / DRIVE AWAY",
         "INTERSECTION_RELATED_I": "Y",
         "NOT_RIGHT_OF_WAY_I": "nan",
         "HIT_AND_RUN_I": "nan",
         "DAMAGE": "$501 - $1,500",
         "DATE_POLICE_NOTIFIED": "10/29/2019 03:21:00 AM",
         "PRIM_CONTRIBUTORY_CAUSE": "FAILING TO REDUCE SPEED TO AVOID CRASH",
         "SEC_CONTRIBUTORY_CAUSE": "FOLLOWING TOO CLOSELY",
         "STREET_NO": 10300,
         "STREET_DIRECTION": "S",
         "STREET_NAME": "DOTY AVE E",
         "BEAT_OF_OCCURRENCE": 434,
         "PHOTOS_TAKEN_I": "nan",
         "STATEMENTS_TAKEN_I": "nan",
         "DOORING_I": "nan",
         "WORK_ZONE_I": "nan",
         "WORK_ZONE_TYPE": "nan",
         "WORKERS_PRESENT_I": "nan",
         "NUM_UNITS": 2,
         "MOST_SEVERE_INJURY": "NO INDICATION OF INJURY",
         "INJURIES_TOTAL": 0,
         "INJURIES_FATAL": 0,
         "INJURIES_INCAPACITATING": 0,
         "INJURIES_NON_INCAPACITATING": 0,
         "INJURIES_REPORTED_NOT_EVIDENT": 0,
         "INJURIES_NO_INDICATION": 2,
         "INJURIES_UNKNOWN": 0,
         "CRASH_HOUR": 3,
         "CRASH_DAY_OF_WEEK": 3,
         "CRASH_MONTH": 10,
         "LATITUDE": 41.707849555,
         "LONGITUDE": -87.580854271,
         "LOCATION": "POINT (-87.580854271249 41.70784955538)",
         "date_real": "2019-10-29",
         "_deepnote_index_column": 8
        },
        {
         "Unnamed: 0": 271813,
         "CRASH_RECORD_ID": "92df4cbb61e6b8d6a74b22a0bcca5c42d6f89bbe830644ded121f85cfc25a7b717689a40fc2e45e31e0633fce3fe68a6258bb457671b98172581f3b067a091a0",
         "RD_NO": "JC194932",
         "CRASH_DATE_EST_I": "nan",
         "CRASH_DATE": "2019-03-22 07:00:00",
         "POSTED_SPEED_LIMIT": 30,
         "TRAFFIC_CONTROL_DEVICE": "NO CONTROLS",
         "DEVICE_CONDITION": "NO CONTROLS",
         "WEATHER_CONDITION": "CLEAR",
         "LIGHTING_CONDITION": "DAYLIGHT",
         "FIRST_CRASH_TYPE": "SIDESWIPE SAME DIRECTION",
         "TRAFFICWAY_TYPE": "NOT DIVIDED",
         "LANE_CNT": 2,
         "ALIGNMENT": "STRAIGHT AND LEVEL",
         "ROADWAY_SURFACE_COND": "DRY",
         "ROAD_DEFECT": "NO DEFECTS",
         "REPORT_TYPE": "NOT ON SCENE (DESK REPORT)",
         "CRASH_TYPE": "NO INJURY / DRIVE AWAY",
         "INTERSECTION_RELATED_I": "nan",
         "NOT_RIGHT_OF_WAY_I": "nan",
         "HIT_AND_RUN_I": "nan",
         "DAMAGE": "$501 - $1,500",
         "DATE_POLICE_NOTIFIED": "03/22/2019 07:20:00 AM",
         "PRIM_CONTRIBUTORY_CAUSE": "IMPROPER OVERTAKING/PASSING",
         "SEC_CONTRIBUTORY_CAUSE": "UNABLE TO DETERMINE",
         "STREET_NO": 2732,
         "STREET_DIRECTION": "S",
         "STREET_NAME": "KEDZIE AVE",
         "BEAT_OF_OCCURRENCE": 1032,
         "PHOTOS_TAKEN_I": "nan",
         "STATEMENTS_TAKEN_I": "nan",
         "DOORING_I": "nan",
         "WORK_ZONE_I": "nan",
         "WORK_ZONE_TYPE": "nan",
         "WORKERS_PRESENT_I": "nan",
         "NUM_UNITS": 2,
         "MOST_SEVERE_INJURY": "NO INDICATION OF INJURY",
         "INJURIES_TOTAL": 0,
         "INJURIES_FATAL": 0,
         "INJURIES_INCAPACITATING": 0,
         "INJURIES_NON_INCAPACITATING": 0,
         "INJURIES_REPORTED_NOT_EVIDENT": 0,
         "INJURIES_NO_INDICATION": 3,
         "INJURIES_UNKNOWN": 0,
         "CRASH_HOUR": 7,
         "CRASH_DAY_OF_WEEK": 6,
         "CRASH_MONTH": 3,
         "LATITUDE": 41.841699179,
         "LONGITUDE": -87.70510167100001,
         "LOCATION": "POINT (-87.705101671147 41.841699179087)",
         "date_real": "2019-03-22",
         "_deepnote_index_column": 9
        }
       ]
      },
      "text/plain": "       Unnamed: 0                                    CRASH_RECORD_ID  \\\n0          290702  9e97e92753166de921a0e87199513aa841142c6fbb3a1e...   \n1          405524  e5fe82ab7757d630a7f79927113bc63b5bede0cda74665...   \n2          261834  8c8ea6db9e1950765419429e2732ba5598fc6f87ac9e0c...   \n3           38519  02671b7d36a9d189d607778816fec23bbb2e5ac3cd3039...   \n4          420197  ef1b1d450f65c6d16245dffdd3304d93b8be7d7bbf47f3...   \n...           ...                                                ...   \n27956      260197  8b8091d6e859b6e3d5b4945c48cc37f70cc5a0bb96cee5...   \n27957      287015  9c4fd6d0e2aad82586cbfd9c324bd02e91bac1cab8a6d7...   \n27958       45454  06a7b3fd12824e33a1e60c1e153da14eff3b4fdcf2974b...   \n27959      278265  96dcaa7c132e400472e55cf6a22d2805e7ef9ea2b24183...   \n27960      351224  c40cfbdecdb69787d725adbf4c6bf3ce4d937631c0624d...   \n\n          RD_NO CRASH_DATE_EST_I           CRASH_DATE  POSTED_SPEED_LIMIT  \\\n0      JA154528              NaN  2017-02-14 10:00:00                  30   \n1      JC391213              NaN  2019-08-13 19:12:00                  35   \n2      JC273287              NaN  2019-05-22 08:30:00                  25   \n3      JA307115              NaN  2017-06-14 16:50:00                   0   \n4      JB247942              NaN  2018-05-03 08:35:00                  30   \n...         ...              ...                  ...                 ...   \n27956  JC358154              NaN  2019-07-21 09:40:00                  20   \n27957  JB260573              NaN  2018-05-12 09:30:00                  30   \n27958  JB470083              NaN  2018-10-10 13:25:00                  30   \n27959  JC246583              NaN  2019-05-02 09:45:00                  30   \n27960  JA382962                Y  2017-08-08 10:00:00                  15   \n\n      TRAFFIC_CONTROL_DEVICE      DEVICE_CONDITION WEATHER_CONDITION  \\\n0                NO CONTROLS           NO CONTROLS             CLEAR   \n1             TRAFFIC SIGNAL  FUNCTIONING PROPERLY             CLEAR   \n2          STOP SIGN/FLASHER  FUNCTIONING PROPERLY              RAIN   \n3                    UNKNOWN               UNKNOWN           UNKNOWN   \n4                NO CONTROLS           NO CONTROLS              RAIN   \n...                      ...                   ...               ...   \n27956            NO CONTROLS                 OTHER              RAIN   \n27957            NO CONTROLS           NO CONTROLS   CLOUDY/OVERCAST   \n27958      STOP SIGN/FLASHER  FUNCTIONING PROPERLY              RAIN   \n27959         TRAFFIC SIGNAL  FUNCTIONING PROPERLY              RAIN   \n27960            NO CONTROLS           NO CONTROLS             CLEAR   \n\n      LIGHTING_CONDITION  ... INJURIES_REPORTED_NOT_EVIDENT  \\\n0               DAYLIGHT  ...                           0.0   \n1               DAYLIGHT  ...                           0.0   \n2               DAYLIGHT  ...                           0.0   \n3                UNKNOWN  ...                           0.0   \n4               DAYLIGHT  ...                           0.0   \n...                  ...  ...                           ...   \n27956           DAYLIGHT  ...                           0.0   \n27957           DAYLIGHT  ...                           0.0   \n27958           DAYLIGHT  ...                           0.0   \n27959           DAYLIGHT  ...                           0.0   \n27960            UNKNOWN  ...                           0.0   \n\n      INJURIES_NO_INDICATION  INJURIES_UNKNOWN CRASH_HOUR CRASH_DAY_OF_WEEK  \\\n0                        1.0               0.0         10                 3   \n1                        8.0               0.0         19                 3   \n2                        2.0               0.0          8                 4   \n3                        2.0               0.0         16                 4   \n4                        2.0               0.0          8                 5   \n...                      ...               ...        ...               ...   \n27956                    4.0               0.0          9                 1   \n27957                    2.0               0.0          9                 7   \n27958                    1.0               0.0         13                 4   \n27959                    2.0               0.0          9                 5   \n27960                    1.0               0.0         10                 3   \n\n      CRASH_MONTH   LATITUDE  LONGITUDE  \\\n0               2  42.001676 -87.666364   \n1               8  41.940041 -87.650923   \n2               5  41.955854 -87.710645   \n3               6  41.863734 -87.676313   \n4               5  41.851794 -87.695223   \n...           ...        ...        ...   \n27956           7  42.015524 -87.670149   \n27957           5  41.714086 -87.644470   \n27958          10  41.768458 -87.682095   \n27959           5  41.691385 -87.720232   \n27960           8  41.821304 -87.624922   \n\n                                       LOCATION   date_real  \n0      POINT (-87.666364005301 42.001675862416)  2017-02-14  \n1      POINT (-87.650923222567 41.940040917032)  2019-08-13  \n2      POINT (-87.710644534923 41.955853610383)  2019-05-22  \n3      POINT (-87.676312689993 41.863734390899)  2017-06-14  \n4      POINT (-87.695223114296 41.851794251516)  2018-05-03  \n...                                         ...         ...  \n27956  POINT (-87.670148618764 42.015524050154)  2019-07-21  \n27957  POINT (-87.644470094837 41.714086293399)  2018-05-12  \n27958  POINT (-87.682094956182 41.768457638793)  2018-10-10  \n27959  POINT (-87.720231718762 41.691384555796)  2019-05-02  \n27960  POINT (-87.624922436047 41.821303995837)  2017-08-08  \n\n[27961 rows x 51 columns]",
      "text/html": "<div>\n<style scoped>\n    .dataframe tbody tr th:only-of-type {\n        vertical-align: middle;\n    }\n\n    .dataframe tbody tr th {\n        vertical-align: top;\n    }\n\n    .dataframe thead th {\n        text-align: right;\n    }\n</style>\n<table border=\"1\" class=\"dataframe\">\n  <thead>\n    <tr style=\"text-align: right;\">\n      <th></th>\n      <th>Unnamed: 0</th>\n      <th>CRASH_RECORD_ID</th>\n      <th>RD_NO</th>\n      <th>CRASH_DATE_EST_I</th>\n      <th>CRASH_DATE</th>\n      <th>POSTED_SPEED_LIMIT</th>\n      <th>TRAFFIC_CONTROL_DEVICE</th>\n      <th>DEVICE_CONDITION</th>\n      <th>WEATHER_CONDITION</th>\n      <th>LIGHTING_CONDITION</th>\n      <th>...</th>\n      <th>INJURIES_REPORTED_NOT_EVIDENT</th>\n      <th>INJURIES_NO_INDICATION</th>\n      <th>INJURIES_UNKNOWN</th>\n      <th>CRASH_HOUR</th>\n      <th>CRASH_DAY_OF_WEEK</th>\n      <th>CRASH_MONTH</th>\n      <th>LATITUDE</th>\n      <th>LONGITUDE</th>\n      <th>LOCATION</th>\n      <th>date_real</th>\n    </tr>\n  </thead>\n  <tbody>\n    <tr>\n      <th>0</th>\n      <td>290702</td>\n      <td>9e97e92753166de921a0e87199513aa841142c6fbb3a1e...</td>\n      <td>JA154528</td>\n      <td>NaN</td>\n      <td>2017-02-14 10:00:00</td>\n      <td>30</td>\n      <td>NO CONTROLS</td>\n      <td>NO CONTROLS</td>\n      <td>CLEAR</td>\n      <td>DAYLIGHT</td>\n      <td>...</td>\n      <td>0.0</td>\n      <td>1.0</td>\n      <td>0.0</td>\n      <td>10</td>\n      <td>3</td>\n      <td>2</td>\n      <td>42.001676</td>\n      <td>-87.666364</td>\n      <td>POINT (-87.666364005301 42.001675862416)</td>\n      <td>2017-02-14</td>\n    </tr>\n    <tr>\n      <th>1</th>\n      <td>405524</td>\n      <td>e5fe82ab7757d630a7f79927113bc63b5bede0cda74665...</td>\n      <td>JC391213</td>\n      <td>NaN</td>\n      <td>2019-08-13 19:12:00</td>\n      <td>35</td>\n      <td>TRAFFIC SIGNAL</td>\n      <td>FUNCTIONING PROPERLY</td>\n      <td>CLEAR</td>\n      <td>DAYLIGHT</td>\n      <td>...</td>\n      <td>0.0</td>\n      <td>8.0</td>\n      <td>0.0</td>\n      <td>19</td>\n      <td>3</td>\n      <td>8</td>\n      <td>41.940041</td>\n      <td>-87.650923</td>\n      <td>POINT (-87.650923222567 41.940040917032)</td>\n      <td>2019-08-13</td>\n    </tr>\n    <tr>\n      <th>2</th>\n      <td>261834</td>\n      <td>8c8ea6db9e1950765419429e2732ba5598fc6f87ac9e0c...</td>\n      <td>JC273287</td>\n      <td>NaN</td>\n      <td>2019-05-22 08:30:00</td>\n      <td>25</td>\n      <td>STOP SIGN/FLASHER</td>\n      <td>FUNCTIONING PROPERLY</td>\n      <td>RAIN</td>\n      <td>DAYLIGHT</td>\n      <td>...</td>\n      <td>0.0</td>\n      <td>2.0</td>\n      <td>0.0</td>\n      <td>8</td>\n      <td>4</td>\n      <td>5</td>\n      <td>41.955854</td>\n      <td>-87.710645</td>\n      <td>POINT (-87.710644534923 41.955853610383)</td>\n      <td>2019-05-22</td>\n    </tr>\n    <tr>\n      <th>3</th>\n      <td>38519</td>\n      <td>02671b7d36a9d189d607778816fec23bbb2e5ac3cd3039...</td>\n      <td>JA307115</td>\n      <td>NaN</td>\n      <td>2017-06-14 16:50:00</td>\n      <td>0</td>\n      <td>UNKNOWN</td>\n      <td>UNKNOWN</td>\n      <td>UNKNOWN</td>\n      <td>UNKNOWN</td>\n      <td>...</td>\n      <td>0.0</td>\n      <td>2.0</td>\n      <td>0.0</td>\n      <td>16</td>\n      <td>4</td>\n      <td>6</td>\n      <td>41.863734</td>\n      <td>-87.676313</td>\n      <td>POINT (-87.676312689993 41.863734390899)</td>\n      <td>2017-06-14</td>\n    </tr>\n    <tr>\n      <th>4</th>\n      <td>420197</td>\n      <td>ef1b1d450f65c6d16245dffdd3304d93b8be7d7bbf47f3...</td>\n      <td>JB247942</td>\n      <td>NaN</td>\n      <td>2018-05-03 08:35:00</td>\n      <td>30</td>\n      <td>NO CONTROLS</td>\n      <td>NO CONTROLS</td>\n      <td>RAIN</td>\n      <td>DAYLIGHT</td>\n      <td>...</td>\n      <td>0.0</td>\n      <td>2.0</td>\n      <td>0.0</td>\n      <td>8</td>\n      <td>5</td>\n      <td>5</td>\n      <td>41.851794</td>\n      <td>-87.695223</td>\n      <td>POINT (-87.695223114296 41.851794251516)</td>\n      <td>2018-05-03</td>\n    </tr>\n    <tr>\n      <th>...</th>\n      <td>...</td>\n      <td>...</td>\n      <td>...</td>\n      <td>...</td>\n      <td>...</td>\n      <td>...</td>\n      <td>...</td>\n      <td>...</td>\n      <td>...</td>\n      <td>...</td>\n      <td>...</td>\n      <td>...</td>\n      <td>...</td>\n      <td>...</td>\n      <td>...</td>\n      <td>...</td>\n      <td>...</td>\n      <td>...</td>\n      <td>...</td>\n      <td>...</td>\n      <td>...</td>\n    </tr>\n    <tr>\n      <th>27956</th>\n      <td>260197</td>\n      <td>8b8091d6e859b6e3d5b4945c48cc37f70cc5a0bb96cee5...</td>\n      <td>JC358154</td>\n      <td>NaN</td>\n      <td>2019-07-21 09:40:00</td>\n      <td>20</td>\n      <td>NO CONTROLS</td>\n      <td>OTHER</td>\n      <td>RAIN</td>\n      <td>DAYLIGHT</td>\n      <td>...</td>\n      <td>0.0</td>\n      <td>4.0</td>\n      <td>0.0</td>\n      <td>9</td>\n      <td>1</td>\n      <td>7</td>\n      <td>42.015524</td>\n      <td>-87.670149</td>\n      <td>POINT (-87.670148618764 42.015524050154)</td>\n      <td>2019-07-21</td>\n    </tr>\n    <tr>\n      <th>27957</th>\n      <td>287015</td>\n      <td>9c4fd6d0e2aad82586cbfd9c324bd02e91bac1cab8a6d7...</td>\n      <td>JB260573</td>\n      <td>NaN</td>\n      <td>2018-05-12 09:30:00</td>\n      <td>30</td>\n      <td>NO CONTROLS</td>\n      <td>NO CONTROLS</td>\n      <td>CLOUDY/OVERCAST</td>\n      <td>DAYLIGHT</td>\n      <td>...</td>\n      <td>0.0</td>\n      <td>2.0</td>\n      <td>0.0</td>\n      <td>9</td>\n      <td>7</td>\n      <td>5</td>\n      <td>41.714086</td>\n      <td>-87.644470</td>\n      <td>POINT (-87.644470094837 41.714086293399)</td>\n      <td>2018-05-12</td>\n    </tr>\n    <tr>\n      <th>27958</th>\n      <td>45454</td>\n      <td>06a7b3fd12824e33a1e60c1e153da14eff3b4fdcf2974b...</td>\n      <td>JB470083</td>\n      <td>NaN</td>\n      <td>2018-10-10 13:25:00</td>\n      <td>30</td>\n      <td>STOP SIGN/FLASHER</td>\n      <td>FUNCTIONING PROPERLY</td>\n      <td>RAIN</td>\n      <td>DAYLIGHT</td>\n      <td>...</td>\n      <td>0.0</td>\n      <td>1.0</td>\n      <td>0.0</td>\n      <td>13</td>\n      <td>4</td>\n      <td>10</td>\n      <td>41.768458</td>\n      <td>-87.682095</td>\n      <td>POINT (-87.682094956182 41.768457638793)</td>\n      <td>2018-10-10</td>\n    </tr>\n    <tr>\n      <th>27959</th>\n      <td>278265</td>\n      <td>96dcaa7c132e400472e55cf6a22d2805e7ef9ea2b24183...</td>\n      <td>JC246583</td>\n      <td>NaN</td>\n      <td>2019-05-02 09:45:00</td>\n      <td>30</td>\n      <td>TRAFFIC SIGNAL</td>\n      <td>FUNCTIONING PROPERLY</td>\n      <td>RAIN</td>\n      <td>DAYLIGHT</td>\n      <td>...</td>\n      <td>0.0</td>\n      <td>2.0</td>\n      <td>0.0</td>\n      <td>9</td>\n      <td>5</td>\n      <td>5</td>\n      <td>41.691385</td>\n      <td>-87.720232</td>\n      <td>POINT (-87.720231718762 41.691384555796)</td>\n      <td>2019-05-02</td>\n    </tr>\n    <tr>\n      <th>27960</th>\n      <td>351224</td>\n      <td>c40cfbdecdb69787d725adbf4c6bf3ce4d937631c0624d...</td>\n      <td>JA382962</td>\n      <td>Y</td>\n      <td>2017-08-08 10:00:00</td>\n      <td>15</td>\n      <td>NO CONTROLS</td>\n      <td>NO CONTROLS</td>\n      <td>CLEAR</td>\n      <td>UNKNOWN</td>\n      <td>...</td>\n      <td>0.0</td>\n      <td>1.0</td>\n      <td>0.0</td>\n      <td>10</td>\n      <td>3</td>\n      <td>8</td>\n      <td>41.821304</td>\n      <td>-87.624922</td>\n      <td>POINT (-87.624922436047 41.821303995837)</td>\n      <td>2017-08-08</td>\n    </tr>\n  </tbody>\n</table>\n<p>27961 rows × 51 columns</p>\n</div>"
     },
     "metadata": {}
    }
   ]
  },
  {
   "cell_type": "code",
   "metadata": {
    "cell_id": "4df4fe3aee994acd8cd8ef405f4855e7",
    "tags": [],
    "deepnote_to_be_reexecuted": false,
    "source_hash": "dad90808",
    "execution_start": 1649808536261,
    "execution_millis": 62,
    "deepnote_cell_type": "code",
    "deepnote_cell_height": 719
   },
   "source": "df_chicago['CRASH_DATE'] = pd.to_datetime(df_chicago['CRASH_DATE'], errors='coerce')\ndf_chicago.info()",
   "execution_count": null,
   "outputs": [
    {
     "name": "stdout",
     "text": "<class 'pandas.core.frame.DataFrame'>\nRangeIndex: 27961 entries, 0 to 27960\nData columns (total 51 columns):\n #   Column                         Non-Null Count  Dtype         \n---  ------                         --------------  -----         \n 0   Unnamed: 0                     27961 non-null  int64         \n 1   CRASH_RECORD_ID                27961 non-null  object        \n 2   RD_NO                          27713 non-null  object        \n 3   CRASH_DATE_EST_I               2117 non-null   object        \n 4   CRASH_DATE                     27961 non-null  datetime64[ns]\n 5   POSTED_SPEED_LIMIT             27961 non-null  int64         \n 6   TRAFFIC_CONTROL_DEVICE         27961 non-null  object        \n 7   DEVICE_CONDITION               27961 non-null  object        \n 8   WEATHER_CONDITION              27961 non-null  object        \n 9   LIGHTING_CONDITION             27961 non-null  object        \n 10  FIRST_CRASH_TYPE               27961 non-null  object        \n 11  TRAFFICWAY_TYPE                27961 non-null  object        \n 12  LANE_CNT                       12418 non-null  float64       \n 13  ALIGNMENT                      27961 non-null  object        \n 14  ROADWAY_SURFACE_COND           27961 non-null  object        \n 15  ROAD_DEFECT                    27961 non-null  object        \n 16  REPORT_TYPE                    27294 non-null  object        \n 17  CRASH_TYPE                     27961 non-null  object        \n 18  INTERSECTION_RELATED_I         6155 non-null   object        \n 19  NOT_RIGHT_OF_WAY_I             1356 non-null   object        \n 20  HIT_AND_RUN_I                  7952 non-null   object        \n 21  DAMAGE                         27961 non-null  object        \n 22  DATE_POLICE_NOTIFIED           27961 non-null  object        \n 23  PRIM_CONTRIBUTORY_CAUSE        27961 non-null  object        \n 24  SEC_CONTRIBUTORY_CAUSE         27961 non-null  object        \n 25  STREET_NO                      27961 non-null  int64         \n 26  STREET_DIRECTION               27960 non-null  object        \n 27  STREET_NAME                    27961 non-null  object        \n 28  BEAT_OF_OCCURRENCE             27960 non-null  float64       \n 29  PHOTOS_TAKEN_I                 341 non-null    object        \n 30  STATEMENTS_TAKEN_I             564 non-null    object        \n 31  DOORING_I                      99 non-null     object        \n 32  WORK_ZONE_I                    158 non-null    object        \n 33  WORK_ZONE_TYPE                 125 non-null    object        \n 34  WORKERS_PRESENT_I              41 non-null     object        \n 35  NUM_UNITS                      27961 non-null  int64         \n 36  MOST_SEVERE_INJURY             27908 non-null  object        \n 37  INJURIES_TOTAL                 27910 non-null  float64       \n 38  INJURIES_FATAL                 27910 non-null  float64       \n 39  INJURIES_INCAPACITATING        27910 non-null  float64       \n 40  INJURIES_NON_INCAPACITATING    27910 non-null  float64       \n 41  INJURIES_REPORTED_NOT_EVIDENT  27910 non-null  float64       \n 42  INJURIES_NO_INDICATION         27910 non-null  float64       \n 43  INJURIES_UNKNOWN               27910 non-null  float64       \n 44  CRASH_HOUR                     27961 non-null  int64         \n 45  CRASH_DAY_OF_WEEK              27961 non-null  int64         \n 46  CRASH_MONTH                    27961 non-null  int64         \n 47  LATITUDE                       27800 non-null  float64       \n 48  LONGITUDE                      27800 non-null  float64       \n 49  LOCATION                       27800 non-null  object        \n 50  date_real                      27961 non-null  object        \ndtypes: datetime64[ns](1), float64(11), int64(7), object(32)\nmemory usage: 10.9+ MB\n",
     "output_type": "stream"
    }
   ]
  },
  {
   "cell_type": "markdown",
   "source": "Agrupando de acuerdo al tipo de reporte, condiciones de luz y la hora. Viendo cómo se observan nuestros datos de acuerdo a estas condiciones.",
   "metadata": {
    "cell_id": "37bc521a040e43c0804750fac7b3e45c",
    "tags": [],
    "deepnote_cell_type": "markdown",
    "deepnote_cell_height": 74.796875
   }
  },
  {
   "cell_type": "code",
   "metadata": {
    "cell_id": "e78f41a51f28451f9d368a9dc32c3fb9",
    "tags": [],
    "deepnote_to_be_reexecuted": false,
    "source_hash": "8769974a",
    "execution_start": 1649808536331,
    "execution_millis": 19,
    "deepnote_cell_type": "code",
    "deepnote_cell_height": 366.578125,
    "deepnote_output_heights": [
     251.59375
    ]
   },
   "source": "report_1 = df_chicago.groupby(['LIGHTING_CONDITION', 'REPORT_TYPE', 'CRASH_HOUR'])['NUM_UNITS'].sum()\nreport_1",
   "execution_count": null,
   "outputs": [
    {
     "output_type": "execute_result",
     "execution_count": 4,
     "data": {
      "text/plain": "LIGHTING_CONDITION  REPORT_TYPE                 CRASH_HOUR\nDARKNESS            AMENDED                     20             2\n                    NOT ON SCENE (DESK REPORT)  0             97\n                                                1             86\n                                                2             64\n                                                3             57\n                                                              ..\nUNKNOWN             ON SCENE                    19             9\n                                                20            10\n                                                21            10\n                                                22            20\n                                                23             6\nName: NUM_UNITS, Length: 291, dtype: int64"
     },
     "metadata": {}
    }
   ]
  },
  {
   "cell_type": "markdown",
   "source": "Sin embargo, después de hacer este procesamiento, muchas veces no se podrá realizar operaciones debido a los índices. Por lo tanto, hacer es necesario hacer un reseteo de los indices.",
   "metadata": {
    "cell_id": "46a1d7a67abe4c07991427dc8acc4f12",
    "tags": [],
    "deepnote_cell_type": "markdown",
    "deepnote_cell_height": 74.796875
   }
  },
  {
   "cell_type": "code",
   "metadata": {
    "cell_id": "2452bbc57021448ea7cdba418e12a8fb",
    "tags": [],
    "deepnote_to_be_reexecuted": false,
    "source_hash": "fbe2d679",
    "execution_start": 1649808536366,
    "execution_millis": 72,
    "deepnote_cell_type": "code",
    "deepnote_cell_height": 618
   },
   "source": "report_1 = report_1.reset_index()\nreport_1",
   "execution_count": null,
   "outputs": [
    {
     "output_type": "execute_result",
     "execution_count": 5,
     "data": {
      "application/vnd.deepnote.dataframe.v3+json": {
       "column_count": 4,
       "row_count": 291,
       "columns": [
        {
         "name": "LIGHTING_CONDITION",
         "dtype": "object",
         "stats": {
          "unique_count": 6,
          "nan_count": 0,
          "categories": [
           {
            "name": "DAYLIGHT",
            "count": 57
           },
           {
            "name": "DARKNESS, LIGHTED ROAD",
            "count": 51
           },
           {
            "name": "4 others",
            "count": 183
           }
          ]
         }
        },
        {
         "name": "REPORT_TYPE",
         "dtype": "object",
         "stats": {
          "unique_count": 3,
          "nan_count": 0,
          "categories": [
           {
            "name": "NOT ON SCENE (DESK REPORT)",
            "count": 139
           },
           {
            "name": "ON SCENE",
            "count": 137
           },
           {
            "name": "AMENDED",
            "count": 15
           }
          ]
         }
        },
        {
         "name": "CRASH_HOUR",
         "dtype": "int64",
         "stats": {
          "unique_count": 24,
          "nan_count": 0,
          "min": "0",
          "max": "23",
          "histogram": [
           {
            "bin_start": 0,
            "bin_end": 2.3,
            "count": 36
           },
           {
            "bin_start": 2.3,
            "bin_end": 4.6,
            "count": 23
           },
           {
            "bin_start": 4.6,
            "bin_end": 6.8999999999999995,
            "count": 25
           },
           {
            "bin_start": 6.8999999999999995,
            "bin_end": 9.2,
            "count": 35
           },
           {
            "bin_start": 9.2,
            "bin_end": 11.5,
            "count": 23
           },
           {
            "bin_start": 11.5,
            "bin_end": 13.799999999999999,
            "count": 23
           },
           {
            "bin_start": 13.799999999999999,
            "bin_end": 16.099999999999998,
            "count": 38
           },
           {
            "bin_start": 16.099999999999998,
            "bin_end": 18.4,
            "count": 25
           },
           {
            "bin_start": 18.4,
            "bin_end": 20.7,
            "count": 27
           },
           {
            "bin_start": 20.7,
            "bin_end": 23,
            "count": 36
           }
          ]
         }
        },
        {
         "name": "NUM_UNITS",
         "dtype": "int64",
         "stats": {
          "unique_count": 134,
          "nan_count": 0,
          "min": "1",
          "max": "2546",
          "histogram": [
           {
            "bin_start": 1,
            "bin_end": 255.5,
            "count": 245
           },
           {
            "bin_start": 255.5,
            "bin_end": 510,
            "count": 13
           },
           {
            "bin_start": 510,
            "bin_end": 764.5,
            "count": 10
           },
           {
            "bin_start": 764.5,
            "bin_end": 1019,
            "count": 2
           },
           {
            "bin_start": 1019,
            "bin_end": 1273.5,
            "count": 8
           },
           {
            "bin_start": 1273.5,
            "bin_end": 1528,
            "count": 6
           },
           {
            "bin_start": 1528,
            "bin_end": 1782.5,
            "count": 2
           },
           {
            "bin_start": 1782.5,
            "bin_end": 2037,
            "count": 1
           },
           {
            "bin_start": 2037,
            "bin_end": 2291.5,
            "count": 2
           },
           {
            "bin_start": 2291.5,
            "bin_end": 2546,
            "count": 2
           }
          ]
         }
        },
        {
         "name": "_deepnote_index_column",
         "dtype": "int64"
        }
       ],
       "rows": [
        {
         "LIGHTING_CONDITION": "DARKNESS",
         "REPORT_TYPE": "AMENDED",
         "CRASH_HOUR": 20,
         "NUM_UNITS": 2,
         "_deepnote_index_column": 0
        },
        {
         "LIGHTING_CONDITION": "DARKNESS",
         "REPORT_TYPE": "NOT ON SCENE (DESK REPORT)",
         "CRASH_HOUR": 0,
         "NUM_UNITS": 97,
         "_deepnote_index_column": 1
        },
        {
         "LIGHTING_CONDITION": "DARKNESS",
         "REPORT_TYPE": "NOT ON SCENE (DESK REPORT)",
         "CRASH_HOUR": 1,
         "NUM_UNITS": 86,
         "_deepnote_index_column": 2
        },
        {
         "LIGHTING_CONDITION": "DARKNESS",
         "REPORT_TYPE": "NOT ON SCENE (DESK REPORT)",
         "CRASH_HOUR": 2,
         "NUM_UNITS": 64,
         "_deepnote_index_column": 3
        },
        {
         "LIGHTING_CONDITION": "DARKNESS",
         "REPORT_TYPE": "NOT ON SCENE (DESK REPORT)",
         "CRASH_HOUR": 3,
         "NUM_UNITS": 57,
         "_deepnote_index_column": 4
        },
        {
         "LIGHTING_CONDITION": "DARKNESS",
         "REPORT_TYPE": "NOT ON SCENE (DESK REPORT)",
         "CRASH_HOUR": 4,
         "NUM_UNITS": 46,
         "_deepnote_index_column": 5
        },
        {
         "LIGHTING_CONDITION": "DARKNESS",
         "REPORT_TYPE": "NOT ON SCENE (DESK REPORT)",
         "CRASH_HOUR": 5,
         "NUM_UNITS": 40,
         "_deepnote_index_column": 6
        },
        {
         "LIGHTING_CONDITION": "DARKNESS",
         "REPORT_TYPE": "NOT ON SCENE (DESK REPORT)",
         "CRASH_HOUR": 6,
         "NUM_UNITS": 29,
         "_deepnote_index_column": 7
        },
        {
         "LIGHTING_CONDITION": "DARKNESS",
         "REPORT_TYPE": "NOT ON SCENE (DESK REPORT)",
         "CRASH_HOUR": 7,
         "NUM_UNITS": 11,
         "_deepnote_index_column": 8
        },
        {
         "LIGHTING_CONDITION": "DARKNESS",
         "REPORT_TYPE": "NOT ON SCENE (DESK REPORT)",
         "CRASH_HOUR": 8,
         "NUM_UNITS": 2,
         "_deepnote_index_column": 9
        }
       ]
      },
      "text/plain": "    LIGHTING_CONDITION                 REPORT_TYPE  CRASH_HOUR  NUM_UNITS\n0             DARKNESS                     AMENDED          20          2\n1             DARKNESS  NOT ON SCENE (DESK REPORT)           0         97\n2             DARKNESS  NOT ON SCENE (DESK REPORT)           1         86\n3             DARKNESS  NOT ON SCENE (DESK REPORT)           2         64\n4             DARKNESS  NOT ON SCENE (DESK REPORT)           3         57\n..                 ...                         ...         ...        ...\n286            UNKNOWN                    ON SCENE          19          9\n287            UNKNOWN                    ON SCENE          20         10\n288            UNKNOWN                    ON SCENE          21         10\n289            UNKNOWN                    ON SCENE          22         20\n290            UNKNOWN                    ON SCENE          23          6\n\n[291 rows x 4 columns]",
      "text/html": "<div>\n<style scoped>\n    .dataframe tbody tr th:only-of-type {\n        vertical-align: middle;\n    }\n\n    .dataframe tbody tr th {\n        vertical-align: top;\n    }\n\n    .dataframe thead th {\n        text-align: right;\n    }\n</style>\n<table border=\"1\" class=\"dataframe\">\n  <thead>\n    <tr style=\"text-align: right;\">\n      <th></th>\n      <th>LIGHTING_CONDITION</th>\n      <th>REPORT_TYPE</th>\n      <th>CRASH_HOUR</th>\n      <th>NUM_UNITS</th>\n    </tr>\n  </thead>\n  <tbody>\n    <tr>\n      <th>0</th>\n      <td>DARKNESS</td>\n      <td>AMENDED</td>\n      <td>20</td>\n      <td>2</td>\n    </tr>\n    <tr>\n      <th>1</th>\n      <td>DARKNESS</td>\n      <td>NOT ON SCENE (DESK REPORT)</td>\n      <td>0</td>\n      <td>97</td>\n    </tr>\n    <tr>\n      <th>2</th>\n      <td>DARKNESS</td>\n      <td>NOT ON SCENE (DESK REPORT)</td>\n      <td>1</td>\n      <td>86</td>\n    </tr>\n    <tr>\n      <th>3</th>\n      <td>DARKNESS</td>\n      <td>NOT ON SCENE (DESK REPORT)</td>\n      <td>2</td>\n      <td>64</td>\n    </tr>\n    <tr>\n      <th>4</th>\n      <td>DARKNESS</td>\n      <td>NOT ON SCENE (DESK REPORT)</td>\n      <td>3</td>\n      <td>57</td>\n    </tr>\n    <tr>\n      <th>...</th>\n      <td>...</td>\n      <td>...</td>\n      <td>...</td>\n      <td>...</td>\n    </tr>\n    <tr>\n      <th>286</th>\n      <td>UNKNOWN</td>\n      <td>ON SCENE</td>\n      <td>19</td>\n      <td>9</td>\n    </tr>\n    <tr>\n      <th>287</th>\n      <td>UNKNOWN</td>\n      <td>ON SCENE</td>\n      <td>20</td>\n      <td>10</td>\n    </tr>\n    <tr>\n      <th>288</th>\n      <td>UNKNOWN</td>\n      <td>ON SCENE</td>\n      <td>21</td>\n      <td>10</td>\n    </tr>\n    <tr>\n      <th>289</th>\n      <td>UNKNOWN</td>\n      <td>ON SCENE</td>\n      <td>22</td>\n      <td>20</td>\n    </tr>\n    <tr>\n      <th>290</th>\n      <td>UNKNOWN</td>\n      <td>ON SCENE</td>\n      <td>23</td>\n      <td>6</td>\n    </tr>\n  </tbody>\n</table>\n<p>291 rows × 4 columns</p>\n</div>"
     },
     "metadata": {}
    }
   ]
  },
  {
   "cell_type": "code",
   "metadata": {
    "cell_id": "42640d28f85e4f9fb9c59ed2cf18c333",
    "tags": [],
    "deepnote_to_be_reexecuted": false,
    "source_hash": "51060e3b",
    "execution_start": 1649808536439,
    "execution_millis": 617,
    "deepnote_cell_type": "code",
    "deepnote_cell_height": 638
   },
   "source": "alt.Chart(report_1).mark_bar().encode(\n    x='LIGHTING_CONDITION',\n    y='NUM_UNITS',\n    color='REPORT_TYPE').properties(width=220)",
   "execution_count": null,
   "outputs": [
    {
     "output_type": "execute_result",
     "execution_count": 6,
     "data": {
      "text/html": "\n<div id=\"altair-viz-19a34332ee9a4cc4ad6ca6c3b26e79ee\"></div>\n<script type=\"text/javascript\">\n  (function(spec, embedOpt){\n    let outputDiv = document.currentScript.previousElementSibling;\n    if (outputDiv.id !== \"altair-viz-19a34332ee9a4cc4ad6ca6c3b26e79ee\") {\n      outputDiv = document.getElementById(\"altair-viz-19a34332ee9a4cc4ad6ca6c3b26e79ee\");\n    }\n    const paths = {\n      \"vega\": \"https://cdn.jsdelivr.net/npm//vega@5?noext\",\n      \"vega-lib\": \"https://cdn.jsdelivr.net/npm//vega-lib?noext\",\n      \"vega-lite\": \"https://cdn.jsdelivr.net/npm//vega-lite@4.8.1?noext\",\n      \"vega-embed\": \"https://cdn.jsdelivr.net/npm//vega-embed@6?noext\",\n    };\n\n    function loadScript(lib) {\n      return new Promise(function(resolve, reject) {\n        var s = document.createElement('script');\n        s.src = paths[lib];\n        s.async = true;\n        s.onload = () => resolve(paths[lib]);\n        s.onerror = () => reject(`Error loading script: ${paths[lib]}`);\n        document.getElementsByTagName(\"head\")[0].appendChild(s);\n      });\n    }\n\n    function showError(err) {\n      outputDiv.innerHTML = `<div class=\"error\" style=\"color:red;\">${err}</div>`;\n      throw err;\n    }\n\n    function displayChart(vegaEmbed) {\n      vegaEmbed(outputDiv, spec, embedOpt)\n        .catch(err => showError(`Javascript Error: ${err.message}<br>This usually means there's a typo in your chart specification. See the javascript console for the full traceback.`));\n    }\n\n    if(typeof define === \"function\" && define.amd) {\n      requirejs.config({paths});\n      require([\"vega-embed\"], displayChart, err => showError(`Error loading script: ${err.message}`));\n    } else if (typeof vegaEmbed === \"function\") {\n      displayChart(vegaEmbed);\n    } else {\n      loadScript(\"vega\")\n        .then(() => loadScript(\"vega-lite\"))\n        .then(() => loadScript(\"vega-embed\"))\n        .catch(showError)\n        .then(() => displayChart(vegaEmbed));\n    }\n  })({\"config\": {\"view\": {\"continuousWidth\": 400, \"continuousHeight\": 300}}, \"data\": {\"name\": \"data-1073021d61d500af59f64e0f70a29060\"}, \"mark\": \"bar\", \"encoding\": {\"color\": {\"type\": \"nominal\", \"field\": \"REPORT_TYPE\"}, \"x\": {\"type\": \"nominal\", \"field\": \"LIGHTING_CONDITION\"}, \"y\": {\"type\": \"quantitative\", \"field\": \"NUM_UNITS\"}}, \"width\": 220, \"$schema\": \"https://vega.github.io/schema/vega-lite/v4.8.1.json\", \"datasets\": {\"data-1073021d61d500af59f64e0f70a29060\": [{\"LIGHTING_CONDITION\": \"DARKNESS\", \"REPORT_TYPE\": \"AMENDED\", \"CRASH_HOUR\": 20, \"NUM_UNITS\": 2}, {\"LIGHTING_CONDITION\": \"DARKNESS\", \"REPORT_TYPE\": \"NOT ON SCENE (DESK REPORT)\", \"CRASH_HOUR\": 0, \"NUM_UNITS\": 97}, {\"LIGHTING_CONDITION\": \"DARKNESS\", \"REPORT_TYPE\": \"NOT ON SCENE (DESK REPORT)\", \"CRASH_HOUR\": 1, \"NUM_UNITS\": 86}, {\"LIGHTING_CONDITION\": \"DARKNESS\", \"REPORT_TYPE\": \"NOT ON SCENE (DESK REPORT)\", \"CRASH_HOUR\": 2, \"NUM_UNITS\": 64}, {\"LIGHTING_CONDITION\": \"DARKNESS\", \"REPORT_TYPE\": \"NOT ON SCENE (DESK REPORT)\", \"CRASH_HOUR\": 3, \"NUM_UNITS\": 57}, {\"LIGHTING_CONDITION\": \"DARKNESS\", \"REPORT_TYPE\": \"NOT ON SCENE (DESK REPORT)\", \"CRASH_HOUR\": 4, \"NUM_UNITS\": 46}, {\"LIGHTING_CONDITION\": \"DARKNESS\", \"REPORT_TYPE\": \"NOT ON SCENE (DESK REPORT)\", \"CRASH_HOUR\": 5, \"NUM_UNITS\": 40}, {\"LIGHTING_CONDITION\": \"DARKNESS\", \"REPORT_TYPE\": \"NOT ON SCENE (DESK REPORT)\", \"CRASH_HOUR\": 6, \"NUM_UNITS\": 29}, {\"LIGHTING_CONDITION\": \"DARKNESS\", \"REPORT_TYPE\": \"NOT ON SCENE (DESK REPORT)\", \"CRASH_HOUR\": 7, \"NUM_UNITS\": 11}, {\"LIGHTING_CONDITION\": \"DARKNESS\", \"REPORT_TYPE\": \"NOT ON SCENE (DESK REPORT)\", \"CRASH_HOUR\": 8, \"NUM_UNITS\": 2}, {\"LIGHTING_CONDITION\": \"DARKNESS\", \"REPORT_TYPE\": \"NOT ON SCENE (DESK REPORT)\", \"CRASH_HOUR\": 9, \"NUM_UNITS\": 9}, {\"LIGHTING_CONDITION\": \"DARKNESS\", \"REPORT_TYPE\": \"NOT ON SCENE (DESK REPORT)\", \"CRASH_HOUR\": 10, \"NUM_UNITS\": 12}, {\"LIGHTING_CONDITION\": \"DARKNESS\", \"REPORT_TYPE\": \"NOT ON SCENE (DESK REPORT)\", \"CRASH_HOUR\": 11, \"NUM_UNITS\": 2}, {\"LIGHTING_CONDITION\": \"DARKNESS\", \"REPORT_TYPE\": \"NOT ON SCENE (DESK REPORT)\", \"CRASH_HOUR\": 12, \"NUM_UNITS\": 4}, {\"LIGHTING_CONDITION\": \"DARKNESS\", \"REPORT_TYPE\": \"NOT ON SCENE (DESK REPORT)\", \"CRASH_HOUR\": 14, \"NUM_UNITS\": 9}, {\"LIGHTING_CONDITION\": \"DARKNESS\", \"REPORT_TYPE\": \"NOT ON SCENE (DESK REPORT)\", \"CRASH_HOUR\": 15, \"NUM_UNITS\": 16}, {\"LIGHTING_CONDITION\": \"DARKNESS\", \"REPORT_TYPE\": \"NOT ON SCENE (DESK REPORT)\", \"CRASH_HOUR\": 16, \"NUM_UNITS\": 38}, {\"LIGHTING_CONDITION\": \"DARKNESS\", \"REPORT_TYPE\": \"NOT ON SCENE (DESK REPORT)\", \"CRASH_HOUR\": 17, \"NUM_UNITS\": 182}, {\"LIGHTING_CONDITION\": \"DARKNESS\", \"REPORT_TYPE\": \"NOT ON SCENE (DESK REPORT)\", \"CRASH_HOUR\": 18, \"NUM_UNITS\": 214}, {\"LIGHTING_CONDITION\": \"DARKNESS\", \"REPORT_TYPE\": \"NOT ON SCENE (DESK REPORT)\", \"CRASH_HOUR\": 19, \"NUM_UNITS\": 214}, {\"LIGHTING_CONDITION\": \"DARKNESS\", \"REPORT_TYPE\": \"NOT ON SCENE (DESK REPORT)\", \"CRASH_HOUR\": 20, \"NUM_UNITS\": 189}, {\"LIGHTING_CONDITION\": \"DARKNESS\", \"REPORT_TYPE\": \"NOT ON SCENE (DESK REPORT)\", \"CRASH_HOUR\": 21, \"NUM_UNITS\": 201}, {\"LIGHTING_CONDITION\": \"DARKNESS\", \"REPORT_TYPE\": \"NOT ON SCENE (DESK REPORT)\", \"CRASH_HOUR\": 22, \"NUM_UNITS\": 162}, {\"LIGHTING_CONDITION\": \"DARKNESS\", \"REPORT_TYPE\": \"NOT ON SCENE (DESK REPORT)\", \"CRASH_HOUR\": 23, \"NUM_UNITS\": 138}, {\"LIGHTING_CONDITION\": \"DARKNESS\", \"REPORT_TYPE\": \"ON SCENE\", \"CRASH_HOUR\": 0, \"NUM_UNITS\": 51}, {\"LIGHTING_CONDITION\": \"DARKNESS\", \"REPORT_TYPE\": \"ON SCENE\", \"CRASH_HOUR\": 1, \"NUM_UNITS\": 66}, {\"LIGHTING_CONDITION\": \"DARKNESS\", \"REPORT_TYPE\": \"ON SCENE\", \"CRASH_HOUR\": 2, \"NUM_UNITS\": 67}, {\"LIGHTING_CONDITION\": \"DARKNESS\", \"REPORT_TYPE\": \"ON SCENE\", \"CRASH_HOUR\": 3, \"NUM_UNITS\": 56}, {\"LIGHTING_CONDITION\": \"DARKNESS\", \"REPORT_TYPE\": \"ON SCENE\", \"CRASH_HOUR\": 4, \"NUM_UNITS\": 89}, {\"LIGHTING_CONDITION\": \"DARKNESS\", \"REPORT_TYPE\": \"ON SCENE\", \"CRASH_HOUR\": 5, \"NUM_UNITS\": 27}, {\"LIGHTING_CONDITION\": \"DARKNESS\", \"REPORT_TYPE\": \"ON SCENE\", \"CRASH_HOUR\": 6, \"NUM_UNITS\": 19}, {\"LIGHTING_CONDITION\": \"DARKNESS\", \"REPORT_TYPE\": \"ON SCENE\", \"CRASH_HOUR\": 7, \"NUM_UNITS\": 6}, {\"LIGHTING_CONDITION\": \"DARKNESS\", \"REPORT_TYPE\": \"ON SCENE\", \"CRASH_HOUR\": 9, \"NUM_UNITS\": 2}, {\"LIGHTING_CONDITION\": \"DARKNESS\", \"REPORT_TYPE\": \"ON SCENE\", \"CRASH_HOUR\": 11, \"NUM_UNITS\": 2}, {\"LIGHTING_CONDITION\": \"DARKNESS\", \"REPORT_TYPE\": \"ON SCENE\", \"CRASH_HOUR\": 12, \"NUM_UNITS\": 2}, {\"LIGHTING_CONDITION\": \"DARKNESS\", \"REPORT_TYPE\": \"ON SCENE\", \"CRASH_HOUR\": 14, \"NUM_UNITS\": 2}, {\"LIGHTING_CONDITION\": \"DARKNESS\", \"REPORT_TYPE\": \"ON SCENE\", \"CRASH_HOUR\": 15, \"NUM_UNITS\": 4}, {\"LIGHTING_CONDITION\": \"DARKNESS\", \"REPORT_TYPE\": \"ON SCENE\", \"CRASH_HOUR\": 16, \"NUM_UNITS\": 16}, {\"LIGHTING_CONDITION\": \"DARKNESS\", \"REPORT_TYPE\": \"ON SCENE\", \"CRASH_HOUR\": 17, \"NUM_UNITS\": 57}, {\"LIGHTING_CONDITION\": \"DARKNESS\", \"REPORT_TYPE\": \"ON SCENE\", \"CRASH_HOUR\": 18, \"NUM_UNITS\": 113}, {\"LIGHTING_CONDITION\": \"DARKNESS\", \"REPORT_TYPE\": \"ON SCENE\", \"CRASH_HOUR\": 19, \"NUM_UNITS\": 99}, {\"LIGHTING_CONDITION\": \"DARKNESS\", \"REPORT_TYPE\": \"ON SCENE\", \"CRASH_HOUR\": 20, \"NUM_UNITS\": 141}, {\"LIGHTING_CONDITION\": \"DARKNESS\", \"REPORT_TYPE\": \"ON SCENE\", \"CRASH_HOUR\": 21, \"NUM_UNITS\": 92}, {\"LIGHTING_CONDITION\": \"DARKNESS\", \"REPORT_TYPE\": \"ON SCENE\", \"CRASH_HOUR\": 22, \"NUM_UNITS\": 73}, {\"LIGHTING_CONDITION\": \"DARKNESS\", \"REPORT_TYPE\": \"ON SCENE\", \"CRASH_HOUR\": 23, \"NUM_UNITS\": 74}, {\"LIGHTING_CONDITION\": \"DARKNESS, LIGHTED ROAD\", \"REPORT_TYPE\": \"AMENDED\", \"CRASH_HOUR\": 21, \"NUM_UNITS\": 2}, {\"LIGHTING_CONDITION\": \"DARKNESS, LIGHTED ROAD\", \"REPORT_TYPE\": \"AMENDED\", \"CRASH_HOUR\": 22, \"NUM_UNITS\": 1}, {\"LIGHTING_CONDITION\": \"DARKNESS, LIGHTED ROAD\", \"REPORT_TYPE\": \"AMENDED\", \"CRASH_HOUR\": 23, \"NUM_UNITS\": 2}, {\"LIGHTING_CONDITION\": \"DARKNESS, LIGHTED ROAD\", \"REPORT_TYPE\": \"NOT ON SCENE (DESK REPORT)\", \"CRASH_HOUR\": 0, \"NUM_UNITS\": 286}, {\"LIGHTING_CONDITION\": \"DARKNESS, LIGHTED ROAD\", \"REPORT_TYPE\": \"NOT ON SCENE (DESK REPORT)\", \"CRASH_HOUR\": 1, \"NUM_UNITS\": 247}, {\"LIGHTING_CONDITION\": \"DARKNESS, LIGHTED ROAD\", \"REPORT_TYPE\": \"NOT ON SCENE (DESK REPORT)\", \"CRASH_HOUR\": 2, \"NUM_UNITS\": 213}, {\"LIGHTING_CONDITION\": \"DARKNESS, LIGHTED ROAD\", \"REPORT_TYPE\": \"NOT ON SCENE (DESK REPORT)\", \"CRASH_HOUR\": 3, \"NUM_UNITS\": 140}, {\"LIGHTING_CONDITION\": \"DARKNESS, LIGHTED ROAD\", \"REPORT_TYPE\": \"NOT ON SCENE (DESK REPORT)\", \"CRASH_HOUR\": 4, \"NUM_UNITS\": 127}, {\"LIGHTING_CONDITION\": \"DARKNESS, LIGHTED ROAD\", \"REPORT_TYPE\": \"NOT ON SCENE (DESK REPORT)\", \"CRASH_HOUR\": 5, \"NUM_UNITS\": 124}, {\"LIGHTING_CONDITION\": \"DARKNESS, LIGHTED ROAD\", \"REPORT_TYPE\": \"NOT ON SCENE (DESK REPORT)\", \"CRASH_HOUR\": 6, \"NUM_UNITS\": 82}, {\"LIGHTING_CONDITION\": \"DARKNESS, LIGHTED ROAD\", \"REPORT_TYPE\": \"NOT ON SCENE (DESK REPORT)\", \"CRASH_HOUR\": 7, \"NUM_UNITS\": 16}, {\"LIGHTING_CONDITION\": \"DARKNESS, LIGHTED ROAD\", \"REPORT_TYPE\": \"NOT ON SCENE (DESK REPORT)\", \"CRASH_HOUR\": 8, \"NUM_UNITS\": 18}, {\"LIGHTING_CONDITION\": \"DARKNESS, LIGHTED ROAD\", \"REPORT_TYPE\": \"NOT ON SCENE (DESK REPORT)\", \"CRASH_HOUR\": 9, \"NUM_UNITS\": 23}, {\"LIGHTING_CONDITION\": \"DARKNESS, LIGHTED ROAD\", \"REPORT_TYPE\": \"NOT ON SCENE (DESK REPORT)\", \"CRASH_HOUR\": 10, \"NUM_UNITS\": 19}, {\"LIGHTING_CONDITION\": \"DARKNESS, LIGHTED ROAD\", \"REPORT_TYPE\": \"NOT ON SCENE (DESK REPORT)\", \"CRASH_HOUR\": 11, \"NUM_UNITS\": 20}, {\"LIGHTING_CONDITION\": \"DARKNESS, LIGHTED ROAD\", \"REPORT_TYPE\": \"NOT ON SCENE (DESK REPORT)\", \"CRASH_HOUR\": 12, \"NUM_UNITS\": 22}, {\"LIGHTING_CONDITION\": \"DARKNESS, LIGHTED ROAD\", \"REPORT_TYPE\": \"NOT ON SCENE (DESK REPORT)\", \"CRASH_HOUR\": 13, \"NUM_UNITS\": 6}, {\"LIGHTING_CONDITION\": \"DARKNESS, LIGHTED ROAD\", \"REPORT_TYPE\": \"NOT ON SCENE (DESK REPORT)\", \"CRASH_HOUR\": 14, \"NUM_UNITS\": 14}, {\"LIGHTING_CONDITION\": \"DARKNESS, LIGHTED ROAD\", \"REPORT_TYPE\": \"NOT ON SCENE (DESK REPORT)\", \"CRASH_HOUR\": 15, \"NUM_UNITS\": 18}, {\"LIGHTING_CONDITION\": \"DARKNESS, LIGHTED ROAD\", \"REPORT_TYPE\": \"NOT ON SCENE (DESK REPORT)\", \"CRASH_HOUR\": 16, \"NUM_UNITS\": 112}, {\"LIGHTING_CONDITION\": \"DARKNESS, LIGHTED ROAD\", \"REPORT_TYPE\": \"NOT ON SCENE (DESK REPORT)\", \"CRASH_HOUR\": 17, \"NUM_UNITS\": 399}, {\"LIGHTING_CONDITION\": \"DARKNESS, LIGHTED ROAD\", \"REPORT_TYPE\": \"NOT ON SCENE (DESK REPORT)\", \"CRASH_HOUR\": 18, \"NUM_UNITS\": 502}, {\"LIGHTING_CONDITION\": \"DARKNESS, LIGHTED ROAD\", \"REPORT_TYPE\": \"NOT ON SCENE (DESK REPORT)\", \"CRASH_HOUR\": 19, \"NUM_UNITS\": 606}, {\"LIGHTING_CONDITION\": \"DARKNESS, LIGHTED ROAD\", \"REPORT_TYPE\": \"NOT ON SCENE (DESK REPORT)\", \"CRASH_HOUR\": 20, \"NUM_UNITS\": 677}, {\"LIGHTING_CONDITION\": \"DARKNESS, LIGHTED ROAD\", \"REPORT_TYPE\": \"NOT ON SCENE (DESK REPORT)\", \"CRASH_HOUR\": 21, \"NUM_UNITS\": 672}, {\"LIGHTING_CONDITION\": \"DARKNESS, LIGHTED ROAD\", \"REPORT_TYPE\": \"NOT ON SCENE (DESK REPORT)\", \"CRASH_HOUR\": 22, \"NUM_UNITS\": 613}, {\"LIGHTING_CONDITION\": \"DARKNESS, LIGHTED ROAD\", \"REPORT_TYPE\": \"NOT ON SCENE (DESK REPORT)\", \"CRASH_HOUR\": 23, \"NUM_UNITS\": 424}, {\"LIGHTING_CONDITION\": \"DARKNESS, LIGHTED ROAD\", \"REPORT_TYPE\": \"ON SCENE\", \"CRASH_HOUR\": 0, \"NUM_UNITS\": 618}, {\"LIGHTING_CONDITION\": \"DARKNESS, LIGHTED ROAD\", \"REPORT_TYPE\": \"ON SCENE\", \"CRASH_HOUR\": 1, \"NUM_UNITS\": 475}, {\"LIGHTING_CONDITION\": \"DARKNESS, LIGHTED ROAD\", \"REPORT_TYPE\": \"ON SCENE\", \"CRASH_HOUR\": 2, \"NUM_UNITS\": 509}, {\"LIGHTING_CONDITION\": \"DARKNESS, LIGHTED ROAD\", \"REPORT_TYPE\": \"ON SCENE\", \"CRASH_HOUR\": 3, \"NUM_UNITS\": 356}, {\"LIGHTING_CONDITION\": \"DARKNESS, LIGHTED ROAD\", \"REPORT_TYPE\": \"ON SCENE\", \"CRASH_HOUR\": 4, \"NUM_UNITS\": 246}, {\"LIGHTING_CONDITION\": \"DARKNESS, LIGHTED ROAD\", \"REPORT_TYPE\": \"ON SCENE\", \"CRASH_HOUR\": 5, \"NUM_UNITS\": 221}, {\"LIGHTING_CONDITION\": \"DARKNESS, LIGHTED ROAD\", \"REPORT_TYPE\": \"ON SCENE\", \"CRASH_HOUR\": 6, \"NUM_UNITS\": 120}, {\"LIGHTING_CONDITION\": \"DARKNESS, LIGHTED ROAD\", \"REPORT_TYPE\": \"ON SCENE\", \"CRASH_HOUR\": 7, \"NUM_UNITS\": 10}, {\"LIGHTING_CONDITION\": \"DARKNESS, LIGHTED ROAD\", \"REPORT_TYPE\": \"ON SCENE\", \"CRASH_HOUR\": 8, \"NUM_UNITS\": 5}, {\"LIGHTING_CONDITION\": \"DARKNESS, LIGHTED ROAD\", \"REPORT_TYPE\": \"ON SCENE\", \"CRASH_HOUR\": 9, \"NUM_UNITS\": 11}, {\"LIGHTING_CONDITION\": \"DARKNESS, LIGHTED ROAD\", \"REPORT_TYPE\": \"ON SCENE\", \"CRASH_HOUR\": 10, \"NUM_UNITS\": 9}, {\"LIGHTING_CONDITION\": \"DARKNESS, LIGHTED ROAD\", \"REPORT_TYPE\": \"ON SCENE\", \"CRASH_HOUR\": 11, \"NUM_UNITS\": 11}, {\"LIGHTING_CONDITION\": \"DARKNESS, LIGHTED ROAD\", \"REPORT_TYPE\": \"ON SCENE\", \"CRASH_HOUR\": 12, \"NUM_UNITS\": 2}, {\"LIGHTING_CONDITION\": \"DARKNESS, LIGHTED ROAD\", \"REPORT_TYPE\": \"ON SCENE\", \"CRASH_HOUR\": 13, \"NUM_UNITS\": 1}, {\"LIGHTING_CONDITION\": \"DARKNESS, LIGHTED ROAD\", \"REPORT_TYPE\": \"ON SCENE\", \"CRASH_HOUR\": 14, \"NUM_UNITS\": 6}, {\"LIGHTING_CONDITION\": \"DARKNESS, LIGHTED ROAD\", \"REPORT_TYPE\": \"ON SCENE\", \"CRASH_HOUR\": 15, \"NUM_UNITS\": 10}, {\"LIGHTING_CONDITION\": \"DARKNESS, LIGHTED ROAD\", \"REPORT_TYPE\": \"ON SCENE\", \"CRASH_HOUR\": 16, \"NUM_UNITS\": 99}, {\"LIGHTING_CONDITION\": \"DARKNESS, LIGHTED ROAD\", \"REPORT_TYPE\": \"ON SCENE\", \"CRASH_HOUR\": 17, \"NUM_UNITS\": 347}, {\"LIGHTING_CONDITION\": \"DARKNESS, LIGHTED ROAD\", \"REPORT_TYPE\": \"ON SCENE\", \"CRASH_HOUR\": 18, \"NUM_UNITS\": 385}, {\"LIGHTING_CONDITION\": \"DARKNESS, LIGHTED ROAD\", \"REPORT_TYPE\": \"ON SCENE\", \"CRASH_HOUR\": 19, \"NUM_UNITS\": 429}, {\"LIGHTING_CONDITION\": \"DARKNESS, LIGHTED ROAD\", \"REPORT_TYPE\": \"ON SCENE\", \"CRASH_HOUR\": 20, \"NUM_UNITS\": 512}, {\"LIGHTING_CONDITION\": \"DARKNESS, LIGHTED ROAD\", \"REPORT_TYPE\": \"ON SCENE\", \"CRASH_HOUR\": 21, \"NUM_UNITS\": 612}, {\"LIGHTING_CONDITION\": \"DARKNESS, LIGHTED ROAD\", \"REPORT_TYPE\": \"ON SCENE\", \"CRASH_HOUR\": 22, \"NUM_UNITS\": 688}, {\"LIGHTING_CONDITION\": \"DARKNESS, LIGHTED ROAD\", \"REPORT_TYPE\": \"ON SCENE\", \"CRASH_HOUR\": 23, \"NUM_UNITS\": 649}, {\"LIGHTING_CONDITION\": \"DAWN\", \"REPORT_TYPE\": \"NOT ON SCENE (DESK REPORT)\", \"CRASH_HOUR\": 0, \"NUM_UNITS\": 2}, {\"LIGHTING_CONDITION\": \"DAWN\", \"REPORT_TYPE\": \"NOT ON SCENE (DESK REPORT)\", \"CRASH_HOUR\": 1, \"NUM_UNITS\": 2}, {\"LIGHTING_CONDITION\": \"DAWN\", \"REPORT_TYPE\": \"NOT ON SCENE (DESK REPORT)\", \"CRASH_HOUR\": 2, \"NUM_UNITS\": 2}, {\"LIGHTING_CONDITION\": \"DAWN\", \"REPORT_TYPE\": \"NOT ON SCENE (DESK REPORT)\", \"CRASH_HOUR\": 3, \"NUM_UNITS\": 4}, {\"LIGHTING_CONDITION\": \"DAWN\", \"REPORT_TYPE\": \"NOT ON SCENE (DESK REPORT)\", \"CRASH_HOUR\": 4, \"NUM_UNITS\": 9}, {\"LIGHTING_CONDITION\": \"DAWN\", \"REPORT_TYPE\": \"NOT ON SCENE (DESK REPORT)\", \"CRASH_HOUR\": 5, \"NUM_UNITS\": 74}, {\"LIGHTING_CONDITION\": \"DAWN\", \"REPORT_TYPE\": \"NOT ON SCENE (DESK REPORT)\", \"CRASH_HOUR\": 6, \"NUM_UNITS\": 74}, {\"LIGHTING_CONDITION\": \"DAWN\", \"REPORT_TYPE\": \"NOT ON SCENE (DESK REPORT)\", \"CRASH_HOUR\": 7, \"NUM_UNITS\": 41}, {\"LIGHTING_CONDITION\": \"DAWN\", \"REPORT_TYPE\": \"NOT ON SCENE (DESK REPORT)\", \"CRASH_HOUR\": 8, \"NUM_UNITS\": 8}, {\"LIGHTING_CONDITION\": \"DAWN\", \"REPORT_TYPE\": \"NOT ON SCENE (DESK REPORT)\", \"CRASH_HOUR\": 9, \"NUM_UNITS\": 8}, {\"LIGHTING_CONDITION\": \"DAWN\", \"REPORT_TYPE\": \"NOT ON SCENE (DESK REPORT)\", \"CRASH_HOUR\": 10, \"NUM_UNITS\": 6}, {\"LIGHTING_CONDITION\": \"DAWN\", \"REPORT_TYPE\": \"NOT ON SCENE (DESK REPORT)\", \"CRASH_HOUR\": 11, \"NUM_UNITS\": 2}, {\"LIGHTING_CONDITION\": \"DAWN\", \"REPORT_TYPE\": \"NOT ON SCENE (DESK REPORT)\", \"CRASH_HOUR\": 12, \"NUM_UNITS\": 6}, {\"LIGHTING_CONDITION\": \"DAWN\", \"REPORT_TYPE\": \"NOT ON SCENE (DESK REPORT)\", \"CRASH_HOUR\": 13, \"NUM_UNITS\": 8}, {\"LIGHTING_CONDITION\": \"DAWN\", \"REPORT_TYPE\": \"NOT ON SCENE (DESK REPORT)\", \"CRASH_HOUR\": 14, \"NUM_UNITS\": 14}, {\"LIGHTING_CONDITION\": \"DAWN\", \"REPORT_TYPE\": \"NOT ON SCENE (DESK REPORT)\", \"CRASH_HOUR\": 15, \"NUM_UNITS\": 16}, {\"LIGHTING_CONDITION\": \"DAWN\", \"REPORT_TYPE\": \"NOT ON SCENE (DESK REPORT)\", \"CRASH_HOUR\": 16, \"NUM_UNITS\": 29}, {\"LIGHTING_CONDITION\": \"DAWN\", \"REPORT_TYPE\": \"NOT ON SCENE (DESK REPORT)\", \"CRASH_HOUR\": 17, \"NUM_UNITS\": 66}, {\"LIGHTING_CONDITION\": \"DAWN\", \"REPORT_TYPE\": \"NOT ON SCENE (DESK REPORT)\", \"CRASH_HOUR\": 18, \"NUM_UNITS\": 51}, {\"LIGHTING_CONDITION\": \"DAWN\", \"REPORT_TYPE\": \"NOT ON SCENE (DESK REPORT)\", \"CRASH_HOUR\": 19, \"NUM_UNITS\": 53}, {\"LIGHTING_CONDITION\": \"DAWN\", \"REPORT_TYPE\": \"NOT ON SCENE (DESK REPORT)\", \"CRASH_HOUR\": 20, \"NUM_UNITS\": 16}, {\"LIGHTING_CONDITION\": \"DAWN\", \"REPORT_TYPE\": \"NOT ON SCENE (DESK REPORT)\", \"CRASH_HOUR\": 22, \"NUM_UNITS\": 4}, {\"LIGHTING_CONDITION\": \"DAWN\", \"REPORT_TYPE\": \"ON SCENE\", \"CRASH_HOUR\": 0, \"NUM_UNITS\": 6}, {\"LIGHTING_CONDITION\": \"DAWN\", \"REPORT_TYPE\": \"ON SCENE\", \"CRASH_HOUR\": 1, \"NUM_UNITS\": 2}, {\"LIGHTING_CONDITION\": \"DAWN\", \"REPORT_TYPE\": \"ON SCENE\", \"CRASH_HOUR\": 2, \"NUM_UNITS\": 4}, {\"LIGHTING_CONDITION\": \"DAWN\", \"REPORT_TYPE\": \"ON SCENE\", \"CRASH_HOUR\": 4, \"NUM_UNITS\": 18}, {\"LIGHTING_CONDITION\": \"DAWN\", \"REPORT_TYPE\": \"ON SCENE\", \"CRASH_HOUR\": 5, \"NUM_UNITS\": 83}, {\"LIGHTING_CONDITION\": \"DAWN\", \"REPORT_TYPE\": \"ON SCENE\", \"CRASH_HOUR\": 6, \"NUM_UNITS\": 134}, {\"LIGHTING_CONDITION\": \"DAWN\", \"REPORT_TYPE\": \"ON SCENE\", \"CRASH_HOUR\": 7, \"NUM_UNITS\": 38}, {\"LIGHTING_CONDITION\": \"DAWN\", \"REPORT_TYPE\": \"ON SCENE\", \"CRASH_HOUR\": 8, \"NUM_UNITS\": 10}, {\"LIGHTING_CONDITION\": \"DAWN\", \"REPORT_TYPE\": \"ON SCENE\", \"CRASH_HOUR\": 9, \"NUM_UNITS\": 3}, {\"LIGHTING_CONDITION\": \"DAWN\", \"REPORT_TYPE\": \"ON SCENE\", \"CRASH_HOUR\": 10, \"NUM_UNITS\": 2}, {\"LIGHTING_CONDITION\": \"DAWN\", \"REPORT_TYPE\": \"ON SCENE\", \"CRASH_HOUR\": 11, \"NUM_UNITS\": 2}, {\"LIGHTING_CONDITION\": \"DAWN\", \"REPORT_TYPE\": \"ON SCENE\", \"CRASH_HOUR\": 12, \"NUM_UNITS\": 2}, {\"LIGHTING_CONDITION\": \"DAWN\", \"REPORT_TYPE\": \"ON SCENE\", \"CRASH_HOUR\": 13, \"NUM_UNITS\": 4}, {\"LIGHTING_CONDITION\": \"DAWN\", \"REPORT_TYPE\": \"ON SCENE\", \"CRASH_HOUR\": 14, \"NUM_UNITS\": 7}, {\"LIGHTING_CONDITION\": \"DAWN\", \"REPORT_TYPE\": \"ON SCENE\", \"CRASH_HOUR\": 15, \"NUM_UNITS\": 23}, {\"LIGHTING_CONDITION\": \"DAWN\", \"REPORT_TYPE\": \"ON SCENE\", \"CRASH_HOUR\": 16, \"NUM_UNITS\": 34}, {\"LIGHTING_CONDITION\": \"DAWN\", \"REPORT_TYPE\": \"ON SCENE\", \"CRASH_HOUR\": 17, \"NUM_UNITS\": 28}, {\"LIGHTING_CONDITION\": \"DAWN\", \"REPORT_TYPE\": \"ON SCENE\", \"CRASH_HOUR\": 18, \"NUM_UNITS\": 20}, {\"LIGHTING_CONDITION\": \"DAWN\", \"REPORT_TYPE\": \"ON SCENE\", \"CRASH_HOUR\": 19, \"NUM_UNITS\": 12}, {\"LIGHTING_CONDITION\": \"DAWN\", \"REPORT_TYPE\": \"ON SCENE\", \"CRASH_HOUR\": 20, \"NUM_UNITS\": 8}, {\"LIGHTING_CONDITION\": \"DAWN\", \"REPORT_TYPE\": \"ON SCENE\", \"CRASH_HOUR\": 21, \"NUM_UNITS\": 3}, {\"LIGHTING_CONDITION\": \"DAWN\", \"REPORT_TYPE\": \"ON SCENE\", \"CRASH_HOUR\": 22, \"NUM_UNITS\": 3}, {\"LIGHTING_CONDITION\": \"DAWN\", \"REPORT_TYPE\": \"ON SCENE\", \"CRASH_HOUR\": 23, \"NUM_UNITS\": 4}, {\"LIGHTING_CONDITION\": \"DAYLIGHT\", \"REPORT_TYPE\": \"AMENDED\", \"CRASH_HOUR\": 6, \"NUM_UNITS\": 2}, {\"LIGHTING_CONDITION\": \"DAYLIGHT\", \"REPORT_TYPE\": \"AMENDED\", \"CRASH_HOUR\": 7, \"NUM_UNITS\": 6}, {\"LIGHTING_CONDITION\": \"DAYLIGHT\", \"REPORT_TYPE\": \"AMENDED\", \"CRASH_HOUR\": 8, \"NUM_UNITS\": 2}, {\"LIGHTING_CONDITION\": \"DAYLIGHT\", \"REPORT_TYPE\": \"AMENDED\", \"CRASH_HOUR\": 10, \"NUM_UNITS\": 2}, {\"LIGHTING_CONDITION\": \"DAYLIGHT\", \"REPORT_TYPE\": \"AMENDED\", \"CRASH_HOUR\": 11, \"NUM_UNITS\": 2}, {\"LIGHTING_CONDITION\": \"DAYLIGHT\", \"REPORT_TYPE\": \"AMENDED\", \"CRASH_HOUR\": 12, \"NUM_UNITS\": 4}, {\"LIGHTING_CONDITION\": \"DAYLIGHT\", \"REPORT_TYPE\": \"AMENDED\", \"CRASH_HOUR\": 14, \"NUM_UNITS\": 4}, {\"LIGHTING_CONDITION\": \"DAYLIGHT\", \"REPORT_TYPE\": \"AMENDED\", \"CRASH_HOUR\": 16, \"NUM_UNITS\": 2}, {\"LIGHTING_CONDITION\": \"DAYLIGHT\", \"REPORT_TYPE\": \"AMENDED\", \"CRASH_HOUR\": 18, \"NUM_UNITS\": 2}, {\"LIGHTING_CONDITION\": \"DAYLIGHT\", \"REPORT_TYPE\": \"AMENDED\", \"CRASH_HOUR\": 20, \"NUM_UNITS\": 2}, {\"LIGHTING_CONDITION\": \"DAYLIGHT\", \"REPORT_TYPE\": \"NOT ON SCENE (DESK REPORT)\", \"CRASH_HOUR\": 0, \"NUM_UNITS\": 14}, {\"LIGHTING_CONDITION\": \"DAYLIGHT\", \"REPORT_TYPE\": \"NOT ON SCENE (DESK REPORT)\", \"CRASH_HOUR\": 1, \"NUM_UNITS\": 25}, {\"LIGHTING_CONDITION\": \"DAYLIGHT\", \"REPORT_TYPE\": \"NOT ON SCENE (DESK REPORT)\", \"CRASH_HOUR\": 2, \"NUM_UNITS\": 20}, {\"LIGHTING_CONDITION\": \"DAYLIGHT\", \"REPORT_TYPE\": \"NOT ON SCENE (DESK REPORT)\", \"CRASH_HOUR\": 3, \"NUM_UNITS\": 13}, {\"LIGHTING_CONDITION\": \"DAYLIGHT\", \"REPORT_TYPE\": \"NOT ON SCENE (DESK REPORT)\", \"CRASH_HOUR\": 4, \"NUM_UNITS\": 16}, {\"LIGHTING_CONDITION\": \"DAYLIGHT\", \"REPORT_TYPE\": \"NOT ON SCENE (DESK REPORT)\", \"CRASH_HOUR\": 5, \"NUM_UNITS\": 90}, {\"LIGHTING_CONDITION\": \"DAYLIGHT\", \"REPORT_TYPE\": \"NOT ON SCENE (DESK REPORT)\", \"CRASH_HOUR\": 6, \"NUM_UNITS\": 402}, {\"LIGHTING_CONDITION\": \"DAYLIGHT\", \"REPORT_TYPE\": \"NOT ON SCENE (DESK REPORT)\", \"CRASH_HOUR\": 7, \"NUM_UNITS\": 1308}, {\"LIGHTING_CONDITION\": \"DAYLIGHT\", \"REPORT_TYPE\": \"NOT ON SCENE (DESK REPORT)\", \"CRASH_HOUR\": 8, \"NUM_UNITS\": 1638}, {\"LIGHTING_CONDITION\": \"DAYLIGHT\", \"REPORT_TYPE\": \"NOT ON SCENE (DESK REPORT)\", \"CRASH_HOUR\": 9, \"NUM_UNITS\": 1434}, {\"LIGHTING_CONDITION\": \"DAYLIGHT\", \"REPORT_TYPE\": \"NOT ON SCENE (DESK REPORT)\", \"CRASH_HOUR\": 10, \"NUM_UNITS\": 1350}, {\"LIGHTING_CONDITION\": \"DAYLIGHT\", \"REPORT_TYPE\": \"NOT ON SCENE (DESK REPORT)\", \"CRASH_HOUR\": 11, \"NUM_UNITS\": 1515}, {\"LIGHTING_CONDITION\": \"DAYLIGHT\", \"REPORT_TYPE\": \"NOT ON SCENE (DESK REPORT)\", \"CRASH_HOUR\": 12, \"NUM_UNITS\": 1838}, {\"LIGHTING_CONDITION\": \"DAYLIGHT\", \"REPORT_TYPE\": \"NOT ON SCENE (DESK REPORT)\", \"CRASH_HOUR\": 13, \"NUM_UNITS\": 2198}, {\"LIGHTING_CONDITION\": \"DAYLIGHT\", \"REPORT_TYPE\": \"NOT ON SCENE (DESK REPORT)\", \"CRASH_HOUR\": 14, \"NUM_UNITS\": 2335}, {\"LIGHTING_CONDITION\": \"DAYLIGHT\", \"REPORT_TYPE\": \"NOT ON SCENE (DESK REPORT)\", \"CRASH_HOUR\": 15, \"NUM_UNITS\": 2546}, {\"LIGHTING_CONDITION\": \"DAYLIGHT\", \"REPORT_TYPE\": \"NOT ON SCENE (DESK REPORT)\", \"CRASH_HOUR\": 16, \"NUM_UNITS\": 2206}, {\"LIGHTING_CONDITION\": \"DAYLIGHT\", \"REPORT_TYPE\": \"NOT ON SCENE (DESK REPORT)\", \"CRASH_HOUR\": 17, \"NUM_UNITS\": 1735}, {\"LIGHTING_CONDITION\": \"DAYLIGHT\", \"REPORT_TYPE\": \"NOT ON SCENE (DESK REPORT)\", \"CRASH_HOUR\": 18, \"NUM_UNITS\": 1024}, {\"LIGHTING_CONDITION\": \"DAYLIGHT\", \"REPORT_TYPE\": \"NOT ON SCENE (DESK REPORT)\", \"CRASH_HOUR\": 19, \"NUM_UNITS\": 395}, {\"LIGHTING_CONDITION\": \"DAYLIGHT\", \"REPORT_TYPE\": \"NOT ON SCENE (DESK REPORT)\", \"CRASH_HOUR\": 20, \"NUM_UNITS\": 103}, {\"LIGHTING_CONDITION\": \"DAYLIGHT\", \"REPORT_TYPE\": \"NOT ON SCENE (DESK REPORT)\", \"CRASH_HOUR\": 21, \"NUM_UNITS\": 32}, {\"LIGHTING_CONDITION\": \"DAYLIGHT\", \"REPORT_TYPE\": \"NOT ON SCENE (DESK REPORT)\", \"CRASH_HOUR\": 22, \"NUM_UNITS\": 22}, {\"LIGHTING_CONDITION\": \"DAYLIGHT\", \"REPORT_TYPE\": \"NOT ON SCENE (DESK REPORT)\", \"CRASH_HOUR\": 23, \"NUM_UNITS\": 18}, {\"LIGHTING_CONDITION\": \"DAYLIGHT\", \"REPORT_TYPE\": \"ON SCENE\", \"CRASH_HOUR\": 0, \"NUM_UNITS\": 11}, {\"LIGHTING_CONDITION\": \"DAYLIGHT\", \"REPORT_TYPE\": \"ON SCENE\", \"CRASH_HOUR\": 1, \"NUM_UNITS\": 10}, {\"LIGHTING_CONDITION\": \"DAYLIGHT\", \"REPORT_TYPE\": \"ON SCENE\", \"CRASH_HOUR\": 2, \"NUM_UNITS\": 4}, {\"LIGHTING_CONDITION\": \"DAYLIGHT\", \"REPORT_TYPE\": \"ON SCENE\", \"CRASH_HOUR\": 3, \"NUM_UNITS\": 3}, {\"LIGHTING_CONDITION\": \"DAYLIGHT\", \"REPORT_TYPE\": \"ON SCENE\", \"CRASH_HOUR\": 4, \"NUM_UNITS\": 19}, {\"LIGHTING_CONDITION\": \"DAYLIGHT\", \"REPORT_TYPE\": \"ON SCENE\", \"CRASH_HOUR\": 5, \"NUM_UNITS\": 80}, {\"LIGHTING_CONDITION\": \"DAYLIGHT\", \"REPORT_TYPE\": \"ON SCENE\", \"CRASH_HOUR\": 6, \"NUM_UNITS\": 320}, {\"LIGHTING_CONDITION\": \"DAYLIGHT\", \"REPORT_TYPE\": \"ON SCENE\", \"CRASH_HOUR\": 7, \"NUM_UNITS\": 954}, {\"LIGHTING_CONDITION\": \"DAYLIGHT\", \"REPORT_TYPE\": \"ON SCENE\", \"CRASH_HOUR\": 8, \"NUM_UNITS\": 1255}, {\"LIGHTING_CONDITION\": \"DAYLIGHT\", \"REPORT_TYPE\": \"ON SCENE\", \"CRASH_HOUR\": 9, \"NUM_UNITS\": 1095}, {\"LIGHTING_CONDITION\": \"DAYLIGHT\", \"REPORT_TYPE\": \"ON SCENE\", \"CRASH_HOUR\": 10, \"NUM_UNITS\": 989}, {\"LIGHTING_CONDITION\": \"DAYLIGHT\", \"REPORT_TYPE\": \"ON SCENE\", \"CRASH_HOUR\": 11, \"NUM_UNITS\": 1170}, {\"LIGHTING_CONDITION\": \"DAYLIGHT\", \"REPORT_TYPE\": \"ON SCENE\", \"CRASH_HOUR\": 12, \"NUM_UNITS\": 1245}, {\"LIGHTING_CONDITION\": \"DAYLIGHT\", \"REPORT_TYPE\": \"ON SCENE\", \"CRASH_HOUR\": 13, \"NUM_UNITS\": 1088}, {\"LIGHTING_CONDITION\": \"DAYLIGHT\", \"REPORT_TYPE\": \"ON SCENE\", \"CRASH_HOUR\": 14, \"NUM_UNITS\": 1177}, {\"LIGHTING_CONDITION\": \"DAYLIGHT\", \"REPORT_TYPE\": \"ON SCENE\", \"CRASH_HOUR\": 15, \"NUM_UNITS\": 1332}, {\"LIGHTING_CONDITION\": \"DAYLIGHT\", \"REPORT_TYPE\": \"ON SCENE\", \"CRASH_HOUR\": 16, \"NUM_UNITS\": 1287}, {\"LIGHTING_CONDITION\": \"DAYLIGHT\", \"REPORT_TYPE\": \"ON SCENE\", \"CRASH_HOUR\": 17, \"NUM_UNITS\": 1027}, {\"LIGHTING_CONDITION\": \"DAYLIGHT\", \"REPORT_TYPE\": \"ON SCENE\", \"CRASH_HOUR\": 18, \"NUM_UNITS\": 618}, {\"LIGHTING_CONDITION\": \"DAYLIGHT\", \"REPORT_TYPE\": \"ON SCENE\", \"CRASH_HOUR\": 19, \"NUM_UNITS\": 233}, {\"LIGHTING_CONDITION\": \"DAYLIGHT\", \"REPORT_TYPE\": \"ON SCENE\", \"CRASH_HOUR\": 20, \"NUM_UNITS\": 24}, {\"LIGHTING_CONDITION\": \"DAYLIGHT\", \"REPORT_TYPE\": \"ON SCENE\", \"CRASH_HOUR\": 21, \"NUM_UNITS\": 6}, {\"LIGHTING_CONDITION\": \"DAYLIGHT\", \"REPORT_TYPE\": \"ON SCENE\", \"CRASH_HOUR\": 22, \"NUM_UNITS\": 6}, {\"LIGHTING_CONDITION\": \"DUSK\", \"REPORT_TYPE\": \"AMENDED\", \"CRASH_HOUR\": 20, \"NUM_UNITS\": 5}, {\"LIGHTING_CONDITION\": \"DUSK\", \"REPORT_TYPE\": \"NOT ON SCENE (DESK REPORT)\", \"CRASH_HOUR\": 0, \"NUM_UNITS\": 6}, {\"LIGHTING_CONDITION\": \"DUSK\", \"REPORT_TYPE\": \"NOT ON SCENE (DESK REPORT)\", \"CRASH_HOUR\": 1, \"NUM_UNITS\": 6}, {\"LIGHTING_CONDITION\": \"DUSK\", \"REPORT_TYPE\": \"NOT ON SCENE (DESK REPORT)\", \"CRASH_HOUR\": 2, \"NUM_UNITS\": 2}, {\"LIGHTING_CONDITION\": \"DUSK\", \"REPORT_TYPE\": \"NOT ON SCENE (DESK REPORT)\", \"CRASH_HOUR\": 3, \"NUM_UNITS\": 8}, {\"LIGHTING_CONDITION\": \"DUSK\", \"REPORT_TYPE\": \"NOT ON SCENE (DESK REPORT)\", \"CRASH_HOUR\": 4, \"NUM_UNITS\": 2}, {\"LIGHTING_CONDITION\": \"DUSK\", \"REPORT_TYPE\": \"NOT ON SCENE (DESK REPORT)\", \"CRASH_HOUR\": 5, \"NUM_UNITS\": 13}, {\"LIGHTING_CONDITION\": \"DUSK\", \"REPORT_TYPE\": \"NOT ON SCENE (DESK REPORT)\", \"CRASH_HOUR\": 6, \"NUM_UNITS\": 16}, {\"LIGHTING_CONDITION\": \"DUSK\", \"REPORT_TYPE\": \"NOT ON SCENE (DESK REPORT)\", \"CRASH_HOUR\": 7, \"NUM_UNITS\": 6}, {\"LIGHTING_CONDITION\": \"DUSK\", \"REPORT_TYPE\": \"NOT ON SCENE (DESK REPORT)\", \"CRASH_HOUR\": 8, \"NUM_UNITS\": 2}, {\"LIGHTING_CONDITION\": \"DUSK\", \"REPORT_TYPE\": \"NOT ON SCENE (DESK REPORT)\", \"CRASH_HOUR\": 11, \"NUM_UNITS\": 2}, {\"LIGHTING_CONDITION\": \"DUSK\", \"REPORT_TYPE\": \"NOT ON SCENE (DESK REPORT)\", \"CRASH_HOUR\": 12, \"NUM_UNITS\": 2}, {\"LIGHTING_CONDITION\": \"DUSK\", \"REPORT_TYPE\": \"NOT ON SCENE (DESK REPORT)\", \"CRASH_HOUR\": 13, \"NUM_UNITS\": 12}, {\"LIGHTING_CONDITION\": \"DUSK\", \"REPORT_TYPE\": \"NOT ON SCENE (DESK REPORT)\", \"CRASH_HOUR\": 14, \"NUM_UNITS\": 13}, {\"LIGHTING_CONDITION\": \"DUSK\", \"REPORT_TYPE\": \"NOT ON SCENE (DESK REPORT)\", \"CRASH_HOUR\": 15, \"NUM_UNITS\": 50}, {\"LIGHTING_CONDITION\": \"DUSK\", \"REPORT_TYPE\": \"NOT ON SCENE (DESK REPORT)\", \"CRASH_HOUR\": 16, \"NUM_UNITS\": 171}, {\"LIGHTING_CONDITION\": \"DUSK\", \"REPORT_TYPE\": \"NOT ON SCENE (DESK REPORT)\", \"CRASH_HOUR\": 17, \"NUM_UNITS\": 211}, {\"LIGHTING_CONDITION\": \"DUSK\", \"REPORT_TYPE\": \"NOT ON SCENE (DESK REPORT)\", \"CRASH_HOUR\": 18, \"NUM_UNITS\": 173}, {\"LIGHTING_CONDITION\": \"DUSK\", \"REPORT_TYPE\": \"NOT ON SCENE (DESK REPORT)\", \"CRASH_HOUR\": 19, \"NUM_UNITS\": 154}, {\"LIGHTING_CONDITION\": \"DUSK\", \"REPORT_TYPE\": \"NOT ON SCENE (DESK REPORT)\", \"CRASH_HOUR\": 20, \"NUM_UNITS\": 72}, {\"LIGHTING_CONDITION\": \"DUSK\", \"REPORT_TYPE\": \"NOT ON SCENE (DESK REPORT)\", \"CRASH_HOUR\": 21, \"NUM_UNITS\": 26}, {\"LIGHTING_CONDITION\": \"DUSK\", \"REPORT_TYPE\": \"NOT ON SCENE (DESK REPORT)\", \"CRASH_HOUR\": 22, \"NUM_UNITS\": 24}, {\"LIGHTING_CONDITION\": \"DUSK\", \"REPORT_TYPE\": \"NOT ON SCENE (DESK REPORT)\", \"CRASH_HOUR\": 23, \"NUM_UNITS\": 4}, {\"LIGHTING_CONDITION\": \"DUSK\", \"REPORT_TYPE\": \"ON SCENE\", \"CRASH_HOUR\": 0, \"NUM_UNITS\": 7}, {\"LIGHTING_CONDITION\": \"DUSK\", \"REPORT_TYPE\": \"ON SCENE\", \"CRASH_HOUR\": 1, \"NUM_UNITS\": 1}, {\"LIGHTING_CONDITION\": \"DUSK\", \"REPORT_TYPE\": \"ON SCENE\", \"CRASH_HOUR\": 2, \"NUM_UNITS\": 3}, {\"LIGHTING_CONDITION\": \"DUSK\", \"REPORT_TYPE\": \"ON SCENE\", \"CRASH_HOUR\": 3, \"NUM_UNITS\": 3}, {\"LIGHTING_CONDITION\": \"DUSK\", \"REPORT_TYPE\": \"ON SCENE\", \"CRASH_HOUR\": 4, \"NUM_UNITS\": 6}, {\"LIGHTING_CONDITION\": \"DUSK\", \"REPORT_TYPE\": \"ON SCENE\", \"CRASH_HOUR\": 5, \"NUM_UNITS\": 14}, {\"LIGHTING_CONDITION\": \"DUSK\", \"REPORT_TYPE\": \"ON SCENE\", \"CRASH_HOUR\": 6, \"NUM_UNITS\": 5}, {\"LIGHTING_CONDITION\": \"DUSK\", \"REPORT_TYPE\": \"ON SCENE\", \"CRASH_HOUR\": 8, \"NUM_UNITS\": 6}, {\"LIGHTING_CONDITION\": \"DUSK\", \"REPORT_TYPE\": \"ON SCENE\", \"CRASH_HOUR\": 9, \"NUM_UNITS\": 6}, {\"LIGHTING_CONDITION\": \"DUSK\", \"REPORT_TYPE\": \"ON SCENE\", \"CRASH_HOUR\": 11, \"NUM_UNITS\": 6}, {\"LIGHTING_CONDITION\": \"DUSK\", \"REPORT_TYPE\": \"ON SCENE\", \"CRASH_HOUR\": 12, \"NUM_UNITS\": 2}, {\"LIGHTING_CONDITION\": \"DUSK\", \"REPORT_TYPE\": \"ON SCENE\", \"CRASH_HOUR\": 13, \"NUM_UNITS\": 7}, {\"LIGHTING_CONDITION\": \"DUSK\", \"REPORT_TYPE\": \"ON SCENE\", \"CRASH_HOUR\": 14, \"NUM_UNITS\": 9}, {\"LIGHTING_CONDITION\": \"DUSK\", \"REPORT_TYPE\": \"ON SCENE\", \"CRASH_HOUR\": 15, \"NUM_UNITS\": 43}, {\"LIGHTING_CONDITION\": \"DUSK\", \"REPORT_TYPE\": \"ON SCENE\", \"CRASH_HOUR\": 16, \"NUM_UNITS\": 94}, {\"LIGHTING_CONDITION\": \"DUSK\", \"REPORT_TYPE\": \"ON SCENE\", \"CRASH_HOUR\": 17, \"NUM_UNITS\": 112}, {\"LIGHTING_CONDITION\": \"DUSK\", \"REPORT_TYPE\": \"ON SCENE\", \"CRASH_HOUR\": 18, \"NUM_UNITS\": 119}, {\"LIGHTING_CONDITION\": \"DUSK\", \"REPORT_TYPE\": \"ON SCENE\", \"CRASH_HOUR\": 19, \"NUM_UNITS\": 126}, {\"LIGHTING_CONDITION\": \"DUSK\", \"REPORT_TYPE\": \"ON SCENE\", \"CRASH_HOUR\": 20, \"NUM_UNITS\": 74}, {\"LIGHTING_CONDITION\": \"DUSK\", \"REPORT_TYPE\": \"ON SCENE\", \"CRASH_HOUR\": 21, \"NUM_UNITS\": 27}, {\"LIGHTING_CONDITION\": \"DUSK\", \"REPORT_TYPE\": \"ON SCENE\", \"CRASH_HOUR\": 22, \"NUM_UNITS\": 6}, {\"LIGHTING_CONDITION\": \"DUSK\", \"REPORT_TYPE\": \"ON SCENE\", \"CRASH_HOUR\": 23, \"NUM_UNITS\": 13}, {\"LIGHTING_CONDITION\": \"UNKNOWN\", \"REPORT_TYPE\": \"NOT ON SCENE (DESK REPORT)\", \"CRASH_HOUR\": 0, \"NUM_UNITS\": 46}, {\"LIGHTING_CONDITION\": \"UNKNOWN\", \"REPORT_TYPE\": \"NOT ON SCENE (DESK REPORT)\", \"CRASH_HOUR\": 1, \"NUM_UNITS\": 46}, {\"LIGHTING_CONDITION\": \"UNKNOWN\", \"REPORT_TYPE\": \"NOT ON SCENE (DESK REPORT)\", \"CRASH_HOUR\": 2, \"NUM_UNITS\": 28}, {\"LIGHTING_CONDITION\": \"UNKNOWN\", \"REPORT_TYPE\": \"NOT ON SCENE (DESK REPORT)\", \"CRASH_HOUR\": 3, \"NUM_UNITS\": 18}, {\"LIGHTING_CONDITION\": \"UNKNOWN\", \"REPORT_TYPE\": \"NOT ON SCENE (DESK REPORT)\", \"CRASH_HOUR\": 4, \"NUM_UNITS\": 22}, {\"LIGHTING_CONDITION\": \"UNKNOWN\", \"REPORT_TYPE\": \"NOT ON SCENE (DESK REPORT)\", \"CRASH_HOUR\": 5, \"NUM_UNITS\": 20}, {\"LIGHTING_CONDITION\": \"UNKNOWN\", \"REPORT_TYPE\": \"NOT ON SCENE (DESK REPORT)\", \"CRASH_HOUR\": 6, \"NUM_UNITS\": 51}, {\"LIGHTING_CONDITION\": \"UNKNOWN\", \"REPORT_TYPE\": \"NOT ON SCENE (DESK REPORT)\", \"CRASH_HOUR\": 7, \"NUM_UNITS\": 64}, {\"LIGHTING_CONDITION\": \"UNKNOWN\", \"REPORT_TYPE\": \"NOT ON SCENE (DESK REPORT)\", \"CRASH_HOUR\": 8, \"NUM_UNITS\": 97}, {\"LIGHTING_CONDITION\": \"UNKNOWN\", \"REPORT_TYPE\": \"NOT ON SCENE (DESK REPORT)\", \"CRASH_HOUR\": 9, \"NUM_UNITS\": 77}, {\"LIGHTING_CONDITION\": \"UNKNOWN\", \"REPORT_TYPE\": \"NOT ON SCENE (DESK REPORT)\", \"CRASH_HOUR\": 10, \"NUM_UNITS\": 91}, {\"LIGHTING_CONDITION\": \"UNKNOWN\", \"REPORT_TYPE\": \"NOT ON SCENE (DESK REPORT)\", \"CRASH_HOUR\": 11, \"NUM_UNITS\": 64}, {\"LIGHTING_CONDITION\": \"UNKNOWN\", \"REPORT_TYPE\": \"NOT ON SCENE (DESK REPORT)\", \"CRASH_HOUR\": 12, \"NUM_UNITS\": 91}, {\"LIGHTING_CONDITION\": \"UNKNOWN\", \"REPORT_TYPE\": \"NOT ON SCENE (DESK REPORT)\", \"CRASH_HOUR\": 13, \"NUM_UNITS\": 68}, {\"LIGHTING_CONDITION\": \"UNKNOWN\", \"REPORT_TYPE\": \"NOT ON SCENE (DESK REPORT)\", \"CRASH_HOUR\": 14, \"NUM_UNITS\": 68}, {\"LIGHTING_CONDITION\": \"UNKNOWN\", \"REPORT_TYPE\": \"NOT ON SCENE (DESK REPORT)\", \"CRASH_HOUR\": 15, \"NUM_UNITS\": 80}, {\"LIGHTING_CONDITION\": \"UNKNOWN\", \"REPORT_TYPE\": \"NOT ON SCENE (DESK REPORT)\", \"CRASH_HOUR\": 16, \"NUM_UNITS\": 94}, {\"LIGHTING_CONDITION\": \"UNKNOWN\", \"REPORT_TYPE\": \"NOT ON SCENE (DESK REPORT)\", \"CRASH_HOUR\": 17, \"NUM_UNITS\": 86}, {\"LIGHTING_CONDITION\": \"UNKNOWN\", \"REPORT_TYPE\": \"NOT ON SCENE (DESK REPORT)\", \"CRASH_HOUR\": 18, \"NUM_UNITS\": 115}, {\"LIGHTING_CONDITION\": \"UNKNOWN\", \"REPORT_TYPE\": \"NOT ON SCENE (DESK REPORT)\", \"CRASH_HOUR\": 19, \"NUM_UNITS\": 70}, {\"LIGHTING_CONDITION\": \"UNKNOWN\", \"REPORT_TYPE\": \"NOT ON SCENE (DESK REPORT)\", \"CRASH_HOUR\": 20, \"NUM_UNITS\": 73}, {\"LIGHTING_CONDITION\": \"UNKNOWN\", \"REPORT_TYPE\": \"NOT ON SCENE (DESK REPORT)\", \"CRASH_HOUR\": 21, \"NUM_UNITS\": 70}, {\"LIGHTING_CONDITION\": \"UNKNOWN\", \"REPORT_TYPE\": \"NOT ON SCENE (DESK REPORT)\", \"CRASH_HOUR\": 22, \"NUM_UNITS\": 46}, {\"LIGHTING_CONDITION\": \"UNKNOWN\", \"REPORT_TYPE\": \"NOT ON SCENE (DESK REPORT)\", \"CRASH_HOUR\": 23, \"NUM_UNITS\": 42}, {\"LIGHTING_CONDITION\": \"UNKNOWN\", \"REPORT_TYPE\": \"ON SCENE\", \"CRASH_HOUR\": 0, \"NUM_UNITS\": 33}, {\"LIGHTING_CONDITION\": \"UNKNOWN\", \"REPORT_TYPE\": \"ON SCENE\", \"CRASH_HOUR\": 1, \"NUM_UNITS\": 13}, {\"LIGHTING_CONDITION\": \"UNKNOWN\", \"REPORT_TYPE\": \"ON SCENE\", \"CRASH_HOUR\": 2, \"NUM_UNITS\": 16}, {\"LIGHTING_CONDITION\": \"UNKNOWN\", \"REPORT_TYPE\": \"ON SCENE\", \"CRASH_HOUR\": 3, \"NUM_UNITS\": 24}, {\"LIGHTING_CONDITION\": \"UNKNOWN\", \"REPORT_TYPE\": \"ON SCENE\", \"CRASH_HOUR\": 4, \"NUM_UNITS\": 10}, {\"LIGHTING_CONDITION\": \"UNKNOWN\", \"REPORT_TYPE\": \"ON SCENE\", \"CRASH_HOUR\": 5, \"NUM_UNITS\": 14}, {\"LIGHTING_CONDITION\": \"UNKNOWN\", \"REPORT_TYPE\": \"ON SCENE\", \"CRASH_HOUR\": 6, \"NUM_UNITS\": 27}, {\"LIGHTING_CONDITION\": \"UNKNOWN\", \"REPORT_TYPE\": \"ON SCENE\", \"CRASH_HOUR\": 7, \"NUM_UNITS\": 22}, {\"LIGHTING_CONDITION\": \"UNKNOWN\", \"REPORT_TYPE\": \"ON SCENE\", \"CRASH_HOUR\": 8, \"NUM_UNITS\": 19}, {\"LIGHTING_CONDITION\": \"UNKNOWN\", \"REPORT_TYPE\": \"ON SCENE\", \"CRASH_HOUR\": 9, \"NUM_UNITS\": 23}, {\"LIGHTING_CONDITION\": \"UNKNOWN\", \"REPORT_TYPE\": \"ON SCENE\", \"CRASH_HOUR\": 10, \"NUM_UNITS\": 21}, {\"LIGHTING_CONDITION\": \"UNKNOWN\", \"REPORT_TYPE\": \"ON SCENE\", \"CRASH_HOUR\": 11, \"NUM_UNITS\": 7}, {\"LIGHTING_CONDITION\": \"UNKNOWN\", \"REPORT_TYPE\": \"ON SCENE\", \"CRASH_HOUR\": 12, \"NUM_UNITS\": 17}, {\"LIGHTING_CONDITION\": \"UNKNOWN\", \"REPORT_TYPE\": \"ON SCENE\", \"CRASH_HOUR\": 13, \"NUM_UNITS\": 9}, {\"LIGHTING_CONDITION\": \"UNKNOWN\", \"REPORT_TYPE\": \"ON SCENE\", \"CRASH_HOUR\": 14, \"NUM_UNITS\": 7}, {\"LIGHTING_CONDITION\": \"UNKNOWN\", \"REPORT_TYPE\": \"ON SCENE\", \"CRASH_HOUR\": 15, \"NUM_UNITS\": 17}, {\"LIGHTING_CONDITION\": \"UNKNOWN\", \"REPORT_TYPE\": \"ON SCENE\", \"CRASH_HOUR\": 16, \"NUM_UNITS\": 19}, {\"LIGHTING_CONDITION\": \"UNKNOWN\", \"REPORT_TYPE\": \"ON SCENE\", \"CRASH_HOUR\": 17, \"NUM_UNITS\": 23}, {\"LIGHTING_CONDITION\": \"UNKNOWN\", \"REPORT_TYPE\": \"ON SCENE\", \"CRASH_HOUR\": 18, \"NUM_UNITS\": 14}, {\"LIGHTING_CONDITION\": \"UNKNOWN\", \"REPORT_TYPE\": \"ON SCENE\", \"CRASH_HOUR\": 19, \"NUM_UNITS\": 9}, {\"LIGHTING_CONDITION\": \"UNKNOWN\", \"REPORT_TYPE\": \"ON SCENE\", \"CRASH_HOUR\": 20, \"NUM_UNITS\": 10}, {\"LIGHTING_CONDITION\": \"UNKNOWN\", \"REPORT_TYPE\": \"ON SCENE\", \"CRASH_HOUR\": 21, \"NUM_UNITS\": 10}, {\"LIGHTING_CONDITION\": \"UNKNOWN\", \"REPORT_TYPE\": \"ON SCENE\", \"CRASH_HOUR\": 22, \"NUM_UNITS\": 20}, {\"LIGHTING_CONDITION\": \"UNKNOWN\", \"REPORT_TYPE\": \"ON SCENE\", \"CRASH_HOUR\": 23, \"NUM_UNITS\": 6}]}}, {\"mode\": \"vega-lite\"});\n</script>",
      "text/plain": "alt.Chart(...)"
     },
     "metadata": {}
    }
   ]
  },
  {
   "cell_type": "code",
   "metadata": {
    "cell_id": "9046460d16114e2bb452ec522e66db8e",
    "tags": [],
    "deepnote_to_be_reexecuted": false,
    "source_hash": "2de99c16",
    "execution_start": 1649808536502,
    "execution_millis": 560,
    "deepnote_cell_type": "code",
    "deepnote_cell_height": 600
   },
   "source": "df_chicago.groupby(['LIGHTING_CONDITION','REPORT_TYPE','CRASH_HOUR']).agg({'NUM_UNITS':['sum', 'min', 'max']})",
   "execution_count": null,
   "outputs": [
    {
     "output_type": "execute_result",
     "execution_count": 7,
     "data": {
      "application/vnd.deepnote.dataframe.v3+json": {
       "column_count": 3,
       "row_count": 291,
       "columns": [
        {
         "name": "NUM_UNITS sum",
         "dtype": "int64",
         "stats": {
          "unique_count": 134,
          "nan_count": 0,
          "min": "1",
          "max": "2546",
          "histogram": [
           {
            "bin_start": 1,
            "bin_end": 255.5,
            "count": 245
           },
           {
            "bin_start": 255.5,
            "bin_end": 510,
            "count": 13
           },
           {
            "bin_start": 510,
            "bin_end": 764.5,
            "count": 10
           },
           {
            "bin_start": 764.5,
            "bin_end": 1019,
            "count": 2
           },
           {
            "bin_start": 1019,
            "bin_end": 1273.5,
            "count": 8
           },
           {
            "bin_start": 1273.5,
            "bin_end": 1528,
            "count": 6
           },
           {
            "bin_start": 1528,
            "bin_end": 1782.5,
            "count": 2
           },
           {
            "bin_start": 1782.5,
            "bin_end": 2037,
            "count": 1
           },
           {
            "bin_start": 2037,
            "bin_end": 2291.5,
            "count": 2
           },
           {
            "bin_start": 2291.5,
            "bin_end": 2546,
            "count": 2
           }
          ]
         }
        },
        {
         "name": "NUM_UNITS min",
         "dtype": "int64",
         "stats": {
          "unique_count": 3,
          "nan_count": 0,
          "min": "1",
          "max": "3",
          "histogram": [
           {
            "bin_start": 1,
            "bin_end": 1.2,
            "count": 168
           },
           {
            "bin_start": 1.2,
            "bin_end": 1.4,
            "count": 0
           },
           {
            "bin_start": 1.4,
            "bin_end": 1.6,
            "count": 0
           },
           {
            "bin_start": 1.6,
            "bin_end": 1.8,
            "count": 0
           },
           {
            "bin_start": 1.8,
            "bin_end": 2,
            "count": 0
           },
           {
            "bin_start": 2,
            "bin_end": 2.2,
            "count": 121
           },
           {
            "bin_start": 2.2,
            "bin_end": 2.4000000000000004,
            "count": 0
           },
           {
            "bin_start": 2.4000000000000004,
            "bin_end": 2.6,
            "count": 0
           },
           {
            "bin_start": 2.6,
            "bin_end": 2.8,
            "count": 0
           },
           {
            "bin_start": 2.8,
            "bin_end": 3,
            "count": 2
           }
          ]
         }
        },
        {
         "name": "NUM_UNITS max",
         "dtype": "int64",
         "stats": {
          "unique_count": 11,
          "nan_count": 0,
          "min": "1",
          "max": "11",
          "histogram": [
           {
            "bin_start": 1,
            "bin_end": 2,
            "count": 3
           },
           {
            "bin_start": 2,
            "bin_end": 3,
            "count": 141
           },
           {
            "bin_start": 3,
            "bin_end": 4,
            "count": 70
           },
           {
            "bin_start": 4,
            "bin_end": 5,
            "count": 35
           },
           {
            "bin_start": 5,
            "bin_end": 6,
            "count": 20
           },
           {
            "bin_start": 6,
            "bin_end": 7,
            "count": 13
           },
           {
            "bin_start": 7,
            "bin_end": 8,
            "count": 2
           },
           {
            "bin_start": 8,
            "bin_end": 9,
            "count": 2
           },
           {
            "bin_start": 9,
            "bin_end": 10,
            "count": 3
           },
           {
            "bin_start": 10,
            "bin_end": 11,
            "count": 2
           }
          ]
         }
        },
        {
         "name": "_deepnote_index_column",
         "dtype": "object"
        }
       ],
       "rows": [
        {
         "NUM_UNITS sum": 2,
         "NUM_UNITS min": 2,
         "NUM_UNITS max": 2,
         "_deepnote_index_column": "('DARKNESS', 'AMENDED', 20)"
        },
        {
         "NUM_UNITS sum": 97,
         "NUM_UNITS min": 1,
         "NUM_UNITS max": 2,
         "_deepnote_index_column": "('DARKNESS', 'NOT ON SCENE (DESK REPORT)', 0)"
        },
        {
         "NUM_UNITS sum": 86,
         "NUM_UNITS min": 1,
         "NUM_UNITS max": 2,
         "_deepnote_index_column": "('DARKNESS', 'NOT ON SCENE (DESK REPORT)', 1)"
        },
        {
         "NUM_UNITS sum": 64,
         "NUM_UNITS min": 1,
         "NUM_UNITS max": 5,
         "_deepnote_index_column": "('DARKNESS', 'NOT ON SCENE (DESK REPORT)', 2)"
        },
        {
         "NUM_UNITS sum": 57,
         "NUM_UNITS min": 1,
         "NUM_UNITS max": 2,
         "_deepnote_index_column": "('DARKNESS', 'NOT ON SCENE (DESK REPORT)', 3)"
        },
        {
         "NUM_UNITS sum": 46,
         "NUM_UNITS min": 1,
         "NUM_UNITS max": 2,
         "_deepnote_index_column": "('DARKNESS', 'NOT ON SCENE (DESK REPORT)', 4)"
        },
        {
         "NUM_UNITS sum": 40,
         "NUM_UNITS min": 1,
         "NUM_UNITS max": 4,
         "_deepnote_index_column": "('DARKNESS', 'NOT ON SCENE (DESK REPORT)', 5)"
        },
        {
         "NUM_UNITS sum": 29,
         "NUM_UNITS min": 1,
         "NUM_UNITS max": 2,
         "_deepnote_index_column": "('DARKNESS', 'NOT ON SCENE (DESK REPORT)', 6)"
        },
        {
         "NUM_UNITS sum": 11,
         "NUM_UNITS min": 1,
         "NUM_UNITS max": 2,
         "_deepnote_index_column": "('DARKNESS', 'NOT ON SCENE (DESK REPORT)', 7)"
        },
        {
         "NUM_UNITS sum": 2,
         "NUM_UNITS min": 2,
         "NUM_UNITS max": 2,
         "_deepnote_index_column": "('DARKNESS', 'NOT ON SCENE (DESK REPORT)', 8)"
        }
       ]
      },
      "text/plain": "                                                         NUM_UNITS        \n                                                               sum min max\nLIGHTING_CONDITION REPORT_TYPE                CRASH_HOUR                  \nDARKNESS           AMENDED                    20                 2   2   2\n                   NOT ON SCENE (DESK REPORT) 0                 97   1   2\n                                              1                 86   1   2\n                                              2                 64   1   5\n                                              3                 57   1   2\n...                                                            ...  ..  ..\nUNKNOWN            ON SCENE                   19                 9   1   2\n                                              20                10   2   2\n                                              21                10   2   2\n                                              22                20   2   3\n                                              23                 6   2   2\n\n[291 rows x 3 columns]",
      "text/html": "<div>\n<style scoped>\n    .dataframe tbody tr th:only-of-type {\n        vertical-align: middle;\n    }\n\n    .dataframe tbody tr th {\n        vertical-align: top;\n    }\n\n    .dataframe thead tr th {\n        text-align: left;\n    }\n\n    .dataframe thead tr:last-of-type th {\n        text-align: right;\n    }\n</style>\n<table border=\"1\" class=\"dataframe\">\n  <thead>\n    <tr>\n      <th></th>\n      <th></th>\n      <th></th>\n      <th colspan=\"3\" halign=\"left\">NUM_UNITS</th>\n    </tr>\n    <tr>\n      <th></th>\n      <th></th>\n      <th></th>\n      <th>sum</th>\n      <th>min</th>\n      <th>max</th>\n    </tr>\n    <tr>\n      <th>LIGHTING_CONDITION</th>\n      <th>REPORT_TYPE</th>\n      <th>CRASH_HOUR</th>\n      <th></th>\n      <th></th>\n      <th></th>\n    </tr>\n  </thead>\n  <tbody>\n    <tr>\n      <th rowspan=\"5\" valign=\"top\">DARKNESS</th>\n      <th>AMENDED</th>\n      <th>20</th>\n      <td>2</td>\n      <td>2</td>\n      <td>2</td>\n    </tr>\n    <tr>\n      <th rowspan=\"4\" valign=\"top\">NOT ON SCENE (DESK REPORT)</th>\n      <th>0</th>\n      <td>97</td>\n      <td>1</td>\n      <td>2</td>\n    </tr>\n    <tr>\n      <th>1</th>\n      <td>86</td>\n      <td>1</td>\n      <td>2</td>\n    </tr>\n    <tr>\n      <th>2</th>\n      <td>64</td>\n      <td>1</td>\n      <td>5</td>\n    </tr>\n    <tr>\n      <th>3</th>\n      <td>57</td>\n      <td>1</td>\n      <td>2</td>\n    </tr>\n    <tr>\n      <th>...</th>\n      <th>...</th>\n      <th>...</th>\n      <td>...</td>\n      <td>...</td>\n      <td>...</td>\n    </tr>\n    <tr>\n      <th rowspan=\"5\" valign=\"top\">UNKNOWN</th>\n      <th rowspan=\"5\" valign=\"top\">ON SCENE</th>\n      <th>19</th>\n      <td>9</td>\n      <td>1</td>\n      <td>2</td>\n    </tr>\n    <tr>\n      <th>20</th>\n      <td>10</td>\n      <td>2</td>\n      <td>2</td>\n    </tr>\n    <tr>\n      <th>21</th>\n      <td>10</td>\n      <td>2</td>\n      <td>2</td>\n    </tr>\n    <tr>\n      <th>22</th>\n      <td>20</td>\n      <td>2</td>\n      <td>3</td>\n    </tr>\n    <tr>\n      <th>23</th>\n      <td>6</td>\n      <td>2</td>\n      <td>2</td>\n    </tr>\n  </tbody>\n</table>\n<p>291 rows × 3 columns</p>\n</div>"
     },
     "metadata": {}
    }
   ]
  },
  {
   "cell_type": "markdown",
   "source": "# Integración de datos\n\nImaginemos que tenemos 2 conjunto de datos que tienen columnas con las que se relacionan. Para realizar esto, utilizaremos PanDas.\n\n",
   "metadata": {
    "cell_id": "30580ec8811d4249a16221df4fec10ec",
    "tags": [],
    "deepnote_cell_type": "markdown",
    "deepnote_cell_height": 120.390625
   }
  },
  {
   "cell_type": "code",
   "metadata": {
    "cell_id": "e9e7745203d748ff8ba6d59b8625ac39",
    "tags": [],
    "deepnote_to_be_reexecuted": false,
    "source_hash": "5ef0355a",
    "execution_start": 1649808536664,
    "execution_millis": 9,
    "deepnote_cell_type": "code",
    "deepnote_cell_height": 117
   },
   "source": "import pandas as pd\nurl_wine_red = 'https://raw.githubusercontent.com/terranigmark/curso-analisis-exploratorio-datos-platzi/main/winequality-red.csv'\nurl_wine_white = 'https://raw.githubusercontent.com/terranigmark/curso-analisis-exploratorio-datos-platzi/main/winequality-white.csv'",
   "execution_count": null,
   "outputs": []
  },
  {
   "cell_type": "code",
   "metadata": {
    "cell_id": "d0f2e7c7458f48658c449a4966e75393",
    "tags": [],
    "deepnote_to_be_reexecuted": false,
    "source_hash": "d18a1a9a",
    "execution_start": 1649808536734,
    "execution_millis": 354,
    "deepnote_cell_type": "code",
    "deepnote_cell_height": 634.796875
   },
   "source": "red = pd.read_csv(url_wine_red, delimiter=\";\")\nred",
   "execution_count": null,
   "outputs": [
    {
     "output_type": "execute_result",
     "execution_count": 9,
     "data": {
      "application/vnd.deepnote.dataframe.v3+json": {
       "column_count": 12,
       "row_count": 1599,
       "columns": [
        {
         "name": "fixed acidity",
         "dtype": "float64",
         "stats": {
          "unique_count": 96,
          "nan_count": 0,
          "min": "4.6",
          "max": "15.9",
          "histogram": [
           {
            "bin_start": 4.6,
            "bin_end": 5.7299999999999995,
            "count": 45
           },
           {
            "bin_start": 5.7299999999999995,
            "bin_end": 6.859999999999999,
            "count": 229
           },
           {
            "bin_start": 6.859999999999999,
            "bin_end": 7.99,
            "count": 542
           },
           {
            "bin_start": 7.99,
            "bin_end": 9.120000000000001,
            "count": 371
           },
           {
            "bin_start": 9.120000000000001,
            "bin_end": 10.25,
            "count": 188
           },
           {
            "bin_start": 10.25,
            "bin_end": 11.38,
            "count": 110
           },
           {
            "bin_start": 11.38,
            "bin_end": 12.510000000000002,
            "count": 76
           },
           {
            "bin_start": 12.510000000000002,
            "bin_end": 13.64,
            "count": 26
           },
           {
            "bin_start": 13.64,
            "bin_end": 14.770000000000001,
            "count": 5
           },
           {
            "bin_start": 14.770000000000001,
            "bin_end": 15.9,
            "count": 7
           }
          ]
         }
        },
        {
         "name": "volatile acidity",
         "dtype": "float64",
         "stats": {
          "unique_count": 143,
          "nan_count": 0,
          "min": "0.12",
          "max": "1.58",
          "histogram": [
           {
            "bin_start": 0.12,
            "bin_end": 0.266,
            "count": 73
           },
           {
            "bin_start": 0.266,
            "bin_end": 0.412,
            "count": 405
           },
           {
            "bin_start": 0.412,
            "bin_end": 0.5579999999999999,
            "count": 423
           },
           {
            "bin_start": 0.5579999999999999,
            "bin_end": 0.704,
            "count": 475
           },
           {
            "bin_start": 0.704,
            "bin_end": 0.85,
            "count": 148
           },
           {
            "bin_start": 0.85,
            "bin_end": 0.9959999999999999,
            "count": 51
           },
           {
            "bin_start": 0.9959999999999999,
            "bin_end": 1.142,
            "count": 18
           },
           {
            "bin_start": 1.142,
            "bin_end": 1.2879999999999998,
            "count": 3
           },
           {
            "bin_start": 1.2879999999999998,
            "bin_end": 1.4339999999999997,
            "count": 2
           },
           {
            "bin_start": 1.4339999999999997,
            "bin_end": 1.58,
            "count": 1
           }
          ]
         }
        },
        {
         "name": "citric acid",
         "dtype": "float64",
         "stats": {
          "unique_count": 80,
          "nan_count": 0,
          "min": "0.0",
          "max": "1.0",
          "histogram": [
           {
            "bin_start": 0,
            "bin_end": 0.1,
            "count": 403
           },
           {
            "bin_start": 0.1,
            "bin_end": 0.2,
            "count": 203
           },
           {
            "bin_start": 0.2,
            "bin_end": 0.30000000000000004,
            "count": 316
           },
           {
            "bin_start": 0.30000000000000004,
            "bin_end": 0.4,
            "count": 205
           },
           {
            "bin_start": 0.4,
            "bin_end": 0.5,
            "count": 262
           },
           {
            "bin_start": 0.5,
            "bin_end": 0.6000000000000001,
            "count": 132
           },
           {
            "bin_start": 0.6000000000000001,
            "bin_end": 0.7000000000000001,
            "count": 62
           },
           {
            "bin_start": 0.7000000000000001,
            "bin_end": 0.8,
            "count": 15
           },
           {
            "bin_start": 0.8,
            "bin_end": 0.9,
            "count": 0
           },
           {
            "bin_start": 0.9,
            "bin_end": 1,
            "count": 1
           }
          ]
         }
        },
        {
         "name": "residual sugar",
         "dtype": "float64",
         "stats": {
          "unique_count": 91,
          "nan_count": 0,
          "min": "0.9",
          "max": "15.5",
          "histogram": [
           {
            "bin_start": 0.9,
            "bin_end": 2.36,
            "count": 994
           },
           {
            "bin_start": 2.36,
            "bin_end": 3.82,
            "count": 463
           },
           {
            "bin_start": 3.82,
            "bin_end": 5.28,
            "count": 67
           },
           {
            "bin_start": 5.28,
            "bin_end": 6.74,
            "count": 45
           },
           {
            "bin_start": 6.74,
            "bin_end": 8.2,
            "count": 11
           },
           {
            "bin_start": 8.2,
            "bin_end": 9.66,
            "count": 8
           },
           {
            "bin_start": 9.66,
            "bin_end": 11.12,
            "count": 3
           },
           {
            "bin_start": 11.12,
            "bin_end": 12.58,
            "count": 0
           },
           {
            "bin_start": 12.58,
            "bin_end": 14.040000000000001,
            "count": 5
           },
           {
            "bin_start": 14.040000000000001,
            "bin_end": 15.5,
            "count": 3
           }
          ]
         }
        },
        {
         "name": "chlorides",
         "dtype": "float64",
         "stats": {
          "unique_count": 153,
          "nan_count": 0,
          "min": "0.012",
          "max": "0.611",
          "histogram": [
           {
            "bin_start": 0.012,
            "bin_end": 0.07189999999999999,
            "count": 457
           },
           {
            "bin_start": 0.07189999999999999,
            "bin_end": 0.1318,
            "count": 1064
           },
           {
            "bin_start": 0.1318,
            "bin_end": 0.19169999999999998,
            "count": 35
           },
           {
            "bin_start": 0.19169999999999998,
            "bin_end": 0.2516,
            "count": 18
           },
           {
            "bin_start": 0.2516,
            "bin_end": 0.3115,
            "count": 3
           },
           {
            "bin_start": 0.3115,
            "bin_end": 0.37139999999999995,
            "count": 8
           },
           {
            "bin_start": 0.37139999999999995,
            "bin_end": 0.43129999999999996,
            "count": 10
           },
           {
            "bin_start": 0.43129999999999996,
            "bin_end": 0.49119999999999997,
            "count": 2
           },
           {
            "bin_start": 0.49119999999999997,
            "bin_end": 0.5510999999999999,
            "count": 0
           },
           {
            "bin_start": 0.5510999999999999,
            "bin_end": 0.611,
            "count": 2
           }
          ]
         }
        },
        {
         "name": "free sulfur dioxide",
         "dtype": "float64",
         "stats": {
          "unique_count": 60,
          "nan_count": 0,
          "min": "1.0",
          "max": "72.0",
          "histogram": [
           {
            "bin_start": 1,
            "bin_end": 8.1,
            "count": 464
           },
           {
            "bin_start": 8.1,
            "bin_end": 15.2,
            "count": 460
           },
           {
            "bin_start": 15.2,
            "bin_end": 22.299999999999997,
            "count": 299
           },
           {
            "bin_start": 22.299999999999997,
            "bin_end": 29.4,
            "count": 197
           },
           {
            "bin_start": 29.4,
            "bin_end": 36.5,
            "count": 113
           },
           {
            "bin_start": 36.5,
            "bin_end": 43.599999999999994,
            "count": 39
           },
           {
            "bin_start": 43.599999999999994,
            "bin_end": 50.699999999999996,
            "count": 11
           },
           {
            "bin_start": 50.699999999999996,
            "bin_end": 57.8,
            "count": 12
           },
           {
            "bin_start": 57.8,
            "bin_end": 64.9,
            "count": 0
           },
           {
            "bin_start": 64.9,
            "bin_end": 72,
            "count": 4
           }
          ]
         }
        },
        {
         "name": "total sulfur dioxide",
         "dtype": "float64",
         "stats": {
          "unique_count": 144,
          "nan_count": 0,
          "min": "6.0",
          "max": "289.0",
          "histogram": [
           {
            "bin_start": 6,
            "bin_end": 34.3,
            "count": 730
           },
           {
            "bin_start": 34.3,
            "bin_end": 62.6,
            "count": 471
           },
           {
            "bin_start": 62.6,
            "bin_end": 90.9,
            "count": 221
           },
           {
            "bin_start": 90.9,
            "bin_end": 119.2,
            "count": 113
           },
           {
            "bin_start": 119.2,
            "bin_end": 147.5,
            "count": 52
           },
           {
            "bin_start": 147.5,
            "bin_end": 175.8,
            "count": 10
           },
           {
            "bin_start": 175.8,
            "bin_end": 204.1,
            "count": 0
           },
           {
            "bin_start": 204.1,
            "bin_end": 232.4,
            "count": 0
           },
           {
            "bin_start": 232.4,
            "bin_end": 260.70000000000005,
            "count": 0
           },
           {
            "bin_start": 260.70000000000005,
            "bin_end": 289,
            "count": 2
           }
          ]
         }
        },
        {
         "name": "density",
         "dtype": "float64",
         "stats": {
          "unique_count": 436,
          "nan_count": 0,
          "min": "0.99007",
          "max": "1.00369",
          "histogram": [
           {
            "bin_start": 0.99007,
            "bin_end": 0.991432,
            "count": 8
           },
           {
            "bin_start": 0.991432,
            "bin_end": 0.992794,
            "count": 27
           },
           {
            "bin_start": 0.992794,
            "bin_end": 0.994156,
            "count": 90
           },
           {
            "bin_start": 0.994156,
            "bin_end": 0.995518,
            "count": 250
           },
           {
            "bin_start": 0.995518,
            "bin_end": 0.99688,
            "count": 485
           },
           {
            "bin_start": 0.99688,
            "bin_end": 0.998242,
            "count": 450
           },
           {
            "bin_start": 0.998242,
            "bin_end": 0.9996039999999999,
            "count": 185
           },
           {
            "bin_start": 0.9996039999999999,
            "bin_end": 1.000966,
            "count": 74
           },
           {
            "bin_start": 1.000966,
            "bin_end": 1.0023279999999999,
            "count": 19
           },
           {
            "bin_start": 1.0023279999999999,
            "bin_end": 1.00369,
            "count": 11
           }
          ]
         }
        },
        {
         "name": "pH",
         "dtype": "float64",
         "stats": {
          "unique_count": 89,
          "nan_count": 0,
          "min": "2.74",
          "max": "4.01",
          "histogram": [
           {
            "bin_start": 2.74,
            "bin_end": 2.867,
            "count": 2
           },
           {
            "bin_start": 2.867,
            "bin_end": 2.994,
            "count": 27
           },
           {
            "bin_start": 2.994,
            "bin_end": 3.121,
            "count": 134
           },
           {
            "bin_start": 3.121,
            "bin_end": 3.248,
            "count": 361
           },
           {
            "bin_start": 3.248,
            "bin_end": 3.375,
            "count": 555
           },
           {
            "bin_start": 3.375,
            "bin_end": 3.502,
            "count": 352
           },
           {
            "bin_start": 3.502,
            "bin_end": 3.6289999999999996,
            "count": 132
           },
           {
            "bin_start": 3.6289999999999996,
            "bin_end": 3.756,
            "count": 29
           },
           {
            "bin_start": 3.756,
            "bin_end": 3.883,
            "count": 3
           },
           {
            "bin_start": 3.883,
            "bin_end": 4.01,
            "count": 4
           }
          ]
         }
        },
        {
         "name": "sulphates",
         "dtype": "float64",
         "stats": {
          "unique_count": 96,
          "nan_count": 0,
          "min": "0.33",
          "max": "2.0",
          "histogram": [
           {
            "bin_start": 0.33,
            "bin_end": 0.497,
            "count": 151
           },
           {
            "bin_start": 0.497,
            "bin_end": 0.6639999999999999,
            "count": 855
           },
           {
            "bin_start": 0.6639999999999999,
            "bin_end": 0.831,
            "count": 416
           },
           {
            "bin_start": 0.831,
            "bin_end": 0.998,
            "count": 118
           },
           {
            "bin_start": 0.998,
            "bin_end": 1.165,
            "count": 32
           },
           {
            "bin_start": 1.165,
            "bin_end": 1.3319999999999999,
            "count": 15
           },
           {
            "bin_start": 1.3319999999999999,
            "bin_end": 1.4989999999999999,
            "count": 4
           },
           {
            "bin_start": 1.4989999999999999,
            "bin_end": 1.666,
            "count": 4
           },
           {
            "bin_start": 1.666,
            "bin_end": 1.833,
            "count": 0
           },
           {
            "bin_start": 1.833,
            "bin_end": 2,
            "count": 4
           }
          ]
         }
        },
        {
         "name": "alcohol",
         "dtype": "float64",
         "stats": {
          "unique_count": 65,
          "nan_count": 0,
          "min": "8.4",
          "max": "14.9",
          "histogram": [
           {
            "bin_start": 8.4,
            "bin_end": 9.05,
            "count": 37
           },
           {
            "bin_start": 9.05,
            "bin_end": 9.700000000000001,
            "count": 515
           },
           {
            "bin_start": 9.700000000000001,
            "bin_end": 10.350000000000001,
            "count": 323
           },
           {
            "bin_start": 10.350000000000001,
            "bin_end": 11,
            "count": 257
           },
           {
            "bin_start": 11,
            "bin_end": 11.65,
            "count": 232
           },
           {
            "bin_start": 11.65,
            "bin_end": 12.3,
            "count": 119
           },
           {
            "bin_start": 12.3,
            "bin_end": 12.95,
            "count": 87
           },
           {
            "bin_start": 12.95,
            "bin_end": 13.600000000000001,
            "count": 21
           },
           {
            "bin_start": 13.600000000000001,
            "bin_end": 14.25,
            "count": 7
           },
           {
            "bin_start": 14.25,
            "bin_end": 14.9,
            "count": 1
           }
          ]
         }
        },
        {
         "name": "quality",
         "dtype": "int64",
         "stats": {
          "unique_count": 6,
          "nan_count": 0,
          "min": "3",
          "max": "8",
          "histogram": [
           {
            "bin_start": 3,
            "bin_end": 3.5,
            "count": 10
           },
           {
            "bin_start": 3.5,
            "bin_end": 4,
            "count": 0
           },
           {
            "bin_start": 4,
            "bin_end": 4.5,
            "count": 53
           },
           {
            "bin_start": 4.5,
            "bin_end": 5,
            "count": 0
           },
           {
            "bin_start": 5,
            "bin_end": 5.5,
            "count": 681
           },
           {
            "bin_start": 5.5,
            "bin_end": 6,
            "count": 0
           },
           {
            "bin_start": 6,
            "bin_end": 6.5,
            "count": 638
           },
           {
            "bin_start": 6.5,
            "bin_end": 7,
            "count": 0
           },
           {
            "bin_start": 7,
            "bin_end": 7.5,
            "count": 199
           },
           {
            "bin_start": 7.5,
            "bin_end": 8,
            "count": 18
           }
          ]
         }
        },
        {
         "name": "_deepnote_index_column",
         "dtype": "int64"
        }
       ],
       "rows": [
        {
         "fixed acidity": 7.4,
         "volatile acidity": 0.7,
         "citric acid": 0,
         "residual sugar": 1.9,
         "chlorides": 0.076,
         "free sulfur dioxide": 11,
         "total sulfur dioxide": 34,
         "density": 0.9978,
         "pH": 3.51,
         "sulphates": 0.56,
         "alcohol": 9.4,
         "quality": 5,
         "_deepnote_index_column": 0
        },
        {
         "fixed acidity": 7.8,
         "volatile acidity": 0.88,
         "citric acid": 0,
         "residual sugar": 2.6,
         "chlorides": 0.098,
         "free sulfur dioxide": 25,
         "total sulfur dioxide": 67,
         "density": 0.9968,
         "pH": 3.2,
         "sulphates": 0.68,
         "alcohol": 9.8,
         "quality": 5,
         "_deepnote_index_column": 1
        },
        {
         "fixed acidity": 7.8,
         "volatile acidity": 0.76,
         "citric acid": 0.04,
         "residual sugar": 2.3,
         "chlorides": 0.092,
         "free sulfur dioxide": 15,
         "total sulfur dioxide": 54,
         "density": 0.997,
         "pH": 3.26,
         "sulphates": 0.65,
         "alcohol": 9.8,
         "quality": 5,
         "_deepnote_index_column": 2
        },
        {
         "fixed acidity": 11.2,
         "volatile acidity": 0.28,
         "citric acid": 0.56,
         "residual sugar": 1.9,
         "chlorides": 0.075,
         "free sulfur dioxide": 17,
         "total sulfur dioxide": 60,
         "density": 0.998,
         "pH": 3.16,
         "sulphates": 0.58,
         "alcohol": 9.8,
         "quality": 6,
         "_deepnote_index_column": 3
        },
        {
         "fixed acidity": 7.4,
         "volatile acidity": 0.7,
         "citric acid": 0,
         "residual sugar": 1.9,
         "chlorides": 0.076,
         "free sulfur dioxide": 11,
         "total sulfur dioxide": 34,
         "density": 0.9978,
         "pH": 3.51,
         "sulphates": 0.56,
         "alcohol": 9.4,
         "quality": 5,
         "_deepnote_index_column": 4
        },
        {
         "fixed acidity": 7.4,
         "volatile acidity": 0.66,
         "citric acid": 0,
         "residual sugar": 1.8,
         "chlorides": 0.075,
         "free sulfur dioxide": 13,
         "total sulfur dioxide": 40,
         "density": 0.9978,
         "pH": 3.51,
         "sulphates": 0.56,
         "alcohol": 9.4,
         "quality": 5,
         "_deepnote_index_column": 5
        },
        {
         "fixed acidity": 7.9,
         "volatile acidity": 0.6,
         "citric acid": 0.06,
         "residual sugar": 1.6,
         "chlorides": 0.069,
         "free sulfur dioxide": 15,
         "total sulfur dioxide": 59,
         "density": 0.9964,
         "pH": 3.3,
         "sulphates": 0.46,
         "alcohol": 9.4,
         "quality": 5,
         "_deepnote_index_column": 6
        },
        {
         "fixed acidity": 7.3,
         "volatile acidity": 0.65,
         "citric acid": 0,
         "residual sugar": 1.2,
         "chlorides": 0.065,
         "free sulfur dioxide": 15,
         "total sulfur dioxide": 21,
         "density": 0.9946,
         "pH": 3.39,
         "sulphates": 0.47,
         "alcohol": 10,
         "quality": 7,
         "_deepnote_index_column": 7
        },
        {
         "fixed acidity": 7.8,
         "volatile acidity": 0.58,
         "citric acid": 0.02,
         "residual sugar": 2,
         "chlorides": 0.073,
         "free sulfur dioxide": 9,
         "total sulfur dioxide": 18,
         "density": 0.9968,
         "pH": 3.36,
         "sulphates": 0.57,
         "alcohol": 9.5,
         "quality": 7,
         "_deepnote_index_column": 8
        },
        {
         "fixed acidity": 7.5,
         "volatile acidity": 0.5,
         "citric acid": 0.36,
         "residual sugar": 6.1,
         "chlorides": 0.071,
         "free sulfur dioxide": 17,
         "total sulfur dioxide": 102,
         "density": 0.9978,
         "pH": 3.35,
         "sulphates": 0.8,
         "alcohol": 10.5,
         "quality": 5,
         "_deepnote_index_column": 9
        }
       ]
      },
      "text/plain": "      fixed acidity  volatile acidity  citric acid  residual sugar  chlorides  \\\n0               7.4             0.700         0.00             1.9      0.076   \n1               7.8             0.880         0.00             2.6      0.098   \n2               7.8             0.760         0.04             2.3      0.092   \n3              11.2             0.280         0.56             1.9      0.075   \n4               7.4             0.700         0.00             1.9      0.076   \n...             ...               ...          ...             ...        ...   \n1594            6.2             0.600         0.08             2.0      0.090   \n1595            5.9             0.550         0.10             2.2      0.062   \n1596            6.3             0.510         0.13             2.3      0.076   \n1597            5.9             0.645         0.12             2.0      0.075   \n1598            6.0             0.310         0.47             3.6      0.067   \n\n      free sulfur dioxide  total sulfur dioxide  density    pH  sulphates  \\\n0                    11.0                  34.0  0.99780  3.51       0.56   \n1                    25.0                  67.0  0.99680  3.20       0.68   \n2                    15.0                  54.0  0.99700  3.26       0.65   \n3                    17.0                  60.0  0.99800  3.16       0.58   \n4                    11.0                  34.0  0.99780  3.51       0.56   \n...                   ...                   ...      ...   ...        ...   \n1594                 32.0                  44.0  0.99490  3.45       0.58   \n1595                 39.0                  51.0  0.99512  3.52       0.76   \n1596                 29.0                  40.0  0.99574  3.42       0.75   \n1597                 32.0                  44.0  0.99547  3.57       0.71   \n1598                 18.0                  42.0  0.99549  3.39       0.66   \n\n      alcohol  quality  \n0         9.4        5  \n1         9.8        5  \n2         9.8        5  \n3         9.8        6  \n4         9.4        5  \n...       ...      ...  \n1594     10.5        5  \n1595     11.2        6  \n1596     11.0        6  \n1597     10.2        5  \n1598     11.0        6  \n\n[1599 rows x 12 columns]",
      "text/html": "<div>\n<style scoped>\n    .dataframe tbody tr th:only-of-type {\n        vertical-align: middle;\n    }\n\n    .dataframe tbody tr th {\n        vertical-align: top;\n    }\n\n    .dataframe thead th {\n        text-align: right;\n    }\n</style>\n<table border=\"1\" class=\"dataframe\">\n  <thead>\n    <tr style=\"text-align: right;\">\n      <th></th>\n      <th>fixed acidity</th>\n      <th>volatile acidity</th>\n      <th>citric acid</th>\n      <th>residual sugar</th>\n      <th>chlorides</th>\n      <th>free sulfur dioxide</th>\n      <th>total sulfur dioxide</th>\n      <th>density</th>\n      <th>pH</th>\n      <th>sulphates</th>\n      <th>alcohol</th>\n      <th>quality</th>\n    </tr>\n  </thead>\n  <tbody>\n    <tr>\n      <th>0</th>\n      <td>7.4</td>\n      <td>0.700</td>\n      <td>0.00</td>\n      <td>1.9</td>\n      <td>0.076</td>\n      <td>11.0</td>\n      <td>34.0</td>\n      <td>0.99780</td>\n      <td>3.51</td>\n      <td>0.56</td>\n      <td>9.4</td>\n      <td>5</td>\n    </tr>\n    <tr>\n      <th>1</th>\n      <td>7.8</td>\n      <td>0.880</td>\n      <td>0.00</td>\n      <td>2.6</td>\n      <td>0.098</td>\n      <td>25.0</td>\n      <td>67.0</td>\n      <td>0.99680</td>\n      <td>3.20</td>\n      <td>0.68</td>\n      <td>9.8</td>\n      <td>5</td>\n    </tr>\n    <tr>\n      <th>2</th>\n      <td>7.8</td>\n      <td>0.760</td>\n      <td>0.04</td>\n      <td>2.3</td>\n      <td>0.092</td>\n      <td>15.0</td>\n      <td>54.0</td>\n      <td>0.99700</td>\n      <td>3.26</td>\n      <td>0.65</td>\n      <td>9.8</td>\n      <td>5</td>\n    </tr>\n    <tr>\n      <th>3</th>\n      <td>11.2</td>\n      <td>0.280</td>\n      <td>0.56</td>\n      <td>1.9</td>\n      <td>0.075</td>\n      <td>17.0</td>\n      <td>60.0</td>\n      <td>0.99800</td>\n      <td>3.16</td>\n      <td>0.58</td>\n      <td>9.8</td>\n      <td>6</td>\n    </tr>\n    <tr>\n      <th>4</th>\n      <td>7.4</td>\n      <td>0.700</td>\n      <td>0.00</td>\n      <td>1.9</td>\n      <td>0.076</td>\n      <td>11.0</td>\n      <td>34.0</td>\n      <td>0.99780</td>\n      <td>3.51</td>\n      <td>0.56</td>\n      <td>9.4</td>\n      <td>5</td>\n    </tr>\n    <tr>\n      <th>...</th>\n      <td>...</td>\n      <td>...</td>\n      <td>...</td>\n      <td>...</td>\n      <td>...</td>\n      <td>...</td>\n      <td>...</td>\n      <td>...</td>\n      <td>...</td>\n      <td>...</td>\n      <td>...</td>\n      <td>...</td>\n    </tr>\n    <tr>\n      <th>1594</th>\n      <td>6.2</td>\n      <td>0.600</td>\n      <td>0.08</td>\n      <td>2.0</td>\n      <td>0.090</td>\n      <td>32.0</td>\n      <td>44.0</td>\n      <td>0.99490</td>\n      <td>3.45</td>\n      <td>0.58</td>\n      <td>10.5</td>\n      <td>5</td>\n    </tr>\n    <tr>\n      <th>1595</th>\n      <td>5.9</td>\n      <td>0.550</td>\n      <td>0.10</td>\n      <td>2.2</td>\n      <td>0.062</td>\n      <td>39.0</td>\n      <td>51.0</td>\n      <td>0.99512</td>\n      <td>3.52</td>\n      <td>0.76</td>\n      <td>11.2</td>\n      <td>6</td>\n    </tr>\n    <tr>\n      <th>1596</th>\n      <td>6.3</td>\n      <td>0.510</td>\n      <td>0.13</td>\n      <td>2.3</td>\n      <td>0.076</td>\n      <td>29.0</td>\n      <td>40.0</td>\n      <td>0.99574</td>\n      <td>3.42</td>\n      <td>0.75</td>\n      <td>11.0</td>\n      <td>6</td>\n    </tr>\n    <tr>\n      <th>1597</th>\n      <td>5.9</td>\n      <td>0.645</td>\n      <td>0.12</td>\n      <td>2.0</td>\n      <td>0.075</td>\n      <td>32.0</td>\n      <td>44.0</td>\n      <td>0.99547</td>\n      <td>3.57</td>\n      <td>0.71</td>\n      <td>10.2</td>\n      <td>5</td>\n    </tr>\n    <tr>\n      <th>1598</th>\n      <td>6.0</td>\n      <td>0.310</td>\n      <td>0.47</td>\n      <td>3.6</td>\n      <td>0.067</td>\n      <td>18.0</td>\n      <td>42.0</td>\n      <td>0.99549</td>\n      <td>3.39</td>\n      <td>0.66</td>\n      <td>11.0</td>\n      <td>6</td>\n    </tr>\n  </tbody>\n</table>\n<p>1599 rows × 12 columns</p>\n</div>"
     },
     "metadata": {}
    }
   ]
  },
  {
   "cell_type": "code",
   "metadata": {
    "cell_id": "58e9aeeeef9e470ea1a1fc2894fcd847",
    "tags": [],
    "deepnote_to_be_reexecuted": false,
    "source_hash": "5596d3d3",
    "execution_start": 1649808537017,
    "execution_millis": 202,
    "deepnote_cell_type": "code",
    "deepnote_cell_height": 634.796875
   },
   "source": "white = pd.read_csv(url_wine_white, delimiter=\";\")\nwhite",
   "execution_count": null,
   "outputs": [
    {
     "output_type": "execute_result",
     "execution_count": 10,
     "data": {
      "application/vnd.deepnote.dataframe.v3+json": {
       "column_count": 12,
       "row_count": 4898,
       "columns": [
        {
         "name": "fixed acidity",
         "dtype": "float64",
         "stats": {
          "unique_count": 68,
          "nan_count": 0,
          "min": "3.8",
          "max": "14.2",
          "histogram": [
           {
            "bin_start": 3.8,
            "bin_end": 4.84,
            "count": 23
           },
           {
            "bin_start": 4.84,
            "bin_end": 5.879999999999999,
            "count": 448
           },
           {
            "bin_start": 5.879999999999999,
            "bin_end": 6.919999999999999,
            "count": 2405
           },
           {
            "bin_start": 6.919999999999999,
            "bin_end": 7.959999999999999,
            "count": 1548
           },
           {
            "bin_start": 7.959999999999999,
            "bin_end": 9,
            "count": 385
           },
           {
            "bin_start": 9,
            "bin_end": 10.04,
            "count": 82
           },
           {
            "bin_start": 10.04,
            "bin_end": 11.079999999999998,
            "count": 5
           },
           {
            "bin_start": 11.079999999999998,
            "bin_end": 12.119999999999997,
            "count": 1
           },
           {
            "bin_start": 12.119999999999997,
            "bin_end": 13.159999999999997,
            "count": 0
           },
           {
            "bin_start": 13.159999999999997,
            "bin_end": 14.2,
            "count": 1
           }
          ]
         }
        },
        {
         "name": "volatile acidity",
         "dtype": "float64",
         "stats": {
          "unique_count": 125,
          "nan_count": 0,
          "min": "0.08",
          "max": "1.1",
          "histogram": [
           {
            "bin_start": 0.08,
            "bin_end": 0.182,
            "count": 730
           },
           {
            "bin_start": 0.182,
            "bin_end": 0.28400000000000003,
            "count": 2265
           },
           {
            "bin_start": 0.28400000000000003,
            "bin_end": 0.38600000000000007,
            "count": 1316
           },
           {
            "bin_start": 0.38600000000000007,
            "bin_end": 0.48800000000000004,
            "count": 401
           },
           {
            "bin_start": 0.48800000000000004,
            "bin_end": 0.59,
            "count": 107
           },
           {
            "bin_start": 0.59,
            "bin_end": 0.6920000000000001,
            "count": 58
           },
           {
            "bin_start": 0.6920000000000001,
            "bin_end": 0.794,
            "count": 13
           },
           {
            "bin_start": 0.794,
            "bin_end": 0.896,
            "count": 2
           },
           {
            "bin_start": 0.896,
            "bin_end": 0.998,
            "count": 4
           },
           {
            "bin_start": 0.998,
            "bin_end": 1.1,
            "count": 2
           }
          ]
         }
        },
        {
         "name": "citric acid",
         "dtype": "float64",
         "stats": {
          "unique_count": 87,
          "nan_count": 0,
          "min": "0.0",
          "max": "1.66",
          "histogram": [
           {
            "bin_start": 0,
            "bin_end": 0.16599999999999998,
            "count": 219
           },
           {
            "bin_start": 0.16599999999999998,
            "bin_end": 0.33199999999999996,
            "count": 2651
           },
           {
            "bin_start": 0.33199999999999996,
            "bin_end": 0.49799999999999994,
            "count": 1679
           },
           {
            "bin_start": 0.49799999999999994,
            "bin_end": 0.6639999999999999,
            "count": 245
           },
           {
            "bin_start": 0.6639999999999999,
            "bin_end": 0.8299999999999998,
            "count": 92
           },
           {
            "bin_start": 0.8299999999999998,
            "bin_end": 0.9959999999999999,
            "count": 5
           },
           {
            "bin_start": 0.9959999999999999,
            "bin_end": 1.162,
            "count": 5
           },
           {
            "bin_start": 1.162,
            "bin_end": 1.3279999999999998,
            "count": 1
           },
           {
            "bin_start": 1.3279999999999998,
            "bin_end": 1.4939999999999998,
            "count": 0
           },
           {
            "bin_start": 1.4939999999999998,
            "bin_end": 1.66,
            "count": 1
           }
          ]
         }
        },
        {
         "name": "residual sugar",
         "dtype": "float64",
         "stats": {
          "unique_count": 310,
          "nan_count": 0,
          "min": "0.6",
          "max": "65.8",
          "histogram": [
           {
            "bin_start": 0.6,
            "bin_end": 7.12,
            "count": 2981
           },
           {
            "bin_start": 7.12,
            "bin_end": 13.64,
            "count": 1373
           },
           {
            "bin_start": 13.64,
            "bin_end": 20.160000000000004,
            "count": 527
           },
           {
            "bin_start": 20.160000000000004,
            "bin_end": 26.680000000000003,
            "count": 14
           },
           {
            "bin_start": 26.680000000000003,
            "bin_end": 33.2,
            "count": 2
           },
           {
            "bin_start": 33.2,
            "bin_end": 39.720000000000006,
            "count": 0
           },
           {
            "bin_start": 39.720000000000006,
            "bin_end": 46.24,
            "count": 0
           },
           {
            "bin_start": 46.24,
            "bin_end": 52.760000000000005,
            "count": 0
           },
           {
            "bin_start": 52.760000000000005,
            "bin_end": 59.28000000000001,
            "count": 0
           },
           {
            "bin_start": 59.28000000000001,
            "bin_end": 65.8,
            "count": 1
           }
          ]
         }
        },
        {
         "name": "chlorides",
         "dtype": "float64",
         "stats": {
          "unique_count": 160,
          "nan_count": 0,
          "min": "0.009",
          "max": "0.346",
          "histogram": [
           {
            "bin_start": 0.009,
            "bin_end": 0.042699999999999995,
            "count": 2394
           },
           {
            "bin_start": 0.042699999999999995,
            "bin_end": 0.07639999999999998,
            "count": 2329
           },
           {
            "bin_start": 0.07639999999999998,
            "bin_end": 0.11009999999999998,
            "count": 73
           },
           {
            "bin_start": 0.11009999999999998,
            "bin_end": 0.14379999999999998,
            "count": 35
           },
           {
            "bin_start": 0.14379999999999998,
            "bin_end": 0.1775,
            "count": 39
           },
           {
            "bin_start": 0.1775,
            "bin_end": 0.21119999999999997,
            "count": 18
           },
           {
            "bin_start": 0.21119999999999997,
            "bin_end": 0.24489999999999995,
            "count": 5
           },
           {
            "bin_start": 0.24489999999999995,
            "bin_end": 0.27859999999999996,
            "count": 2
           },
           {
            "bin_start": 0.27859999999999996,
            "bin_end": 0.31229999999999997,
            "count": 2
           },
           {
            "bin_start": 0.31229999999999997,
            "bin_end": 0.346,
            "count": 1
           }
          ]
         }
        },
        {
         "name": "free sulfur dioxide",
         "dtype": "float64",
         "stats": {
          "unique_count": 132,
          "nan_count": 0,
          "min": "2.0",
          "max": "289.0",
          "histogram": [
           {
            "bin_start": 2,
            "bin_end": 30.7,
            "count": 2072
           },
           {
            "bin_start": 30.7,
            "bin_end": 59.4,
            "count": 2440
           },
           {
            "bin_start": 59.4,
            "bin_end": 88.1,
            "count": 359
           },
           {
            "bin_start": 88.1,
            "bin_end": 116.8,
            "count": 19
           },
           {
            "bin_start": 116.8,
            "bin_end": 145.5,
            "count": 6
           },
           {
            "bin_start": 145.5,
            "bin_end": 174.2,
            "count": 1
           },
           {
            "bin_start": 174.2,
            "bin_end": 202.9,
            "count": 0
           },
           {
            "bin_start": 202.9,
            "bin_end": 231.6,
            "count": 0
           },
           {
            "bin_start": 231.6,
            "bin_end": 260.3,
            "count": 0
           },
           {
            "bin_start": 260.3,
            "bin_end": 289,
            "count": 1
           }
          ]
         }
        },
        {
         "name": "total sulfur dioxide",
         "dtype": "float64",
         "stats": {
          "unique_count": 251,
          "nan_count": 0,
          "min": "9.0",
          "max": "440.0",
          "histogram": [
           {
            "bin_start": 9,
            "bin_end": 52.1,
            "count": 52
           },
           {
            "bin_start": 52.1,
            "bin_end": 95.2,
            "count": 682
           },
           {
            "bin_start": 95.2,
            "bin_end": 138.3,
            "count": 1884
           },
           {
            "bin_start": 138.3,
            "bin_end": 181.4,
            "count": 1470
           },
           {
            "bin_start": 181.4,
            "bin_end": 224.5,
            "count": 684
           },
           {
            "bin_start": 224.5,
            "bin_end": 267.6,
            "count": 116
           },
           {
            "bin_start": 267.6,
            "bin_end": 310.7,
            "count": 6
           },
           {
            "bin_start": 310.7,
            "bin_end": 353.8,
            "count": 2
           },
           {
            "bin_start": 353.8,
            "bin_end": 396.90000000000003,
            "count": 1
           },
           {
            "bin_start": 396.90000000000003,
            "bin_end": 440,
            "count": 1
           }
          ]
         }
        },
        {
         "name": "density",
         "dtype": "float64",
         "stats": {
          "unique_count": 890,
          "nan_count": 0,
          "min": "0.98711",
          "max": "1.03898",
          "histogram": [
           {
            "bin_start": 0.98711,
            "bin_end": 0.992297,
            "count": 1578
           },
           {
            "bin_start": 0.992297,
            "bin_end": 0.997484,
            "count": 2562
           },
           {
            "bin_start": 0.997484,
            "bin_end": 1.002671,
            "count": 753
           },
           {
            "bin_start": 1.002671,
            "bin_end": 1.0078580000000001,
            "count": 2
           },
           {
            "bin_start": 1.0078580000000001,
            "bin_end": 1.013045,
            "count": 2
           },
           {
            "bin_start": 1.013045,
            "bin_end": 1.018232,
            "count": 0
           },
           {
            "bin_start": 1.018232,
            "bin_end": 1.023419,
            "count": 0
           },
           {
            "bin_start": 1.023419,
            "bin_end": 1.028606,
            "count": 0
           },
           {
            "bin_start": 1.028606,
            "bin_end": 1.033793,
            "count": 0
           },
           {
            "bin_start": 1.033793,
            "bin_end": 1.03898,
            "count": 1
           }
          ]
         }
        },
        {
         "name": "pH",
         "dtype": "float64",
         "stats": {
          "unique_count": 103,
          "nan_count": 0,
          "min": "2.72",
          "max": "3.82",
          "histogram": [
           {
            "bin_start": 2.72,
            "bin_end": 2.83,
            "count": 10
           },
           {
            "bin_start": 2.83,
            "bin_end": 2.94,
            "count": 162
           },
           {
            "bin_start": 2.94,
            "bin_end": 3.05,
            "count": 631
           },
           {
            "bin_start": 3.05,
            "bin_end": 3.16,
            "count": 1331
           },
           {
            "bin_start": 3.16,
            "bin_end": 3.27,
            "count": 1407
           },
           {
            "bin_start": 3.27,
            "bin_end": 3.38,
            "count": 823
           },
           {
            "bin_start": 3.38,
            "bin_end": 3.4899999999999998,
            "count": 355
           },
           {
            "bin_start": 3.4899999999999998,
            "bin_end": 3.5999999999999996,
            "count": 129
           },
           {
            "bin_start": 3.5999999999999996,
            "bin_end": 3.71,
            "count": 34
           },
           {
            "bin_start": 3.71,
            "bin_end": 3.82,
            "count": 16
           }
          ]
         }
        },
        {
         "name": "sulphates",
         "dtype": "float64",
         "stats": {
          "unique_count": 79,
          "nan_count": 0,
          "min": "0.22",
          "max": "1.08",
          "histogram": [
           {
            "bin_start": 0.22,
            "bin_end": 0.306,
            "count": 83
           },
           {
            "bin_start": 0.306,
            "bin_end": 0.392,
            "count": 931
           },
           {
            "bin_start": 0.392,
            "bin_end": 0.478,
            "count": 1440
           },
           {
            "bin_start": 0.478,
            "bin_end": 0.5640000000000001,
            "count": 1402
           },
           {
            "bin_start": 0.5640000000000001,
            "bin_end": 0.65,
            "count": 595
           },
           {
            "bin_start": 0.65,
            "bin_end": 0.736,
            "count": 263
           },
           {
            "bin_start": 0.736,
            "bin_end": 0.8220000000000001,
            "count": 134
           },
           {
            "bin_start": 0.8220000000000001,
            "bin_end": 0.908,
            "count": 26
           },
           {
            "bin_start": 0.908,
            "bin_end": 0.994,
            "count": 20
           },
           {
            "bin_start": 0.994,
            "bin_end": 1.08,
            "count": 4
           }
          ]
         }
        },
        {
         "name": "alcohol",
         "dtype": "float64",
         "stats": {
          "unique_count": 103,
          "nan_count": 0,
          "min": "8.0",
          "max": "14.2",
          "histogram": [
           {
            "bin_start": 8,
            "bin_end": 8.62,
            "count": 37
           },
           {
            "bin_start": 8.62,
            "bin_end": 9.24,
            "count": 808
           },
           {
            "bin_start": 9.24,
            "bin_end": 9.86,
            "count": 969
           },
           {
            "bin_start": 9.86,
            "bin_end": 10.48,
            "count": 761
           },
           {
            "bin_start": 10.48,
            "bin_end": 11.1,
            "count": 765
           },
           {
            "bin_start": 11.1,
            "bin_end": 11.719999999999999,
            "count": 625
           },
           {
            "bin_start": 11.719999999999999,
            "bin_end": 12.34,
            "count": 427
           },
           {
            "bin_start": 12.34,
            "bin_end": 12.959999999999999,
            "count": 368
           },
           {
            "bin_start": 12.959999999999999,
            "bin_end": 13.579999999999998,
            "count": 110
           },
           {
            "bin_start": 13.579999999999998,
            "bin_end": 14.2,
            "count": 28
           }
          ]
         }
        },
        {
         "name": "quality",
         "dtype": "int64",
         "stats": {
          "unique_count": 7,
          "nan_count": 0,
          "min": "3",
          "max": "9",
          "histogram": [
           {
            "bin_start": 3,
            "bin_end": 3.6,
            "count": 20
           },
           {
            "bin_start": 3.6,
            "bin_end": 4.2,
            "count": 163
           },
           {
            "bin_start": 4.2,
            "bin_end": 4.8,
            "count": 0
           },
           {
            "bin_start": 4.8,
            "bin_end": 5.4,
            "count": 1457
           },
           {
            "bin_start": 5.4,
            "bin_end": 6,
            "count": 0
           },
           {
            "bin_start": 6,
            "bin_end": 6.6,
            "count": 2198
           },
           {
            "bin_start": 6.6,
            "bin_end": 7.2,
            "count": 880
           },
           {
            "bin_start": 7.2,
            "bin_end": 7.8,
            "count": 0
           },
           {
            "bin_start": 7.8,
            "bin_end": 8.399999999999999,
            "count": 175
           },
           {
            "bin_start": 8.399999999999999,
            "bin_end": 9,
            "count": 5
           }
          ]
         }
        },
        {
         "name": "_deepnote_index_column",
         "dtype": "int64"
        }
       ],
       "rows": [
        {
         "fixed acidity": 7,
         "volatile acidity": 0.27,
         "citric acid": 0.36,
         "residual sugar": 20.7,
         "chlorides": 0.045,
         "free sulfur dioxide": 45,
         "total sulfur dioxide": 170,
         "density": 1.001,
         "pH": 3,
         "sulphates": 0.45,
         "alcohol": 8.8,
         "quality": 6,
         "_deepnote_index_column": 0
        },
        {
         "fixed acidity": 6.3,
         "volatile acidity": 0.3,
         "citric acid": 0.34,
         "residual sugar": 1.6,
         "chlorides": 0.049,
         "free sulfur dioxide": 14,
         "total sulfur dioxide": 132,
         "density": 0.994,
         "pH": 3.3,
         "sulphates": 0.49,
         "alcohol": 9.5,
         "quality": 6,
         "_deepnote_index_column": 1
        },
        {
         "fixed acidity": 8.1,
         "volatile acidity": 0.28,
         "citric acid": 0.4,
         "residual sugar": 6.9,
         "chlorides": 0.05,
         "free sulfur dioxide": 30,
         "total sulfur dioxide": 97,
         "density": 0.9951,
         "pH": 3.26,
         "sulphates": 0.44,
         "alcohol": 10.1,
         "quality": 6,
         "_deepnote_index_column": 2
        },
        {
         "fixed acidity": 7.2,
         "volatile acidity": 0.23,
         "citric acid": 0.32,
         "residual sugar": 8.5,
         "chlorides": 0.058,
         "free sulfur dioxide": 47,
         "total sulfur dioxide": 186,
         "density": 0.9956,
         "pH": 3.19,
         "sulphates": 0.4,
         "alcohol": 9.9,
         "quality": 6,
         "_deepnote_index_column": 3
        },
        {
         "fixed acidity": 7.2,
         "volatile acidity": 0.23,
         "citric acid": 0.32,
         "residual sugar": 8.5,
         "chlorides": 0.058,
         "free sulfur dioxide": 47,
         "total sulfur dioxide": 186,
         "density": 0.9956,
         "pH": 3.19,
         "sulphates": 0.4,
         "alcohol": 9.9,
         "quality": 6,
         "_deepnote_index_column": 4
        },
        {
         "fixed acidity": 8.1,
         "volatile acidity": 0.28,
         "citric acid": 0.4,
         "residual sugar": 6.9,
         "chlorides": 0.05,
         "free sulfur dioxide": 30,
         "total sulfur dioxide": 97,
         "density": 0.9951,
         "pH": 3.26,
         "sulphates": 0.44,
         "alcohol": 10.1,
         "quality": 6,
         "_deepnote_index_column": 5
        },
        {
         "fixed acidity": 6.2,
         "volatile acidity": 0.32,
         "citric acid": 0.16,
         "residual sugar": 7,
         "chlorides": 0.045,
         "free sulfur dioxide": 30,
         "total sulfur dioxide": 136,
         "density": 0.9949,
         "pH": 3.18,
         "sulphates": 0.47,
         "alcohol": 9.6,
         "quality": 6,
         "_deepnote_index_column": 6
        },
        {
         "fixed acidity": 7,
         "volatile acidity": 0.27,
         "citric acid": 0.36,
         "residual sugar": 20.7,
         "chlorides": 0.045,
         "free sulfur dioxide": 45,
         "total sulfur dioxide": 170,
         "density": 1.001,
         "pH": 3,
         "sulphates": 0.45,
         "alcohol": 8.8,
         "quality": 6,
         "_deepnote_index_column": 7
        },
        {
         "fixed acidity": 6.3,
         "volatile acidity": 0.3,
         "citric acid": 0.34,
         "residual sugar": 1.6,
         "chlorides": 0.049,
         "free sulfur dioxide": 14,
         "total sulfur dioxide": 132,
         "density": 0.994,
         "pH": 3.3,
         "sulphates": 0.49,
         "alcohol": 9.5,
         "quality": 6,
         "_deepnote_index_column": 8
        },
        {
         "fixed acidity": 8.1,
         "volatile acidity": 0.22,
         "citric acid": 0.43,
         "residual sugar": 1.5,
         "chlorides": 0.044,
         "free sulfur dioxide": 28,
         "total sulfur dioxide": 129,
         "density": 0.9938,
         "pH": 3.22,
         "sulphates": 0.45,
         "alcohol": 11,
         "quality": 6,
         "_deepnote_index_column": 9
        }
       ]
      },
      "text/plain": "      fixed acidity  volatile acidity  citric acid  residual sugar  chlorides  \\\n0               7.0              0.27         0.36            20.7      0.045   \n1               6.3              0.30         0.34             1.6      0.049   \n2               8.1              0.28         0.40             6.9      0.050   \n3               7.2              0.23         0.32             8.5      0.058   \n4               7.2              0.23         0.32             8.5      0.058   \n...             ...               ...          ...             ...        ...   \n4893            6.2              0.21         0.29             1.6      0.039   \n4894            6.6              0.32         0.36             8.0      0.047   \n4895            6.5              0.24         0.19             1.2      0.041   \n4896            5.5              0.29         0.30             1.1      0.022   \n4897            6.0              0.21         0.38             0.8      0.020   \n\n      free sulfur dioxide  total sulfur dioxide  density    pH  sulphates  \\\n0                    45.0                 170.0  1.00100  3.00       0.45   \n1                    14.0                 132.0  0.99400  3.30       0.49   \n2                    30.0                  97.0  0.99510  3.26       0.44   \n3                    47.0                 186.0  0.99560  3.19       0.40   \n4                    47.0                 186.0  0.99560  3.19       0.40   \n...                   ...                   ...      ...   ...        ...   \n4893                 24.0                  92.0  0.99114  3.27       0.50   \n4894                 57.0                 168.0  0.99490  3.15       0.46   \n4895                 30.0                 111.0  0.99254  2.99       0.46   \n4896                 20.0                 110.0  0.98869  3.34       0.38   \n4897                 22.0                  98.0  0.98941  3.26       0.32   \n\n      alcohol  quality  \n0         8.8        6  \n1         9.5        6  \n2        10.1        6  \n3         9.9        6  \n4         9.9        6  \n...       ...      ...  \n4893     11.2        6  \n4894      9.6        5  \n4895      9.4        6  \n4896     12.8        7  \n4897     11.8        6  \n\n[4898 rows x 12 columns]",
      "text/html": "<div>\n<style scoped>\n    .dataframe tbody tr th:only-of-type {\n        vertical-align: middle;\n    }\n\n    .dataframe tbody tr th {\n        vertical-align: top;\n    }\n\n    .dataframe thead th {\n        text-align: right;\n    }\n</style>\n<table border=\"1\" class=\"dataframe\">\n  <thead>\n    <tr style=\"text-align: right;\">\n      <th></th>\n      <th>fixed acidity</th>\n      <th>volatile acidity</th>\n      <th>citric acid</th>\n      <th>residual sugar</th>\n      <th>chlorides</th>\n      <th>free sulfur dioxide</th>\n      <th>total sulfur dioxide</th>\n      <th>density</th>\n      <th>pH</th>\n      <th>sulphates</th>\n      <th>alcohol</th>\n      <th>quality</th>\n    </tr>\n  </thead>\n  <tbody>\n    <tr>\n      <th>0</th>\n      <td>7.0</td>\n      <td>0.27</td>\n      <td>0.36</td>\n      <td>20.7</td>\n      <td>0.045</td>\n      <td>45.0</td>\n      <td>170.0</td>\n      <td>1.00100</td>\n      <td>3.00</td>\n      <td>0.45</td>\n      <td>8.8</td>\n      <td>6</td>\n    </tr>\n    <tr>\n      <th>1</th>\n      <td>6.3</td>\n      <td>0.30</td>\n      <td>0.34</td>\n      <td>1.6</td>\n      <td>0.049</td>\n      <td>14.0</td>\n      <td>132.0</td>\n      <td>0.99400</td>\n      <td>3.30</td>\n      <td>0.49</td>\n      <td>9.5</td>\n      <td>6</td>\n    </tr>\n    <tr>\n      <th>2</th>\n      <td>8.1</td>\n      <td>0.28</td>\n      <td>0.40</td>\n      <td>6.9</td>\n      <td>0.050</td>\n      <td>30.0</td>\n      <td>97.0</td>\n      <td>0.99510</td>\n      <td>3.26</td>\n      <td>0.44</td>\n      <td>10.1</td>\n      <td>6</td>\n    </tr>\n    <tr>\n      <th>3</th>\n      <td>7.2</td>\n      <td>0.23</td>\n      <td>0.32</td>\n      <td>8.5</td>\n      <td>0.058</td>\n      <td>47.0</td>\n      <td>186.0</td>\n      <td>0.99560</td>\n      <td>3.19</td>\n      <td>0.40</td>\n      <td>9.9</td>\n      <td>6</td>\n    </tr>\n    <tr>\n      <th>4</th>\n      <td>7.2</td>\n      <td>0.23</td>\n      <td>0.32</td>\n      <td>8.5</td>\n      <td>0.058</td>\n      <td>47.0</td>\n      <td>186.0</td>\n      <td>0.99560</td>\n      <td>3.19</td>\n      <td>0.40</td>\n      <td>9.9</td>\n      <td>6</td>\n    </tr>\n    <tr>\n      <th>...</th>\n      <td>...</td>\n      <td>...</td>\n      <td>...</td>\n      <td>...</td>\n      <td>...</td>\n      <td>...</td>\n      <td>...</td>\n      <td>...</td>\n      <td>...</td>\n      <td>...</td>\n      <td>...</td>\n      <td>...</td>\n    </tr>\n    <tr>\n      <th>4893</th>\n      <td>6.2</td>\n      <td>0.21</td>\n      <td>0.29</td>\n      <td>1.6</td>\n      <td>0.039</td>\n      <td>24.0</td>\n      <td>92.0</td>\n      <td>0.99114</td>\n      <td>3.27</td>\n      <td>0.50</td>\n      <td>11.2</td>\n      <td>6</td>\n    </tr>\n    <tr>\n      <th>4894</th>\n      <td>6.6</td>\n      <td>0.32</td>\n      <td>0.36</td>\n      <td>8.0</td>\n      <td>0.047</td>\n      <td>57.0</td>\n      <td>168.0</td>\n      <td>0.99490</td>\n      <td>3.15</td>\n      <td>0.46</td>\n      <td>9.6</td>\n      <td>5</td>\n    </tr>\n    <tr>\n      <th>4895</th>\n      <td>6.5</td>\n      <td>0.24</td>\n      <td>0.19</td>\n      <td>1.2</td>\n      <td>0.041</td>\n      <td>30.0</td>\n      <td>111.0</td>\n      <td>0.99254</td>\n      <td>2.99</td>\n      <td>0.46</td>\n      <td>9.4</td>\n      <td>6</td>\n    </tr>\n    <tr>\n      <th>4896</th>\n      <td>5.5</td>\n      <td>0.29</td>\n      <td>0.30</td>\n      <td>1.1</td>\n      <td>0.022</td>\n      <td>20.0</td>\n      <td>110.0</td>\n      <td>0.98869</td>\n      <td>3.34</td>\n      <td>0.38</td>\n      <td>12.8</td>\n      <td>7</td>\n    </tr>\n    <tr>\n      <th>4897</th>\n      <td>6.0</td>\n      <td>0.21</td>\n      <td>0.38</td>\n      <td>0.8</td>\n      <td>0.020</td>\n      <td>22.0</td>\n      <td>98.0</td>\n      <td>0.98941</td>\n      <td>3.26</td>\n      <td>0.32</td>\n      <td>11.8</td>\n      <td>6</td>\n    </tr>\n  </tbody>\n</table>\n<p>4898 rows × 12 columns</p>\n</div>"
     },
     "metadata": {}
    }
   ]
  },
  {
   "cell_type": "markdown",
   "source": "Si uno lo une meramente con un ```red.append(white)``` no va a poder distinguir muy bien la unión",
   "metadata": {
    "cell_id": "dae881b214d64a4382ee329de28c9b96",
    "tags": [],
    "deepnote_cell_type": "markdown",
    "deepnote_cell_height": 52.390625
   }
  },
  {
   "cell_type": "code",
   "metadata": {
    "cell_id": "cb8459128d2b4beab5420acb531cc781",
    "tags": [],
    "deepnote_to_be_reexecuted": false,
    "source_hash": "602858d7",
    "execution_start": 1649808537262,
    "execution_millis": 129,
    "deepnote_cell_type": "code",
    "deepnote_cell_height": 616.796875
   },
   "source": "red.append(white)",
   "execution_count": null,
   "outputs": [
    {
     "output_type": "execute_result",
     "execution_count": 11,
     "data": {
      "application/vnd.deepnote.dataframe.v3+json": {
       "column_count": 12,
       "row_count": 6497,
       "columns": [
        {
         "name": "fixed acidity",
         "dtype": "float64",
         "stats": {
          "unique_count": 106,
          "nan_count": 0,
          "min": "3.8",
          "max": "15.9",
          "histogram": [
           {
            "bin_start": 3.8,
            "bin_end": 5.01,
            "count": 63
           },
           {
            "bin_start": 5.01,
            "bin_end": 6.220000000000001,
            "count": 1151
           },
           {
            "bin_start": 6.220000000000001,
            "bin_end": 7.430000000000001,
            "count": 3248
           },
           {
            "bin_start": 7.430000000000001,
            "bin_end": 8.64,
            "count": 1339
           },
           {
            "bin_start": 8.64,
            "bin_end": 9.850000000000001,
            "count": 382
           },
           {
            "bin_start": 9.850000000000001,
            "bin_end": 11.060000000000002,
            "count": 177
           },
           {
            "bin_start": 11.060000000000002,
            "bin_end": 12.27,
            "count": 82
           },
           {
            "bin_start": 12.27,
            "bin_end": 13.48,
            "count": 41
           },
           {
            "bin_start": 13.48,
            "bin_end": 14.690000000000001,
            "count": 7
           },
           {
            "bin_start": 14.690000000000001,
            "bin_end": 15.9,
            "count": 7
           }
          ]
         }
        },
        {
         "name": "volatile acidity",
         "dtype": "float64",
         "stats": {
          "unique_count": 187,
          "nan_count": 0,
          "min": "0.08",
          "max": "1.58",
          "histogram": [
           {
            "bin_start": 0.08,
            "bin_end": 0.22999999999999998,
            "count": 1580
           },
           {
            "bin_start": 0.22999999999999998,
            "bin_end": 0.38,
            "count": 3002
           },
           {
            "bin_start": 0.38,
            "bin_end": 0.5299999999999999,
            "count": 996
           },
           {
            "bin_start": 0.5299999999999999,
            "bin_end": 0.6799999999999999,
            "count": 606
           },
           {
            "bin_start": 0.6799999999999999,
            "bin_end": 0.83,
            "count": 214
           },
           {
            "bin_start": 0.83,
            "bin_end": 0.9799999999999999,
            "count": 70
           },
           {
            "bin_start": 0.9799999999999999,
            "bin_end": 1.1300000000000001,
            "count": 23
           },
           {
            "bin_start": 1.1300000000000001,
            "bin_end": 1.28,
            "count": 3
           },
           {
            "bin_start": 1.28,
            "bin_end": 1.43,
            "count": 2
           },
           {
            "bin_start": 1.43,
            "bin_end": 1.58,
            "count": 1
           }
          ]
         }
        },
        {
         "name": "citric acid",
         "dtype": "float64",
         "stats": {
          "unique_count": 89,
          "nan_count": 0,
          "min": "0.0",
          "max": "1.66",
          "histogram": [
           {
            "bin_start": 0,
            "bin_end": 0.16599999999999998,
            "count": 766
           },
           {
            "bin_start": 0.16599999999999998,
            "bin_end": 0.33199999999999996,
            "count": 3113
           },
           {
            "bin_start": 0.33199999999999996,
            "bin_end": 0.49799999999999994,
            "count": 2059
           },
           {
            "bin_start": 0.49799999999999994,
            "bin_end": 0.6639999999999999,
            "count": 420
           },
           {
            "bin_start": 0.6639999999999999,
            "bin_end": 0.8299999999999998,
            "count": 126
           },
           {
            "bin_start": 0.8299999999999998,
            "bin_end": 0.9959999999999999,
            "count": 5
           },
           {
            "bin_start": 0.9959999999999999,
            "bin_end": 1.162,
            "count": 6
           },
           {
            "bin_start": 1.162,
            "bin_end": 1.3279999999999998,
            "count": 1
           },
           {
            "bin_start": 1.3279999999999998,
            "bin_end": 1.4939999999999998,
            "count": 0
           },
           {
            "bin_start": 1.4939999999999998,
            "bin_end": 1.66,
            "count": 1
           }
          ]
         }
        },
        {
         "name": "residual sugar",
         "dtype": "float64",
         "stats": {
          "unique_count": 316,
          "nan_count": 0,
          "min": "0.6",
          "max": "65.8",
          "histogram": [
           {
            "bin_start": 0.6,
            "bin_end": 7.12,
            "count": 4551
           },
           {
            "bin_start": 7.12,
            "bin_end": 13.64,
            "count": 1396
           },
           {
            "bin_start": 13.64,
            "bin_end": 20.160000000000004,
            "count": 533
           },
           {
            "bin_start": 20.160000000000004,
            "bin_end": 26.680000000000003,
            "count": 14
           },
           {
            "bin_start": 26.680000000000003,
            "bin_end": 33.2,
            "count": 2
           },
           {
            "bin_start": 33.2,
            "bin_end": 39.720000000000006,
            "count": 0
           },
           {
            "bin_start": 39.720000000000006,
            "bin_end": 46.24,
            "count": 0
           },
           {
            "bin_start": 46.24,
            "bin_end": 52.760000000000005,
            "count": 0
           },
           {
            "bin_start": 52.760000000000005,
            "bin_end": 59.28000000000001,
            "count": 0
           },
           {
            "bin_start": 59.28000000000001,
            "bin_end": 65.8,
            "count": 1
           }
          ]
         }
        },
        {
         "name": "chlorides",
         "dtype": "float64",
         "stats": {
          "unique_count": 214,
          "nan_count": 0,
          "min": "0.009",
          "max": "0.611",
          "histogram": [
           {
            "bin_start": 0.009,
            "bin_end": 0.0692,
            "count": 5061
           },
           {
            "bin_start": 0.0692,
            "bin_end": 0.1294,
            "count": 1279
           },
           {
            "bin_start": 0.1294,
            "bin_end": 0.1896,
            "count": 92
           },
           {
            "bin_start": 0.1896,
            "bin_end": 0.2498,
            "count": 34
           },
           {
            "bin_start": 0.2498,
            "bin_end": 0.31,
            "count": 8
           },
           {
            "bin_start": 0.31,
            "bin_end": 0.3702,
            "count": 9
           },
           {
            "bin_start": 0.3702,
            "bin_end": 0.4304,
            "count": 10
           },
           {
            "bin_start": 0.4304,
            "bin_end": 0.4906,
            "count": 2
           },
           {
            "bin_start": 0.4906,
            "bin_end": 0.5508,
            "count": 0
           },
           {
            "bin_start": 0.5508,
            "bin_end": 0.611,
            "count": 2
           }
          ]
         }
        },
        {
         "name": "free sulfur dioxide",
         "dtype": "float64",
         "stats": {
          "unique_count": 135,
          "nan_count": 0,
          "min": "1.0",
          "max": "289.0",
          "histogram": [
           {
            "bin_start": 1,
            "bin_end": 29.8,
            "count": 3392
           },
           {
            "bin_start": 29.8,
            "bin_end": 58.6,
            "count": 2676
           },
           {
            "bin_start": 58.6,
            "bin_end": 87.4,
            "count": 401
           },
           {
            "bin_start": 87.4,
            "bin_end": 116.2,
            "count": 20
           },
           {
            "bin_start": 116.2,
            "bin_end": 145,
            "count": 6
           },
           {
            "bin_start": 145,
            "bin_end": 173.8,
            "count": 1
           },
           {
            "bin_start": 173.8,
            "bin_end": 202.6,
            "count": 0
           },
           {
            "bin_start": 202.6,
            "bin_end": 231.4,
            "count": 0
           },
           {
            "bin_start": 231.4,
            "bin_end": 260.2,
            "count": 0
           },
           {
            "bin_start": 260.2,
            "bin_end": 289,
            "count": 1
           }
          ]
         }
        },
        {
         "name": "total sulfur dioxide",
         "dtype": "float64",
         "stats": {
          "unique_count": 276,
          "nan_count": 0,
          "min": "6.0",
          "max": "440.0",
          "histogram": [
           {
            "bin_start": 6,
            "bin_end": 49.4,
            "count": 1088
           },
           {
            "bin_start": 49.4,
            "bin_end": 92.8,
            "count": 979
           },
           {
            "bin_start": 92.8,
            "bin_end": 136.2,
            "count": 2049
           },
           {
            "bin_start": 136.2,
            "bin_end": 179.6,
            "count": 1514
           },
           {
            "bin_start": 179.6,
            "bin_end": 223,
            "count": 721
           },
           {
            "bin_start": 223,
            "bin_end": 266.4,
            "count": 134
           },
           {
            "bin_start": 266.4,
            "bin_end": 309.8,
            "count": 8
           },
           {
            "bin_start": 309.8,
            "bin_end": 353.2,
            "count": 2
           },
           {
            "bin_start": 353.2,
            "bin_end": 396.59999999999997,
            "count": 1
           },
           {
            "bin_start": 396.59999999999997,
            "bin_end": 440,
            "count": 1
           }
          ]
         }
        },
        {
         "name": "density",
         "dtype": "float64",
         "stats": {
          "unique_count": 998,
          "nan_count": 0,
          "min": "0.98711",
          "max": "1.03898",
          "histogram": [
           {
            "bin_start": 0.98711,
            "bin_end": 0.992297,
            "count": 1599
           },
           {
            "bin_start": 0.992297,
            "bin_end": 0.997484,
            "count": 3645
           },
           {
            "bin_start": 0.997484,
            "bin_end": 1.002671,
            "count": 1241
           },
           {
            "bin_start": 1.002671,
            "bin_end": 1.0078580000000001,
            "count": 9
           },
           {
            "bin_start": 1.0078580000000001,
            "bin_end": 1.013045,
            "count": 2
           },
           {
            "bin_start": 1.013045,
            "bin_end": 1.018232,
            "count": 0
           },
           {
            "bin_start": 1.018232,
            "bin_end": 1.023419,
            "count": 0
           },
           {
            "bin_start": 1.023419,
            "bin_end": 1.028606,
            "count": 0
           },
           {
            "bin_start": 1.028606,
            "bin_end": 1.033793,
            "count": 0
           },
           {
            "bin_start": 1.033793,
            "bin_end": 1.03898,
            "count": 1
           }
          ]
         }
        },
        {
         "name": "pH",
         "dtype": "float64",
         "stats": {
          "unique_count": 108,
          "nan_count": 0,
          "min": "2.72",
          "max": "4.01",
          "histogram": [
           {
            "bin_start": 2.72,
            "bin_end": 2.849,
            "count": 16
           },
           {
            "bin_start": 2.849,
            "bin_end": 2.978,
            "count": 334
           },
           {
            "bin_start": 2.978,
            "bin_end": 3.107,
            "count": 1233
           },
           {
            "bin_start": 3.107,
            "bin_end": 3.2359999999999998,
            "count": 2111
           },
           {
            "bin_start": 3.2359999999999998,
            "bin_end": 3.365,
            "count": 1663
           },
           {
            "bin_start": 3.365,
            "bin_end": 3.4939999999999998,
            "count": 802
           },
           {
            "bin_start": 3.4939999999999998,
            "bin_end": 3.6229999999999998,
            "count": 263
           },
           {
            "bin_start": 3.6229999999999998,
            "bin_end": 3.752,
            "count": 59
           },
           {
            "bin_start": 3.752,
            "bin_end": 3.881,
            "count": 12
           },
           {
            "bin_start": 3.881,
            "bin_end": 4.01,
            "count": 4
           }
          ]
         }
        },
        {
         "name": "sulphates",
         "dtype": "float64",
         "stats": {
          "unique_count": 111,
          "nan_count": 0,
          "min": "0.22",
          "max": "2.0",
          "histogram": [
           {
            "bin_start": 0.22,
            "bin_end": 0.398,
            "count": 1023
           },
           {
            "bin_start": 0.398,
            "bin_end": 0.576,
            "count": 3451
           },
           {
            "bin_start": 0.576,
            "bin_end": 0.754,
            "count": 1540
           },
           {
            "bin_start": 0.754,
            "bin_end": 0.9319999999999999,
            "count": 382
           },
           {
            "bin_start": 0.9319999999999999,
            "bin_end": 1.1099999999999999,
            "count": 66
           },
           {
            "bin_start": 1.1099999999999999,
            "bin_end": 1.288,
            "count": 21
           },
           {
            "bin_start": 1.288,
            "bin_end": 1.466,
            "count": 6
           },
           {
            "bin_start": 1.466,
            "bin_end": 1.644,
            "count": 4
           },
           {
            "bin_start": 1.644,
            "bin_end": 1.8219999999999998,
            "count": 0
           },
           {
            "bin_start": 1.8219999999999998,
            "bin_end": 2,
            "count": 4
           }
          ]
         }
        },
        {
         "name": "alcohol",
         "dtype": "float64",
         "stats": {
          "unique_count": 111,
          "nan_count": 0,
          "min": "8.0",
          "max": "14.9",
          "histogram": [
           {
            "bin_start": 8,
            "bin_end": 8.69,
            "count": 40
           },
           {
            "bin_start": 8.69,
            "bin_end": 9.38,
            "count": 1133
           },
           {
            "bin_start": 9.38,
            "bin_end": 10.07,
            "count": 1662
           },
           {
            "bin_start": 10.07,
            "bin_end": 10.76,
            "count": 1156
           },
           {
            "bin_start": 10.76,
            "bin_end": 11.45,
            "count": 1092
           },
           {
            "bin_start": 11.45,
            "bin_end": 12.14,
            "count": 628
           },
           {
            "bin_start": 12.14,
            "bin_end": 12.83,
            "count": 569
           },
           {
            "bin_start": 12.83,
            "bin_end": 13.52,
            "count": 175
           },
           {
            "bin_start": 13.52,
            "bin_end": 14.21,
            "count": 41
           },
           {
            "bin_start": 14.21,
            "bin_end": 14.9,
            "count": 1
           }
          ]
         }
        },
        {
         "name": "quality",
         "dtype": "int64",
         "stats": {
          "unique_count": 7,
          "nan_count": 0,
          "min": "3",
          "max": "9",
          "histogram": [
           {
            "bin_start": 3,
            "bin_end": 3.6,
            "count": 30
           },
           {
            "bin_start": 3.6,
            "bin_end": 4.2,
            "count": 216
           },
           {
            "bin_start": 4.2,
            "bin_end": 4.8,
            "count": 0
           },
           {
            "bin_start": 4.8,
            "bin_end": 5.4,
            "count": 2138
           },
           {
            "bin_start": 5.4,
            "bin_end": 6,
            "count": 0
           },
           {
            "bin_start": 6,
            "bin_end": 6.6,
            "count": 2836
           },
           {
            "bin_start": 6.6,
            "bin_end": 7.2,
            "count": 1079
           },
           {
            "bin_start": 7.2,
            "bin_end": 7.8,
            "count": 0
           },
           {
            "bin_start": 7.8,
            "bin_end": 8.399999999999999,
            "count": 193
           },
           {
            "bin_start": 8.399999999999999,
            "bin_end": 9,
            "count": 5
           }
          ]
         }
        },
        {
         "name": "_deepnote_index_column",
         "dtype": "int64"
        }
       ],
       "rows": [
        {
         "fixed acidity": 7.4,
         "volatile acidity": 0.7,
         "citric acid": 0,
         "residual sugar": 1.9,
         "chlorides": 0.076,
         "free sulfur dioxide": 11,
         "total sulfur dioxide": 34,
         "density": 0.9978,
         "pH": 3.51,
         "sulphates": 0.56,
         "alcohol": 9.4,
         "quality": 5,
         "_deepnote_index_column": 0
        },
        {
         "fixed acidity": 7.8,
         "volatile acidity": 0.88,
         "citric acid": 0,
         "residual sugar": 2.6,
         "chlorides": 0.098,
         "free sulfur dioxide": 25,
         "total sulfur dioxide": 67,
         "density": 0.9968,
         "pH": 3.2,
         "sulphates": 0.68,
         "alcohol": 9.8,
         "quality": 5,
         "_deepnote_index_column": 1
        },
        {
         "fixed acidity": 7.8,
         "volatile acidity": 0.76,
         "citric acid": 0.04,
         "residual sugar": 2.3,
         "chlorides": 0.092,
         "free sulfur dioxide": 15,
         "total sulfur dioxide": 54,
         "density": 0.997,
         "pH": 3.26,
         "sulphates": 0.65,
         "alcohol": 9.8,
         "quality": 5,
         "_deepnote_index_column": 2
        },
        {
         "fixed acidity": 11.2,
         "volatile acidity": 0.28,
         "citric acid": 0.56,
         "residual sugar": 1.9,
         "chlorides": 0.075,
         "free sulfur dioxide": 17,
         "total sulfur dioxide": 60,
         "density": 0.998,
         "pH": 3.16,
         "sulphates": 0.58,
         "alcohol": 9.8,
         "quality": 6,
         "_deepnote_index_column": 3
        },
        {
         "fixed acidity": 7.4,
         "volatile acidity": 0.7,
         "citric acid": 0,
         "residual sugar": 1.9,
         "chlorides": 0.076,
         "free sulfur dioxide": 11,
         "total sulfur dioxide": 34,
         "density": 0.9978,
         "pH": 3.51,
         "sulphates": 0.56,
         "alcohol": 9.4,
         "quality": 5,
         "_deepnote_index_column": 4
        },
        {
         "fixed acidity": 7.4,
         "volatile acidity": 0.66,
         "citric acid": 0,
         "residual sugar": 1.8,
         "chlorides": 0.075,
         "free sulfur dioxide": 13,
         "total sulfur dioxide": 40,
         "density": 0.9978,
         "pH": 3.51,
         "sulphates": 0.56,
         "alcohol": 9.4,
         "quality": 5,
         "_deepnote_index_column": 5
        },
        {
         "fixed acidity": 7.9,
         "volatile acidity": 0.6,
         "citric acid": 0.06,
         "residual sugar": 1.6,
         "chlorides": 0.069,
         "free sulfur dioxide": 15,
         "total sulfur dioxide": 59,
         "density": 0.9964,
         "pH": 3.3,
         "sulphates": 0.46,
         "alcohol": 9.4,
         "quality": 5,
         "_deepnote_index_column": 6
        },
        {
         "fixed acidity": 7.3,
         "volatile acidity": 0.65,
         "citric acid": 0,
         "residual sugar": 1.2,
         "chlorides": 0.065,
         "free sulfur dioxide": 15,
         "total sulfur dioxide": 21,
         "density": 0.9946,
         "pH": 3.39,
         "sulphates": 0.47,
         "alcohol": 10,
         "quality": 7,
         "_deepnote_index_column": 7
        },
        {
         "fixed acidity": 7.8,
         "volatile acidity": 0.58,
         "citric acid": 0.02,
         "residual sugar": 2,
         "chlorides": 0.073,
         "free sulfur dioxide": 9,
         "total sulfur dioxide": 18,
         "density": 0.9968,
         "pH": 3.36,
         "sulphates": 0.57,
         "alcohol": 9.5,
         "quality": 7,
         "_deepnote_index_column": 8
        },
        {
         "fixed acidity": 7.5,
         "volatile acidity": 0.5,
         "citric acid": 0.36,
         "residual sugar": 6.1,
         "chlorides": 0.071,
         "free sulfur dioxide": 17,
         "total sulfur dioxide": 102,
         "density": 0.9978,
         "pH": 3.35,
         "sulphates": 0.8,
         "alcohol": 10.5,
         "quality": 5,
         "_deepnote_index_column": 9
        }
       ]
      },
      "text/plain": "      fixed acidity  volatile acidity  citric acid  residual sugar  chlorides  \\\n0               7.4              0.70         0.00             1.9      0.076   \n1               7.8              0.88         0.00             2.6      0.098   \n2               7.8              0.76         0.04             2.3      0.092   \n3              11.2              0.28         0.56             1.9      0.075   \n4               7.4              0.70         0.00             1.9      0.076   \n...             ...               ...          ...             ...        ...   \n4893            6.2              0.21         0.29             1.6      0.039   \n4894            6.6              0.32         0.36             8.0      0.047   \n4895            6.5              0.24         0.19             1.2      0.041   \n4896            5.5              0.29         0.30             1.1      0.022   \n4897            6.0              0.21         0.38             0.8      0.020   \n\n      free sulfur dioxide  total sulfur dioxide  density    pH  sulphates  \\\n0                    11.0                  34.0  0.99780  3.51       0.56   \n1                    25.0                  67.0  0.99680  3.20       0.68   \n2                    15.0                  54.0  0.99700  3.26       0.65   \n3                    17.0                  60.0  0.99800  3.16       0.58   \n4                    11.0                  34.0  0.99780  3.51       0.56   \n...                   ...                   ...      ...   ...        ...   \n4893                 24.0                  92.0  0.99114  3.27       0.50   \n4894                 57.0                 168.0  0.99490  3.15       0.46   \n4895                 30.0                 111.0  0.99254  2.99       0.46   \n4896                 20.0                 110.0  0.98869  3.34       0.38   \n4897                 22.0                  98.0  0.98941  3.26       0.32   \n\n      alcohol  quality  \n0         9.4        5  \n1         9.8        5  \n2         9.8        5  \n3         9.8        6  \n4         9.4        5  \n...       ...      ...  \n4893     11.2        6  \n4894      9.6        5  \n4895      9.4        6  \n4896     12.8        7  \n4897     11.8        6  \n\n[6497 rows x 12 columns]",
      "text/html": "<div>\n<style scoped>\n    .dataframe tbody tr th:only-of-type {\n        vertical-align: middle;\n    }\n\n    .dataframe tbody tr th {\n        vertical-align: top;\n    }\n\n    .dataframe thead th {\n        text-align: right;\n    }\n</style>\n<table border=\"1\" class=\"dataframe\">\n  <thead>\n    <tr style=\"text-align: right;\">\n      <th></th>\n      <th>fixed acidity</th>\n      <th>volatile acidity</th>\n      <th>citric acid</th>\n      <th>residual sugar</th>\n      <th>chlorides</th>\n      <th>free sulfur dioxide</th>\n      <th>total sulfur dioxide</th>\n      <th>density</th>\n      <th>pH</th>\n      <th>sulphates</th>\n      <th>alcohol</th>\n      <th>quality</th>\n    </tr>\n  </thead>\n  <tbody>\n    <tr>\n      <th>0</th>\n      <td>7.4</td>\n      <td>0.70</td>\n      <td>0.00</td>\n      <td>1.9</td>\n      <td>0.076</td>\n      <td>11.0</td>\n      <td>34.0</td>\n      <td>0.99780</td>\n      <td>3.51</td>\n      <td>0.56</td>\n      <td>9.4</td>\n      <td>5</td>\n    </tr>\n    <tr>\n      <th>1</th>\n      <td>7.8</td>\n      <td>0.88</td>\n      <td>0.00</td>\n      <td>2.6</td>\n      <td>0.098</td>\n      <td>25.0</td>\n      <td>67.0</td>\n      <td>0.99680</td>\n      <td>3.20</td>\n      <td>0.68</td>\n      <td>9.8</td>\n      <td>5</td>\n    </tr>\n    <tr>\n      <th>2</th>\n      <td>7.8</td>\n      <td>0.76</td>\n      <td>0.04</td>\n      <td>2.3</td>\n      <td>0.092</td>\n      <td>15.0</td>\n      <td>54.0</td>\n      <td>0.99700</td>\n      <td>3.26</td>\n      <td>0.65</td>\n      <td>9.8</td>\n      <td>5</td>\n    </tr>\n    <tr>\n      <th>3</th>\n      <td>11.2</td>\n      <td>0.28</td>\n      <td>0.56</td>\n      <td>1.9</td>\n      <td>0.075</td>\n      <td>17.0</td>\n      <td>60.0</td>\n      <td>0.99800</td>\n      <td>3.16</td>\n      <td>0.58</td>\n      <td>9.8</td>\n      <td>6</td>\n    </tr>\n    <tr>\n      <th>4</th>\n      <td>7.4</td>\n      <td>0.70</td>\n      <td>0.00</td>\n      <td>1.9</td>\n      <td>0.076</td>\n      <td>11.0</td>\n      <td>34.0</td>\n      <td>0.99780</td>\n      <td>3.51</td>\n      <td>0.56</td>\n      <td>9.4</td>\n      <td>5</td>\n    </tr>\n    <tr>\n      <th>...</th>\n      <td>...</td>\n      <td>...</td>\n      <td>...</td>\n      <td>...</td>\n      <td>...</td>\n      <td>...</td>\n      <td>...</td>\n      <td>...</td>\n      <td>...</td>\n      <td>...</td>\n      <td>...</td>\n      <td>...</td>\n    </tr>\n    <tr>\n      <th>4893</th>\n      <td>6.2</td>\n      <td>0.21</td>\n      <td>0.29</td>\n      <td>1.6</td>\n      <td>0.039</td>\n      <td>24.0</td>\n      <td>92.0</td>\n      <td>0.99114</td>\n      <td>3.27</td>\n      <td>0.50</td>\n      <td>11.2</td>\n      <td>6</td>\n    </tr>\n    <tr>\n      <th>4894</th>\n      <td>6.6</td>\n      <td>0.32</td>\n      <td>0.36</td>\n      <td>8.0</td>\n      <td>0.047</td>\n      <td>57.0</td>\n      <td>168.0</td>\n      <td>0.99490</td>\n      <td>3.15</td>\n      <td>0.46</td>\n      <td>9.6</td>\n      <td>5</td>\n    </tr>\n    <tr>\n      <th>4895</th>\n      <td>6.5</td>\n      <td>0.24</td>\n      <td>0.19</td>\n      <td>1.2</td>\n      <td>0.041</td>\n      <td>30.0</td>\n      <td>111.0</td>\n      <td>0.99254</td>\n      <td>2.99</td>\n      <td>0.46</td>\n      <td>9.4</td>\n      <td>6</td>\n    </tr>\n    <tr>\n      <th>4896</th>\n      <td>5.5</td>\n      <td>0.29</td>\n      <td>0.30</td>\n      <td>1.1</td>\n      <td>0.022</td>\n      <td>20.0</td>\n      <td>110.0</td>\n      <td>0.98869</td>\n      <td>3.34</td>\n      <td>0.38</td>\n      <td>12.8</td>\n      <td>7</td>\n    </tr>\n    <tr>\n      <th>4897</th>\n      <td>6.0</td>\n      <td>0.21</td>\n      <td>0.38</td>\n      <td>0.8</td>\n      <td>0.020</td>\n      <td>22.0</td>\n      <td>98.0</td>\n      <td>0.98941</td>\n      <td>3.26</td>\n      <td>0.32</td>\n      <td>11.8</td>\n      <td>6</td>\n    </tr>\n  </tbody>\n</table>\n<p>6497 rows × 12 columns</p>\n</div>"
     },
     "metadata": {}
    }
   ]
  },
  {
   "cell_type": "markdown",
   "source": "Una forma de unirlos es creando una columna de color para poder identificarlos. Se realiza nuevamente la unión de filas como se realizó anteriormente",
   "metadata": {
    "cell_id": "e283df6f0a254b8a983c86262e826d46",
    "tags": [],
    "deepnote_cell_type": "markdown",
    "deepnote_cell_height": 74.796875
   }
  },
  {
   "cell_type": "code",
   "metadata": {
    "cell_id": "4dc929cf312c474882d2a3b9eb732a07",
    "tags": [],
    "deepnote_to_be_reexecuted": false,
    "source_hash": "2f425feb",
    "execution_start": 1649808537394,
    "execution_millis": 119,
    "deepnote_cell_type": "code",
    "deepnote_cell_height": 652.796875
   },
   "source": "red['color'] = 'red'\nwhite['color'] = 'white'\nred.append(white)",
   "execution_count": null,
   "outputs": [
    {
     "output_type": "execute_result",
     "execution_count": 12,
     "data": {
      "application/vnd.deepnote.dataframe.v3+json": {
       "column_count": 13,
       "row_count": 6497,
       "columns": [
        {
         "name": "fixed acidity",
         "dtype": "float64",
         "stats": {
          "unique_count": 106,
          "nan_count": 0,
          "min": "3.8",
          "max": "15.9",
          "histogram": [
           {
            "bin_start": 3.8,
            "bin_end": 5.01,
            "count": 63
           },
           {
            "bin_start": 5.01,
            "bin_end": 6.220000000000001,
            "count": 1151
           },
           {
            "bin_start": 6.220000000000001,
            "bin_end": 7.430000000000001,
            "count": 3248
           },
           {
            "bin_start": 7.430000000000001,
            "bin_end": 8.64,
            "count": 1339
           },
           {
            "bin_start": 8.64,
            "bin_end": 9.850000000000001,
            "count": 382
           },
           {
            "bin_start": 9.850000000000001,
            "bin_end": 11.060000000000002,
            "count": 177
           },
           {
            "bin_start": 11.060000000000002,
            "bin_end": 12.27,
            "count": 82
           },
           {
            "bin_start": 12.27,
            "bin_end": 13.48,
            "count": 41
           },
           {
            "bin_start": 13.48,
            "bin_end": 14.690000000000001,
            "count": 7
           },
           {
            "bin_start": 14.690000000000001,
            "bin_end": 15.9,
            "count": 7
           }
          ]
         }
        },
        {
         "name": "volatile acidity",
         "dtype": "float64",
         "stats": {
          "unique_count": 187,
          "nan_count": 0,
          "min": "0.08",
          "max": "1.58",
          "histogram": [
           {
            "bin_start": 0.08,
            "bin_end": 0.22999999999999998,
            "count": 1580
           },
           {
            "bin_start": 0.22999999999999998,
            "bin_end": 0.38,
            "count": 3002
           },
           {
            "bin_start": 0.38,
            "bin_end": 0.5299999999999999,
            "count": 996
           },
           {
            "bin_start": 0.5299999999999999,
            "bin_end": 0.6799999999999999,
            "count": 606
           },
           {
            "bin_start": 0.6799999999999999,
            "bin_end": 0.83,
            "count": 214
           },
           {
            "bin_start": 0.83,
            "bin_end": 0.9799999999999999,
            "count": 70
           },
           {
            "bin_start": 0.9799999999999999,
            "bin_end": 1.1300000000000001,
            "count": 23
           },
           {
            "bin_start": 1.1300000000000001,
            "bin_end": 1.28,
            "count": 3
           },
           {
            "bin_start": 1.28,
            "bin_end": 1.43,
            "count": 2
           },
           {
            "bin_start": 1.43,
            "bin_end": 1.58,
            "count": 1
           }
          ]
         }
        },
        {
         "name": "citric acid",
         "dtype": "float64",
         "stats": {
          "unique_count": 89,
          "nan_count": 0,
          "min": "0.0",
          "max": "1.66",
          "histogram": [
           {
            "bin_start": 0,
            "bin_end": 0.16599999999999998,
            "count": 766
           },
           {
            "bin_start": 0.16599999999999998,
            "bin_end": 0.33199999999999996,
            "count": 3113
           },
           {
            "bin_start": 0.33199999999999996,
            "bin_end": 0.49799999999999994,
            "count": 2059
           },
           {
            "bin_start": 0.49799999999999994,
            "bin_end": 0.6639999999999999,
            "count": 420
           },
           {
            "bin_start": 0.6639999999999999,
            "bin_end": 0.8299999999999998,
            "count": 126
           },
           {
            "bin_start": 0.8299999999999998,
            "bin_end": 0.9959999999999999,
            "count": 5
           },
           {
            "bin_start": 0.9959999999999999,
            "bin_end": 1.162,
            "count": 6
           },
           {
            "bin_start": 1.162,
            "bin_end": 1.3279999999999998,
            "count": 1
           },
           {
            "bin_start": 1.3279999999999998,
            "bin_end": 1.4939999999999998,
            "count": 0
           },
           {
            "bin_start": 1.4939999999999998,
            "bin_end": 1.66,
            "count": 1
           }
          ]
         }
        },
        {
         "name": "residual sugar",
         "dtype": "float64",
         "stats": {
          "unique_count": 316,
          "nan_count": 0,
          "min": "0.6",
          "max": "65.8",
          "histogram": [
           {
            "bin_start": 0.6,
            "bin_end": 7.12,
            "count": 4551
           },
           {
            "bin_start": 7.12,
            "bin_end": 13.64,
            "count": 1396
           },
           {
            "bin_start": 13.64,
            "bin_end": 20.160000000000004,
            "count": 533
           },
           {
            "bin_start": 20.160000000000004,
            "bin_end": 26.680000000000003,
            "count": 14
           },
           {
            "bin_start": 26.680000000000003,
            "bin_end": 33.2,
            "count": 2
           },
           {
            "bin_start": 33.2,
            "bin_end": 39.720000000000006,
            "count": 0
           },
           {
            "bin_start": 39.720000000000006,
            "bin_end": 46.24,
            "count": 0
           },
           {
            "bin_start": 46.24,
            "bin_end": 52.760000000000005,
            "count": 0
           },
           {
            "bin_start": 52.760000000000005,
            "bin_end": 59.28000000000001,
            "count": 0
           },
           {
            "bin_start": 59.28000000000001,
            "bin_end": 65.8,
            "count": 1
           }
          ]
         }
        },
        {
         "name": "chlorides",
         "dtype": "float64",
         "stats": {
          "unique_count": 214,
          "nan_count": 0,
          "min": "0.009",
          "max": "0.611",
          "histogram": [
           {
            "bin_start": 0.009,
            "bin_end": 0.0692,
            "count": 5061
           },
           {
            "bin_start": 0.0692,
            "bin_end": 0.1294,
            "count": 1279
           },
           {
            "bin_start": 0.1294,
            "bin_end": 0.1896,
            "count": 92
           },
           {
            "bin_start": 0.1896,
            "bin_end": 0.2498,
            "count": 34
           },
           {
            "bin_start": 0.2498,
            "bin_end": 0.31,
            "count": 8
           },
           {
            "bin_start": 0.31,
            "bin_end": 0.3702,
            "count": 9
           },
           {
            "bin_start": 0.3702,
            "bin_end": 0.4304,
            "count": 10
           },
           {
            "bin_start": 0.4304,
            "bin_end": 0.4906,
            "count": 2
           },
           {
            "bin_start": 0.4906,
            "bin_end": 0.5508,
            "count": 0
           },
           {
            "bin_start": 0.5508,
            "bin_end": 0.611,
            "count": 2
           }
          ]
         }
        },
        {
         "name": "free sulfur dioxide",
         "dtype": "float64",
         "stats": {
          "unique_count": 135,
          "nan_count": 0,
          "min": "1.0",
          "max": "289.0",
          "histogram": [
           {
            "bin_start": 1,
            "bin_end": 29.8,
            "count": 3392
           },
           {
            "bin_start": 29.8,
            "bin_end": 58.6,
            "count": 2676
           },
           {
            "bin_start": 58.6,
            "bin_end": 87.4,
            "count": 401
           },
           {
            "bin_start": 87.4,
            "bin_end": 116.2,
            "count": 20
           },
           {
            "bin_start": 116.2,
            "bin_end": 145,
            "count": 6
           },
           {
            "bin_start": 145,
            "bin_end": 173.8,
            "count": 1
           },
           {
            "bin_start": 173.8,
            "bin_end": 202.6,
            "count": 0
           },
           {
            "bin_start": 202.6,
            "bin_end": 231.4,
            "count": 0
           },
           {
            "bin_start": 231.4,
            "bin_end": 260.2,
            "count": 0
           },
           {
            "bin_start": 260.2,
            "bin_end": 289,
            "count": 1
           }
          ]
         }
        },
        {
         "name": "total sulfur dioxide",
         "dtype": "float64",
         "stats": {
          "unique_count": 276,
          "nan_count": 0,
          "min": "6.0",
          "max": "440.0",
          "histogram": [
           {
            "bin_start": 6,
            "bin_end": 49.4,
            "count": 1088
           },
           {
            "bin_start": 49.4,
            "bin_end": 92.8,
            "count": 979
           },
           {
            "bin_start": 92.8,
            "bin_end": 136.2,
            "count": 2049
           },
           {
            "bin_start": 136.2,
            "bin_end": 179.6,
            "count": 1514
           },
           {
            "bin_start": 179.6,
            "bin_end": 223,
            "count": 721
           },
           {
            "bin_start": 223,
            "bin_end": 266.4,
            "count": 134
           },
           {
            "bin_start": 266.4,
            "bin_end": 309.8,
            "count": 8
           },
           {
            "bin_start": 309.8,
            "bin_end": 353.2,
            "count": 2
           },
           {
            "bin_start": 353.2,
            "bin_end": 396.59999999999997,
            "count": 1
           },
           {
            "bin_start": 396.59999999999997,
            "bin_end": 440,
            "count": 1
           }
          ]
         }
        },
        {
         "name": "density",
         "dtype": "float64",
         "stats": {
          "unique_count": 998,
          "nan_count": 0,
          "min": "0.98711",
          "max": "1.03898",
          "histogram": [
           {
            "bin_start": 0.98711,
            "bin_end": 0.992297,
            "count": 1599
           },
           {
            "bin_start": 0.992297,
            "bin_end": 0.997484,
            "count": 3645
           },
           {
            "bin_start": 0.997484,
            "bin_end": 1.002671,
            "count": 1241
           },
           {
            "bin_start": 1.002671,
            "bin_end": 1.0078580000000001,
            "count": 9
           },
           {
            "bin_start": 1.0078580000000001,
            "bin_end": 1.013045,
            "count": 2
           },
           {
            "bin_start": 1.013045,
            "bin_end": 1.018232,
            "count": 0
           },
           {
            "bin_start": 1.018232,
            "bin_end": 1.023419,
            "count": 0
           },
           {
            "bin_start": 1.023419,
            "bin_end": 1.028606,
            "count": 0
           },
           {
            "bin_start": 1.028606,
            "bin_end": 1.033793,
            "count": 0
           },
           {
            "bin_start": 1.033793,
            "bin_end": 1.03898,
            "count": 1
           }
          ]
         }
        },
        {
         "name": "pH",
         "dtype": "float64",
         "stats": {
          "unique_count": 108,
          "nan_count": 0,
          "min": "2.72",
          "max": "4.01",
          "histogram": [
           {
            "bin_start": 2.72,
            "bin_end": 2.849,
            "count": 16
           },
           {
            "bin_start": 2.849,
            "bin_end": 2.978,
            "count": 334
           },
           {
            "bin_start": 2.978,
            "bin_end": 3.107,
            "count": 1233
           },
           {
            "bin_start": 3.107,
            "bin_end": 3.2359999999999998,
            "count": 2111
           },
           {
            "bin_start": 3.2359999999999998,
            "bin_end": 3.365,
            "count": 1663
           },
           {
            "bin_start": 3.365,
            "bin_end": 3.4939999999999998,
            "count": 802
           },
           {
            "bin_start": 3.4939999999999998,
            "bin_end": 3.6229999999999998,
            "count": 263
           },
           {
            "bin_start": 3.6229999999999998,
            "bin_end": 3.752,
            "count": 59
           },
           {
            "bin_start": 3.752,
            "bin_end": 3.881,
            "count": 12
           },
           {
            "bin_start": 3.881,
            "bin_end": 4.01,
            "count": 4
           }
          ]
         }
        },
        {
         "name": "sulphates",
         "dtype": "float64",
         "stats": {
          "unique_count": 111,
          "nan_count": 0,
          "min": "0.22",
          "max": "2.0",
          "histogram": [
           {
            "bin_start": 0.22,
            "bin_end": 0.398,
            "count": 1023
           },
           {
            "bin_start": 0.398,
            "bin_end": 0.576,
            "count": 3451
           },
           {
            "bin_start": 0.576,
            "bin_end": 0.754,
            "count": 1540
           },
           {
            "bin_start": 0.754,
            "bin_end": 0.9319999999999999,
            "count": 382
           },
           {
            "bin_start": 0.9319999999999999,
            "bin_end": 1.1099999999999999,
            "count": 66
           },
           {
            "bin_start": 1.1099999999999999,
            "bin_end": 1.288,
            "count": 21
           },
           {
            "bin_start": 1.288,
            "bin_end": 1.466,
            "count": 6
           },
           {
            "bin_start": 1.466,
            "bin_end": 1.644,
            "count": 4
           },
           {
            "bin_start": 1.644,
            "bin_end": 1.8219999999999998,
            "count": 0
           },
           {
            "bin_start": 1.8219999999999998,
            "bin_end": 2,
            "count": 4
           }
          ]
         }
        },
        {
         "name": "alcohol",
         "dtype": "float64",
         "stats": {
          "unique_count": 111,
          "nan_count": 0,
          "min": "8.0",
          "max": "14.9",
          "histogram": [
           {
            "bin_start": 8,
            "bin_end": 8.69,
            "count": 40
           },
           {
            "bin_start": 8.69,
            "bin_end": 9.38,
            "count": 1133
           },
           {
            "bin_start": 9.38,
            "bin_end": 10.07,
            "count": 1662
           },
           {
            "bin_start": 10.07,
            "bin_end": 10.76,
            "count": 1156
           },
           {
            "bin_start": 10.76,
            "bin_end": 11.45,
            "count": 1092
           },
           {
            "bin_start": 11.45,
            "bin_end": 12.14,
            "count": 628
           },
           {
            "bin_start": 12.14,
            "bin_end": 12.83,
            "count": 569
           },
           {
            "bin_start": 12.83,
            "bin_end": 13.52,
            "count": 175
           },
           {
            "bin_start": 13.52,
            "bin_end": 14.21,
            "count": 41
           },
           {
            "bin_start": 14.21,
            "bin_end": 14.9,
            "count": 1
           }
          ]
         }
        },
        {
         "name": "quality",
         "dtype": "int64",
         "stats": {
          "unique_count": 7,
          "nan_count": 0,
          "min": "3",
          "max": "9",
          "histogram": [
           {
            "bin_start": 3,
            "bin_end": 3.6,
            "count": 30
           },
           {
            "bin_start": 3.6,
            "bin_end": 4.2,
            "count": 216
           },
           {
            "bin_start": 4.2,
            "bin_end": 4.8,
            "count": 0
           },
           {
            "bin_start": 4.8,
            "bin_end": 5.4,
            "count": 2138
           },
           {
            "bin_start": 5.4,
            "bin_end": 6,
            "count": 0
           },
           {
            "bin_start": 6,
            "bin_end": 6.6,
            "count": 2836
           },
           {
            "bin_start": 6.6,
            "bin_end": 7.2,
            "count": 1079
           },
           {
            "bin_start": 7.2,
            "bin_end": 7.8,
            "count": 0
           },
           {
            "bin_start": 7.8,
            "bin_end": 8.399999999999999,
            "count": 193
           },
           {
            "bin_start": 8.399999999999999,
            "bin_end": 9,
            "count": 5
           }
          ]
         }
        },
        {
         "name": "color",
         "dtype": "object",
         "stats": {
          "unique_count": 2,
          "nan_count": 0,
          "categories": [
           {
            "name": "white",
            "count": 4898
           },
           {
            "name": "red",
            "count": 1599
           }
          ]
         }
        },
        {
         "name": "_deepnote_index_column",
         "dtype": "int64"
        }
       ],
       "rows": [
        {
         "fixed acidity": 7.4,
         "volatile acidity": 0.7,
         "citric acid": 0,
         "residual sugar": 1.9,
         "chlorides": 0.076,
         "free sulfur dioxide": 11,
         "total sulfur dioxide": 34,
         "density": 0.9978,
         "pH": 3.51,
         "sulphates": 0.56,
         "alcohol": 9.4,
         "quality": 5,
         "color": "red",
         "_deepnote_index_column": 0
        },
        {
         "fixed acidity": 7.8,
         "volatile acidity": 0.88,
         "citric acid": 0,
         "residual sugar": 2.6,
         "chlorides": 0.098,
         "free sulfur dioxide": 25,
         "total sulfur dioxide": 67,
         "density": 0.9968,
         "pH": 3.2,
         "sulphates": 0.68,
         "alcohol": 9.8,
         "quality": 5,
         "color": "red",
         "_deepnote_index_column": 1
        },
        {
         "fixed acidity": 7.8,
         "volatile acidity": 0.76,
         "citric acid": 0.04,
         "residual sugar": 2.3,
         "chlorides": 0.092,
         "free sulfur dioxide": 15,
         "total sulfur dioxide": 54,
         "density": 0.997,
         "pH": 3.26,
         "sulphates": 0.65,
         "alcohol": 9.8,
         "quality": 5,
         "color": "red",
         "_deepnote_index_column": 2
        },
        {
         "fixed acidity": 11.2,
         "volatile acidity": 0.28,
         "citric acid": 0.56,
         "residual sugar": 1.9,
         "chlorides": 0.075,
         "free sulfur dioxide": 17,
         "total sulfur dioxide": 60,
         "density": 0.998,
         "pH": 3.16,
         "sulphates": 0.58,
         "alcohol": 9.8,
         "quality": 6,
         "color": "red",
         "_deepnote_index_column": 3
        },
        {
         "fixed acidity": 7.4,
         "volatile acidity": 0.7,
         "citric acid": 0,
         "residual sugar": 1.9,
         "chlorides": 0.076,
         "free sulfur dioxide": 11,
         "total sulfur dioxide": 34,
         "density": 0.9978,
         "pH": 3.51,
         "sulphates": 0.56,
         "alcohol": 9.4,
         "quality": 5,
         "color": "red",
         "_deepnote_index_column": 4
        },
        {
         "fixed acidity": 7.4,
         "volatile acidity": 0.66,
         "citric acid": 0,
         "residual sugar": 1.8,
         "chlorides": 0.075,
         "free sulfur dioxide": 13,
         "total sulfur dioxide": 40,
         "density": 0.9978,
         "pH": 3.51,
         "sulphates": 0.56,
         "alcohol": 9.4,
         "quality": 5,
         "color": "red",
         "_deepnote_index_column": 5
        },
        {
         "fixed acidity": 7.9,
         "volatile acidity": 0.6,
         "citric acid": 0.06,
         "residual sugar": 1.6,
         "chlorides": 0.069,
         "free sulfur dioxide": 15,
         "total sulfur dioxide": 59,
         "density": 0.9964,
         "pH": 3.3,
         "sulphates": 0.46,
         "alcohol": 9.4,
         "quality": 5,
         "color": "red",
         "_deepnote_index_column": 6
        },
        {
         "fixed acidity": 7.3,
         "volatile acidity": 0.65,
         "citric acid": 0,
         "residual sugar": 1.2,
         "chlorides": 0.065,
         "free sulfur dioxide": 15,
         "total sulfur dioxide": 21,
         "density": 0.9946,
         "pH": 3.39,
         "sulphates": 0.47,
         "alcohol": 10,
         "quality": 7,
         "color": "red",
         "_deepnote_index_column": 7
        },
        {
         "fixed acidity": 7.8,
         "volatile acidity": 0.58,
         "citric acid": 0.02,
         "residual sugar": 2,
         "chlorides": 0.073,
         "free sulfur dioxide": 9,
         "total sulfur dioxide": 18,
         "density": 0.9968,
         "pH": 3.36,
         "sulphates": 0.57,
         "alcohol": 9.5,
         "quality": 7,
         "color": "red",
         "_deepnote_index_column": 8
        },
        {
         "fixed acidity": 7.5,
         "volatile acidity": 0.5,
         "citric acid": 0.36,
         "residual sugar": 6.1,
         "chlorides": 0.071,
         "free sulfur dioxide": 17,
         "total sulfur dioxide": 102,
         "density": 0.9978,
         "pH": 3.35,
         "sulphates": 0.8,
         "alcohol": 10.5,
         "quality": 5,
         "color": "red",
         "_deepnote_index_column": 9
        }
       ]
      },
      "text/plain": "      fixed acidity  volatile acidity  citric acid  residual sugar  chlorides  \\\n0               7.4              0.70         0.00             1.9      0.076   \n1               7.8              0.88         0.00             2.6      0.098   \n2               7.8              0.76         0.04             2.3      0.092   \n3              11.2              0.28         0.56             1.9      0.075   \n4               7.4              0.70         0.00             1.9      0.076   \n...             ...               ...          ...             ...        ...   \n4893            6.2              0.21         0.29             1.6      0.039   \n4894            6.6              0.32         0.36             8.0      0.047   \n4895            6.5              0.24         0.19             1.2      0.041   \n4896            5.5              0.29         0.30             1.1      0.022   \n4897            6.0              0.21         0.38             0.8      0.020   \n\n      free sulfur dioxide  total sulfur dioxide  density    pH  sulphates  \\\n0                    11.0                  34.0  0.99780  3.51       0.56   \n1                    25.0                  67.0  0.99680  3.20       0.68   \n2                    15.0                  54.0  0.99700  3.26       0.65   \n3                    17.0                  60.0  0.99800  3.16       0.58   \n4                    11.0                  34.0  0.99780  3.51       0.56   \n...                   ...                   ...      ...   ...        ...   \n4893                 24.0                  92.0  0.99114  3.27       0.50   \n4894                 57.0                 168.0  0.99490  3.15       0.46   \n4895                 30.0                 111.0  0.99254  2.99       0.46   \n4896                 20.0                 110.0  0.98869  3.34       0.38   \n4897                 22.0                  98.0  0.98941  3.26       0.32   \n\n      alcohol  quality  color  \n0         9.4        5    red  \n1         9.8        5    red  \n2         9.8        5    red  \n3         9.8        6    red  \n4         9.4        5    red  \n...       ...      ...    ...  \n4893     11.2        6  white  \n4894      9.6        5  white  \n4895      9.4        6  white  \n4896     12.8        7  white  \n4897     11.8        6  white  \n\n[6497 rows x 13 columns]",
      "text/html": "<div>\n<style scoped>\n    .dataframe tbody tr th:only-of-type {\n        vertical-align: middle;\n    }\n\n    .dataframe tbody tr th {\n        vertical-align: top;\n    }\n\n    .dataframe thead th {\n        text-align: right;\n    }\n</style>\n<table border=\"1\" class=\"dataframe\">\n  <thead>\n    <tr style=\"text-align: right;\">\n      <th></th>\n      <th>fixed acidity</th>\n      <th>volatile acidity</th>\n      <th>citric acid</th>\n      <th>residual sugar</th>\n      <th>chlorides</th>\n      <th>free sulfur dioxide</th>\n      <th>total sulfur dioxide</th>\n      <th>density</th>\n      <th>pH</th>\n      <th>sulphates</th>\n      <th>alcohol</th>\n      <th>quality</th>\n      <th>color</th>\n    </tr>\n  </thead>\n  <tbody>\n    <tr>\n      <th>0</th>\n      <td>7.4</td>\n      <td>0.70</td>\n      <td>0.00</td>\n      <td>1.9</td>\n      <td>0.076</td>\n      <td>11.0</td>\n      <td>34.0</td>\n      <td>0.99780</td>\n      <td>3.51</td>\n      <td>0.56</td>\n      <td>9.4</td>\n      <td>5</td>\n      <td>red</td>\n    </tr>\n    <tr>\n      <th>1</th>\n      <td>7.8</td>\n      <td>0.88</td>\n      <td>0.00</td>\n      <td>2.6</td>\n      <td>0.098</td>\n      <td>25.0</td>\n      <td>67.0</td>\n      <td>0.99680</td>\n      <td>3.20</td>\n      <td>0.68</td>\n      <td>9.8</td>\n      <td>5</td>\n      <td>red</td>\n    </tr>\n    <tr>\n      <th>2</th>\n      <td>7.8</td>\n      <td>0.76</td>\n      <td>0.04</td>\n      <td>2.3</td>\n      <td>0.092</td>\n      <td>15.0</td>\n      <td>54.0</td>\n      <td>0.99700</td>\n      <td>3.26</td>\n      <td>0.65</td>\n      <td>9.8</td>\n      <td>5</td>\n      <td>red</td>\n    </tr>\n    <tr>\n      <th>3</th>\n      <td>11.2</td>\n      <td>0.28</td>\n      <td>0.56</td>\n      <td>1.9</td>\n      <td>0.075</td>\n      <td>17.0</td>\n      <td>60.0</td>\n      <td>0.99800</td>\n      <td>3.16</td>\n      <td>0.58</td>\n      <td>9.8</td>\n      <td>6</td>\n      <td>red</td>\n    </tr>\n    <tr>\n      <th>4</th>\n      <td>7.4</td>\n      <td>0.70</td>\n      <td>0.00</td>\n      <td>1.9</td>\n      <td>0.076</td>\n      <td>11.0</td>\n      <td>34.0</td>\n      <td>0.99780</td>\n      <td>3.51</td>\n      <td>0.56</td>\n      <td>9.4</td>\n      <td>5</td>\n      <td>red</td>\n    </tr>\n    <tr>\n      <th>...</th>\n      <td>...</td>\n      <td>...</td>\n      <td>...</td>\n      <td>...</td>\n      <td>...</td>\n      <td>...</td>\n      <td>...</td>\n      <td>...</td>\n      <td>...</td>\n      <td>...</td>\n      <td>...</td>\n      <td>...</td>\n      <td>...</td>\n    </tr>\n    <tr>\n      <th>4893</th>\n      <td>6.2</td>\n      <td>0.21</td>\n      <td>0.29</td>\n      <td>1.6</td>\n      <td>0.039</td>\n      <td>24.0</td>\n      <td>92.0</td>\n      <td>0.99114</td>\n      <td>3.27</td>\n      <td>0.50</td>\n      <td>11.2</td>\n      <td>6</td>\n      <td>white</td>\n    </tr>\n    <tr>\n      <th>4894</th>\n      <td>6.6</td>\n      <td>0.32</td>\n      <td>0.36</td>\n      <td>8.0</td>\n      <td>0.047</td>\n      <td>57.0</td>\n      <td>168.0</td>\n      <td>0.99490</td>\n      <td>3.15</td>\n      <td>0.46</td>\n      <td>9.6</td>\n      <td>5</td>\n      <td>white</td>\n    </tr>\n    <tr>\n      <th>4895</th>\n      <td>6.5</td>\n      <td>0.24</td>\n      <td>0.19</td>\n      <td>1.2</td>\n      <td>0.041</td>\n      <td>30.0</td>\n      <td>111.0</td>\n      <td>0.99254</td>\n      <td>2.99</td>\n      <td>0.46</td>\n      <td>9.4</td>\n      <td>6</td>\n      <td>white</td>\n    </tr>\n    <tr>\n      <th>4896</th>\n      <td>5.5</td>\n      <td>0.29</td>\n      <td>0.30</td>\n      <td>1.1</td>\n      <td>0.022</td>\n      <td>20.0</td>\n      <td>110.0</td>\n      <td>0.98869</td>\n      <td>3.34</td>\n      <td>0.38</td>\n      <td>12.8</td>\n      <td>7</td>\n      <td>white</td>\n    </tr>\n    <tr>\n      <th>4897</th>\n      <td>6.0</td>\n      <td>0.21</td>\n      <td>0.38</td>\n      <td>0.8</td>\n      <td>0.020</td>\n      <td>22.0</td>\n      <td>98.0</td>\n      <td>0.98941</td>\n      <td>3.26</td>\n      <td>0.32</td>\n      <td>11.8</td>\n      <td>6</td>\n      <td>white</td>\n    </tr>\n  </tbody>\n</table>\n<p>6497 rows × 13 columns</p>\n</div>"
     },
     "metadata": {}
    }
   ]
  },
  {
   "cell_type": "markdown",
   "source": "Otra forma de realizarlo es a través de ```concat```",
   "metadata": {
    "cell_id": "f2ce5c6b615e4e72b224226214cb01f9",
    "tags": [],
    "deepnote_cell_type": "markdown",
    "deepnote_cell_height": 52.390625
   }
  },
  {
   "cell_type": "code",
   "metadata": {
    "cell_id": "8987d9ba8d36432f913a78b2b06f1b36",
    "tags": [],
    "deepnote_to_be_reexecuted": false,
    "source_hash": "77c4b7da",
    "execution_start": 1649808537562,
    "execution_millis": 84,
    "deepnote_cell_type": "code",
    "deepnote_cell_height": 616.796875
   },
   "source": "pd.concat([white,red])",
   "execution_count": null,
   "outputs": [
    {
     "output_type": "execute_result",
     "execution_count": 13,
     "data": {
      "application/vnd.deepnote.dataframe.v3+json": {
       "column_count": 13,
       "row_count": 6497,
       "columns": [
        {
         "name": "fixed acidity",
         "dtype": "float64",
         "stats": {
          "unique_count": 106,
          "nan_count": 0,
          "min": "3.8",
          "max": "15.9",
          "histogram": [
           {
            "bin_start": 3.8,
            "bin_end": 5.01,
            "count": 63
           },
           {
            "bin_start": 5.01,
            "bin_end": 6.220000000000001,
            "count": 1151
           },
           {
            "bin_start": 6.220000000000001,
            "bin_end": 7.430000000000001,
            "count": 3248
           },
           {
            "bin_start": 7.430000000000001,
            "bin_end": 8.64,
            "count": 1339
           },
           {
            "bin_start": 8.64,
            "bin_end": 9.850000000000001,
            "count": 382
           },
           {
            "bin_start": 9.850000000000001,
            "bin_end": 11.060000000000002,
            "count": 177
           },
           {
            "bin_start": 11.060000000000002,
            "bin_end": 12.27,
            "count": 82
           },
           {
            "bin_start": 12.27,
            "bin_end": 13.48,
            "count": 41
           },
           {
            "bin_start": 13.48,
            "bin_end": 14.690000000000001,
            "count": 7
           },
           {
            "bin_start": 14.690000000000001,
            "bin_end": 15.9,
            "count": 7
           }
          ]
         }
        },
        {
         "name": "volatile acidity",
         "dtype": "float64",
         "stats": {
          "unique_count": 187,
          "nan_count": 0,
          "min": "0.08",
          "max": "1.58",
          "histogram": [
           {
            "bin_start": 0.08,
            "bin_end": 0.22999999999999998,
            "count": 1580
           },
           {
            "bin_start": 0.22999999999999998,
            "bin_end": 0.38,
            "count": 3002
           },
           {
            "bin_start": 0.38,
            "bin_end": 0.5299999999999999,
            "count": 996
           },
           {
            "bin_start": 0.5299999999999999,
            "bin_end": 0.6799999999999999,
            "count": 606
           },
           {
            "bin_start": 0.6799999999999999,
            "bin_end": 0.83,
            "count": 214
           },
           {
            "bin_start": 0.83,
            "bin_end": 0.9799999999999999,
            "count": 70
           },
           {
            "bin_start": 0.9799999999999999,
            "bin_end": 1.1300000000000001,
            "count": 23
           },
           {
            "bin_start": 1.1300000000000001,
            "bin_end": 1.28,
            "count": 3
           },
           {
            "bin_start": 1.28,
            "bin_end": 1.43,
            "count": 2
           },
           {
            "bin_start": 1.43,
            "bin_end": 1.58,
            "count": 1
           }
          ]
         }
        },
        {
         "name": "citric acid",
         "dtype": "float64",
         "stats": {
          "unique_count": 89,
          "nan_count": 0,
          "min": "0.0",
          "max": "1.66",
          "histogram": [
           {
            "bin_start": 0,
            "bin_end": 0.16599999999999998,
            "count": 766
           },
           {
            "bin_start": 0.16599999999999998,
            "bin_end": 0.33199999999999996,
            "count": 3113
           },
           {
            "bin_start": 0.33199999999999996,
            "bin_end": 0.49799999999999994,
            "count": 2059
           },
           {
            "bin_start": 0.49799999999999994,
            "bin_end": 0.6639999999999999,
            "count": 420
           },
           {
            "bin_start": 0.6639999999999999,
            "bin_end": 0.8299999999999998,
            "count": 126
           },
           {
            "bin_start": 0.8299999999999998,
            "bin_end": 0.9959999999999999,
            "count": 5
           },
           {
            "bin_start": 0.9959999999999999,
            "bin_end": 1.162,
            "count": 6
           },
           {
            "bin_start": 1.162,
            "bin_end": 1.3279999999999998,
            "count": 1
           },
           {
            "bin_start": 1.3279999999999998,
            "bin_end": 1.4939999999999998,
            "count": 0
           },
           {
            "bin_start": 1.4939999999999998,
            "bin_end": 1.66,
            "count": 1
           }
          ]
         }
        },
        {
         "name": "residual sugar",
         "dtype": "float64",
         "stats": {
          "unique_count": 316,
          "nan_count": 0,
          "min": "0.6",
          "max": "65.8",
          "histogram": [
           {
            "bin_start": 0.6,
            "bin_end": 7.12,
            "count": 4551
           },
           {
            "bin_start": 7.12,
            "bin_end": 13.64,
            "count": 1396
           },
           {
            "bin_start": 13.64,
            "bin_end": 20.160000000000004,
            "count": 533
           },
           {
            "bin_start": 20.160000000000004,
            "bin_end": 26.680000000000003,
            "count": 14
           },
           {
            "bin_start": 26.680000000000003,
            "bin_end": 33.2,
            "count": 2
           },
           {
            "bin_start": 33.2,
            "bin_end": 39.720000000000006,
            "count": 0
           },
           {
            "bin_start": 39.720000000000006,
            "bin_end": 46.24,
            "count": 0
           },
           {
            "bin_start": 46.24,
            "bin_end": 52.760000000000005,
            "count": 0
           },
           {
            "bin_start": 52.760000000000005,
            "bin_end": 59.28000000000001,
            "count": 0
           },
           {
            "bin_start": 59.28000000000001,
            "bin_end": 65.8,
            "count": 1
           }
          ]
         }
        },
        {
         "name": "chlorides",
         "dtype": "float64",
         "stats": {
          "unique_count": 214,
          "nan_count": 0,
          "min": "0.009",
          "max": "0.611",
          "histogram": [
           {
            "bin_start": 0.009,
            "bin_end": 0.0692,
            "count": 5061
           },
           {
            "bin_start": 0.0692,
            "bin_end": 0.1294,
            "count": 1279
           },
           {
            "bin_start": 0.1294,
            "bin_end": 0.1896,
            "count": 92
           },
           {
            "bin_start": 0.1896,
            "bin_end": 0.2498,
            "count": 34
           },
           {
            "bin_start": 0.2498,
            "bin_end": 0.31,
            "count": 8
           },
           {
            "bin_start": 0.31,
            "bin_end": 0.3702,
            "count": 9
           },
           {
            "bin_start": 0.3702,
            "bin_end": 0.4304,
            "count": 10
           },
           {
            "bin_start": 0.4304,
            "bin_end": 0.4906,
            "count": 2
           },
           {
            "bin_start": 0.4906,
            "bin_end": 0.5508,
            "count": 0
           },
           {
            "bin_start": 0.5508,
            "bin_end": 0.611,
            "count": 2
           }
          ]
         }
        },
        {
         "name": "free sulfur dioxide",
         "dtype": "float64",
         "stats": {
          "unique_count": 135,
          "nan_count": 0,
          "min": "1.0",
          "max": "289.0",
          "histogram": [
           {
            "bin_start": 1,
            "bin_end": 29.8,
            "count": 3392
           },
           {
            "bin_start": 29.8,
            "bin_end": 58.6,
            "count": 2676
           },
           {
            "bin_start": 58.6,
            "bin_end": 87.4,
            "count": 401
           },
           {
            "bin_start": 87.4,
            "bin_end": 116.2,
            "count": 20
           },
           {
            "bin_start": 116.2,
            "bin_end": 145,
            "count": 6
           },
           {
            "bin_start": 145,
            "bin_end": 173.8,
            "count": 1
           },
           {
            "bin_start": 173.8,
            "bin_end": 202.6,
            "count": 0
           },
           {
            "bin_start": 202.6,
            "bin_end": 231.4,
            "count": 0
           },
           {
            "bin_start": 231.4,
            "bin_end": 260.2,
            "count": 0
           },
           {
            "bin_start": 260.2,
            "bin_end": 289,
            "count": 1
           }
          ]
         }
        },
        {
         "name": "total sulfur dioxide",
         "dtype": "float64",
         "stats": {
          "unique_count": 276,
          "nan_count": 0,
          "min": "6.0",
          "max": "440.0",
          "histogram": [
           {
            "bin_start": 6,
            "bin_end": 49.4,
            "count": 1088
           },
           {
            "bin_start": 49.4,
            "bin_end": 92.8,
            "count": 979
           },
           {
            "bin_start": 92.8,
            "bin_end": 136.2,
            "count": 2049
           },
           {
            "bin_start": 136.2,
            "bin_end": 179.6,
            "count": 1514
           },
           {
            "bin_start": 179.6,
            "bin_end": 223,
            "count": 721
           },
           {
            "bin_start": 223,
            "bin_end": 266.4,
            "count": 134
           },
           {
            "bin_start": 266.4,
            "bin_end": 309.8,
            "count": 8
           },
           {
            "bin_start": 309.8,
            "bin_end": 353.2,
            "count": 2
           },
           {
            "bin_start": 353.2,
            "bin_end": 396.59999999999997,
            "count": 1
           },
           {
            "bin_start": 396.59999999999997,
            "bin_end": 440,
            "count": 1
           }
          ]
         }
        },
        {
         "name": "density",
         "dtype": "float64",
         "stats": {
          "unique_count": 998,
          "nan_count": 0,
          "min": "0.98711",
          "max": "1.03898",
          "histogram": [
           {
            "bin_start": 0.98711,
            "bin_end": 0.992297,
            "count": 1599
           },
           {
            "bin_start": 0.992297,
            "bin_end": 0.997484,
            "count": 3645
           },
           {
            "bin_start": 0.997484,
            "bin_end": 1.002671,
            "count": 1241
           },
           {
            "bin_start": 1.002671,
            "bin_end": 1.0078580000000001,
            "count": 9
           },
           {
            "bin_start": 1.0078580000000001,
            "bin_end": 1.013045,
            "count": 2
           },
           {
            "bin_start": 1.013045,
            "bin_end": 1.018232,
            "count": 0
           },
           {
            "bin_start": 1.018232,
            "bin_end": 1.023419,
            "count": 0
           },
           {
            "bin_start": 1.023419,
            "bin_end": 1.028606,
            "count": 0
           },
           {
            "bin_start": 1.028606,
            "bin_end": 1.033793,
            "count": 0
           },
           {
            "bin_start": 1.033793,
            "bin_end": 1.03898,
            "count": 1
           }
          ]
         }
        },
        {
         "name": "pH",
         "dtype": "float64",
         "stats": {
          "unique_count": 108,
          "nan_count": 0,
          "min": "2.72",
          "max": "4.01",
          "histogram": [
           {
            "bin_start": 2.72,
            "bin_end": 2.849,
            "count": 16
           },
           {
            "bin_start": 2.849,
            "bin_end": 2.978,
            "count": 334
           },
           {
            "bin_start": 2.978,
            "bin_end": 3.107,
            "count": 1233
           },
           {
            "bin_start": 3.107,
            "bin_end": 3.2359999999999998,
            "count": 2111
           },
           {
            "bin_start": 3.2359999999999998,
            "bin_end": 3.365,
            "count": 1663
           },
           {
            "bin_start": 3.365,
            "bin_end": 3.4939999999999998,
            "count": 802
           },
           {
            "bin_start": 3.4939999999999998,
            "bin_end": 3.6229999999999998,
            "count": 263
           },
           {
            "bin_start": 3.6229999999999998,
            "bin_end": 3.752,
            "count": 59
           },
           {
            "bin_start": 3.752,
            "bin_end": 3.881,
            "count": 12
           },
           {
            "bin_start": 3.881,
            "bin_end": 4.01,
            "count": 4
           }
          ]
         }
        },
        {
         "name": "sulphates",
         "dtype": "float64",
         "stats": {
          "unique_count": 111,
          "nan_count": 0,
          "min": "0.22",
          "max": "2.0",
          "histogram": [
           {
            "bin_start": 0.22,
            "bin_end": 0.398,
            "count": 1023
           },
           {
            "bin_start": 0.398,
            "bin_end": 0.576,
            "count": 3451
           },
           {
            "bin_start": 0.576,
            "bin_end": 0.754,
            "count": 1540
           },
           {
            "bin_start": 0.754,
            "bin_end": 0.9319999999999999,
            "count": 382
           },
           {
            "bin_start": 0.9319999999999999,
            "bin_end": 1.1099999999999999,
            "count": 66
           },
           {
            "bin_start": 1.1099999999999999,
            "bin_end": 1.288,
            "count": 21
           },
           {
            "bin_start": 1.288,
            "bin_end": 1.466,
            "count": 6
           },
           {
            "bin_start": 1.466,
            "bin_end": 1.644,
            "count": 4
           },
           {
            "bin_start": 1.644,
            "bin_end": 1.8219999999999998,
            "count": 0
           },
           {
            "bin_start": 1.8219999999999998,
            "bin_end": 2,
            "count": 4
           }
          ]
         }
        },
        {
         "name": "alcohol",
         "dtype": "float64",
         "stats": {
          "unique_count": 111,
          "nan_count": 0,
          "min": "8.0",
          "max": "14.9",
          "histogram": [
           {
            "bin_start": 8,
            "bin_end": 8.69,
            "count": 40
           },
           {
            "bin_start": 8.69,
            "bin_end": 9.38,
            "count": 1133
           },
           {
            "bin_start": 9.38,
            "bin_end": 10.07,
            "count": 1662
           },
           {
            "bin_start": 10.07,
            "bin_end": 10.76,
            "count": 1156
           },
           {
            "bin_start": 10.76,
            "bin_end": 11.45,
            "count": 1092
           },
           {
            "bin_start": 11.45,
            "bin_end": 12.14,
            "count": 628
           },
           {
            "bin_start": 12.14,
            "bin_end": 12.83,
            "count": 569
           },
           {
            "bin_start": 12.83,
            "bin_end": 13.52,
            "count": 175
           },
           {
            "bin_start": 13.52,
            "bin_end": 14.21,
            "count": 41
           },
           {
            "bin_start": 14.21,
            "bin_end": 14.9,
            "count": 1
           }
          ]
         }
        },
        {
         "name": "quality",
         "dtype": "int64",
         "stats": {
          "unique_count": 7,
          "nan_count": 0,
          "min": "3",
          "max": "9",
          "histogram": [
           {
            "bin_start": 3,
            "bin_end": 3.6,
            "count": 30
           },
           {
            "bin_start": 3.6,
            "bin_end": 4.2,
            "count": 216
           },
           {
            "bin_start": 4.2,
            "bin_end": 4.8,
            "count": 0
           },
           {
            "bin_start": 4.8,
            "bin_end": 5.4,
            "count": 2138
           },
           {
            "bin_start": 5.4,
            "bin_end": 6,
            "count": 0
           },
           {
            "bin_start": 6,
            "bin_end": 6.6,
            "count": 2836
           },
           {
            "bin_start": 6.6,
            "bin_end": 7.2,
            "count": 1079
           },
           {
            "bin_start": 7.2,
            "bin_end": 7.8,
            "count": 0
           },
           {
            "bin_start": 7.8,
            "bin_end": 8.399999999999999,
            "count": 193
           },
           {
            "bin_start": 8.399999999999999,
            "bin_end": 9,
            "count": 5
           }
          ]
         }
        },
        {
         "name": "color",
         "dtype": "object",
         "stats": {
          "unique_count": 2,
          "nan_count": 0,
          "categories": [
           {
            "name": "white",
            "count": 4898
           },
           {
            "name": "red",
            "count": 1599
           }
          ]
         }
        },
        {
         "name": "_deepnote_index_column",
         "dtype": "int64"
        }
       ],
       "rows": [
        {
         "fixed acidity": 7,
         "volatile acidity": 0.27,
         "citric acid": 0.36,
         "residual sugar": 20.7,
         "chlorides": 0.045,
         "free sulfur dioxide": 45,
         "total sulfur dioxide": 170,
         "density": 1.001,
         "pH": 3,
         "sulphates": 0.45,
         "alcohol": 8.8,
         "quality": 6,
         "color": "white",
         "_deepnote_index_column": 0
        },
        {
         "fixed acidity": 6.3,
         "volatile acidity": 0.3,
         "citric acid": 0.34,
         "residual sugar": 1.6,
         "chlorides": 0.049,
         "free sulfur dioxide": 14,
         "total sulfur dioxide": 132,
         "density": 0.994,
         "pH": 3.3,
         "sulphates": 0.49,
         "alcohol": 9.5,
         "quality": 6,
         "color": "white",
         "_deepnote_index_column": 1
        },
        {
         "fixed acidity": 8.1,
         "volatile acidity": 0.28,
         "citric acid": 0.4,
         "residual sugar": 6.9,
         "chlorides": 0.05,
         "free sulfur dioxide": 30,
         "total sulfur dioxide": 97,
         "density": 0.9951,
         "pH": 3.26,
         "sulphates": 0.44,
         "alcohol": 10.1,
         "quality": 6,
         "color": "white",
         "_deepnote_index_column": 2
        },
        {
         "fixed acidity": 7.2,
         "volatile acidity": 0.23,
         "citric acid": 0.32,
         "residual sugar": 8.5,
         "chlorides": 0.058,
         "free sulfur dioxide": 47,
         "total sulfur dioxide": 186,
         "density": 0.9956,
         "pH": 3.19,
         "sulphates": 0.4,
         "alcohol": 9.9,
         "quality": 6,
         "color": "white",
         "_deepnote_index_column": 3
        },
        {
         "fixed acidity": 7.2,
         "volatile acidity": 0.23,
         "citric acid": 0.32,
         "residual sugar": 8.5,
         "chlorides": 0.058,
         "free sulfur dioxide": 47,
         "total sulfur dioxide": 186,
         "density": 0.9956,
         "pH": 3.19,
         "sulphates": 0.4,
         "alcohol": 9.9,
         "quality": 6,
         "color": "white",
         "_deepnote_index_column": 4
        },
        {
         "fixed acidity": 8.1,
         "volatile acidity": 0.28,
         "citric acid": 0.4,
         "residual sugar": 6.9,
         "chlorides": 0.05,
         "free sulfur dioxide": 30,
         "total sulfur dioxide": 97,
         "density": 0.9951,
         "pH": 3.26,
         "sulphates": 0.44,
         "alcohol": 10.1,
         "quality": 6,
         "color": "white",
         "_deepnote_index_column": 5
        },
        {
         "fixed acidity": 6.2,
         "volatile acidity": 0.32,
         "citric acid": 0.16,
         "residual sugar": 7,
         "chlorides": 0.045,
         "free sulfur dioxide": 30,
         "total sulfur dioxide": 136,
         "density": 0.9949,
         "pH": 3.18,
         "sulphates": 0.47,
         "alcohol": 9.6,
         "quality": 6,
         "color": "white",
         "_deepnote_index_column": 6
        },
        {
         "fixed acidity": 7,
         "volatile acidity": 0.27,
         "citric acid": 0.36,
         "residual sugar": 20.7,
         "chlorides": 0.045,
         "free sulfur dioxide": 45,
         "total sulfur dioxide": 170,
         "density": 1.001,
         "pH": 3,
         "sulphates": 0.45,
         "alcohol": 8.8,
         "quality": 6,
         "color": "white",
         "_deepnote_index_column": 7
        },
        {
         "fixed acidity": 6.3,
         "volatile acidity": 0.3,
         "citric acid": 0.34,
         "residual sugar": 1.6,
         "chlorides": 0.049,
         "free sulfur dioxide": 14,
         "total sulfur dioxide": 132,
         "density": 0.994,
         "pH": 3.3,
         "sulphates": 0.49,
         "alcohol": 9.5,
         "quality": 6,
         "color": "white",
         "_deepnote_index_column": 8
        },
        {
         "fixed acidity": 8.1,
         "volatile acidity": 0.22,
         "citric acid": 0.43,
         "residual sugar": 1.5,
         "chlorides": 0.044,
         "free sulfur dioxide": 28,
         "total sulfur dioxide": 129,
         "density": 0.9938,
         "pH": 3.22,
         "sulphates": 0.45,
         "alcohol": 11,
         "quality": 6,
         "color": "white",
         "_deepnote_index_column": 9
        }
       ]
      },
      "text/plain": "      fixed acidity  volatile acidity  citric acid  residual sugar  chlorides  \\\n0               7.0             0.270         0.36            20.7      0.045   \n1               6.3             0.300         0.34             1.6      0.049   \n2               8.1             0.280         0.40             6.9      0.050   \n3               7.2             0.230         0.32             8.5      0.058   \n4               7.2             0.230         0.32             8.5      0.058   \n...             ...               ...          ...             ...        ...   \n1594            6.2             0.600         0.08             2.0      0.090   \n1595            5.9             0.550         0.10             2.2      0.062   \n1596            6.3             0.510         0.13             2.3      0.076   \n1597            5.9             0.645         0.12             2.0      0.075   \n1598            6.0             0.310         0.47             3.6      0.067   \n\n      free sulfur dioxide  total sulfur dioxide  density    pH  sulphates  \\\n0                    45.0                 170.0  1.00100  3.00       0.45   \n1                    14.0                 132.0  0.99400  3.30       0.49   \n2                    30.0                  97.0  0.99510  3.26       0.44   \n3                    47.0                 186.0  0.99560  3.19       0.40   \n4                    47.0                 186.0  0.99560  3.19       0.40   \n...                   ...                   ...      ...   ...        ...   \n1594                 32.0                  44.0  0.99490  3.45       0.58   \n1595                 39.0                  51.0  0.99512  3.52       0.76   \n1596                 29.0                  40.0  0.99574  3.42       0.75   \n1597                 32.0                  44.0  0.99547  3.57       0.71   \n1598                 18.0                  42.0  0.99549  3.39       0.66   \n\n      alcohol  quality  color  \n0         8.8        6  white  \n1         9.5        6  white  \n2        10.1        6  white  \n3         9.9        6  white  \n4         9.9        6  white  \n...       ...      ...    ...  \n1594     10.5        5    red  \n1595     11.2        6    red  \n1596     11.0        6    red  \n1597     10.2        5    red  \n1598     11.0        6    red  \n\n[6497 rows x 13 columns]",
      "text/html": "<div>\n<style scoped>\n    .dataframe tbody tr th:only-of-type {\n        vertical-align: middle;\n    }\n\n    .dataframe tbody tr th {\n        vertical-align: top;\n    }\n\n    .dataframe thead th {\n        text-align: right;\n    }\n</style>\n<table border=\"1\" class=\"dataframe\">\n  <thead>\n    <tr style=\"text-align: right;\">\n      <th></th>\n      <th>fixed acidity</th>\n      <th>volatile acidity</th>\n      <th>citric acid</th>\n      <th>residual sugar</th>\n      <th>chlorides</th>\n      <th>free sulfur dioxide</th>\n      <th>total sulfur dioxide</th>\n      <th>density</th>\n      <th>pH</th>\n      <th>sulphates</th>\n      <th>alcohol</th>\n      <th>quality</th>\n      <th>color</th>\n    </tr>\n  </thead>\n  <tbody>\n    <tr>\n      <th>0</th>\n      <td>7.0</td>\n      <td>0.270</td>\n      <td>0.36</td>\n      <td>20.7</td>\n      <td>0.045</td>\n      <td>45.0</td>\n      <td>170.0</td>\n      <td>1.00100</td>\n      <td>3.00</td>\n      <td>0.45</td>\n      <td>8.8</td>\n      <td>6</td>\n      <td>white</td>\n    </tr>\n    <tr>\n      <th>1</th>\n      <td>6.3</td>\n      <td>0.300</td>\n      <td>0.34</td>\n      <td>1.6</td>\n      <td>0.049</td>\n      <td>14.0</td>\n      <td>132.0</td>\n      <td>0.99400</td>\n      <td>3.30</td>\n      <td>0.49</td>\n      <td>9.5</td>\n      <td>6</td>\n      <td>white</td>\n    </tr>\n    <tr>\n      <th>2</th>\n      <td>8.1</td>\n      <td>0.280</td>\n      <td>0.40</td>\n      <td>6.9</td>\n      <td>0.050</td>\n      <td>30.0</td>\n      <td>97.0</td>\n      <td>0.99510</td>\n      <td>3.26</td>\n      <td>0.44</td>\n      <td>10.1</td>\n      <td>6</td>\n      <td>white</td>\n    </tr>\n    <tr>\n      <th>3</th>\n      <td>7.2</td>\n      <td>0.230</td>\n      <td>0.32</td>\n      <td>8.5</td>\n      <td>0.058</td>\n      <td>47.0</td>\n      <td>186.0</td>\n      <td>0.99560</td>\n      <td>3.19</td>\n      <td>0.40</td>\n      <td>9.9</td>\n      <td>6</td>\n      <td>white</td>\n    </tr>\n    <tr>\n      <th>4</th>\n      <td>7.2</td>\n      <td>0.230</td>\n      <td>0.32</td>\n      <td>8.5</td>\n      <td>0.058</td>\n      <td>47.0</td>\n      <td>186.0</td>\n      <td>0.99560</td>\n      <td>3.19</td>\n      <td>0.40</td>\n      <td>9.9</td>\n      <td>6</td>\n      <td>white</td>\n    </tr>\n    <tr>\n      <th>...</th>\n      <td>...</td>\n      <td>...</td>\n      <td>...</td>\n      <td>...</td>\n      <td>...</td>\n      <td>...</td>\n      <td>...</td>\n      <td>...</td>\n      <td>...</td>\n      <td>...</td>\n      <td>...</td>\n      <td>...</td>\n      <td>...</td>\n    </tr>\n    <tr>\n      <th>1594</th>\n      <td>6.2</td>\n      <td>0.600</td>\n      <td>0.08</td>\n      <td>2.0</td>\n      <td>0.090</td>\n      <td>32.0</td>\n      <td>44.0</td>\n      <td>0.99490</td>\n      <td>3.45</td>\n      <td>0.58</td>\n      <td>10.5</td>\n      <td>5</td>\n      <td>red</td>\n    </tr>\n    <tr>\n      <th>1595</th>\n      <td>5.9</td>\n      <td>0.550</td>\n      <td>0.10</td>\n      <td>2.2</td>\n      <td>0.062</td>\n      <td>39.0</td>\n      <td>51.0</td>\n      <td>0.99512</td>\n      <td>3.52</td>\n      <td>0.76</td>\n      <td>11.2</td>\n      <td>6</td>\n      <td>red</td>\n    </tr>\n    <tr>\n      <th>1596</th>\n      <td>6.3</td>\n      <td>0.510</td>\n      <td>0.13</td>\n      <td>2.3</td>\n      <td>0.076</td>\n      <td>29.0</td>\n      <td>40.0</td>\n      <td>0.99574</td>\n      <td>3.42</td>\n      <td>0.75</td>\n      <td>11.0</td>\n      <td>6</td>\n      <td>red</td>\n    </tr>\n    <tr>\n      <th>1597</th>\n      <td>5.9</td>\n      <td>0.645</td>\n      <td>0.12</td>\n      <td>2.0</td>\n      <td>0.075</td>\n      <td>32.0</td>\n      <td>44.0</td>\n      <td>0.99547</td>\n      <td>3.57</td>\n      <td>0.71</td>\n      <td>10.2</td>\n      <td>5</td>\n      <td>red</td>\n    </tr>\n    <tr>\n      <th>1598</th>\n      <td>6.0</td>\n      <td>0.310</td>\n      <td>0.47</td>\n      <td>3.6</td>\n      <td>0.067</td>\n      <td>18.0</td>\n      <td>42.0</td>\n      <td>0.99549</td>\n      <td>3.39</td>\n      <td>0.66</td>\n      <td>11.0</td>\n      <td>6</td>\n      <td>red</td>\n    </tr>\n  </tbody>\n</table>\n<p>6497 rows × 13 columns</p>\n</div>"
     },
     "metadata": {}
    }
   ]
  },
  {
   "cell_type": "markdown",
   "source": "También tenemos la opción de usar ```merge```, pero para eso es necesario emplear dataframes.\n\nCreando df dummies",
   "metadata": {
    "cell_id": "e293c44140504ac5ba20ab47c639a73c",
    "tags": [],
    "deepnote_cell_type": "markdown",
    "deepnote_cell_height": 88.796875
   }
  },
  {
   "cell_type": "code",
   "metadata": {
    "cell_id": "49f9fde2b82949fe801c1f6601d1b128",
    "tags": [],
    "deepnote_to_be_reexecuted": false,
    "source_hash": "820da654",
    "execution_start": 1649808537698,
    "execution_millis": 2,
    "deepnote_cell_type": "code",
    "deepnote_cell_height": 367
   },
   "source": "left = pd.DataFrame({'Key':['key1', 'key2', 'key3'],\n'A':['a1', 'a2', 'a3']})\n\nleft",
   "execution_count": null,
   "outputs": [
    {
     "output_type": "execute_result",
     "execution_count": 14,
     "data": {
      "application/vnd.deepnote.dataframe.v3+json": {
       "column_count": 2,
       "row_count": 3,
       "columns": [
        {
         "name": "Key",
         "dtype": "object",
         "stats": {
          "unique_count": 3,
          "nan_count": 0,
          "categories": [
           {
            "name": "key1",
            "count": 1
           },
           {
            "name": "key2",
            "count": 1
           },
           {
            "name": "key3",
            "count": 1
           }
          ]
         }
        },
        {
         "name": "A",
         "dtype": "object",
         "stats": {
          "unique_count": 3,
          "nan_count": 0,
          "categories": [
           {
            "name": "a1",
            "count": 1
           },
           {
            "name": "a2",
            "count": 1
           },
           {
            "name": "a3",
            "count": 1
           }
          ]
         }
        },
        {
         "name": "_deepnote_index_column",
         "dtype": "int64"
        }
       ],
       "rows": [
        {
         "Key": "key1",
         "A": "a1",
         "_deepnote_index_column": 0
        },
        {
         "Key": "key2",
         "A": "a2",
         "_deepnote_index_column": 1
        },
        {
         "Key": "key3",
         "A": "a3",
         "_deepnote_index_column": 2
        }
       ]
      },
      "text/plain": "    Key   A\n0  key1  a1\n1  key2  a2\n2  key3  a3",
      "text/html": "<div>\n<style scoped>\n    .dataframe tbody tr th:only-of-type {\n        vertical-align: middle;\n    }\n\n    .dataframe tbody tr th {\n        vertical-align: top;\n    }\n\n    .dataframe thead th {\n        text-align: right;\n    }\n</style>\n<table border=\"1\" class=\"dataframe\">\n  <thead>\n    <tr style=\"text-align: right;\">\n      <th></th>\n      <th>Key</th>\n      <th>A</th>\n    </tr>\n  </thead>\n  <tbody>\n    <tr>\n      <th>0</th>\n      <td>key1</td>\n      <td>a1</td>\n    </tr>\n    <tr>\n      <th>1</th>\n      <td>key2</td>\n      <td>a2</td>\n    </tr>\n    <tr>\n      <th>2</th>\n      <td>key3</td>\n      <td>a3</td>\n    </tr>\n  </tbody>\n</table>\n</div>"
     },
     "metadata": {}
    }
   ]
  },
  {
   "cell_type": "code",
   "metadata": {
    "cell_id": "27aab8ccd07b4295a5c9467a834316d1",
    "tags": [],
    "deepnote_to_be_reexecuted": false,
    "source_hash": "a714d792",
    "execution_start": 1649808537743,
    "execution_millis": 2,
    "deepnote_cell_type": "code",
    "deepnote_cell_height": 367
   },
   "source": "right = pd.DataFrame({'Key':['key3', 'key4', 'key5'],\n'B':['b1', 'b2', 'b3'] })\n\nright",
   "execution_count": null,
   "outputs": [
    {
     "output_type": "execute_result",
     "execution_count": 15,
     "data": {
      "application/vnd.deepnote.dataframe.v3+json": {
       "column_count": 2,
       "row_count": 3,
       "columns": [
        {
         "name": "Key",
         "dtype": "object",
         "stats": {
          "unique_count": 3,
          "nan_count": 0,
          "categories": [
           {
            "name": "key3",
            "count": 1
           },
           {
            "name": "key4",
            "count": 1
           },
           {
            "name": "key5",
            "count": 1
           }
          ]
         }
        },
        {
         "name": "B",
         "dtype": "object",
         "stats": {
          "unique_count": 3,
          "nan_count": 0,
          "categories": [
           {
            "name": "b1",
            "count": 1
           },
           {
            "name": "b2",
            "count": 1
           },
           {
            "name": "b3",
            "count": 1
           }
          ]
         }
        },
        {
         "name": "_deepnote_index_column",
         "dtype": "int64"
        }
       ],
       "rows": [
        {
         "Key": "key3",
         "B": "b1",
         "_deepnote_index_column": 0
        },
        {
         "Key": "key4",
         "B": "b2",
         "_deepnote_index_column": 1
        },
        {
         "Key": "key5",
         "B": "b3",
         "_deepnote_index_column": 2
        }
       ]
      },
      "text/plain": "    Key   B\n0  key3  b1\n1  key4  b2\n2  key5  b3",
      "text/html": "<div>\n<style scoped>\n    .dataframe tbody tr th:only-of-type {\n        vertical-align: middle;\n    }\n\n    .dataframe tbody tr th {\n        vertical-align: top;\n    }\n\n    .dataframe thead th {\n        text-align: right;\n    }\n</style>\n<table border=\"1\" class=\"dataframe\">\n  <thead>\n    <tr style=\"text-align: right;\">\n      <th></th>\n      <th>Key</th>\n      <th>B</th>\n    </tr>\n  </thead>\n  <tbody>\n    <tr>\n      <th>0</th>\n      <td>key3</td>\n      <td>b1</td>\n    </tr>\n    <tr>\n      <th>1</th>\n      <td>key4</td>\n      <td>b2</td>\n    </tr>\n    <tr>\n      <th>2</th>\n      <td>key5</td>\n      <td>b3</td>\n    </tr>\n  </tbody>\n</table>\n</div>"
     },
     "metadata": {}
    }
   ]
  },
  {
   "cell_type": "code",
   "metadata": {
    "cell_id": "07aa917045fa406cb13fe19dbbf313d9",
    "tags": [],
    "deepnote_to_be_reexecuted": false,
    "source_hash": "b67ebb52",
    "execution_start": 1649808537744,
    "execution_millis": 45,
    "deepnote_cell_type": "code",
    "deepnote_cell_height": 313
   },
   "source": "pd.merge(left, right, on='Key', how='left')",
   "execution_count": null,
   "outputs": [
    {
     "output_type": "execute_result",
     "execution_count": 16,
     "data": {
      "application/vnd.deepnote.dataframe.v3+json": {
       "column_count": 3,
       "row_count": 3,
       "columns": [
        {
         "name": "Key",
         "dtype": "object",
         "stats": {
          "unique_count": 3,
          "nan_count": 0,
          "categories": [
           {
            "name": "key1",
            "count": 1
           },
           {
            "name": "key2",
            "count": 1
           },
           {
            "name": "key3",
            "count": 1
           }
          ]
         }
        },
        {
         "name": "A",
         "dtype": "object",
         "stats": {
          "unique_count": 3,
          "nan_count": 0,
          "categories": [
           {
            "name": "a1",
            "count": 1
           },
           {
            "name": "a2",
            "count": 1
           },
           {
            "name": "a3",
            "count": 1
           }
          ]
         }
        },
        {
         "name": "B",
         "dtype": "object",
         "stats": {
          "unique_count": 1,
          "nan_count": 2,
          "categories": [
           {
            "name": "b1",
            "count": 1
           },
           {
            "name": "Missing",
            "count": 2
           }
          ]
         }
        },
        {
         "name": "_deepnote_index_column",
         "dtype": "int64"
        }
       ],
       "rows": [
        {
         "Key": "key1",
         "A": "a1",
         "B": "nan",
         "_deepnote_index_column": 0
        },
        {
         "Key": "key2",
         "A": "a2",
         "B": "nan",
         "_deepnote_index_column": 1
        },
        {
         "Key": "key3",
         "A": "a3",
         "B": "b1",
         "_deepnote_index_column": 2
        }
       ]
      },
      "text/plain": "    Key   A    B\n0  key1  a1  NaN\n1  key2  a2  NaN\n2  key3  a3   b1",
      "text/html": "<div>\n<style scoped>\n    .dataframe tbody tr th:only-of-type {\n        vertical-align: middle;\n    }\n\n    .dataframe tbody tr th {\n        vertical-align: top;\n    }\n\n    .dataframe thead th {\n        text-align: right;\n    }\n</style>\n<table border=\"1\" class=\"dataframe\">\n  <thead>\n    <tr style=\"text-align: right;\">\n      <th></th>\n      <th>Key</th>\n      <th>A</th>\n      <th>B</th>\n    </tr>\n  </thead>\n  <tbody>\n    <tr>\n      <th>0</th>\n      <td>key1</td>\n      <td>a1</td>\n      <td>NaN</td>\n    </tr>\n    <tr>\n      <th>1</th>\n      <td>key2</td>\n      <td>a2</td>\n      <td>NaN</td>\n    </tr>\n    <tr>\n      <th>2</th>\n      <td>key3</td>\n      <td>a3</td>\n      <td>b1</td>\n    </tr>\n  </tbody>\n</table>\n</div>"
     },
     "metadata": {}
    }
   ]
  },
  {
   "cell_type": "markdown",
   "source": "Podemos hacer varios tipos de uniones de columnas, como los que se muestran en la imagen. A esto se le conoce como **SQL JOINS**.\n\n![Picture title](image-20220412-173113.png)",
   "metadata": {
    "cell_id": "18c3bd24bfeb4f47a6d216082664d155",
    "tags": [],
    "deepnote_cell_type": "markdown",
    "deepnote_cell_height": 114.78125
   }
  },
  {
   "cell_type": "markdown",
   "source": "## Pandas concat vs append vs join vs merge\n- **Concat** gives the flexibility to join based on the axis( all rows or all columns)\n\n- **Append** is the specific case(axis=0, join='outer') of concat\n\n- **Join** is based on the indexes (set by set_index) on how variable =['left','right','inner','couter']\n\n- **Merge** is based on any particular column each of the two dataframes, this columns are variables on like 'left_on', 'right_on', 'on'\n\nFuente: https://stackoverflow.com/questions/15819050/pandas-dataframe-concat-vs-append\nPara más información, ver: https://pandas.pydata.org/docs/user_guide/merging.html",
   "metadata": {
    "cell_id": "8e77e0fb2ed8423489b0e862dad7fb99",
    "tags": [],
    "deepnote_cell_type": "markdown",
    "deepnote_cell_height": 291
   }
  },
  {
   "cell_type": "markdown",
   "source": "# Pivot tables y cross-tabulations\n\nRetomando el ejemplo de choques en Chicago",
   "metadata": {
    "cell_id": "6e4ea44c02d541a889fb2c434252b808",
    "tags": [],
    "deepnote_cell_type": "markdown",
    "deepnote_cell_height": 93.578125
   }
  },
  {
   "cell_type": "code",
   "metadata": {
    "cell_id": "fcf49d870031452b881d16de379a59fe",
    "tags": [],
    "deepnote_to_be_reexecuted": false,
    "source_hash": "9b82ee11",
    "execution_start": 1649808537787,
    "execution_millis": 1,
    "deepnote_cell_type": "code",
    "deepnote_cell_height": 81
   },
   "source": "import pandas as pd",
   "execution_count": null,
   "outputs": []
  },
  {
   "cell_type": "code",
   "metadata": {
    "cell_id": "a67f8c7d20434eadbf41b75ceeb9a794",
    "tags": [],
    "deepnote_to_be_reexecuted": false,
    "source_hash": "e93cc22d",
    "execution_start": 1649808537788,
    "execution_millis": 23,
    "deepnote_cell_type": "code",
    "deepnote_cell_height": 600
   },
   "source": "df_chicago.groupby(['LIGHTING_CONDITION','REPORT_TYPE','CRASH_HOUR']).agg({'BEAT_OF_OCCURRENCE':'sum',})",
   "execution_count": null,
   "outputs": [
    {
     "output_type": "execute_result",
     "execution_count": 18,
     "data": {
      "application/vnd.deepnote.dataframe.v3+json": {
       "column_count": 1,
       "row_count": 291,
       "columns": [
        {
         "name": "BEAT_OF_OCCURRENCE",
         "dtype": "float64",
         "stats": {
          "unique_count": 288,
          "nan_count": 0,
          "min": "114.0",
          "max": "1623055.0",
          "histogram": [
           {
            "bin_start": 114,
            "bin_end": 162408.1,
            "count": 245
           },
           {
            "bin_start": 162408.1,
            "bin_end": 324702.2,
            "count": 13
           },
           {
            "bin_start": 324702.2,
            "bin_end": 486996.30000000005,
            "count": 10
           },
           {
            "bin_start": 486996.30000000005,
            "bin_end": 649290.4,
            "count": 5
           },
           {
            "bin_start": 649290.4,
            "bin_end": 811584.5,
            "count": 7
           },
           {
            "bin_start": 811584.5,
            "bin_end": 973878.6000000001,
            "count": 4
           },
           {
            "bin_start": 973878.6000000001,
            "bin_end": 1136172.7,
            "count": 2
           },
           {
            "bin_start": 1136172.7,
            "bin_end": 1298466.8,
            "count": 1
           },
           {
            "bin_start": 1298466.8,
            "bin_end": 1460760.9000000001,
            "count": 3
           },
           {
            "bin_start": 1460760.9000000001,
            "bin_end": 1623055,
            "count": 1
           }
          ]
         }
        },
        {
         "name": "_deepnote_index_column",
         "dtype": "object"
        }
       ],
       "rows": [
        {
         "BEAT_OF_OCCURRENCE": 1614,
         "_deepnote_index_column": "('DARKNESS', 'AMENDED', 20)"
        },
        {
         "BEAT_OF_OCCURRENCE": 64739,
         "_deepnote_index_column": "('DARKNESS', 'NOT ON SCENE (DESK REPORT)', 0)"
        },
        {
         "BEAT_OF_OCCURRENCE": 60086,
         "_deepnote_index_column": "('DARKNESS', 'NOT ON SCENE (DESK REPORT)', 1)"
        },
        {
         "BEAT_OF_OCCURRENCE": 36251,
         "_deepnote_index_column": "('DARKNESS', 'NOT ON SCENE (DESK REPORT)', 2)"
        },
        {
         "BEAT_OF_OCCURRENCE": 39172,
         "_deepnote_index_column": "('DARKNESS', 'NOT ON SCENE (DESK REPORT)', 3)"
        },
        {
         "BEAT_OF_OCCURRENCE": 33159,
         "_deepnote_index_column": "('DARKNESS', 'NOT ON SCENE (DESK REPORT)', 4)"
        },
        {
         "BEAT_OF_OCCURRENCE": 20983,
         "_deepnote_index_column": "('DARKNESS', 'NOT ON SCENE (DESK REPORT)', 5)"
        },
        {
         "BEAT_OF_OCCURRENCE": 14994,
         "_deepnote_index_column": "('DARKNESS', 'NOT ON SCENE (DESK REPORT)', 6)"
        },
        {
         "BEAT_OF_OCCURRENCE": 9421,
         "_deepnote_index_column": "('DARKNESS', 'NOT ON SCENE (DESK REPORT)', 7)"
        },
        {
         "BEAT_OF_OCCURRENCE": 1632,
         "_deepnote_index_column": "('DARKNESS', 'NOT ON SCENE (DESK REPORT)', 8)"
        }
       ]
      },
      "text/plain": "                                                          BEAT_OF_OCCURRENCE\nLIGHTING_CONDITION REPORT_TYPE                CRASH_HOUR                    \nDARKNESS           AMENDED                    20                      1614.0\n                   NOT ON SCENE (DESK REPORT) 0                      64739.0\n                                              1                      60086.0\n                                              2                      36251.0\n                                              3                      39172.0\n...                                                                      ...\nUNKNOWN            ON SCENE                   19                      4735.0\n                                              20                      8113.0\n                                              21                      6122.0\n                                              22                      9699.0\n                                              23                      3176.0\n\n[291 rows x 1 columns]",
      "text/html": "<div>\n<style scoped>\n    .dataframe tbody tr th:only-of-type {\n        vertical-align: middle;\n    }\n\n    .dataframe tbody tr th {\n        vertical-align: top;\n    }\n\n    .dataframe thead th {\n        text-align: right;\n    }\n</style>\n<table border=\"1\" class=\"dataframe\">\n  <thead>\n    <tr style=\"text-align: right;\">\n      <th></th>\n      <th></th>\n      <th></th>\n      <th>BEAT_OF_OCCURRENCE</th>\n    </tr>\n    <tr>\n      <th>LIGHTING_CONDITION</th>\n      <th>REPORT_TYPE</th>\n      <th>CRASH_HOUR</th>\n      <th></th>\n    </tr>\n  </thead>\n  <tbody>\n    <tr>\n      <th rowspan=\"5\" valign=\"top\">DARKNESS</th>\n      <th>AMENDED</th>\n      <th>20</th>\n      <td>1614.0</td>\n    </tr>\n    <tr>\n      <th rowspan=\"4\" valign=\"top\">NOT ON SCENE (DESK REPORT)</th>\n      <th>0</th>\n      <td>64739.0</td>\n    </tr>\n    <tr>\n      <th>1</th>\n      <td>60086.0</td>\n    </tr>\n    <tr>\n      <th>2</th>\n      <td>36251.0</td>\n    </tr>\n    <tr>\n      <th>3</th>\n      <td>39172.0</td>\n    </tr>\n    <tr>\n      <th>...</th>\n      <th>...</th>\n      <th>...</th>\n      <td>...</td>\n    </tr>\n    <tr>\n      <th rowspan=\"5\" valign=\"top\">UNKNOWN</th>\n      <th rowspan=\"5\" valign=\"top\">ON SCENE</th>\n      <th>19</th>\n      <td>4735.0</td>\n    </tr>\n    <tr>\n      <th>20</th>\n      <td>8113.0</td>\n    </tr>\n    <tr>\n      <th>21</th>\n      <td>6122.0</td>\n    </tr>\n    <tr>\n      <th>22</th>\n      <td>9699.0</td>\n    </tr>\n    <tr>\n      <th>23</th>\n      <td>3176.0</td>\n    </tr>\n  </tbody>\n</table>\n<p>291 rows × 1 columns</p>\n</div>"
     },
     "metadata": {}
    }
   ]
  },
  {
   "cell_type": "markdown",
   "source": "Así, con una tabla pivote, nos da la variabilidad de los promedios de acuerdo a las columnas seleccionadas",
   "metadata": {
    "cell_id": "d6bad1678bf64496aeb2afffebda35bf",
    "tags": [],
    "deepnote_cell_type": "markdown",
    "deepnote_cell_height": 74.78125
   }
  },
  {
   "cell_type": "code",
   "metadata": {
    "cell_id": "af35263883a7464599abebf4ca02bfe7",
    "tags": [],
    "deepnote_to_be_reexecuted": false,
    "source_hash": "4a68d044",
    "execution_start": 1649808537822,
    "execution_millis": 160,
    "deepnote_cell_type": "code",
    "deepnote_cell_height": 616.796875
   },
   "source": "pd.pivot_table(df_chicago, index=['LIGHTING_CONDITION', 'REPORT_TYPE'])",
   "execution_count": null,
   "outputs": [
    {
     "output_type": "execute_result",
     "execution_count": 19,
     "data": {
      "application/vnd.deepnote.dataframe.v3+json": {
       "column_count": 18,
       "row_count": 16,
       "columns": [
        {
         "name": "BEAT_OF_OCCURRENCE",
         "dtype": "float64",
         "stats": {
          "unique_count": 16,
          "nan_count": 0,
          "min": "321.5",
          "max": "1614.0",
          "histogram": [
           {
            "bin_start": 321.5,
            "bin_end": 450.75,
            "count": 1
           },
           {
            "bin_start": 450.75,
            "bin_end": 580,
            "count": 0
           },
           {
            "bin_start": 580,
            "bin_end": 709.25,
            "count": 0
           },
           {
            "bin_start": 709.25,
            "bin_end": 838.5,
            "count": 0
           },
           {
            "bin_start": 838.5,
            "bin_end": 967.75,
            "count": 1
           },
           {
            "bin_start": 967.75,
            "bin_end": 1097,
            "count": 0
           },
           {
            "bin_start": 1097,
            "bin_end": 1226.25,
            "count": 6
           },
           {
            "bin_start": 1226.25,
            "bin_end": 1355.5,
            "count": 6
           },
           {
            "bin_start": 1355.5,
            "bin_end": 1484.75,
            "count": 1
           },
           {
            "bin_start": 1484.75,
            "bin_end": 1614,
            "count": 1
           }
          ]
         }
        },
        {
         "name": "CRASH_DAY_OF_WEEK",
         "dtype": "float64",
         "stats": {
          "unique_count": 16,
          "nan_count": 0,
          "min": "3.5",
          "max": "6.333333333333333",
          "histogram": [
           {
            "bin_start": 3.5,
            "bin_end": 3.783333333333333,
            "count": 1
           },
           {
            "bin_start": 3.783333333333333,
            "bin_end": 4.066666666666666,
            "count": 5
           },
           {
            "bin_start": 4.066666666666666,
            "bin_end": 4.35,
            "count": 8
           },
           {
            "bin_start": 4.35,
            "bin_end": 4.633333333333333,
            "count": 0
           },
           {
            "bin_start": 4.633333333333333,
            "bin_end": 4.916666666666666,
            "count": 0
           },
           {
            "bin_start": 4.916666666666666,
            "bin_end": 5.2,
            "count": 1
           },
           {
            "bin_start": 5.2,
            "bin_end": 5.483333333333333,
            "count": 0
           },
           {
            "bin_start": 5.483333333333333,
            "bin_end": 5.766666666666667,
            "count": 0
           },
           {
            "bin_start": 5.766666666666667,
            "bin_end": 6.05,
            "count": 0
           },
           {
            "bin_start": 6.05,
            "bin_end": 6.333333333333333,
            "count": 1
           }
          ]
         }
        },
        {
         "name": "CRASH_HOUR",
         "dtype": "float64",
         "stats": {
          "unique_count": 15,
          "nan_count": 0,
          "min": "9.266968325791856",
          "max": "22.0",
          "histogram": [
           {
            "bin_start": 9.266968325791856,
            "bin_end": 10.540271493212671,
            "count": 2
           },
           {
            "bin_start": 10.540271493212671,
            "bin_end": 11.813574660633485,
            "count": 0
           },
           {
            "bin_start": 11.813574660633485,
            "bin_end": 13.086877828054298,
            "count": 6
           },
           {
            "bin_start": 13.086877828054298,
            "bin_end": 14.360180995475114,
            "count": 1
           },
           {
            "bin_start": 14.360180995475114,
            "bin_end": 15.633484162895929,
            "count": 1
           },
           {
            "bin_start": 15.633484162895929,
            "bin_end": 16.906787330316742,
            "count": 3
           },
           {
            "bin_start": 16.906787330316742,
            "bin_end": 18.18009049773756,
            "count": 0
           },
           {
            "bin_start": 18.18009049773756,
            "bin_end": 19.453393665158373,
            "count": 0
           },
           {
            "bin_start": 19.453393665158373,
            "bin_end": 20.726696832579186,
            "count": 2
           },
           {
            "bin_start": 20.726696832579186,
            "bin_end": 22,
            "count": 1
           }
          ]
         }
        },
        {
         "name": "CRASH_MONTH",
         "dtype": "float64",
         "stats": {
          "unique_count": 15,
          "nan_count": 0,
          "min": "4.333333333333333",
          "max": "7.406952965235174",
          "histogram": [
           {
            "bin_start": 4.333333333333333,
            "bin_end": 4.640695296523517,
            "count": 1
           },
           {
            "bin_start": 4.640695296523517,
            "bin_end": 4.948057259713702,
            "count": 0
           },
           {
            "bin_start": 4.948057259713702,
            "bin_end": 5.255419222903885,
            "count": 0
           },
           {
            "bin_start": 5.255419222903885,
            "bin_end": 5.562781186094069,
            "count": 0
           },
           {
            "bin_start": 5.562781186094069,
            "bin_end": 5.870143149284253,
            "count": 0
           },
           {
            "bin_start": 5.870143149284253,
            "bin_end": 6.177505112474438,
            "count": 2
           },
           {
            "bin_start": 6.177505112474438,
            "bin_end": 6.484867075664622,
            "count": 0
           },
           {
            "bin_start": 6.484867075664622,
            "bin_end": 6.792229038854806,
            "count": 4
           },
           {
            "bin_start": 6.792229038854806,
            "bin_end": 7.09959100204499,
            "count": 8
           },
           {
            "bin_start": 7.09959100204499,
            "bin_end": 7.406952965235174,
            "count": 1
           }
          ]
         }
        },
        {
         "name": "INJURIES_FATAL",
         "dtype": "float64",
         "stats": {
          "unique_count": 5,
          "nan_count": 0,
          "min": "0.0",
          "max": "0.3333333333333333",
          "histogram": [
           {
            "bin_start": 0,
            "bin_end": 0.03333333333333333,
            "count": 15
           },
           {
            "bin_start": 0.03333333333333333,
            "bin_end": 0.06666666666666667,
            "count": 0
           },
           {
            "bin_start": 0.06666666666666667,
            "bin_end": 0.1,
            "count": 0
           },
           {
            "bin_start": 0.1,
            "bin_end": 0.13333333333333333,
            "count": 0
           },
           {
            "bin_start": 0.13333333333333333,
            "bin_end": 0.16666666666666666,
            "count": 0
           },
           {
            "bin_start": 0.16666666666666666,
            "bin_end": 0.2,
            "count": 0
           },
           {
            "bin_start": 0.2,
            "bin_end": 0.23333333333333334,
            "count": 0
           },
           {
            "bin_start": 0.23333333333333334,
            "bin_end": 0.26666666666666666,
            "count": 0
           },
           {
            "bin_start": 0.26666666666666666,
            "bin_end": 0.3,
            "count": 0
           },
           {
            "bin_start": 0.3,
            "bin_end": 0.3333333333333333,
            "count": 1
           }
          ]
         }
        },
        {
         "name": "INJURIES_INCAPACITATING",
         "dtype": "float64",
         "stats": {
          "unique_count": 13,
          "nan_count": 0,
          "min": "0.0",
          "max": "0.04566666666666667",
          "histogram": [
           {
            "bin_start": 0,
            "bin_end": 0.004566666666666667,
            "count": 8
           },
           {
            "bin_start": 0.004566666666666667,
            "bin_end": 0.009133333333333334,
            "count": 2
           },
           {
            "bin_start": 0.009133333333333334,
            "bin_end": 0.0137,
            "count": 0
           },
           {
            "bin_start": 0.0137,
            "bin_end": 0.018266666666666667,
            "count": 1
           },
           {
            "bin_start": 0.018266666666666667,
            "bin_end": 0.022833333333333334,
            "count": 0
           },
           {
            "bin_start": 0.022833333333333334,
            "bin_end": 0.0274,
            "count": 1
           },
           {
            "bin_start": 0.0274,
            "bin_end": 0.03196666666666667,
            "count": 0
           },
           {
            "bin_start": 0.03196666666666667,
            "bin_end": 0.036533333333333334,
            "count": 2
           },
           {
            "bin_start": 0.036533333333333334,
            "bin_end": 0.0411,
            "count": 1
           },
           {
            "bin_start": 0.0411,
            "bin_end": 0.04566666666666667,
            "count": 1
           }
          ]
         }
        },
        {
         "name": "INJURIES_NON_INCAPACITATING",
         "dtype": "float64",
         "stats": {
          "unique_count": 15,
          "nan_count": 0,
          "min": "0.0",
          "max": "1.0",
          "histogram": [
           {
            "bin_start": 0,
            "bin_end": 0.1,
            "count": 10
           },
           {
            "bin_start": 0.1,
            "bin_end": 0.2,
            "count": 3
           },
           {
            "bin_start": 0.2,
            "bin_end": 0.30000000000000004,
            "count": 2
           },
           {
            "bin_start": 0.30000000000000004,
            "bin_end": 0.4,
            "count": 0
           },
           {
            "bin_start": 0.4,
            "bin_end": 0.5,
            "count": 0
           },
           {
            "bin_start": 0.5,
            "bin_end": 0.6000000000000001,
            "count": 0
           },
           {
            "bin_start": 0.6000000000000001,
            "bin_end": 0.7000000000000001,
            "count": 0
           },
           {
            "bin_start": 0.7000000000000001,
            "bin_end": 0.8,
            "count": 0
           },
           {
            "bin_start": 0.8,
            "bin_end": 0.9,
            "count": 0
           },
           {
            "bin_start": 0.9,
            "bin_end": 1,
            "count": 1
           }
          ]
         }
        },
        {
         "name": "INJURIES_NO_INDICATION",
         "dtype": "float64",
         "stats": {
          "unique_count": 16,
          "nan_count": 0,
          "min": "1.0",
          "max": "3.5",
          "histogram": [
           {
            "bin_start": 1,
            "bin_end": 1.25,
            "count": 2
           },
           {
            "bin_start": 1.25,
            "bin_end": 1.5,
            "count": 0
           },
           {
            "bin_start": 1.5,
            "bin_end": 1.75,
            "count": 2
           },
           {
            "bin_start": 1.75,
            "bin_end": 2,
            "count": 4
           },
           {
            "bin_start": 2,
            "bin_end": 2.25,
            "count": 6
           },
           {
            "bin_start": 2.25,
            "bin_end": 2.5,
            "count": 0
           },
           {
            "bin_start": 2.5,
            "bin_end": 2.75,
            "count": 1
           },
           {
            "bin_start": 2.75,
            "bin_end": 3,
            "count": 0
           },
           {
            "bin_start": 3,
            "bin_end": 3.25,
            "count": 0
           },
           {
            "bin_start": 3.25,
            "bin_end": 3.5,
            "count": 1
           }
          ]
         }
        },
        {
         "name": "INJURIES_REPORTED_NOT_EVIDENT",
         "dtype": "float64",
         "stats": {
          "unique_count": 13,
          "nan_count": 0,
          "min": "0.0",
          "max": "0.11591355599214145",
          "histogram": [
           {
            "bin_start": 0,
            "bin_end": 0.011591355599214145,
            "count": 5
           },
           {
            "bin_start": 0.011591355599214145,
            "bin_end": 0.02318271119842829,
            "count": 1
           },
           {
            "bin_start": 0.02318271119842829,
            "bin_end": 0.03477406679764243,
            "count": 4
           },
           {
            "bin_start": 0.03477406679764243,
            "bin_end": 0.04636542239685658,
            "count": 1
           },
           {
            "bin_start": 0.04636542239685658,
            "bin_end": 0.05795677799607073,
            "count": 0
           },
           {
            "bin_start": 0.05795677799607073,
            "bin_end": 0.06954813359528486,
            "count": 1
           },
           {
            "bin_start": 0.06954813359528486,
            "bin_end": 0.08113948919449901,
            "count": 0
           },
           {
            "bin_start": 0.08113948919449901,
            "bin_end": 0.09273084479371316,
            "count": 1
           },
           {
            "bin_start": 0.09273084479371316,
            "bin_end": 0.1043222003929273,
            "count": 2
           },
           {
            "bin_start": 0.1043222003929273,
            "bin_end": 0.11591355599214145,
            "count": 1
           }
          ]
         }
        },
        {
         "name": "INJURIES_TOTAL",
         "dtype": "float64",
         "stats": {
          "unique_count": 16,
          "nan_count": 0,
          "min": "0.0",
          "max": "1.0",
          "histogram": [
           {
            "bin_start": 0,
            "bin_end": 0.1,
            "count": 9
           },
           {
            "bin_start": 0.1,
            "bin_end": 0.2,
            "count": 0
           },
           {
            "bin_start": 0.2,
            "bin_end": 0.30000000000000004,
            "count": 2
           },
           {
            "bin_start": 0.30000000000000004,
            "bin_end": 0.4,
            "count": 4
           },
           {
            "bin_start": 0.4,
            "bin_end": 0.5,
            "count": 0
           },
           {
            "bin_start": 0.5,
            "bin_end": 0.6000000000000001,
            "count": 0
           },
           {
            "bin_start": 0.6000000000000001,
            "bin_end": 0.7000000000000001,
            "count": 0
           },
           {
            "bin_start": 0.7000000000000001,
            "bin_end": 0.8,
            "count": 0
           },
           {
            "bin_start": 0.8,
            "bin_end": 0.9,
            "count": 0
           },
           {
            "bin_start": 0.9,
            "bin_end": 1,
            "count": 1
           }
          ]
         }
        },
        {
         "name": "INJURIES_UNKNOWN",
         "dtype": "float64",
         "stats": {
          "unique_count": 1,
          "nan_count": 0,
          "min": "0.0",
          "max": "0.0",
          "histogram": [
           {
            "bin_start": -0.5,
            "bin_end": -0.4,
            "count": 0
           },
           {
            "bin_start": -0.4,
            "bin_end": -0.3,
            "count": 0
           },
           {
            "bin_start": -0.3,
            "bin_end": -0.19999999999999996,
            "count": 0
           },
           {
            "bin_start": -0.19999999999999996,
            "bin_end": -0.09999999999999998,
            "count": 0
           },
           {
            "bin_start": -0.09999999999999998,
            "bin_end": 0,
            "count": 0
           },
           {
            "bin_start": 0,
            "bin_end": 0.10000000000000009,
            "count": 16
           },
           {
            "bin_start": 0.10000000000000009,
            "bin_end": 0.20000000000000007,
            "count": 0
           },
           {
            "bin_start": 0.20000000000000007,
            "bin_end": 0.30000000000000004,
            "count": 0
           },
           {
            "bin_start": 0.30000000000000004,
            "bin_end": 0.4,
            "count": 0
           },
           {
            "bin_start": 0.4,
            "bin_end": 0.5,
            "count": 0
           }
          ]
         }
        },
        {
         "name": "LANE_CNT",
         "dtype": "float64",
         "stats": {
          "unique_count": 16,
          "nan_count": 0,
          "min": "1.7027027027027026",
          "max": "5.0",
          "histogram": [
           {
            "bin_start": 1.7027027027027026,
            "bin_end": 2.0324324324324325,
            "count": 3
           },
           {
            "bin_start": 2.0324324324324325,
            "bin_end": 2.362162162162162,
            "count": 2
           },
           {
            "bin_start": 2.362162162162162,
            "bin_end": 2.691891891891892,
            "count": 10
           },
           {
            "bin_start": 2.691891891891892,
            "bin_end": 3.0216216216216214,
            "count": 0
           },
           {
            "bin_start": 3.0216216216216214,
            "bin_end": 3.3513513513513513,
            "count": 0
           },
           {
            "bin_start": 3.3513513513513513,
            "bin_end": 3.6810810810810812,
            "count": 0
           },
           {
            "bin_start": 3.6810810810810812,
            "bin_end": 4.010810810810811,
            "count": 0
           },
           {
            "bin_start": 4.010810810810811,
            "bin_end": 4.340540540540541,
            "count": 0
           },
           {
            "bin_start": 4.340540540540541,
            "bin_end": 4.6702702702702705,
            "count": 0
           },
           {
            "bin_start": 4.6702702702702705,
            "bin_end": 5,
            "count": 1
           }
          ]
         }
        },
        {
         "name": "LATITUDE",
         "dtype": "float64",
         "stats": {
          "unique_count": 16,
          "nan_count": 0,
          "min": "41.65953026670048",
          "max": "41.954006093",
          "histogram": [
           {
            "bin_start": 41.65953026670048,
            "bin_end": 41.68897784933043,
            "count": 1
           },
           {
            "bin_start": 41.68897784933043,
            "bin_end": 41.718425431960384,
            "count": 0
           },
           {
            "bin_start": 41.718425431960384,
            "bin_end": 41.74787301459033,
            "count": 0
           },
           {
            "bin_start": 41.74787301459033,
            "bin_end": 41.77732059722029,
            "count": 0
           },
           {
            "bin_start": 41.77732059722029,
            "bin_end": 41.80676817985024,
            "count": 2
           },
           {
            "bin_start": 41.80676817985024,
            "bin_end": 41.83621576248019,
            "count": 0
           },
           {
            "bin_start": 41.83621576248019,
            "bin_end": 41.86566334511014,
            "count": 10
           },
           {
            "bin_start": 41.86566334511014,
            "bin_end": 41.89511092774009,
            "count": 2
           },
           {
            "bin_start": 41.89511092774009,
            "bin_end": 41.92455851037005,
            "count": 0
           },
           {
            "bin_start": 41.92455851037005,
            "bin_end": 41.954006093,
            "count": 1
           }
          ]
         }
        },
        {
         "name": "LONGITUDE",
         "dtype": "float64",
         "stats": {
          "unique_count": 16,
          "nan_count": 0,
          "min": "-87.835332493",
          "max": "-87.27385569068663",
          "histogram": [
           {
            "bin_start": -87.835332493,
            "bin_end": -87.77918481276866,
            "count": 1
           },
           {
            "bin_start": -87.77918481276866,
            "bin_end": -87.72303713253733,
            "count": 0
           },
           {
            "bin_start": -87.72303713253733,
            "bin_end": -87.66688945230598,
            "count": 11
           },
           {
            "bin_start": -87.66688945230598,
            "bin_end": -87.61074177207465,
            "count": 2
           },
           {
            "bin_start": -87.61074177207465,
            "bin_end": -87.55459409184331,
            "count": 1
           },
           {
            "bin_start": -87.55459409184331,
            "bin_end": -87.49844641161198,
            "count": 0
           },
           {
            "bin_start": -87.49844641161198,
            "bin_end": -87.44229873138065,
            "count": 0
           },
           {
            "bin_start": -87.44229873138065,
            "bin_end": -87.3861510511493,
            "count": 0
           },
           {
            "bin_start": -87.3861510511493,
            "bin_end": -87.33000337091796,
            "count": 0
           },
           {
            "bin_start": -87.33000337091796,
            "bin_end": -87.27385569068663,
            "count": 1
           }
          ]
         }
        },
        {
         "name": "NUM_UNITS",
         "dtype": "float64",
         "stats": {
          "unique_count": 16,
          "nan_count": 0,
          "min": "1.6666666666666667",
          "max": "2.5",
          "histogram": [
           {
            "bin_start": 1.6666666666666667,
            "bin_end": 1.75,
            "count": 1
           },
           {
            "bin_start": 1.75,
            "bin_end": 1.8333333333333335,
            "count": 0
           },
           {
            "bin_start": 1.8333333333333335,
            "bin_end": 1.9166666666666667,
            "count": 0
           },
           {
            "bin_start": 1.9166666666666667,
            "bin_end": 2,
            "count": 5
           },
           {
            "bin_start": 2,
            "bin_end": 2.0833333333333335,
            "count": 6
           },
           {
            "bin_start": 2.0833333333333335,
            "bin_end": 2.166666666666667,
            "count": 3
           },
           {
            "bin_start": 2.166666666666667,
            "bin_end": 2.25,
            "count": 0
           },
           {
            "bin_start": 2.25,
            "bin_end": 2.3333333333333335,
            "count": 0
           },
           {
            "bin_start": 2.3333333333333335,
            "bin_end": 2.416666666666667,
            "count": 0
           },
           {
            "bin_start": 2.416666666666667,
            "bin_end": 2.5,
            "count": 1
           }
          ]
         }
        },
        {
         "name": "POSTED_SPEED_LIMIT",
         "dtype": "float64",
         "stats": {
          "unique_count": 16,
          "nan_count": 0,
          "min": "20.0",
          "max": "40.0",
          "histogram": [
           {
            "bin_start": 20,
            "bin_end": 22,
            "count": 1
           },
           {
            "bin_start": 22,
            "bin_end": 24,
            "count": 0
           },
           {
            "bin_start": 24,
            "bin_end": 26,
            "count": 0
           },
           {
            "bin_start": 26,
            "bin_end": 28,
            "count": 4
           },
           {
            "bin_start": 28,
            "bin_end": 30,
            "count": 9
           },
           {
            "bin_start": 30,
            "bin_end": 32,
            "count": 1
           },
           {
            "bin_start": 32,
            "bin_end": 34,
            "count": 0
           },
           {
            "bin_start": 34,
            "bin_end": 36,
            "count": 0
           },
           {
            "bin_start": 36,
            "bin_end": 38,
            "count": 0
           },
           {
            "bin_start": 38,
            "bin_end": 40,
            "count": 1
           }
          ]
         }
        },
        {
         "name": "STREET_NO",
         "dtype": "float64",
         "stats": {
          "unique_count": 16,
          "nan_count": 0,
          "min": "3077.6666666666665",
          "max": "8324.0",
          "histogram": [
           {
            "bin_start": 3077.6666666666665,
            "bin_end": 3602.3,
            "count": 3
           },
           {
            "bin_start": 3602.3,
            "bin_end": 4126.933333333333,
            "count": 11
           },
           {
            "bin_start": 4126.933333333333,
            "bin_end": 4651.566666666667,
            "count": 0
           },
           {
            "bin_start": 4651.566666666667,
            "bin_end": 5176.200000000001,
            "count": 0
           },
           {
            "bin_start": 5176.200000000001,
            "bin_end": 5700.833333333334,
            "count": 0
           },
           {
            "bin_start": 5700.833333333334,
            "bin_end": 6225.466666666667,
            "count": 1
           },
           {
            "bin_start": 6225.466666666667,
            "bin_end": 6750.1,
            "count": 0
           },
           {
            "bin_start": 6750.1,
            "bin_end": 7274.733333333334,
            "count": 0
           },
           {
            "bin_start": 7274.733333333334,
            "bin_end": 7799.366666666667,
            "count": 0
           },
           {
            "bin_start": 7799.366666666667,
            "bin_end": 8324,
            "count": 1
           }
          ]
         }
        },
        {
         "name": "Unnamed: 0",
         "dtype": "float64",
         "stats": {
          "unique_count": 16,
          "nan_count": 0,
          "min": "199036.53367875647",
          "max": "322381.0",
          "histogram": [
           {
            "bin_start": 199036.53367875647,
            "bin_end": 211370.9803108808,
            "count": 3
           },
           {
            "bin_start": 211370.9803108808,
            "bin_end": 223705.42694300518,
            "count": 3
           },
           {
            "bin_start": 223705.42694300518,
            "bin_end": 236039.87357512955,
            "count": 6
           },
           {
            "bin_start": 236039.87357512955,
            "bin_end": 248374.32020725388,
            "count": 2
           },
           {
            "bin_start": 248374.32020725388,
            "bin_end": 260708.76683937822,
            "count": 0
           },
           {
            "bin_start": 260708.76683937822,
            "bin_end": 273043.2134715026,
            "count": 0
           },
           {
            "bin_start": 273043.2134715026,
            "bin_end": 285377.66010362696,
            "count": 0
           },
           {
            "bin_start": 285377.66010362696,
            "bin_end": 297712.10673575127,
            "count": 0
           },
           {
            "bin_start": 297712.10673575127,
            "bin_end": 310046.55336787563,
            "count": 0
           },
           {
            "bin_start": 310046.55336787563,
            "bin_end": 322381,
            "count": 2
           }
          ]
         }
        },
        {
         "name": "_deepnote_index_column",
         "dtype": "object"
        }
       ],
       "rows": [
        {
         "BEAT_OF_OCCURRENCE": 1614,
         "CRASH_DAY_OF_WEEK": 5,
         "CRASH_HOUR": 20,
         "CRASH_MONTH": 6,
         "INJURIES_FATAL": 0,
         "INJURIES_INCAPACITATING": 0,
         "INJURIES_NON_INCAPACITATING": 0,
         "INJURIES_NO_INDICATION": 2,
         "INJURIES_REPORTED_NOT_EVIDENT": 0,
         "INJURIES_TOTAL": 0,
         "INJURIES_UNKNOWN": 0,
         "LANE_CNT": 2,
         "LATITUDE": 41.954006093,
         "LONGITUDE": -87.835332493,
         "NUM_UNITS": 2,
         "POSTED_SPEED_LIMIT": 30,
         "STREET_NO": 8324,
         "Unnamed: 0": 322381,
         "_deepnote_index_column": "('DARKNESS', 'AMENDED')"
        },
        {
         "BEAT_OF_OCCURRENCE": 1183.0790899241604,
         "CRASH_DAY_OF_WEEK": 4.1007583965330445,
         "CRASH_HOUR": 15.395449620801733,
         "CRASH_MONTH": 6.9035752979414955,
         "INJURIES_FATAL": 0,
         "INJURIES_INCAPACITATING": 0.015167930660888408,
         "INJURIES_NON_INCAPACITATING": 0.027085590465872156,
         "INJURIES_NO_INDICATION": 1.9349945828819068,
         "INJURIES_REPORTED_NOT_EVIDENT": 0.03358613217768147,
         "INJURIES_TOTAL": 0.07583965330444203,
         "INJURIES_UNKNOWN": 0,
         "LANE_CNT": 2.5486725663716814,
         "LATITUDE": 41.8463632939738,
         "LONGITUDE": -87.67004353261233,
         "NUM_UNITS": 1.9739978331527628,
         "POSTED_SPEED_LIMIT": 27.621885157096425,
         "STREET_NO": 3777.507042253521,
         "Unnamed: 0": 230103.15384615384,
         "_deepnote_index_column": "('DARKNESS', 'NOT ON SCENE (DESK REPORT)')"
        },
        {
         "BEAT_OF_OCCURRENCE": 1166.4882352941177,
         "CRASH_DAY_OF_WEEK": 4.2,
         "CRASH_HOUR": 13.735294117647058,
         "CRASH_MONTH": 6.786274509803921,
         "INJURIES_FATAL": 0,
         "INJURIES_INCAPACITATING": 0.03929273084479371,
         "INJURIES_NON_INCAPACITATING": 0.2082514734774067,
         "INJURIES_NO_INDICATION": 1.6797642436149312,
         "INJURIES_REPORTED_NOT_EVIDENT": 0.11591355599214145,
         "INJURIES_TOTAL": 0.36345776031434185,
         "INJURIES_UNKNOWN": 0,
         "LANE_CNT": 2.316279069767442,
         "LATITUDE": 41.84218059299214,
         "LONGITUDE": -87.67556576321495,
         "NUM_UNITS": 2.074509803921569,
         "POSTED_SPEED_LIMIT": 28.29019607843137,
         "STREET_NO": 3991.0176470588235,
         "Unnamed: 0": 214160.031372549,
         "_deepnote_index_column": "('DARKNESS', 'ON SCENE')"
        },
        {
         "BEAT_OF_OCCURRENCE": 922.6666666666666,
         "CRASH_DAY_OF_WEEK": 6.333333333333333,
         "CRASH_HOUR": 22,
         "CRASH_MONTH": 4.333333333333333,
         "INJURIES_FATAL": 0.3333333333333333,
         "INJURIES_INCAPACITATING": 0,
         "INJURIES_NON_INCAPACITATING": 0,
         "INJURIES_NO_INDICATION": 1,
         "INJURIES_REPORTED_NOT_EVIDENT": 0,
         "INJURIES_TOTAL": 0.3333333333333333,
         "INJURIES_UNKNOWN": 0,
         "LANE_CNT": 2.6666666666666665,
         "LATITUDE": 41.80355633866666,
         "LONGITUDE": -87.638637858,
         "NUM_UNITS": 1.6666666666666667,
         "POSTED_SPEED_LIMIT": 20,
         "STREET_NO": 3077.6666666666665,
         "Unnamed: 0": 315089.3333333333,
         "_deepnote_index_column": "('DARKNESS, LIGHTED ROAD', 'AMENDED')"
        },
        {
         "BEAT_OF_OCCURRENCE": 1298.2976985894582,
         "CRASH_DAY_OF_WEEK": 4.208611729769859,
         "CRASH_HOUR": 15.688938381588716,
         "CRASH_MONTH": 6.579064587973274,
         "INJURIES_FATAL": 0,
         "INJURIES_INCAPACITATING": 0.006310319227913883,
         "INJURIES_NON_INCAPACITATING": 0.030438010393466965,
         "INJURIES_NO_INDICATION": 2.0579064587973273,
         "INJURIES_REPORTED_NOT_EVIDENT": 0.033778767631774315,
         "INJURIES_TOTAL": 0.07052709725315516,
         "INJURIES_UNKNOWN": 0,
         "LANE_CNT": 2.5021676300578033,
         "LATITUDE": 41.86538548593035,
         "LONGITUDE": -87.67725099104968,
         "NUM_UNITS": 1.9970304380103934,
         "POSTED_SPEED_LIMIT": 28.47698589458055,
         "STREET_NO": 3505.801781737194,
         "Unnamed: 0": 233109.35337787677,
         "_deepnote_index_column": "('DARKNESS, LIGHTED ROAD', 'NOT ON SCENE (DESK REPORT)')"
        },
        {
         "BEAT_OF_OCCURRENCE": 1223.0771523178807,
         "CRASH_DAY_OF_WEEK": 4.061258278145695,
         "CRASH_HOUR": 12.978807947019867,
         "CRASH_MONTH": 6.926158940397351,
         "INJURIES_FATAL": 0.004666666666666667,
         "INJURIES_INCAPACITATING": 0.04566666666666667,
         "INJURIES_NON_INCAPACITATING": 0.22466666666666665,
         "INJURIES_NO_INDICATION": 1.841,
         "INJURIES_REPORTED_NOT_EVIDENT": 0.093,
         "INJURIES_TOTAL": 0.368,
         "INJURIES_UNKNOWN": 0,
         "LANE_CNT": 2.5323795180722892,
         "LATITUDE": 41.83954282292642,
         "LONGITUDE": -87.65104728750826,
         "NUM_UNITS": 2.0963576158940396,
         "POSTED_SPEED_LIMIT": 29.26225165562914,
         "STREET_NO": 3663.9049668874172,
         "Unnamed: 0": 219285.0963576159,
         "_deepnote_index_column": "('DARKNESS, LIGHTED ROAD', 'ON SCENE')"
        },
        {
         "BEAT_OF_OCCURRENCE": 1137.3027888446215,
         "CRASH_DAY_OF_WEEK": 4.047808764940239,
         "CRASH_HOUR": 11.816733067729084,
         "CRASH_MONTH": 6.900398406374502,
         "INJURIES_FATAL": 0,
         "INJURIES_INCAPACITATING": 0.00398406374501992,
         "INJURIES_NON_INCAPACITATING": 0.05179282868525897,
         "INJURIES_NO_INDICATION": 1.948207171314741,
         "INJURIES_REPORTED_NOT_EVIDENT": 0.035856573705179286,
         "INJURIES_TOTAL": 0.09163346613545817,
         "INJURIES_UNKNOWN": 0,
         "LANE_CNT": 2.5392156862745097,
         "LATITUDE": 41.84744377213944,
         "LONGITUDE": -87.67403217859366,
         "NUM_UNITS": 1.9721115537848606,
         "POSTED_SPEED_LIMIT": 28.46613545816733,
         "STREET_NO": 3835.406374501992,
         "Unnamed: 0": 230564.91633466136,
         "_deepnote_index_column": "('DAWN', 'NOT ON SCENE (DESK REPORT)')"
        },
        {
         "BEAT_OF_OCCURRENCE": 1183.7601809954751,
         "CRASH_DAY_OF_WEEK": 4.049773755656108,
         "CRASH_HOUR": 9.266968325791856,
         "CRASH_MONTH": 6.909502262443439,
         "INJURIES_FATAL": 0,
         "INJURIES_INCAPACITATING": 0.02727272727272727,
         "INJURIES_NON_INCAPACITATING": 0.18636363636363637,
         "INJURIES_NO_INDICATION": 1.8181818181818181,
         "INJURIES_REPORTED_NOT_EVIDENT": 0.05909090909090909,
         "INJURIES_TOTAL": 0.2727272727272727,
         "INJURIES_UNKNOWN": 0,
         "LANE_CNT": 2.511904761904762,
         "LATITUDE": 41.65953026670048,
         "LONGITUDE": -87.27385569068663,
         "NUM_UNITS": 2.0361990950226243,
         "POSTED_SPEED_LIMIT": 28.34389140271493,
         "STREET_NO": 3942.5701357466064,
         "Unnamed: 0": 206568.77375565612,
         "_deepnote_index_column": "('DAWN', 'ON SCENE')"
        },
        {
         "BEAT_OF_OCCURRENCE": 1261.6923076923076,
         "CRASH_DAY_OF_WEEK": 4.3076923076923075,
         "CRASH_HOUR": 11.923076923076923,
         "CRASH_MONTH": 7,
         "INJURIES_FATAL": 0,
         "INJURIES_INCAPACITATING": 0,
         "INJURIES_NON_INCAPACITATING": 0.07692307692307693,
         "INJURIES_NO_INDICATION": 2.6153846153846154,
         "INJURIES_REPORTED_NOT_EVIDENT": 0,
         "INJURIES_TOTAL": 0.07692307692307693,
         "INJURIES_UNKNOWN": 0,
         "LANE_CNT": 2.3333333333333335,
         "LATITUDE": 41.88479417761538,
         "LONGITUDE": -87.6774381403077,
         "NUM_UNITS": 2.1538461538461537,
         "POSTED_SPEED_LIMIT": 29.615384615384617,
         "STREET_NO": 3802.846153846154,
         "Unnamed: 0": 204369.53846153847,
         "_deepnote_index_column": "('DAYLIGHT', 'AMENDED')"
        },
        {
         "BEAT_OF_OCCURRENCE": 1263.180460597337,
         "CRASH_DAY_OF_WEEK": 4.127473911478949,
         "CRASH_HOUR": 12.749100395825836,
         "CRASH_MONTH": 6.5660309463835915,
         "INJURIES_FATAL": 0,
         "INJURIES_INCAPACITATING": 0.001981089599279604,
         "INJURIES_NON_INCAPACITATING": 0.021341737955875732,
         "INJURIES_NO_INDICATION": 2.104817649707339,
         "INJURIES_REPORTED_NOT_EVIDENT": 0.028725799189554254,
         "INJURIES_TOTAL": 0.05204862674470959,
         "INJURIES_UNKNOWN": 0,
         "LANE_CNT": 2.5982939123691353,
         "LATITUDE": 41.85970722358553,
         "LONGITUDE": -87.66971065063886,
         "NUM_UNITS": 2.004048218783735,
         "POSTED_SPEED_LIMIT": 27.99658150413818,
         "STREET_NO": 3498.125314861461,
         "Unnamed: 0": 229400.86964735517,
         "_deepnote_index_column": "('DAYLIGHT', 'NOT ON SCENE (DESK REPORT)')"
        }
       ]
      },
      "text/plain": "                                                   BEAT_OF_OCCURRENCE  \\\nLIGHTING_CONDITION     REPORT_TYPE                                      \nDARKNESS               AMENDED                            1614.000000   \n                       NOT ON SCENE (DESK REPORT)         1183.079090   \n                       ON SCENE                           1166.488235   \nDARKNESS, LIGHTED ROAD AMENDED                             922.666667   \n                       NOT ON SCENE (DESK REPORT)         1298.297699   \n                       ON SCENE                           1223.077152   \nDAWN                   NOT ON SCENE (DESK REPORT)         1137.302789   \n                       ON SCENE                           1183.760181   \nDAYLIGHT               AMENDED                            1261.692308   \n                       NOT ON SCENE (DESK REPORT)         1263.180461   \n                       ON SCENE                           1228.757692   \nDUSK                   AMENDED                             321.500000   \n                       NOT ON SCENE (DESK REPORT)         1252.676892   \n                       ON SCENE                           1223.255319   \nUNKNOWN                NOT ON SCENE (DESK REPORT)         1410.566406   \n                       ON SCENE                           1258.668394   \n\n                                                   CRASH_DAY_OF_WEEK  \\\nLIGHTING_CONDITION     REPORT_TYPE                                     \nDARKNESS               AMENDED                              5.000000   \n                       NOT ON SCENE (DESK REPORT)           4.100758   \n                       ON SCENE                             4.200000   \nDARKNESS, LIGHTED ROAD AMENDED                              6.333333   \n                       NOT ON SCENE (DESK REPORT)           4.208612   \n                       ON SCENE                             4.061258   \nDAWN                   NOT ON SCENE (DESK REPORT)           4.047809   \n                       ON SCENE                             4.049774   \nDAYLIGHT               AMENDED                              4.307692   \n                       NOT ON SCENE (DESK REPORT)           4.127474   \n                       ON SCENE                             4.129142   \nDUSK                   AMENDED                              3.500000   \n                       NOT ON SCENE (DESK REPORT)           4.034765   \n                       ON SCENE                             4.179331   \nUNKNOWN                NOT ON SCENE (DESK REPORT)           4.127438   \n                       ON SCENE                             4.010363   \n\n                                                   CRASH_HOUR  CRASH_MONTH  \\\nLIGHTING_CONDITION     REPORT_TYPE                                           \nDARKNESS               AMENDED                      20.000000     6.000000   \n                       NOT ON SCENE (DESK REPORT)   15.395450     6.903575   \n                       ON SCENE                     13.735294     6.786275   \nDARKNESS, LIGHTED ROAD AMENDED                      22.000000     4.333333   \n                       NOT ON SCENE (DESK REPORT)   15.688938     6.579065   \n                       ON SCENE                     12.978808     6.926159   \nDAWN                   NOT ON SCENE (DESK REPORT)   11.816733     6.900398   \n                       ON SCENE                      9.266968     6.909502   \nDAYLIGHT               AMENDED                      11.923077     7.000000   \n                       NOT ON SCENE (DESK REPORT)   12.749100     6.566031   \n                       ON SCENE                     12.275000     6.650740   \nDUSK                   AMENDED                      20.000000     6.000000   \n                       NOT ON SCENE (DESK REPORT)   16.787321     7.406953   \n                       ON SCENE                     16.905775     6.908815   \nUNKNOWN                NOT ON SCENE (DESK REPORT)   12.798440     6.931079   \n                       ON SCENE                     10.393782     6.844560   \n\n                                                   INJURIES_FATAL  \\\nLIGHTING_CONDITION     REPORT_TYPE                                  \nDARKNESS               AMENDED                           0.000000   \n                       NOT ON SCENE (DESK REPORT)        0.000000   \n                       ON SCENE                          0.000000   \nDARKNESS, LIGHTED ROAD AMENDED                           0.333333   \n                       NOT ON SCENE (DESK REPORT)        0.000000   \n                       ON SCENE                          0.004667   \nDAWN                   NOT ON SCENE (DESK REPORT)        0.000000   \n                       ON SCENE                          0.000000   \nDAYLIGHT               AMENDED                           0.000000   \n                       NOT ON SCENE (DESK REPORT)        0.000000   \n                       ON SCENE                          0.001334   \nDUSK                   AMENDED                           0.000000   \n                       NOT ON SCENE (DESK REPORT)        0.000000   \n                       ON SCENE                          0.003049   \nUNKNOWN                NOT ON SCENE (DESK REPORT)        0.000000   \n                       ON SCENE                          0.000000   \n\n                                                   INJURIES_INCAPACITATING  \\\nLIGHTING_CONDITION     REPORT_TYPE                                           \nDARKNESS               AMENDED                                    0.000000   \n                       NOT ON SCENE (DESK REPORT)                 0.015168   \n                       ON SCENE                                   0.039293   \nDARKNESS, LIGHTED ROAD AMENDED                                    0.000000   \n                       NOT ON SCENE (DESK REPORT)                 0.006310   \n                       ON SCENE                                   0.045667   \nDAWN                   NOT ON SCENE (DESK REPORT)                 0.003984   \n                       ON SCENE                                   0.027273   \nDAYLIGHT               AMENDED                                    0.000000   \n                       NOT ON SCENE (DESK REPORT)                 0.001981   \n                       ON SCENE                                   0.035862   \nDUSK                   AMENDED                                    0.000000   \n                       NOT ON SCENE (DESK REPORT)                 0.004098   \n                       ON SCENE                                   0.033537   \nUNKNOWN                NOT ON SCENE (DESK REPORT)                 0.001304   \n                       ON SCENE                                   0.005236   \n\n                                                   INJURIES_NON_INCAPACITATING  \\\nLIGHTING_CONDITION     REPORT_TYPE                                               \nDARKNESS               AMENDED                                        0.000000   \n                       NOT ON SCENE (DESK REPORT)                     0.027086   \n                       ON SCENE                                       0.208251   \nDARKNESS, LIGHTED ROAD AMENDED                                        0.000000   \n                       NOT ON SCENE (DESK REPORT)                     0.030438   \n                       ON SCENE                                       0.224667   \nDAWN                   NOT ON SCENE (DESK REPORT)                     0.051793   \n                       ON SCENE                                       0.186364   \nDAYLIGHT               AMENDED                                        0.076923   \n                       NOT ON SCENE (DESK REPORT)                     0.021342   \n                       ON SCENE                                       0.196058   \nDUSK                   AMENDED                                        1.000000   \n                       NOT ON SCENE (DESK REPORT)                     0.030738   \n                       ON SCENE                                       0.170732   \nUNKNOWN                NOT ON SCENE (DESK REPORT)                     0.010430   \n                       ON SCENE                                       0.052356   \n\n                                                   INJURIES_NO_INDICATION  \\\nLIGHTING_CONDITION     REPORT_TYPE                                          \nDARKNESS               AMENDED                                   2.000000   \n                       NOT ON SCENE (DESK REPORT)                1.934995   \n                       ON SCENE                                  1.679764   \nDARKNESS, LIGHTED ROAD AMENDED                                   1.000000   \n                       NOT ON SCENE (DESK REPORT)                2.057906   \n                       ON SCENE                                  1.841000   \nDAWN                   NOT ON SCENE (DESK REPORT)                1.948207   \n                       ON SCENE                                  1.818182   \nDAYLIGHT               AMENDED                                   2.615385   \n                       NOT ON SCENE (DESK REPORT)                2.104818   \n                       ON SCENE                                  2.041790   \nDUSK                   AMENDED                                   3.500000   \n                       NOT ON SCENE (DESK REPORT)                2.170082   \n                       ON SCENE                                  2.121951   \nUNKNOWN                NOT ON SCENE (DESK REPORT)                1.514993   \n                       ON SCENE                                  1.178010   \n\n                                                   INJURIES_REPORTED_NOT_EVIDENT  \\\nLIGHTING_CONDITION     REPORT_TYPE                                                 \nDARKNESS               AMENDED                                          0.000000   \n                       NOT ON SCENE (DESK REPORT)                       0.033586   \n                       ON SCENE                                         0.115914   \nDARKNESS, LIGHTED ROAD AMENDED                                          0.000000   \n                       NOT ON SCENE (DESK REPORT)                       0.033779   \n                       ON SCENE                                         0.093000   \nDAWN                   NOT ON SCENE (DESK REPORT)                       0.035857   \n                       ON SCENE                                         0.059091   \nDAYLIGHT               AMENDED                                          0.000000   \n                       NOT ON SCENE (DESK REPORT)                       0.028726   \n                       ON SCENE                                         0.098103   \nDUSK                   AMENDED                                          0.000000   \n                       NOT ON SCENE (DESK REPORT)                       0.026639   \n                       ON SCENE                                         0.085366   \nUNKNOWN                NOT ON SCENE (DESK REPORT)                       0.007823   \n                       ON SCENE                                         0.020942   \n\n                                                   INJURIES_TOTAL  \\\nLIGHTING_CONDITION     REPORT_TYPE                                  \nDARKNESS               AMENDED                           0.000000   \n                       NOT ON SCENE (DESK REPORT)        0.075840   \n                       ON SCENE                          0.363458   \nDARKNESS, LIGHTED ROAD AMENDED                           0.333333   \n                       NOT ON SCENE (DESK REPORT)        0.070527   \n                       ON SCENE                          0.368000   \nDAWN                   NOT ON SCENE (DESK REPORT)        0.091633   \n                       ON SCENE                          0.272727   \nDAYLIGHT               AMENDED                           0.076923   \n                       NOT ON SCENE (DESK REPORT)        0.052049   \n                       ON SCENE                          0.331357   \nDUSK                   AMENDED                           1.000000   \n                       NOT ON SCENE (DESK REPORT)        0.061475   \n                       ON SCENE                          0.292683   \nUNKNOWN                NOT ON SCENE (DESK REPORT)        0.019557   \n                       ON SCENE                          0.078534   \n\n                                                   INJURIES_UNKNOWN  LANE_CNT  \\\nLIGHTING_CONDITION     REPORT_TYPE                                              \nDARKNESS               AMENDED                                  0.0  2.000000   \n                       NOT ON SCENE (DESK REPORT)               0.0  2.548673   \n                       ON SCENE                                 0.0  2.316279   \nDARKNESS, LIGHTED ROAD AMENDED                                  0.0  2.666667   \n                       NOT ON SCENE (DESK REPORT)               0.0  2.502168   \n                       ON SCENE                                 0.0  2.532380   \nDAWN                   NOT ON SCENE (DESK REPORT)               0.0  2.539216   \n                       ON SCENE                                 0.0  2.511905   \nDAYLIGHT               AMENDED                                  0.0  2.333333   \n                       NOT ON SCENE (DESK REPORT)               0.0  2.598294   \n                       ON SCENE                                 0.0  2.622534   \nDUSK                   AMENDED                                  0.0  5.000000   \n                       NOT ON SCENE (DESK REPORT)               0.0  2.404348   \n                       ON SCENE                                 0.0  2.582677   \nUNKNOWN                NOT ON SCENE (DESK REPORT)               0.0  1.857971   \n                       ON SCENE                                 0.0  1.702703   \n\n                                                    LATITUDE  LONGITUDE  \\\nLIGHTING_CONDITION     REPORT_TYPE                                        \nDARKNESS               AMENDED                     41.954006 -87.835332   \n                       NOT ON SCENE (DESK REPORT)  41.846363 -87.670044   \n                       ON SCENE                    41.842181 -87.675566   \nDARKNESS, LIGHTED ROAD AMENDED                     41.803556 -87.638638   \n                       NOT ON SCENE (DESK REPORT)  41.865385 -87.677251   \n                       ON SCENE                    41.839543 -87.651047   \nDAWN                   NOT ON SCENE (DESK REPORT)  41.847444 -87.674032   \n                       ON SCENE                    41.659530 -87.273856   \nDAYLIGHT               AMENDED                     41.884794 -87.677438   \n                       NOT ON SCENE (DESK REPORT)  41.859707 -87.669711   \n                       ON SCENE                    41.856271 -87.680507   \nDUSK                   AMENDED                     41.785816 -87.597958   \n                       NOT ON SCENE (DESK REPORT)  41.852063 -87.678158   \n                       ON SCENE                    41.854784 -87.677436   \nUNKNOWN                NOT ON SCENE (DESK REPORT)  41.870687 -87.684011   \n                       ON SCENE                    41.859140 -87.677764   \n\n                                                   NUM_UNITS  \\\nLIGHTING_CONDITION     REPORT_TYPE                             \nDARKNESS               AMENDED                      2.000000   \n                       NOT ON SCENE (DESK REPORT)   1.973998   \n                       ON SCENE                     2.074510   \nDARKNESS, LIGHTED ROAD AMENDED                      1.666667   \n                       NOT ON SCENE (DESK REPORT)   1.997030   \n                       ON SCENE                     2.096358   \nDAWN                   NOT ON SCENE (DESK REPORT)   1.972112   \n                       ON SCENE                     2.036199   \nDAYLIGHT               AMENDED                      2.153846   \n                       NOT ON SCENE (DESK REPORT)   2.004048   \n                       ON SCENE                     2.064053   \nDUSK                   AMENDED                      2.500000   \n                       NOT ON SCENE (DESK REPORT)   1.993865   \n                       ON SCENE                     2.094225   \nUNKNOWN                NOT ON SCENE (DESK REPORT)   1.985696   \n                       ON SCENE                     2.020725   \n\n                                                   POSTED_SPEED_LIMIT  \\\nLIGHTING_CONDITION     REPORT_TYPE                                      \nDARKNESS               AMENDED                              30.000000   \n                       NOT ON SCENE (DESK REPORT)           27.621885   \n                       ON SCENE                             28.290196   \nDARKNESS, LIGHTED ROAD AMENDED                              20.000000   \n                       NOT ON SCENE (DESK REPORT)           28.476986   \n                       ON SCENE                             29.262252   \nDAWN                   NOT ON SCENE (DESK REPORT)           28.466135   \n                       ON SCENE                             28.343891   \nDAYLIGHT               AMENDED                              29.615385   \n                       NOT ON SCENE (DESK REPORT)           27.996582   \n                       ON SCENE                             28.331361   \nDUSK                   AMENDED                              40.000000   \n                       NOT ON SCENE (DESK REPORT)           28.139059   \n                       ON SCENE                             28.860182   \nUNKNOWN                NOT ON SCENE (DESK REPORT)           26.762029   \n                       ON SCENE                             26.031088   \n\n                                                     STREET_NO     Unnamed: 0  \nLIGHTING_CONDITION     REPORT_TYPE                                             \nDARKNESS               AMENDED                     8324.000000  322381.000000  \n                       NOT ON SCENE (DESK REPORT)  3777.507042  230103.153846  \n                       ON SCENE                    3991.017647  214160.031373  \nDARKNESS, LIGHTED ROAD AMENDED                     3077.666667  315089.333333  \n                       NOT ON SCENE (DESK REPORT)  3505.801782  233109.353378  \n                       ON SCENE                    3663.904967  219285.096358  \nDAWN                   NOT ON SCENE (DESK REPORT)  3835.406375  230564.916335  \n                       ON SCENE                    3942.570136  206568.773756  \nDAYLIGHT               AMENDED                     3802.846154  204369.538462  \n                       NOT ON SCENE (DESK REPORT)  3498.125315  229400.869647  \n                       ON SCENE                    3703.470710  215604.418935  \nDUSK                   AMENDED                     6000.000000  238542.500000  \n                       NOT ON SCENE (DESK REPORT)  3787.703476  224259.257669  \n                       ON SCENE                    3773.267477  236552.328267  \nUNKNOWN                NOT ON SCENE (DESK REPORT)  3886.239272  227247.088427  \n                       ON SCENE                    3932.880829  199036.533679  ",
      "text/html": "<div>\n<style scoped>\n    .dataframe tbody tr th:only-of-type {\n        vertical-align: middle;\n    }\n\n    .dataframe tbody tr th {\n        vertical-align: top;\n    }\n\n    .dataframe thead th {\n        text-align: right;\n    }\n</style>\n<table border=\"1\" class=\"dataframe\">\n  <thead>\n    <tr style=\"text-align: right;\">\n      <th></th>\n      <th></th>\n      <th>BEAT_OF_OCCURRENCE</th>\n      <th>CRASH_DAY_OF_WEEK</th>\n      <th>CRASH_HOUR</th>\n      <th>CRASH_MONTH</th>\n      <th>INJURIES_FATAL</th>\n      <th>INJURIES_INCAPACITATING</th>\n      <th>INJURIES_NON_INCAPACITATING</th>\n      <th>INJURIES_NO_INDICATION</th>\n      <th>INJURIES_REPORTED_NOT_EVIDENT</th>\n      <th>INJURIES_TOTAL</th>\n      <th>INJURIES_UNKNOWN</th>\n      <th>LANE_CNT</th>\n      <th>LATITUDE</th>\n      <th>LONGITUDE</th>\n      <th>NUM_UNITS</th>\n      <th>POSTED_SPEED_LIMIT</th>\n      <th>STREET_NO</th>\n      <th>Unnamed: 0</th>\n    </tr>\n    <tr>\n      <th>LIGHTING_CONDITION</th>\n      <th>REPORT_TYPE</th>\n      <th></th>\n      <th></th>\n      <th></th>\n      <th></th>\n      <th></th>\n      <th></th>\n      <th></th>\n      <th></th>\n      <th></th>\n      <th></th>\n      <th></th>\n      <th></th>\n      <th></th>\n      <th></th>\n      <th></th>\n      <th></th>\n      <th></th>\n      <th></th>\n    </tr>\n  </thead>\n  <tbody>\n    <tr>\n      <th rowspan=\"3\" valign=\"top\">DARKNESS</th>\n      <th>AMENDED</th>\n      <td>1614.000000</td>\n      <td>5.000000</td>\n      <td>20.000000</td>\n      <td>6.000000</td>\n      <td>0.000000</td>\n      <td>0.000000</td>\n      <td>0.000000</td>\n      <td>2.000000</td>\n      <td>0.000000</td>\n      <td>0.000000</td>\n      <td>0.0</td>\n      <td>2.000000</td>\n      <td>41.954006</td>\n      <td>-87.835332</td>\n      <td>2.000000</td>\n      <td>30.000000</td>\n      <td>8324.000000</td>\n      <td>322381.000000</td>\n    </tr>\n    <tr>\n      <th>NOT ON SCENE (DESK REPORT)</th>\n      <td>1183.079090</td>\n      <td>4.100758</td>\n      <td>15.395450</td>\n      <td>6.903575</td>\n      <td>0.000000</td>\n      <td>0.015168</td>\n      <td>0.027086</td>\n      <td>1.934995</td>\n      <td>0.033586</td>\n      <td>0.075840</td>\n      <td>0.0</td>\n      <td>2.548673</td>\n      <td>41.846363</td>\n      <td>-87.670044</td>\n      <td>1.973998</td>\n      <td>27.621885</td>\n      <td>3777.507042</td>\n      <td>230103.153846</td>\n    </tr>\n    <tr>\n      <th>ON SCENE</th>\n      <td>1166.488235</td>\n      <td>4.200000</td>\n      <td>13.735294</td>\n      <td>6.786275</td>\n      <td>0.000000</td>\n      <td>0.039293</td>\n      <td>0.208251</td>\n      <td>1.679764</td>\n      <td>0.115914</td>\n      <td>0.363458</td>\n      <td>0.0</td>\n      <td>2.316279</td>\n      <td>41.842181</td>\n      <td>-87.675566</td>\n      <td>2.074510</td>\n      <td>28.290196</td>\n      <td>3991.017647</td>\n      <td>214160.031373</td>\n    </tr>\n    <tr>\n      <th rowspan=\"3\" valign=\"top\">DARKNESS, LIGHTED ROAD</th>\n      <th>AMENDED</th>\n      <td>922.666667</td>\n      <td>6.333333</td>\n      <td>22.000000</td>\n      <td>4.333333</td>\n      <td>0.333333</td>\n      <td>0.000000</td>\n      <td>0.000000</td>\n      <td>1.000000</td>\n      <td>0.000000</td>\n      <td>0.333333</td>\n      <td>0.0</td>\n      <td>2.666667</td>\n      <td>41.803556</td>\n      <td>-87.638638</td>\n      <td>1.666667</td>\n      <td>20.000000</td>\n      <td>3077.666667</td>\n      <td>315089.333333</td>\n    </tr>\n    <tr>\n      <th>NOT ON SCENE (DESK REPORT)</th>\n      <td>1298.297699</td>\n      <td>4.208612</td>\n      <td>15.688938</td>\n      <td>6.579065</td>\n      <td>0.000000</td>\n      <td>0.006310</td>\n      <td>0.030438</td>\n      <td>2.057906</td>\n      <td>0.033779</td>\n      <td>0.070527</td>\n      <td>0.0</td>\n      <td>2.502168</td>\n      <td>41.865385</td>\n      <td>-87.677251</td>\n      <td>1.997030</td>\n      <td>28.476986</td>\n      <td>3505.801782</td>\n      <td>233109.353378</td>\n    </tr>\n    <tr>\n      <th>ON SCENE</th>\n      <td>1223.077152</td>\n      <td>4.061258</td>\n      <td>12.978808</td>\n      <td>6.926159</td>\n      <td>0.004667</td>\n      <td>0.045667</td>\n      <td>0.224667</td>\n      <td>1.841000</td>\n      <td>0.093000</td>\n      <td>0.368000</td>\n      <td>0.0</td>\n      <td>2.532380</td>\n      <td>41.839543</td>\n      <td>-87.651047</td>\n      <td>2.096358</td>\n      <td>29.262252</td>\n      <td>3663.904967</td>\n      <td>219285.096358</td>\n    </tr>\n    <tr>\n      <th rowspan=\"2\" valign=\"top\">DAWN</th>\n      <th>NOT ON SCENE (DESK REPORT)</th>\n      <td>1137.302789</td>\n      <td>4.047809</td>\n      <td>11.816733</td>\n      <td>6.900398</td>\n      <td>0.000000</td>\n      <td>0.003984</td>\n      <td>0.051793</td>\n      <td>1.948207</td>\n      <td>0.035857</td>\n      <td>0.091633</td>\n      <td>0.0</td>\n      <td>2.539216</td>\n      <td>41.847444</td>\n      <td>-87.674032</td>\n      <td>1.972112</td>\n      <td>28.466135</td>\n      <td>3835.406375</td>\n      <td>230564.916335</td>\n    </tr>\n    <tr>\n      <th>ON SCENE</th>\n      <td>1183.760181</td>\n      <td>4.049774</td>\n      <td>9.266968</td>\n      <td>6.909502</td>\n      <td>0.000000</td>\n      <td>0.027273</td>\n      <td>0.186364</td>\n      <td>1.818182</td>\n      <td>0.059091</td>\n      <td>0.272727</td>\n      <td>0.0</td>\n      <td>2.511905</td>\n      <td>41.659530</td>\n      <td>-87.273856</td>\n      <td>2.036199</td>\n      <td>28.343891</td>\n      <td>3942.570136</td>\n      <td>206568.773756</td>\n    </tr>\n    <tr>\n      <th rowspan=\"3\" valign=\"top\">DAYLIGHT</th>\n      <th>AMENDED</th>\n      <td>1261.692308</td>\n      <td>4.307692</td>\n      <td>11.923077</td>\n      <td>7.000000</td>\n      <td>0.000000</td>\n      <td>0.000000</td>\n      <td>0.076923</td>\n      <td>2.615385</td>\n      <td>0.000000</td>\n      <td>0.076923</td>\n      <td>0.0</td>\n      <td>2.333333</td>\n      <td>41.884794</td>\n      <td>-87.677438</td>\n      <td>2.153846</td>\n      <td>29.615385</td>\n      <td>3802.846154</td>\n      <td>204369.538462</td>\n    </tr>\n    <tr>\n      <th>NOT ON SCENE (DESK REPORT)</th>\n      <td>1263.180461</td>\n      <td>4.127474</td>\n      <td>12.749100</td>\n      <td>6.566031</td>\n      <td>0.000000</td>\n      <td>0.001981</td>\n      <td>0.021342</td>\n      <td>2.104818</td>\n      <td>0.028726</td>\n      <td>0.052049</td>\n      <td>0.0</td>\n      <td>2.598294</td>\n      <td>41.859707</td>\n      <td>-87.669711</td>\n      <td>2.004048</td>\n      <td>27.996582</td>\n      <td>3498.125315</td>\n      <td>229400.869647</td>\n    </tr>\n    <tr>\n      <th>ON SCENE</th>\n      <td>1228.757692</td>\n      <td>4.129142</td>\n      <td>12.275000</td>\n      <td>6.650740</td>\n      <td>0.001334</td>\n      <td>0.035862</td>\n      <td>0.196058</td>\n      <td>2.041790</td>\n      <td>0.098103</td>\n      <td>0.331357</td>\n      <td>0.0</td>\n      <td>2.622534</td>\n      <td>41.856271</td>\n      <td>-87.680507</td>\n      <td>2.064053</td>\n      <td>28.331361</td>\n      <td>3703.470710</td>\n      <td>215604.418935</td>\n    </tr>\n    <tr>\n      <th rowspan=\"3\" valign=\"top\">DUSK</th>\n      <th>AMENDED</th>\n      <td>321.500000</td>\n      <td>3.500000</td>\n      <td>20.000000</td>\n      <td>6.000000</td>\n      <td>0.000000</td>\n      <td>0.000000</td>\n      <td>1.000000</td>\n      <td>3.500000</td>\n      <td>0.000000</td>\n      <td>1.000000</td>\n      <td>0.0</td>\n      <td>5.000000</td>\n      <td>41.785816</td>\n      <td>-87.597958</td>\n      <td>2.500000</td>\n      <td>40.000000</td>\n      <td>6000.000000</td>\n      <td>238542.500000</td>\n    </tr>\n    <tr>\n      <th>NOT ON SCENE (DESK REPORT)</th>\n      <td>1252.676892</td>\n      <td>4.034765</td>\n      <td>16.787321</td>\n      <td>7.406953</td>\n      <td>0.000000</td>\n      <td>0.004098</td>\n      <td>0.030738</td>\n      <td>2.170082</td>\n      <td>0.026639</td>\n      <td>0.061475</td>\n      <td>0.0</td>\n      <td>2.404348</td>\n      <td>41.852063</td>\n      <td>-87.678158</td>\n      <td>1.993865</td>\n      <td>28.139059</td>\n      <td>3787.703476</td>\n      <td>224259.257669</td>\n    </tr>\n    <tr>\n      <th>ON SCENE</th>\n      <td>1223.255319</td>\n      <td>4.179331</td>\n      <td>16.905775</td>\n      <td>6.908815</td>\n      <td>0.003049</td>\n      <td>0.033537</td>\n      <td>0.170732</td>\n      <td>2.121951</td>\n      <td>0.085366</td>\n      <td>0.292683</td>\n      <td>0.0</td>\n      <td>2.582677</td>\n      <td>41.854784</td>\n      <td>-87.677436</td>\n      <td>2.094225</td>\n      <td>28.860182</td>\n      <td>3773.267477</td>\n      <td>236552.328267</td>\n    </tr>\n    <tr>\n      <th rowspan=\"2\" valign=\"top\">UNKNOWN</th>\n      <th>NOT ON SCENE (DESK REPORT)</th>\n      <td>1410.566406</td>\n      <td>4.127438</td>\n      <td>12.798440</td>\n      <td>6.931079</td>\n      <td>0.000000</td>\n      <td>0.001304</td>\n      <td>0.010430</td>\n      <td>1.514993</td>\n      <td>0.007823</td>\n      <td>0.019557</td>\n      <td>0.0</td>\n      <td>1.857971</td>\n      <td>41.870687</td>\n      <td>-87.684011</td>\n      <td>1.985696</td>\n      <td>26.762029</td>\n      <td>3886.239272</td>\n      <td>227247.088427</td>\n    </tr>\n    <tr>\n      <th>ON SCENE</th>\n      <td>1258.668394</td>\n      <td>4.010363</td>\n      <td>10.393782</td>\n      <td>6.844560</td>\n      <td>0.000000</td>\n      <td>0.005236</td>\n      <td>0.052356</td>\n      <td>1.178010</td>\n      <td>0.020942</td>\n      <td>0.078534</td>\n      <td>0.0</td>\n      <td>1.702703</td>\n      <td>41.859140</td>\n      <td>-87.677764</td>\n      <td>2.020725</td>\n      <td>26.031088</td>\n      <td>3932.880829</td>\n      <td>199036.533679</td>\n    </tr>\n  </tbody>\n</table>\n</div>"
     },
     "metadata": {}
    }
   ]
  },
  {
   "cell_type": "markdown",
   "source": "Con la función ```filter``` se pueden filtrar las columnas deseadas.",
   "metadata": {
    "cell_id": "ad9067c8e4c14f579ea6a2ebcf5a665e",
    "tags": [],
    "deepnote_cell_type": "markdown",
    "deepnote_cell_height": 52.390625
   }
  },
  {
   "cell_type": "code",
   "metadata": {
    "cell_id": "e239a62ffdd141ef91cbe06eb103a8e5",
    "tags": [],
    "deepnote_to_be_reexecuted": false,
    "source_hash": "4f0bd71d",
    "execution_start": 1649809226132,
    "execution_millis": 61,
    "deepnote_cell_type": "code",
    "deepnote_cell_height": 600
   },
   "source": "df_chicago.filter(['LIGHTING_CONDITION', 'REPORT_TYPE'])",
   "execution_count": null,
   "outputs": [
    {
     "output_type": "execute_result",
     "execution_count": 23,
     "data": {
      "application/vnd.deepnote.dataframe.v3+json": {
       "column_count": 2,
       "row_count": 27961,
       "columns": [
        {
         "name": "LIGHTING_CONDITION",
         "dtype": "object",
         "stats": {
          "unique_count": 6,
          "nan_count": 0,
          "categories": [
           {
            "name": "DAYLIGHT",
            "count": 18296
           },
           {
            "name": "DARKNESS, LIGHTED ROAD",
            "count": 5883
           },
           {
            "name": "4 others",
            "count": 3782
           }
          ]
         }
        },
        {
         "name": "REPORT_TYPE",
         "dtype": "object",
         "stats": {
          "unique_count": 3,
          "nan_count": 667,
          "categories": [
           {
            "name": "NOT ON SCENE (DESK REPORT)",
            "count": 16242
           },
           {
            "name": "2 others",
            "count": 11052
           },
           {
            "name": "Missing",
            "count": 667
           }
          ]
         }
        },
        {
         "name": "_deepnote_index_column",
         "dtype": "int64"
        }
       ],
       "rows": [
        {
         "LIGHTING_CONDITION": "DAYLIGHT",
         "REPORT_TYPE": "NOT ON SCENE (DESK REPORT)",
         "_deepnote_index_column": 0
        },
        {
         "LIGHTING_CONDITION": "DAYLIGHT",
         "REPORT_TYPE": "ON SCENE",
         "_deepnote_index_column": 1
        },
        {
         "LIGHTING_CONDITION": "DAYLIGHT",
         "REPORT_TYPE": "ON SCENE",
         "_deepnote_index_column": 2
        },
        {
         "LIGHTING_CONDITION": "UNKNOWN",
         "REPORT_TYPE": "ON SCENE",
         "_deepnote_index_column": 3
        },
        {
         "LIGHTING_CONDITION": "DAYLIGHT",
         "REPORT_TYPE": "NOT ON SCENE (DESK REPORT)",
         "_deepnote_index_column": 4
        },
        {
         "LIGHTING_CONDITION": "DAYLIGHT",
         "REPORT_TYPE": "NOT ON SCENE (DESK REPORT)",
         "_deepnote_index_column": 5
        },
        {
         "LIGHTING_CONDITION": "DAYLIGHT",
         "REPORT_TYPE": "ON SCENE",
         "_deepnote_index_column": 6
        },
        {
         "LIGHTING_CONDITION": "DAYLIGHT",
         "REPORT_TYPE": "ON SCENE",
         "_deepnote_index_column": 7
        },
        {
         "LIGHTING_CONDITION": "DARKNESS, LIGHTED ROAD",
         "REPORT_TYPE": "ON SCENE",
         "_deepnote_index_column": 8
        },
        {
         "LIGHTING_CONDITION": "DAYLIGHT",
         "REPORT_TYPE": "NOT ON SCENE (DESK REPORT)",
         "_deepnote_index_column": 9
        }
       ]
      },
      "text/plain": "      LIGHTING_CONDITION                 REPORT_TYPE\n0               DAYLIGHT  NOT ON SCENE (DESK REPORT)\n1               DAYLIGHT                    ON SCENE\n2               DAYLIGHT                    ON SCENE\n3                UNKNOWN                    ON SCENE\n4               DAYLIGHT  NOT ON SCENE (DESK REPORT)\n...                  ...                         ...\n27956           DAYLIGHT                    ON SCENE\n27957           DAYLIGHT  NOT ON SCENE (DESK REPORT)\n27958           DAYLIGHT                    ON SCENE\n27959           DAYLIGHT  NOT ON SCENE (DESK REPORT)\n27960            UNKNOWN  NOT ON SCENE (DESK REPORT)\n\n[27961 rows x 2 columns]",
      "text/html": "<div>\n<style scoped>\n    .dataframe tbody tr th:only-of-type {\n        vertical-align: middle;\n    }\n\n    .dataframe tbody tr th {\n        vertical-align: top;\n    }\n\n    .dataframe thead th {\n        text-align: right;\n    }\n</style>\n<table border=\"1\" class=\"dataframe\">\n  <thead>\n    <tr style=\"text-align: right;\">\n      <th></th>\n      <th>LIGHTING_CONDITION</th>\n      <th>REPORT_TYPE</th>\n    </tr>\n  </thead>\n  <tbody>\n    <tr>\n      <th>0</th>\n      <td>DAYLIGHT</td>\n      <td>NOT ON SCENE (DESK REPORT)</td>\n    </tr>\n    <tr>\n      <th>1</th>\n      <td>DAYLIGHT</td>\n      <td>ON SCENE</td>\n    </tr>\n    <tr>\n      <th>2</th>\n      <td>DAYLIGHT</td>\n      <td>ON SCENE</td>\n    </tr>\n    <tr>\n      <th>3</th>\n      <td>UNKNOWN</td>\n      <td>ON SCENE</td>\n    </tr>\n    <tr>\n      <th>4</th>\n      <td>DAYLIGHT</td>\n      <td>NOT ON SCENE (DESK REPORT)</td>\n    </tr>\n    <tr>\n      <th>...</th>\n      <td>...</td>\n      <td>...</td>\n    </tr>\n    <tr>\n      <th>27956</th>\n      <td>DAYLIGHT</td>\n      <td>ON SCENE</td>\n    </tr>\n    <tr>\n      <th>27957</th>\n      <td>DAYLIGHT</td>\n      <td>NOT ON SCENE (DESK REPORT)</td>\n    </tr>\n    <tr>\n      <th>27958</th>\n      <td>DAYLIGHT</td>\n      <td>ON SCENE</td>\n    </tr>\n    <tr>\n      <th>27959</th>\n      <td>DAYLIGHT</td>\n      <td>NOT ON SCENE (DESK REPORT)</td>\n    </tr>\n    <tr>\n      <th>27960</th>\n      <td>UNKNOWN</td>\n      <td>NOT ON SCENE (DESK REPORT)</td>\n    </tr>\n  </tbody>\n</table>\n<p>27961 rows × 2 columns</p>\n</div>"
     },
     "metadata": {}
    }
   ]
  },
  {
   "cell_type": "markdown",
   "source": "Por su parte, los crosstab nos dan el conteo entre dos columnas.",
   "metadata": {
    "cell_id": "5cb77dcf625e4901b0b578b95153534f",
    "tags": [],
    "deepnote_cell_type": "markdown",
    "deepnote_cell_height": 52.390625
   }
  },
  {
   "cell_type": "code",
   "metadata": {
    "cell_id": "4a2d039596354991949559d438841bf0",
    "tags": [],
    "deepnote_to_be_reexecuted": false,
    "source_hash": "408e1567",
    "execution_start": 1649809517793,
    "execution_millis": 790,
    "deepnote_cell_type": "code",
    "deepnote_cell_height": 452.796875
   },
   "source": "pd.crosstab(df_chicago['LIGHTING_CONDITION'],df_chicago['CRASH_HOUR'])",
   "execution_count": null,
   "outputs": [
    {
     "output_type": "execute_result",
     "execution_count": 25,
     "data": {
      "application/vnd.deepnote.dataframe.v3+json": {
       "column_count": 24,
       "row_count": 6,
       "columns": [
        {
         "name": 0,
         "dtype": "int64",
         "stats": {
          "unique_count": 5,
          "nan_count": 0,
          "min": "5",
          "max": "449",
          "histogram": [
           {
            "bin_start": 5,
            "bin_end": 49.4,
            "count": 4
           },
           {
            "bin_start": 49.4,
            "bin_end": 93.8,
            "count": 1
           },
           {
            "bin_start": 93.8,
            "bin_end": 138.2,
            "count": 0
           },
           {
            "bin_start": 138.2,
            "bin_end": 182.6,
            "count": 0
           },
           {
            "bin_start": 182.6,
            "bin_end": 227,
            "count": 0
           },
           {
            "bin_start": 227,
            "bin_end": 271.4,
            "count": 0
           },
           {
            "bin_start": 271.4,
            "bin_end": 315.8,
            "count": 0
           },
           {
            "bin_start": 315.8,
            "bin_end": 360.2,
            "count": 0
           },
           {
            "bin_start": 360.2,
            "bin_end": 404.59999999999997,
            "count": 0
           },
           {
            "bin_start": 404.59999999999997,
            "bin_end": 449,
            "count": 1
           }
          ]
         }
        },
        {
         "name": 1,
         "dtype": "int64",
         "stats": {
          "unique_count": 6,
          "nan_count": 0,
          "min": "2",
          "max": "358",
          "histogram": [
           {
            "bin_start": 2,
            "bin_end": 37.6,
            "count": 4
           },
           {
            "bin_start": 37.6,
            "bin_end": 73.2,
            "count": 0
           },
           {
            "bin_start": 73.2,
            "bin_end": 108.80000000000001,
            "count": 1
           },
           {
            "bin_start": 108.80000000000001,
            "bin_end": 144.4,
            "count": 0
           },
           {
            "bin_start": 144.4,
            "bin_end": 180,
            "count": 0
           },
           {
            "bin_start": 180,
            "bin_end": 215.60000000000002,
            "count": 0
           },
           {
            "bin_start": 215.60000000000002,
            "bin_end": 251.20000000000002,
            "count": 0
           },
           {
            "bin_start": 251.20000000000002,
            "bin_end": 286.8,
            "count": 0
           },
           {
            "bin_start": 286.8,
            "bin_end": 322.40000000000003,
            "count": 0
           },
           {
            "bin_start": 322.40000000000003,
            "bin_end": 358,
            "count": 1
           }
          ]
         }
        },
        {
         "name": 2,
         "dtype": "int64",
         "stats": {
          "unique_count": 5,
          "nan_count": 0,
          "min": "3",
          "max": "343",
          "histogram": [
           {
            "bin_start": 3,
            "bin_end": 37,
            "count": 4
           },
           {
            "bin_start": 37,
            "bin_end": 71,
            "count": 1
           },
           {
            "bin_start": 71,
            "bin_end": 105,
            "count": 0
           },
           {
            "bin_start": 105,
            "bin_end": 139,
            "count": 0
           },
           {
            "bin_start": 139,
            "bin_end": 173,
            "count": 0
           },
           {
            "bin_start": 173,
            "bin_end": 207,
            "count": 0
           },
           {
            "bin_start": 207,
            "bin_end": 241,
            "count": 0
           },
           {
            "bin_start": 241,
            "bin_end": 275,
            "count": 0
           },
           {
            "bin_start": 275,
            "bin_end": 309,
            "count": 0
           },
           {
            "bin_start": 309,
            "bin_end": 343,
            "count": 1
           }
          ]
         }
        },
        {
         "name": 3,
         "dtype": "int64",
         "stats": {
          "unique_count": 6,
          "nan_count": 0,
          "min": "2",
          "max": "243",
          "histogram": [
           {
            "bin_start": 2,
            "bin_end": 26.1,
            "count": 4
           },
           {
            "bin_start": 26.1,
            "bin_end": 50.2,
            "count": 0
           },
           {
            "bin_start": 50.2,
            "bin_end": 74.30000000000001,
            "count": 1
           },
           {
            "bin_start": 74.30000000000001,
            "bin_end": 98.4,
            "count": 0
           },
           {
            "bin_start": 98.4,
            "bin_end": 122.5,
            "count": 0
           },
           {
            "bin_start": 122.5,
            "bin_end": 146.60000000000002,
            "count": 0
           },
           {
            "bin_start": 146.60000000000002,
            "bin_end": 170.70000000000002,
            "count": 0
           },
           {
            "bin_start": 170.70000000000002,
            "bin_end": 194.8,
            "count": 0
           },
           {
            "bin_start": 194.8,
            "bin_end": 218.9,
            "count": 0
           },
           {
            "bin_start": 218.9,
            "bin_end": 243,
            "count": 1
           }
          ]
         }
        },
        {
         "name": 4,
         "dtype": "int64",
         "stats": {
          "unique_count": 6,
          "nan_count": 0,
          "min": "7",
          "max": "184",
          "histogram": [
           {
            "bin_start": 7,
            "bin_end": 24.7,
            "count": 4
           },
           {
            "bin_start": 24.7,
            "bin_end": 42.4,
            "count": 0
           },
           {
            "bin_start": 42.4,
            "bin_end": 60.099999999999994,
            "count": 1
           },
           {
            "bin_start": 60.099999999999994,
            "bin_end": 77.8,
            "count": 0
           },
           {
            "bin_start": 77.8,
            "bin_end": 95.5,
            "count": 0
           },
           {
            "bin_start": 95.5,
            "bin_end": 113.19999999999999,
            "count": 0
           },
           {
            "bin_start": 113.19999999999999,
            "bin_end": 130.89999999999998,
            "count": 0
           },
           {
            "bin_start": 130.89999999999998,
            "bin_end": 148.6,
            "count": 0
           },
           {
            "bin_start": 148.6,
            "bin_end": 166.29999999999998,
            "count": 0
           },
           {
            "bin_start": 166.29999999999998,
            "bin_end": 184,
            "count": 1
           }
          ]
         }
        },
        {
         "name": 5,
         "dtype": "int64",
         "stats": {
          "unique_count": 6,
          "nan_count": 0,
          "min": "14",
          "max": "170",
          "histogram": [
           {
            "bin_start": 14,
            "bin_end": 29.6,
            "count": 2
           },
           {
            "bin_start": 29.6,
            "bin_end": 45.2,
            "count": 1
           },
           {
            "bin_start": 45.2,
            "bin_end": 60.8,
            "count": 0
           },
           {
            "bin_start": 60.8,
            "bin_end": 76.4,
            "count": 0
           },
           {
            "bin_start": 76.4,
            "bin_end": 92,
            "count": 2
           },
           {
            "bin_start": 92,
            "bin_end": 107.6,
            "count": 0
           },
           {
            "bin_start": 107.6,
            "bin_end": 123.2,
            "count": 0
           },
           {
            "bin_start": 123.2,
            "bin_end": 138.8,
            "count": 0
           },
           {
            "bin_start": 138.8,
            "bin_end": 154.4,
            "count": 0
           },
           {
            "bin_start": 154.4,
            "bin_end": 170,
            "count": 1
           }
          ]
         }
        },
        {
         "name": 6,
         "dtype": "int64",
         "stats": {
          "unique_count": 6,
          "nan_count": 0,
          "min": "10",
          "max": "367",
          "histogram": [
           {
            "bin_start": 10,
            "bin_end": 45.7,
            "count": 3
           },
           {
            "bin_start": 45.7,
            "bin_end": 81.4,
            "count": 0
           },
           {
            "bin_start": 81.4,
            "bin_end": 117.10000000000001,
            "count": 2
           },
           {
            "bin_start": 117.10000000000001,
            "bin_end": 152.8,
            "count": 0
           },
           {
            "bin_start": 152.8,
            "bin_end": 188.5,
            "count": 0
           },
           {
            "bin_start": 188.5,
            "bin_end": 224.20000000000002,
            "count": 0
           },
           {
            "bin_start": 224.20000000000002,
            "bin_end": 259.90000000000003,
            "count": 0
           },
           {
            "bin_start": 259.90000000000003,
            "bin_end": 295.6,
            "count": 0
           },
           {
            "bin_start": 295.6,
            "bin_end": 331.3,
            "count": 0
           },
           {
            "bin_start": 331.3,
            "bin_end": 367,
            "count": 1
           }
          ]
         }
        },
        {
         "name": 7,
         "dtype": "int64",
         "stats": {
          "unique_count": 6,
          "nan_count": 0,
          "min": "3",
          "max": "1150",
          "histogram": [
           {
            "bin_start": 3,
            "bin_end": 117.7,
            "count": 5
           },
           {
            "bin_start": 117.7,
            "bin_end": 232.4,
            "count": 0
           },
           {
            "bin_start": 232.4,
            "bin_end": 347.1,
            "count": 0
           },
           {
            "bin_start": 347.1,
            "bin_end": 461.8,
            "count": 0
           },
           {
            "bin_start": 461.8,
            "bin_end": 576.5,
            "count": 0
           },
           {
            "bin_start": 576.5,
            "bin_end": 691.2,
            "count": 0
           },
           {
            "bin_start": 691.2,
            "bin_end": 805.9,
            "count": 0
           },
           {
            "bin_start": 805.9,
            "bin_end": 920.6,
            "count": 0
           },
           {
            "bin_start": 920.6,
            "bin_end": 1035.3,
            "count": 0
           },
           {
            "bin_start": 1035.3,
            "bin_end": 1150,
            "count": 1
           }
          ]
         }
        },
        {
         "name": 8,
         "dtype": "int64",
         "stats": {
          "unique_count": 6,
          "nan_count": 0,
          "min": "1",
          "max": "1456",
          "histogram": [
           {
            "bin_start": 1,
            "bin_end": 146.5,
            "count": 5
           },
           {
            "bin_start": 146.5,
            "bin_end": 292,
            "count": 0
           },
           {
            "bin_start": 292,
            "bin_end": 437.5,
            "count": 0
           },
           {
            "bin_start": 437.5,
            "bin_end": 583,
            "count": 0
           },
           {
            "bin_start": 583,
            "bin_end": 728.5,
            "count": 0
           },
           {
            "bin_start": 728.5,
            "bin_end": 874,
            "count": 0
           },
           {
            "bin_start": 874,
            "bin_end": 1019.5,
            "count": 0
           },
           {
            "bin_start": 1019.5,
            "bin_end": 1165,
            "count": 0
           },
           {
            "bin_start": 1165,
            "bin_end": 1310.5,
            "count": 0
           },
           {
            "bin_start": 1310.5,
            "bin_end": 1456,
            "count": 1
           }
          ]
         }
        },
        {
         "name": 9,
         "dtype": "int64",
         "stats": {
          "unique_count": 5,
          "nan_count": 0,
          "min": "2",
          "max": "1268",
          "histogram": [
           {
            "bin_start": 2,
            "bin_end": 128.6,
            "count": 5
           },
           {
            "bin_start": 128.6,
            "bin_end": 255.2,
            "count": 0
           },
           {
            "bin_start": 255.2,
            "bin_end": 381.79999999999995,
            "count": 0
           },
           {
            "bin_start": 381.79999999999995,
            "bin_end": 508.4,
            "count": 0
           },
           {
            "bin_start": 508.4,
            "bin_end": 635,
            "count": 0
           },
           {
            "bin_start": 635,
            "bin_end": 761.5999999999999,
            "count": 0
           },
           {
            "bin_start": 761.5999999999999,
            "bin_end": 888.1999999999999,
            "count": 0
           },
           {
            "bin_start": 888.1999999999999,
            "bin_end": 1014.8,
            "count": 0
           },
           {
            "bin_start": 1014.8,
            "bin_end": 1141.3999999999999,
            "count": 0
           },
           {
            "bin_start": 1141.3999999999999,
            "bin_end": 1268,
            "count": 1
           }
          ]
         }
        },
        {
         "name": 10,
         "dtype": "int64",
         "stats": {
          "unique_count": 6,
          "nan_count": 0,
          "min": "0",
          "max": "1198",
          "histogram": [
           {
            "bin_start": 0,
            "bin_end": 119.8,
            "count": 5
           },
           {
            "bin_start": 119.8,
            "bin_end": 239.6,
            "count": 0
           },
           {
            "bin_start": 239.6,
            "bin_end": 359.4,
            "count": 0
           },
           {
            "bin_start": 359.4,
            "bin_end": 479.2,
            "count": 0
           },
           {
            "bin_start": 479.2,
            "bin_end": 599,
            "count": 0
           },
           {
            "bin_start": 599,
            "bin_end": 718.8,
            "count": 0
           },
           {
            "bin_start": 718.8,
            "bin_end": 838.6,
            "count": 0
           },
           {
            "bin_start": 838.6,
            "bin_end": 958.4,
            "count": 0
           },
           {
            "bin_start": 958.4,
            "bin_end": 1078.2,
            "count": 0
           },
           {
            "bin_start": 1078.2,
            "bin_end": 1198,
            "count": 1
           }
          ]
         }
        },
        {
         "name": 11,
         "dtype": "int64",
         "stats": {
          "unique_count": 5,
          "nan_count": 0,
          "min": "2",
          "max": "1377",
          "histogram": [
           {
            "bin_start": 2,
            "bin_end": 139.5,
            "count": 5
           },
           {
            "bin_start": 139.5,
            "bin_end": 277,
            "count": 0
           },
           {
            "bin_start": 277,
            "bin_end": 414.5,
            "count": 0
           },
           {
            "bin_start": 414.5,
            "bin_end": 552,
            "count": 0
           },
           {
            "bin_start": 552,
            "bin_end": 689.5,
            "count": 0
           },
           {
            "bin_start": 689.5,
            "bin_end": 827,
            "count": 0
           },
           {
            "bin_start": 827,
            "bin_end": 964.5,
            "count": 0
           },
           {
            "bin_start": 964.5,
            "bin_end": 1102,
            "count": 0
           },
           {
            "bin_start": 1102,
            "bin_end": 1239.5,
            "count": 0
           },
           {
            "bin_start": 1239.5,
            "bin_end": 1377,
            "count": 1
           }
          ]
         }
        },
        {
         "name": 12,
         "dtype": "int64",
         "stats": {
          "unique_count": 6,
          "nan_count": 0,
          "min": "2",
          "max": "1556",
          "histogram": [
           {
            "bin_start": 2,
            "bin_end": 157.4,
            "count": 5
           },
           {
            "bin_start": 157.4,
            "bin_end": 312.8,
            "count": 0
           },
           {
            "bin_start": 312.8,
            "bin_end": 468.20000000000005,
            "count": 0
           },
           {
            "bin_start": 468.20000000000005,
            "bin_end": 623.6,
            "count": 0
           },
           {
            "bin_start": 623.6,
            "bin_end": 779,
            "count": 0
           },
           {
            "bin_start": 779,
            "bin_end": 934.4000000000001,
            "count": 0
           },
           {
            "bin_start": 934.4000000000001,
            "bin_end": 1089.8,
            "count": 0
           },
           {
            "bin_start": 1089.8,
            "bin_end": 1245.2,
            "count": 0
           },
           {
            "bin_start": 1245.2,
            "bin_end": 1400.6000000000001,
            "count": 0
           },
           {
            "bin_start": 1400.6000000000001,
            "bin_end": 1556,
            "count": 1
           }
          ]
         }
        },
        {
         "name": 13,
         "dtype": "int64",
         "stats": {
          "unique_count": 6,
          "nan_count": 0,
          "min": "1",
          "max": "1659",
          "histogram": [
           {
            "bin_start": 1,
            "bin_end": 166.8,
            "count": 5
           },
           {
            "bin_start": 166.8,
            "bin_end": 332.6,
            "count": 0
           },
           {
            "bin_start": 332.6,
            "bin_end": 498.40000000000003,
            "count": 0
           },
           {
            "bin_start": 498.40000000000003,
            "bin_end": 664.2,
            "count": 0
           },
           {
            "bin_start": 664.2,
            "bin_end": 830,
            "count": 0
           },
           {
            "bin_start": 830,
            "bin_end": 995.8000000000001,
            "count": 0
           },
           {
            "bin_start": 995.8000000000001,
            "bin_end": 1161.6000000000001,
            "count": 0
           },
           {
            "bin_start": 1161.6000000000001,
            "bin_end": 1327.4,
            "count": 0
           },
           {
            "bin_start": 1327.4,
            "bin_end": 1493.2,
            "count": 0
           },
           {
            "bin_start": 1493.2,
            "bin_end": 1659,
            "count": 1
           }
          ]
         }
        },
        {
         "name": 14,
         "dtype": "int64",
         "stats": {
          "unique_count": 5,
          "nan_count": 0,
          "min": "5",
          "max": "1766",
          "histogram": [
           {
            "bin_start": 5,
            "bin_end": 181.1,
            "count": 5
           },
           {
            "bin_start": 181.1,
            "bin_end": 357.2,
            "count": 0
           },
           {
            "bin_start": 357.2,
            "bin_end": 533.3,
            "count": 0
           },
           {
            "bin_start": 533.3,
            "bin_end": 709.4,
            "count": 0
           },
           {
            "bin_start": 709.4,
            "bin_end": 885.5,
            "count": 0
           },
           {
            "bin_start": 885.5,
            "bin_end": 1061.6,
            "count": 0
           },
           {
            "bin_start": 1061.6,
            "bin_end": 1237.7,
            "count": 0
           },
           {
            "bin_start": 1237.7,
            "bin_end": 1413.8,
            "count": 0
           },
           {
            "bin_start": 1413.8,
            "bin_end": 1589.8999999999999,
            "count": 0
           },
           {
            "bin_start": 1589.8999999999999,
            "bin_end": 1766,
            "count": 1
           }
          ]
         }
        },
        {
         "name": 15,
         "dtype": "int64",
         "stats": {
          "unique_count": 6,
          "nan_count": 0,
          "min": "10",
          "max": "1955",
          "histogram": [
           {
            "bin_start": 10,
            "bin_end": 204.5,
            "count": 5
           },
           {
            "bin_start": 204.5,
            "bin_end": 399,
            "count": 0
           },
           {
            "bin_start": 399,
            "bin_end": 593.5,
            "count": 0
           },
           {
            "bin_start": 593.5,
            "bin_end": 788,
            "count": 0
           },
           {
            "bin_start": 788,
            "bin_end": 982.5,
            "count": 0
           },
           {
            "bin_start": 982.5,
            "bin_end": 1177,
            "count": 0
           },
           {
            "bin_start": 1177,
            "bin_end": 1371.5,
            "count": 0
           },
           {
            "bin_start": 1371.5,
            "bin_end": 1566,
            "count": 0
           },
           {
            "bin_start": 1566,
            "bin_end": 1760.5,
            "count": 0
           },
           {
            "bin_start": 1760.5,
            "bin_end": 1955,
            "count": 1
           }
          ]
         }
        },
        {
         "name": 16,
         "dtype": "int64",
         "stats": {
          "unique_count": 6,
          "nan_count": 0,
          "min": "27",
          "max": "1769",
          "histogram": [
           {
            "bin_start": 27,
            "bin_end": 201.2,
            "count": 5
           },
           {
            "bin_start": 201.2,
            "bin_end": 375.4,
            "count": 0
           },
           {
            "bin_start": 375.4,
            "bin_end": 549.5999999999999,
            "count": 0
           },
           {
            "bin_start": 549.5999999999999,
            "bin_end": 723.8,
            "count": 0
           },
           {
            "bin_start": 723.8,
            "bin_end": 898,
            "count": 0
           },
           {
            "bin_start": 898,
            "bin_end": 1072.1999999999998,
            "count": 0
           },
           {
            "bin_start": 1072.1999999999998,
            "bin_end": 1246.3999999999999,
            "count": 0
           },
           {
            "bin_start": 1246.3999999999999,
            "bin_end": 1420.6,
            "count": 0
           },
           {
            "bin_start": 1420.6,
            "bin_end": 1594.8,
            "count": 0
           },
           {
            "bin_start": 1594.8,
            "bin_end": 1769,
            "count": 1
           }
          ]
         }
        },
        {
         "name": 17,
         "dtype": "int64",
         "stats": {
          "unique_count": 6,
          "nan_count": 0,
          "min": "47",
          "max": "1375",
          "histogram": [
           {
            "bin_start": 47,
            "bin_end": 179.8,
            "count": 4
           },
           {
            "bin_start": 179.8,
            "bin_end": 312.6,
            "count": 0
           },
           {
            "bin_start": 312.6,
            "bin_end": 445.40000000000003,
            "count": 1
           },
           {
            "bin_start": 445.40000000000003,
            "bin_end": 578.2,
            "count": 0
           },
           {
            "bin_start": 578.2,
            "bin_end": 711,
            "count": 0
           },
           {
            "bin_start": 711,
            "bin_end": 843.8000000000001,
            "count": 0
           },
           {
            "bin_start": 843.8000000000001,
            "bin_end": 976.6000000000001,
            "count": 0
           },
           {
            "bin_start": 976.6000000000001,
            "bin_end": 1109.4,
            "count": 0
           },
           {
            "bin_start": 1109.4,
            "bin_end": 1242.2,
            "count": 0
           },
           {
            "bin_start": 1242.2,
            "bin_end": 1375,
            "count": 1
           }
          ]
         }
        },
        {
         "name": 18,
         "dtype": "int64",
         "stats": {
          "unique_count": 6,
          "nan_count": 0,
          "min": "38",
          "max": "819",
          "histogram": [
           {
            "bin_start": 38,
            "bin_end": 116.1,
            "count": 2
           },
           {
            "bin_start": 116.1,
            "bin_end": 194.2,
            "count": 2
           },
           {
            "bin_start": 194.2,
            "bin_end": 272.29999999999995,
            "count": 0
           },
           {
            "bin_start": 272.29999999999995,
            "bin_end": 350.4,
            "count": 0
           },
           {
            "bin_start": 350.4,
            "bin_end": 428.5,
            "count": 0
           },
           {
            "bin_start": 428.5,
            "bin_end": 506.59999999999997,
            "count": 1
           },
           {
            "bin_start": 506.59999999999997,
            "bin_end": 584.6999999999999,
            "count": 0
           },
           {
            "bin_start": 584.6999999999999,
            "bin_end": 662.8,
            "count": 0
           },
           {
            "bin_start": 662.8,
            "bin_end": 740.9,
            "count": 0
           },
           {
            "bin_start": 740.9,
            "bin_end": 819,
            "count": 1
           }
          ]
         }
        },
        {
         "name": 19,
         "dtype": "int64",
         "stats": {
          "unique_count": 6,
          "nan_count": 0,
          "min": "33",
          "max": "528",
          "histogram": [
           {
            "bin_start": 33,
            "bin_end": 82.5,
            "count": 2
           },
           {
            "bin_start": 82.5,
            "bin_end": 132,
            "count": 0
           },
           {
            "bin_start": 132,
            "bin_end": 181.5,
            "count": 2
           },
           {
            "bin_start": 181.5,
            "bin_end": 231,
            "count": 0
           },
           {
            "bin_start": 231,
            "bin_end": 280.5,
            "count": 0
           },
           {
            "bin_start": 280.5,
            "bin_end": 330,
            "count": 1
           },
           {
            "bin_start": 330,
            "bin_end": 379.5,
            "count": 0
           },
           {
            "bin_start": 379.5,
            "bin_end": 429,
            "count": 0
           },
           {
            "bin_start": 429,
            "bin_end": 478.5,
            "count": 0
           },
           {
            "bin_start": 478.5,
            "bin_end": 528,
            "count": 1
           }
          ]
         }
        },
        {
         "name": 20,
         "dtype": "int64",
         "stats": {
          "unique_count": 6,
          "nan_count": 0,
          "min": "13",
          "max": "607",
          "histogram": [
           {
            "bin_start": 13,
            "bin_end": 72.4,
            "count": 3
           },
           {
            "bin_start": 72.4,
            "bin_end": 131.8,
            "count": 1
           },
           {
            "bin_start": 131.8,
            "bin_end": 191.2,
            "count": 1
           },
           {
            "bin_start": 191.2,
            "bin_end": 250.6,
            "count": 0
           },
           {
            "bin_start": 250.6,
            "bin_end": 310,
            "count": 0
           },
           {
            "bin_start": 310,
            "bin_end": 369.4,
            "count": 0
           },
           {
            "bin_start": 369.4,
            "bin_end": 428.8,
            "count": 0
           },
           {
            "bin_start": 428.8,
            "bin_end": 488.2,
            "count": 0
           },
           {
            "bin_start": 488.2,
            "bin_end": 547.6,
            "count": 0
           },
           {
            "bin_start": 547.6,
            "bin_end": 607,
            "count": 1
           }
          ]
         }
        },
        {
         "name": 21,
         "dtype": "int64",
         "stats": {
          "unique_count": 6,
          "nan_count": 0,
          "min": "2",
          "max": "656",
          "histogram": [
           {
            "bin_start": 2,
            "bin_end": 67.4,
            "count": 4
           },
           {
            "bin_start": 67.4,
            "bin_end": 132.8,
            "count": 0
           },
           {
            "bin_start": 132.8,
            "bin_end": 198.20000000000002,
            "count": 1
           },
           {
            "bin_start": 198.20000000000002,
            "bin_end": 263.6,
            "count": 0
           },
           {
            "bin_start": 263.6,
            "bin_end": 329,
            "count": 0
           },
           {
            "bin_start": 329,
            "bin_end": 394.40000000000003,
            "count": 0
           },
           {
            "bin_start": 394.40000000000003,
            "bin_end": 459.80000000000007,
            "count": 0
           },
           {
            "bin_start": 459.80000000000007,
            "bin_end": 525.2,
            "count": 0
           },
           {
            "bin_start": 525.2,
            "bin_end": 590.6,
            "count": 0
           },
           {
            "bin_start": 590.6,
            "bin_end": 656,
            "count": 1
           }
          ]
         }
        },
        {
         "name": 22,
         "dtype": "int64",
         "stats": {
          "unique_count": 6,
          "nan_count": 0,
          "min": "4",
          "max": "648",
          "histogram": [
           {
            "bin_start": 4,
            "bin_end": 68.4,
            "count": 4
           },
           {
            "bin_start": 68.4,
            "bin_end": 132.8,
            "count": 1
           },
           {
            "bin_start": 132.8,
            "bin_end": 197.20000000000002,
            "count": 0
           },
           {
            "bin_start": 197.20000000000002,
            "bin_end": 261.6,
            "count": 0
           },
           {
            "bin_start": 261.6,
            "bin_end": 326,
            "count": 0
           },
           {
            "bin_start": 326,
            "bin_end": 390.40000000000003,
            "count": 0
           },
           {
            "bin_start": 390.40000000000003,
            "bin_end": 454.80000000000007,
            "count": 0
           },
           {
            "bin_start": 454.80000000000007,
            "bin_end": 519.2,
            "count": 0
           },
           {
            "bin_start": 519.2,
            "bin_end": 583.6,
            "count": 0
           },
           {
            "bin_start": 583.6,
            "bin_end": 648,
            "count": 1
           }
          ]
         }
        },
        {
         "name": 23,
         "dtype": "int64",
         "stats": {
          "unique_count": 6,
          "nan_count": 0,
          "min": "2",
          "max": "547",
          "histogram": [
           {
            "bin_start": 2,
            "bin_end": 56.5,
            "count": 4
           },
           {
            "bin_start": 56.5,
            "bin_end": 111,
            "count": 1
           },
           {
            "bin_start": 111,
            "bin_end": 165.5,
            "count": 0
           },
           {
            "bin_start": 165.5,
            "bin_end": 220,
            "count": 0
           },
           {
            "bin_start": 220,
            "bin_end": 274.5,
            "count": 0
           },
           {
            "bin_start": 274.5,
            "bin_end": 329,
            "count": 0
           },
           {
            "bin_start": 329,
            "bin_end": 383.5,
            "count": 0
           },
           {
            "bin_start": 383.5,
            "bin_end": 438,
            "count": 0
           },
           {
            "bin_start": 438,
            "bin_end": 492.5,
            "count": 0
           },
           {
            "bin_start": 492.5,
            "bin_end": 547,
            "count": 1
           }
          ]
         }
        },
        {
         "name": "_deepnote_index_column",
         "dtype": "object"
        }
       ],
       "rows": [
        {
         "0": 82,
         "1": 76,
         "2": 63,
         "3": 62,
         "4": 60,
         "5": 32,
         "6": 24,
         "7": 9,
         "8": 1,
         "9": 6,
         "10": 6,
         "11": 2,
         "12": 3,
         "13": 1,
         "14": 5,
         "15": 10,
         "16": 27,
         "17": 122,
         "18": 164,
         "19": 161,
         "20": 166,
         "21": 154,
         "22": 126,
         "23": 108,
         "_deepnote_index_column": "DARKNESS"
        },
        {
         "0": 449,
         "1": 358,
         "2": 343,
         "3": 243,
         "4": 184,
         "5": 170,
         "6": 103,
         "7": 13,
         "8": 11,
         "9": 17,
         "10": 15,
         "11": 16,
         "12": 12,
         "13": 5,
         "14": 11,
         "15": 15,
         "16": 105,
         "17": 371,
         "18": 456,
         "19": 528,
         "20": 607,
         "21": 656,
         "22": 648,
         "23": 547,
         "_deepnote_index_column": "DARKNESS, LIGHTED ROAD"
        },
        {
         "0": 5,
         "1": 2,
         "2": 3,
         "3": 2,
         "4": 16,
         "5": 80,
         "6": 109,
         "7": 42,
         "8": 9,
         "9": 6,
         "10": 4,
         "11": 2,
         "12": 4,
         "13": 6,
         "14": 10,
         "15": 16,
         "16": 34,
         "17": 47,
         "18": 38,
         "19": 33,
         "20": 13,
         "21": 2,
         "22": 4,
         "23": 2,
         "_deepnote_index_column": "DAWN"
        },
        {
         "0": 12,
         "1": 19,
         "2": 13,
         "3": 8,
         "4": 17,
         "5": 85,
         "6": 367,
         "7": 1150,
         "8": 1456,
         "9": 1268,
         "10": 1198,
         "11": 1377,
         "12": 1556,
         "13": 1659,
         "14": 1766,
         "15": 1955,
         "16": 1769,
         "17": 1375,
         "18": 819,
         "19": 315,
         "20": 70,
         "21": 19,
         "22": 14,
         "23": 9,
         "_deepnote_index_column": "DAYLIGHT"
        },
        {
         "0": 5,
         "1": 4,
         "2": 3,
         "3": 6,
         "4": 7,
         "5": 14,
         "6": 10,
         "7": 3,
         "8": 3,
         "9": 2,
         "10": 0,
         "11": 3,
         "12": 2,
         "13": 9,
         "14": 10,
         "15": 48,
         "16": 137,
         "17": 165,
         "18": 145,
         "19": 147,
         "20": 75,
         "21": 25,
         "22": 15,
         "23": 8,
         "_deepnote_index_column": "DUSK"
        },
        {
         "0": 40,
         "1": 29,
         "2": 23,
         "3": 20,
         "4": 15,
         "5": 16,
         "6": 39,
         "7": 44,
         "8": 60,
         "9": 52,
         "10": 56,
         "11": 37,
         "12": 55,
         "13": 38,
         "14": 39,
         "15": 52,
         "16": 61,
         "17": 55,
         "18": 66,
         "19": 41,
         "20": 42,
         "21": 41,
         "22": 32,
         "23": 24,
         "_deepnote_index_column": "UNKNOWN"
        }
       ]
      },
      "text/plain": "CRASH_HOUR               0    1    2    3    4    5    6     7     8     9   \\\nLIGHTING_CONDITION                                                            \nDARKNESS                 82   76   63   62   60   32   24     9     1     6   \nDARKNESS, LIGHTED ROAD  449  358  343  243  184  170  103    13    11    17   \nDAWN                      5    2    3    2   16   80  109    42     9     6   \nDAYLIGHT                 12   19   13    8   17   85  367  1150  1456  1268   \nDUSK                      5    4    3    6    7   14   10     3     3     2   \nUNKNOWN                  40   29   23   20   15   16   39    44    60    52   \n\nCRASH_HOUR              ...    14    15    16    17   18   19   20   21   22  \\\nLIGHTING_CONDITION      ...                                                    \nDARKNESS                ...     5    10    27   122  164  161  166  154  126   \nDARKNESS, LIGHTED ROAD  ...    11    15   105   371  456  528  607  656  648   \nDAWN                    ...    10    16    34    47   38   33   13    2    4   \nDAYLIGHT                ...  1766  1955  1769  1375  819  315   70   19   14   \nDUSK                    ...    10    48   137   165  145  147   75   25   15   \nUNKNOWN                 ...    39    52    61    55   66   41   42   41   32   \n\nCRASH_HOUR               23  \nLIGHTING_CONDITION           \nDARKNESS                108  \nDARKNESS, LIGHTED ROAD  547  \nDAWN                      2  \nDAYLIGHT                  9  \nDUSK                      8  \nUNKNOWN                  24  \n\n[6 rows x 24 columns]",
      "text/html": "<div>\n<style scoped>\n    .dataframe tbody tr th:only-of-type {\n        vertical-align: middle;\n    }\n\n    .dataframe tbody tr th {\n        vertical-align: top;\n    }\n\n    .dataframe thead th {\n        text-align: right;\n    }\n</style>\n<table border=\"1\" class=\"dataframe\">\n  <thead>\n    <tr style=\"text-align: right;\">\n      <th>CRASH_HOUR</th>\n      <th>0</th>\n      <th>1</th>\n      <th>2</th>\n      <th>3</th>\n      <th>4</th>\n      <th>5</th>\n      <th>6</th>\n      <th>7</th>\n      <th>8</th>\n      <th>9</th>\n      <th>...</th>\n      <th>14</th>\n      <th>15</th>\n      <th>16</th>\n      <th>17</th>\n      <th>18</th>\n      <th>19</th>\n      <th>20</th>\n      <th>21</th>\n      <th>22</th>\n      <th>23</th>\n    </tr>\n    <tr>\n      <th>LIGHTING_CONDITION</th>\n      <th></th>\n      <th></th>\n      <th></th>\n      <th></th>\n      <th></th>\n      <th></th>\n      <th></th>\n      <th></th>\n      <th></th>\n      <th></th>\n      <th></th>\n      <th></th>\n      <th></th>\n      <th></th>\n      <th></th>\n      <th></th>\n      <th></th>\n      <th></th>\n      <th></th>\n      <th></th>\n      <th></th>\n    </tr>\n  </thead>\n  <tbody>\n    <tr>\n      <th>DARKNESS</th>\n      <td>82</td>\n      <td>76</td>\n      <td>63</td>\n      <td>62</td>\n      <td>60</td>\n      <td>32</td>\n      <td>24</td>\n      <td>9</td>\n      <td>1</td>\n      <td>6</td>\n      <td>...</td>\n      <td>5</td>\n      <td>10</td>\n      <td>27</td>\n      <td>122</td>\n      <td>164</td>\n      <td>161</td>\n      <td>166</td>\n      <td>154</td>\n      <td>126</td>\n      <td>108</td>\n    </tr>\n    <tr>\n      <th>DARKNESS, LIGHTED ROAD</th>\n      <td>449</td>\n      <td>358</td>\n      <td>343</td>\n      <td>243</td>\n      <td>184</td>\n      <td>170</td>\n      <td>103</td>\n      <td>13</td>\n      <td>11</td>\n      <td>17</td>\n      <td>...</td>\n      <td>11</td>\n      <td>15</td>\n      <td>105</td>\n      <td>371</td>\n      <td>456</td>\n      <td>528</td>\n      <td>607</td>\n      <td>656</td>\n      <td>648</td>\n      <td>547</td>\n    </tr>\n    <tr>\n      <th>DAWN</th>\n      <td>5</td>\n      <td>2</td>\n      <td>3</td>\n      <td>2</td>\n      <td>16</td>\n      <td>80</td>\n      <td>109</td>\n      <td>42</td>\n      <td>9</td>\n      <td>6</td>\n      <td>...</td>\n      <td>10</td>\n      <td>16</td>\n      <td>34</td>\n      <td>47</td>\n      <td>38</td>\n      <td>33</td>\n      <td>13</td>\n      <td>2</td>\n      <td>4</td>\n      <td>2</td>\n    </tr>\n    <tr>\n      <th>DAYLIGHT</th>\n      <td>12</td>\n      <td>19</td>\n      <td>13</td>\n      <td>8</td>\n      <td>17</td>\n      <td>85</td>\n      <td>367</td>\n      <td>1150</td>\n      <td>1456</td>\n      <td>1268</td>\n      <td>...</td>\n      <td>1766</td>\n      <td>1955</td>\n      <td>1769</td>\n      <td>1375</td>\n      <td>819</td>\n      <td>315</td>\n      <td>70</td>\n      <td>19</td>\n      <td>14</td>\n      <td>9</td>\n    </tr>\n    <tr>\n      <th>DUSK</th>\n      <td>5</td>\n      <td>4</td>\n      <td>3</td>\n      <td>6</td>\n      <td>7</td>\n      <td>14</td>\n      <td>10</td>\n      <td>3</td>\n      <td>3</td>\n      <td>2</td>\n      <td>...</td>\n      <td>10</td>\n      <td>48</td>\n      <td>137</td>\n      <td>165</td>\n      <td>145</td>\n      <td>147</td>\n      <td>75</td>\n      <td>25</td>\n      <td>15</td>\n      <td>8</td>\n    </tr>\n    <tr>\n      <th>UNKNOWN</th>\n      <td>40</td>\n      <td>29</td>\n      <td>23</td>\n      <td>20</td>\n      <td>15</td>\n      <td>16</td>\n      <td>39</td>\n      <td>44</td>\n      <td>60</td>\n      <td>52</td>\n      <td>...</td>\n      <td>39</td>\n      <td>52</td>\n      <td>61</td>\n      <td>55</td>\n      <td>66</td>\n      <td>41</td>\n      <td>42</td>\n      <td>41</td>\n      <td>32</td>\n      <td>24</td>\n    </tr>\n  </tbody>\n</table>\n<p>6 rows × 24 columns</p>\n</div>"
     },
     "metadata": {}
    }
   ]
  },
  {
   "cell_type": "code",
   "metadata": {
    "cell_id": "56e6a10517aa4d82bf0bd6fd059ebee0",
    "tags": [],
    "deepnote_to_be_reexecuted": false,
    "source_hash": "dd5809c9",
    "execution_start": 1649810566326,
    "execution_millis": 41,
    "deepnote_cell_type": "code",
    "deepnote_cell_height": 436
   },
   "source": "pd.crosstab(df_chicago['LIGHTING_CONDITION'],df_chicago['REPORT_TYPE'])",
   "execution_count": null,
   "outputs": [
    {
     "output_type": "execute_result",
     "execution_count": 27,
     "data": {
      "application/vnd.deepnote.dataframe.v3+json": {
       "column_count": 3,
       "row_count": 6,
       "columns": [
        {
         "name": "AMENDED",
         "dtype": "int64",
         "stats": {
          "unique_count": 5,
          "nan_count": 0,
          "min": "0",
          "max": "13",
          "histogram": [
           {
            "bin_start": 0,
            "bin_end": 1.3,
            "count": 3
           },
           {
            "bin_start": 1.3,
            "bin_end": 2.6,
            "count": 1
           },
           {
            "bin_start": 2.6,
            "bin_end": 3.9000000000000004,
            "count": 1
           },
           {
            "bin_start": 3.9000000000000004,
            "bin_end": 5.2,
            "count": 0
           },
           {
            "bin_start": 5.2,
            "bin_end": 6.5,
            "count": 0
           },
           {
            "bin_start": 6.5,
            "bin_end": 7.800000000000001,
            "count": 0
           },
           {
            "bin_start": 7.800000000000001,
            "bin_end": 9.1,
            "count": 0
           },
           {
            "bin_start": 9.1,
            "bin_end": 10.4,
            "count": 0
           },
           {
            "bin_start": 10.4,
            "bin_end": 11.700000000000001,
            "count": 0
           },
           {
            "bin_start": 11.700000000000001,
            "bin_end": 13,
            "count": 1
           }
          ]
         }
        },
        {
         "name": "NOT ON SCENE (DESK REPORT)",
         "dtype": "int64",
         "stats": {
          "unique_count": 6,
          "nan_count": 0,
          "min": "251",
          "max": "11116",
          "histogram": [
           {
            "bin_start": 251,
            "bin_end": 1337.5,
            "count": 4
           },
           {
            "bin_start": 1337.5,
            "bin_end": 2424,
            "count": 0
           },
           {
            "bin_start": 2424,
            "bin_end": 3510.5,
            "count": 1
           },
           {
            "bin_start": 3510.5,
            "bin_end": 4597,
            "count": 0
           },
           {
            "bin_start": 4597,
            "bin_end": 5683.5,
            "count": 0
           },
           {
            "bin_start": 5683.5,
            "bin_end": 6770,
            "count": 0
           },
           {
            "bin_start": 6770,
            "bin_end": 7856.5,
            "count": 0
           },
           {
            "bin_start": 7856.5,
            "bin_end": 8943,
            "count": 0
           },
           {
            "bin_start": 8943,
            "bin_end": 10029.5,
            "count": 0
           },
           {
            "bin_start": 10029.5,
            "bin_end": 11116,
            "count": 1
           }
          ]
         }
        },
        {
         "name": "ON SCENE",
         "dtype": "int64",
         "stats": {
          "unique_count": 6,
          "nan_count": 0,
          "min": "193",
          "max": "6760",
          "histogram": [
           {
            "bin_start": 193,
            "bin_end": 849.7,
            "count": 4
           },
           {
            "bin_start": 849.7,
            "bin_end": 1506.4,
            "count": 0
           },
           {
            "bin_start": 1506.4,
            "bin_end": 2163.1000000000004,
            "count": 0
           },
           {
            "bin_start": 2163.1000000000004,
            "bin_end": 2819.8,
            "count": 0
           },
           {
            "bin_start": 2819.8,
            "bin_end": 3476.5,
            "count": 1
           },
           {
            "bin_start": 3476.5,
            "bin_end": 4133.200000000001,
            "count": 0
           },
           {
            "bin_start": 4133.200000000001,
            "bin_end": 4789.900000000001,
            "count": 0
           },
           {
            "bin_start": 4789.900000000001,
            "bin_end": 5446.6,
            "count": 0
           },
           {
            "bin_start": 5446.6,
            "bin_end": 6103.3,
            "count": 0
           },
           {
            "bin_start": 6103.3,
            "bin_end": 6760,
            "count": 1
           }
          ]
         }
        },
        {
         "name": "_deepnote_index_column",
         "dtype": "object"
        }
       ],
       "rows": [
        {
         "AMENDED": 1,
         "NOT ON SCENE (DESK REPORT)": 923,
         "ON SCENE": 510,
         "_deepnote_index_column": "DARKNESS"
        },
        {
         "AMENDED": 3,
         "NOT ON SCENE (DESK REPORT)": 2694,
         "ON SCENE": 3020,
         "_deepnote_index_column": "DARKNESS, LIGHTED ROAD"
        },
        {
         "AMENDED": 0,
         "NOT ON SCENE (DESK REPORT)": 251,
         "ON SCENE": 221,
         "_deepnote_index_column": "DAWN"
        },
        {
         "AMENDED": 13,
         "NOT ON SCENE (DESK REPORT)": 11116,
         "ON SCENE": 6760,
         "_deepnote_index_column": "DAYLIGHT"
        },
        {
         "AMENDED": 2,
         "NOT ON SCENE (DESK REPORT)": 489,
         "ON SCENE": 329,
         "_deepnote_index_column": "DUSK"
        },
        {
         "AMENDED": 0,
         "NOT ON SCENE (DESK REPORT)": 769,
         "ON SCENE": 193,
         "_deepnote_index_column": "UNKNOWN"
        }
       ]
      },
      "text/plain": "REPORT_TYPE             AMENDED  NOT ON SCENE (DESK REPORT)  ON SCENE\nLIGHTING_CONDITION                                                   \nDARKNESS                      1                         923       510\nDARKNESS, LIGHTED ROAD        3                        2694      3020\nDAWN                          0                         251       221\nDAYLIGHT                     13                       11116      6760\nDUSK                          2                         489       329\nUNKNOWN                       0                         769       193",
      "text/html": "<div>\n<style scoped>\n    .dataframe tbody tr th:only-of-type {\n        vertical-align: middle;\n    }\n\n    .dataframe tbody tr th {\n        vertical-align: top;\n    }\n\n    .dataframe thead th {\n        text-align: right;\n    }\n</style>\n<table border=\"1\" class=\"dataframe\">\n  <thead>\n    <tr style=\"text-align: right;\">\n      <th>REPORT_TYPE</th>\n      <th>AMENDED</th>\n      <th>NOT ON SCENE (DESK REPORT)</th>\n      <th>ON SCENE</th>\n    </tr>\n    <tr>\n      <th>LIGHTING_CONDITION</th>\n      <th></th>\n      <th></th>\n      <th></th>\n    </tr>\n  </thead>\n  <tbody>\n    <tr>\n      <th>DARKNESS</th>\n      <td>1</td>\n      <td>923</td>\n      <td>510</td>\n    </tr>\n    <tr>\n      <th>DARKNESS, LIGHTED ROAD</th>\n      <td>3</td>\n      <td>2694</td>\n      <td>3020</td>\n    </tr>\n    <tr>\n      <th>DAWN</th>\n      <td>0</td>\n      <td>251</td>\n      <td>221</td>\n    </tr>\n    <tr>\n      <th>DAYLIGHT</th>\n      <td>13</td>\n      <td>11116</td>\n      <td>6760</td>\n    </tr>\n    <tr>\n      <th>DUSK</th>\n      <td>2</td>\n      <td>489</td>\n      <td>329</td>\n    </tr>\n    <tr>\n      <th>UNKNOWN</th>\n      <td>0</td>\n      <td>769</td>\n      <td>193</td>\n    </tr>\n  </tbody>\n</table>\n</div>"
     },
     "metadata": {}
    }
   ]
  },
  {
   "cell_type": "markdown",
   "source": "Sin embargo, los ejemplos que hemos visto de corsstables solamente nos dan el conteo de las ocurrencias. Si nosotros lo que necesitaramos fuera, por ejemplo, la sumatoria del número total de incidentes de acuerdo a la hora y tipo de reporte, se haría lo siguiente: ",
   "metadata": {
    "cell_id": "a01de6b71e824b2894e9faebd18849b5",
    "tags": [],
    "deepnote_cell_type": "markdown",
    "deepnote_cell_height": 74.796875
   }
  },
  {
   "cell_type": "code",
   "metadata": {
    "cell_id": "0f64840f2ba24636bec3b0ae72701e2c",
    "tags": [],
    "deepnote_to_be_reexecuted": false,
    "source_hash": "733abe7c",
    "execution_start": 1649810839081,
    "execution_millis": 337,
    "owner_user_id": "bc33c0a1-8048-44d5-b0e9-3d851b1fa595",
    "deepnote_cell_type": "code",
    "deepnote_cell_height": 329.796875
   },
   "source": "pd.crosstab(df_chicago.REPORT_TYPE, df_chicago.CRASH_HOUR, values=df_chicago.NUM_UNITS, aggfunc='sum')",
   "execution_count": null,
   "outputs": [
    {
     "output_type": "execute_result",
     "execution_count": 28,
     "data": {
      "application/vnd.deepnote.dataframe.v3+json": {
       "column_count": 24,
       "row_count": 3,
       "columns": [
        {
         "name": 0,
         "dtype": "float64",
         "stats": {
          "unique_count": 2,
          "nan_count": 1,
          "min": "451.0",
          "max": "726.0",
          "histogram": [
           {
            "bin_start": 451,
            "bin_end": 478.5,
            "count": 1
           },
           {
            "bin_start": 478.5,
            "bin_end": 506,
            "count": 0
           },
           {
            "bin_start": 506,
            "bin_end": 533.5,
            "count": 0
           },
           {
            "bin_start": 533.5,
            "bin_end": 561,
            "count": 0
           },
           {
            "bin_start": 561,
            "bin_end": 588.5,
            "count": 0
           },
           {
            "bin_start": 588.5,
            "bin_end": 616,
            "count": 0
           },
           {
            "bin_start": 616,
            "bin_end": 643.5,
            "count": 0
           },
           {
            "bin_start": 643.5,
            "bin_end": 671,
            "count": 0
           },
           {
            "bin_start": 671,
            "bin_end": 698.5,
            "count": 0
           },
           {
            "bin_start": 698.5,
            "bin_end": 726,
            "count": 1
           }
          ]
         }
        },
        {
         "name": 1,
         "dtype": "float64",
         "stats": {
          "unique_count": 2,
          "nan_count": 1,
          "min": "412.0",
          "max": "567.0",
          "histogram": [
           {
            "bin_start": 412,
            "bin_end": 427.5,
            "count": 1
           },
           {
            "bin_start": 427.5,
            "bin_end": 443,
            "count": 0
           },
           {
            "bin_start": 443,
            "bin_end": 458.5,
            "count": 0
           },
           {
            "bin_start": 458.5,
            "bin_end": 474,
            "count": 0
           },
           {
            "bin_start": 474,
            "bin_end": 489.5,
            "count": 0
           },
           {
            "bin_start": 489.5,
            "bin_end": 505,
            "count": 0
           },
           {
            "bin_start": 505,
            "bin_end": 520.5,
            "count": 0
           },
           {
            "bin_start": 520.5,
            "bin_end": 536,
            "count": 0
           },
           {
            "bin_start": 536,
            "bin_end": 551.5,
            "count": 0
           },
           {
            "bin_start": 551.5,
            "bin_end": 567,
            "count": 1
           }
          ]
         }
        },
        {
         "name": 2,
         "dtype": "float64",
         "stats": {
          "unique_count": 2,
          "nan_count": 1,
          "min": "329.0",
          "max": "603.0",
          "histogram": [
           {
            "bin_start": 329,
            "bin_end": 356.4,
            "count": 1
           },
           {
            "bin_start": 356.4,
            "bin_end": 383.8,
            "count": 0
           },
           {
            "bin_start": 383.8,
            "bin_end": 411.2,
            "count": 0
           },
           {
            "bin_start": 411.2,
            "bin_end": 438.6,
            "count": 0
           },
           {
            "bin_start": 438.6,
            "bin_end": 466,
            "count": 0
           },
           {
            "bin_start": 466,
            "bin_end": 493.4,
            "count": 0
           },
           {
            "bin_start": 493.4,
            "bin_end": 520.8,
            "count": 0
           },
           {
            "bin_start": 520.8,
            "bin_end": 548.2,
            "count": 0
           },
           {
            "bin_start": 548.2,
            "bin_end": 575.6,
            "count": 0
           },
           {
            "bin_start": 575.6,
            "bin_end": 603,
            "count": 1
           }
          ]
         }
        },
        {
         "name": 3,
         "dtype": "float64",
         "stats": {
          "unique_count": 2,
          "nan_count": 1,
          "min": "240.0",
          "max": "442.0",
          "histogram": [
           {
            "bin_start": 240,
            "bin_end": 260.2,
            "count": 1
           },
           {
            "bin_start": 260.2,
            "bin_end": 280.4,
            "count": 0
           },
           {
            "bin_start": 280.4,
            "bin_end": 300.6,
            "count": 0
           },
           {
            "bin_start": 300.6,
            "bin_end": 320.8,
            "count": 0
           },
           {
            "bin_start": 320.8,
            "bin_end": 341,
            "count": 0
           },
           {
            "bin_start": 341,
            "bin_end": 361.2,
            "count": 0
           },
           {
            "bin_start": 361.2,
            "bin_end": 381.4,
            "count": 0
           },
           {
            "bin_start": 381.4,
            "bin_end": 401.6,
            "count": 0
           },
           {
            "bin_start": 401.6,
            "bin_end": 421.79999999999995,
            "count": 0
           },
           {
            "bin_start": 421.79999999999995,
            "bin_end": 442,
            "count": 1
           }
          ]
         }
        },
        {
         "name": 4,
         "dtype": "float64",
         "stats": {
          "unique_count": 2,
          "nan_count": 1,
          "min": "222.0",
          "max": "388.0",
          "histogram": [
           {
            "bin_start": 222,
            "bin_end": 238.6,
            "count": 1
           },
           {
            "bin_start": 238.6,
            "bin_end": 255.2,
            "count": 0
           },
           {
            "bin_start": 255.2,
            "bin_end": 271.8,
            "count": 0
           },
           {
            "bin_start": 271.8,
            "bin_end": 288.4,
            "count": 0
           },
           {
            "bin_start": 288.4,
            "bin_end": 305,
            "count": 0
           },
           {
            "bin_start": 305,
            "bin_end": 321.6,
            "count": 0
           },
           {
            "bin_start": 321.6,
            "bin_end": 338.20000000000005,
            "count": 0
           },
           {
            "bin_start": 338.20000000000005,
            "bin_end": 354.8,
            "count": 0
           },
           {
            "bin_start": 354.8,
            "bin_end": 371.4,
            "count": 0
           },
           {
            "bin_start": 371.4,
            "bin_end": 388,
            "count": 1
           }
          ]
         }
        },
        {
         "name": 5,
         "dtype": "float64",
         "stats": {
          "unique_count": 2,
          "nan_count": 1,
          "min": "361.0",
          "max": "439.0",
          "histogram": [
           {
            "bin_start": 361,
            "bin_end": 368.8,
            "count": 1
           },
           {
            "bin_start": 368.8,
            "bin_end": 376.6,
            "count": 0
           },
           {
            "bin_start": 376.6,
            "bin_end": 384.4,
            "count": 0
           },
           {
            "bin_start": 384.4,
            "bin_end": 392.2,
            "count": 0
           },
           {
            "bin_start": 392.2,
            "bin_end": 400,
            "count": 0
           },
           {
            "bin_start": 400,
            "bin_end": 407.8,
            "count": 0
           },
           {
            "bin_start": 407.8,
            "bin_end": 415.6,
            "count": 0
           },
           {
            "bin_start": 415.6,
            "bin_end": 423.4,
            "count": 0
           },
           {
            "bin_start": 423.4,
            "bin_end": 431.2,
            "count": 0
           },
           {
            "bin_start": 431.2,
            "bin_end": 439,
            "count": 1
           }
          ]
         }
        },
        {
         "name": 6,
         "dtype": "float64",
         "stats": {
          "unique_count": 3,
          "nan_count": 0,
          "min": "2.0",
          "max": "654.0",
          "histogram": [
           {
            "bin_start": 2,
            "bin_end": 67.2,
            "count": 1
           },
           {
            "bin_start": 67.2,
            "bin_end": 132.4,
            "count": 0
           },
           {
            "bin_start": 132.4,
            "bin_end": 197.60000000000002,
            "count": 0
           },
           {
            "bin_start": 197.60000000000002,
            "bin_end": 262.8,
            "count": 0
           },
           {
            "bin_start": 262.8,
            "bin_end": 328,
            "count": 0
           },
           {
            "bin_start": 328,
            "bin_end": 393.20000000000005,
            "count": 0
           },
           {
            "bin_start": 393.20000000000005,
            "bin_end": 458.40000000000003,
            "count": 0
           },
           {
            "bin_start": 458.40000000000003,
            "bin_end": 523.6,
            "count": 0
           },
           {
            "bin_start": 523.6,
            "bin_end": 588.8000000000001,
            "count": 0
           },
           {
            "bin_start": 588.8000000000001,
            "bin_end": 654,
            "count": 2
           }
          ]
         }
        },
        {
         "name": 7,
         "dtype": "float64",
         "stats": {
          "unique_count": 3,
          "nan_count": 0,
          "min": "6.0",
          "max": "1446.0",
          "histogram": [
           {
            "bin_start": 6,
            "bin_end": 150,
            "count": 1
           },
           {
            "bin_start": 150,
            "bin_end": 294,
            "count": 0
           },
           {
            "bin_start": 294,
            "bin_end": 438,
            "count": 0
           },
           {
            "bin_start": 438,
            "bin_end": 582,
            "count": 0
           },
           {
            "bin_start": 582,
            "bin_end": 726,
            "count": 0
           },
           {
            "bin_start": 726,
            "bin_end": 870,
            "count": 0
           },
           {
            "bin_start": 870,
            "bin_end": 1014,
            "count": 0
           },
           {
            "bin_start": 1014,
            "bin_end": 1158,
            "count": 1
           },
           {
            "bin_start": 1158,
            "bin_end": 1302,
            "count": 0
           },
           {
            "bin_start": 1302,
            "bin_end": 1446,
            "count": 1
           }
          ]
         }
        },
        {
         "name": 8,
         "dtype": "float64",
         "stats": {
          "unique_count": 3,
          "nan_count": 0,
          "min": "2.0",
          "max": "1765.0",
          "histogram": [
           {
            "bin_start": 2,
            "bin_end": 178.3,
            "count": 1
           },
           {
            "bin_start": 178.3,
            "bin_end": 354.6,
            "count": 0
           },
           {
            "bin_start": 354.6,
            "bin_end": 530.9000000000001,
            "count": 0
           },
           {
            "bin_start": 530.9000000000001,
            "bin_end": 707.2,
            "count": 0
           },
           {
            "bin_start": 707.2,
            "bin_end": 883.5,
            "count": 0
           },
           {
            "bin_start": 883.5,
            "bin_end": 1059.8000000000002,
            "count": 0
           },
           {
            "bin_start": 1059.8000000000002,
            "bin_end": 1236.1000000000001,
            "count": 0
           },
           {
            "bin_start": 1236.1000000000001,
            "bin_end": 1412.4,
            "count": 1
           },
           {
            "bin_start": 1412.4,
            "bin_end": 1588.7,
            "count": 0
           },
           {
            "bin_start": 1588.7,
            "bin_end": 1765,
            "count": 1
           }
          ]
         }
        },
        {
         "name": 9,
         "dtype": "float64",
         "stats": {
          "unique_count": 2,
          "nan_count": 1,
          "min": "1140.0",
          "max": "1551.0",
          "histogram": [
           {
            "bin_start": 1140,
            "bin_end": 1181.1,
            "count": 1
           },
           {
            "bin_start": 1181.1,
            "bin_end": 1222.2,
            "count": 0
           },
           {
            "bin_start": 1222.2,
            "bin_end": 1263.3,
            "count": 0
           },
           {
            "bin_start": 1263.3,
            "bin_end": 1304.4,
            "count": 0
           },
           {
            "bin_start": 1304.4,
            "bin_end": 1345.5,
            "count": 0
           },
           {
            "bin_start": 1345.5,
            "bin_end": 1386.6,
            "count": 0
           },
           {
            "bin_start": 1386.6,
            "bin_end": 1427.7,
            "count": 0
           },
           {
            "bin_start": 1427.7,
            "bin_end": 1468.8,
            "count": 0
           },
           {
            "bin_start": 1468.8,
            "bin_end": 1509.9,
            "count": 0
           },
           {
            "bin_start": 1509.9,
            "bin_end": 1551,
            "count": 1
           }
          ]
         }
        },
        {
         "name": 10,
         "dtype": "float64",
         "stats": {
          "unique_count": 3,
          "nan_count": 0,
          "min": "2.0",
          "max": "1478.0",
          "histogram": [
           {
            "bin_start": 2,
            "bin_end": 149.6,
            "count": 1
           },
           {
            "bin_start": 149.6,
            "bin_end": 297.2,
            "count": 0
           },
           {
            "bin_start": 297.2,
            "bin_end": 444.79999999999995,
            "count": 0
           },
           {
            "bin_start": 444.79999999999995,
            "bin_end": 592.4,
            "count": 0
           },
           {
            "bin_start": 592.4,
            "bin_end": 740,
            "count": 0
           },
           {
            "bin_start": 740,
            "bin_end": 887.5999999999999,
            "count": 0
           },
           {
            "bin_start": 887.5999999999999,
            "bin_end": 1035.2,
            "count": 1
           },
           {
            "bin_start": 1035.2,
            "bin_end": 1182.8,
            "count": 0
           },
           {
            "bin_start": 1182.8,
            "bin_end": 1330.3999999999999,
            "count": 0
           },
           {
            "bin_start": 1330.3999999999999,
            "bin_end": 1478,
            "count": 1
           }
          ]
         }
        },
        {
         "name": 11,
         "dtype": "float64",
         "stats": {
          "unique_count": 3,
          "nan_count": 0,
          "min": "2.0",
          "max": "1605.0",
          "histogram": [
           {
            "bin_start": 2,
            "bin_end": 162.3,
            "count": 1
           },
           {
            "bin_start": 162.3,
            "bin_end": 322.6,
            "count": 0
           },
           {
            "bin_start": 322.6,
            "bin_end": 482.90000000000003,
            "count": 0
           },
           {
            "bin_start": 482.90000000000003,
            "bin_end": 643.2,
            "count": 0
           },
           {
            "bin_start": 643.2,
            "bin_end": 803.5,
            "count": 0
           },
           {
            "bin_start": 803.5,
            "bin_end": 963.8000000000001,
            "count": 0
           },
           {
            "bin_start": 963.8000000000001,
            "bin_end": 1124.1000000000001,
            "count": 0
           },
           {
            "bin_start": 1124.1000000000001,
            "bin_end": 1284.4,
            "count": 1
           },
           {
            "bin_start": 1284.4,
            "bin_end": 1444.7,
            "count": 0
           },
           {
            "bin_start": 1444.7,
            "bin_end": 1605,
            "count": 1
           }
          ]
         }
        },
        {
         "name": 12,
         "dtype": "float64",
         "stats": {
          "unique_count": 3,
          "nan_count": 0,
          "min": "4.0",
          "max": "1963.0",
          "histogram": [
           {
            "bin_start": 4,
            "bin_end": 199.9,
            "count": 1
           },
           {
            "bin_start": 199.9,
            "bin_end": 395.8,
            "count": 0
           },
           {
            "bin_start": 395.8,
            "bin_end": 591.7,
            "count": 0
           },
           {
            "bin_start": 591.7,
            "bin_end": 787.6,
            "count": 0
           },
           {
            "bin_start": 787.6,
            "bin_end": 983.5,
            "count": 0
           },
           {
            "bin_start": 983.5,
            "bin_end": 1179.4,
            "count": 0
           },
           {
            "bin_start": 1179.4,
            "bin_end": 1375.3,
            "count": 1
           },
           {
            "bin_start": 1375.3,
            "bin_end": 1571.2,
            "count": 0
           },
           {
            "bin_start": 1571.2,
            "bin_end": 1767.1000000000001,
            "count": 0
           },
           {
            "bin_start": 1767.1000000000001,
            "bin_end": 1963,
            "count": 1
           }
          ]
         }
        },
        {
         "name": 13,
         "dtype": "float64",
         "stats": {
          "unique_count": 2,
          "nan_count": 1,
          "min": "1109.0",
          "max": "2292.0",
          "histogram": [
           {
            "bin_start": 1109,
            "bin_end": 1227.3,
            "count": 1
           },
           {
            "bin_start": 1227.3,
            "bin_end": 1345.6,
            "count": 0
           },
           {
            "bin_start": 1345.6,
            "bin_end": 1463.9,
            "count": 0
           },
           {
            "bin_start": 1463.9,
            "bin_end": 1582.2,
            "count": 0
           },
           {
            "bin_start": 1582.2,
            "bin_end": 1700.5,
            "count": 0
           },
           {
            "bin_start": 1700.5,
            "bin_end": 1818.8,
            "count": 0
           },
           {
            "bin_start": 1818.8,
            "bin_end": 1937.1,
            "count": 0
           },
           {
            "bin_start": 1937.1,
            "bin_end": 2055.4,
            "count": 0
           },
           {
            "bin_start": 2055.4,
            "bin_end": 2173.7,
            "count": 0
           },
           {
            "bin_start": 2173.7,
            "bin_end": 2292,
            "count": 1
           }
          ]
         }
        },
        {
         "name": 14,
         "dtype": "float64",
         "stats": {
          "unique_count": 3,
          "nan_count": 0,
          "min": "4.0",
          "max": "2453.0",
          "histogram": [
           {
            "bin_start": 4,
            "bin_end": 248.9,
            "count": 1
           },
           {
            "bin_start": 248.9,
            "bin_end": 493.8,
            "count": 0
           },
           {
            "bin_start": 493.8,
            "bin_end": 738.7,
            "count": 0
           },
           {
            "bin_start": 738.7,
            "bin_end": 983.6,
            "count": 0
           },
           {
            "bin_start": 983.6,
            "bin_end": 1228.5,
            "count": 1
           },
           {
            "bin_start": 1228.5,
            "bin_end": 1473.4,
            "count": 0
           },
           {
            "bin_start": 1473.4,
            "bin_end": 1718.3,
            "count": 0
           },
           {
            "bin_start": 1718.3,
            "bin_end": 1963.2,
            "count": 0
           },
           {
            "bin_start": 1963.2,
            "bin_end": 2208.1,
            "count": 0
           },
           {
            "bin_start": 2208.1,
            "bin_end": 2453,
            "count": 1
           }
          ]
         }
        },
        {
         "name": 15,
         "dtype": "float64",
         "stats": {
          "unique_count": 2,
          "nan_count": 1,
          "min": "1429.0",
          "max": "2726.0",
          "histogram": [
           {
            "bin_start": 1429,
            "bin_end": 1558.7,
            "count": 1
           },
           {
            "bin_start": 1558.7,
            "bin_end": 1688.4,
            "count": 0
           },
           {
            "bin_start": 1688.4,
            "bin_end": 1818.1,
            "count": 0
           },
           {
            "bin_start": 1818.1,
            "bin_end": 1947.8,
            "count": 0
           },
           {
            "bin_start": 1947.8,
            "bin_end": 2077.5,
            "count": 0
           },
           {
            "bin_start": 2077.5,
            "bin_end": 2207.2,
            "count": 0
           },
           {
            "bin_start": 2207.2,
            "bin_end": 2336.8999999999996,
            "count": 0
           },
           {
            "bin_start": 2336.8999999999996,
            "bin_end": 2466.6,
            "count": 0
           },
           {
            "bin_start": 2466.6,
            "bin_end": 2596.3,
            "count": 0
           },
           {
            "bin_start": 2596.3,
            "bin_end": 2726,
            "count": 1
           }
          ]
         }
        },
        {
         "name": 16,
         "dtype": "float64",
         "stats": {
          "unique_count": 3,
          "nan_count": 0,
          "min": "2.0",
          "max": "2650.0",
          "histogram": [
           {
            "bin_start": 2,
            "bin_end": 266.8,
            "count": 1
           },
           {
            "bin_start": 266.8,
            "bin_end": 531.6,
            "count": 0
           },
           {
            "bin_start": 531.6,
            "bin_end": 796.4000000000001,
            "count": 0
           },
           {
            "bin_start": 796.4000000000001,
            "bin_end": 1061.2,
            "count": 0
           },
           {
            "bin_start": 1061.2,
            "bin_end": 1326,
            "count": 0
           },
           {
            "bin_start": 1326,
            "bin_end": 1590.8000000000002,
            "count": 1
           },
           {
            "bin_start": 1590.8000000000002,
            "bin_end": 1855.6000000000001,
            "count": 0
           },
           {
            "bin_start": 1855.6000000000001,
            "bin_end": 2120.4,
            "count": 0
           },
           {
            "bin_start": 2120.4,
            "bin_end": 2385.2000000000003,
            "count": 0
           },
           {
            "bin_start": 2385.2000000000003,
            "bin_end": 2650,
            "count": 1
           }
          ]
         }
        },
        {
         "name": 17,
         "dtype": "float64",
         "stats": {
          "unique_count": 2,
          "nan_count": 1,
          "min": "1594.0",
          "max": "2679.0",
          "histogram": [
           {
            "bin_start": 1594,
            "bin_end": 1702.5,
            "count": 1
           },
           {
            "bin_start": 1702.5,
            "bin_end": 1811,
            "count": 0
           },
           {
            "bin_start": 1811,
            "bin_end": 1919.5,
            "count": 0
           },
           {
            "bin_start": 1919.5,
            "bin_end": 2028,
            "count": 0
           },
           {
            "bin_start": 2028,
            "bin_end": 2136.5,
            "count": 0
           },
           {
            "bin_start": 2136.5,
            "bin_end": 2245,
            "count": 0
           },
           {
            "bin_start": 2245,
            "bin_end": 2353.5,
            "count": 0
           },
           {
            "bin_start": 2353.5,
            "bin_end": 2462,
            "count": 0
           },
           {
            "bin_start": 2462,
            "bin_end": 2570.5,
            "count": 0
           },
           {
            "bin_start": 2570.5,
            "bin_end": 2679,
            "count": 1
           }
          ]
         }
        },
        {
         "name": 18,
         "dtype": "float64",
         "stats": {
          "unique_count": 3,
          "nan_count": 0,
          "min": "2.0",
          "max": "2079.0",
          "histogram": [
           {
            "bin_start": 2,
            "bin_end": 209.7,
            "count": 1
           },
           {
            "bin_start": 209.7,
            "bin_end": 417.4,
            "count": 0
           },
           {
            "bin_start": 417.4,
            "bin_end": 625.0999999999999,
            "count": 0
           },
           {
            "bin_start": 625.0999999999999,
            "bin_end": 832.8,
            "count": 0
           },
           {
            "bin_start": 832.8,
            "bin_end": 1040.5,
            "count": 0
           },
           {
            "bin_start": 1040.5,
            "bin_end": 1248.1999999999998,
            "count": 0
           },
           {
            "bin_start": 1248.1999999999998,
            "bin_end": 1455.8999999999999,
            "count": 1
           },
           {
            "bin_start": 1455.8999999999999,
            "bin_end": 1663.6,
            "count": 0
           },
           {
            "bin_start": 1663.6,
            "bin_end": 1871.3,
            "count": 0
           },
           {
            "bin_start": 1871.3,
            "bin_end": 2079,
            "count": 1
           }
          ]
         }
        },
        {
         "name": 19,
         "dtype": "float64",
         "stats": {
          "unique_count": 2,
          "nan_count": 1,
          "min": "908.0",
          "max": "1492.0",
          "histogram": [
           {
            "bin_start": 908,
            "bin_end": 966.4,
            "count": 1
           },
           {
            "bin_start": 966.4,
            "bin_end": 1024.8,
            "count": 0
           },
           {
            "bin_start": 1024.8,
            "bin_end": 1083.2,
            "count": 0
           },
           {
            "bin_start": 1083.2,
            "bin_end": 1141.6,
            "count": 0
           },
           {
            "bin_start": 1141.6,
            "bin_end": 1200,
            "count": 0
           },
           {
            "bin_start": 1200,
            "bin_end": 1258.4,
            "count": 0
           },
           {
            "bin_start": 1258.4,
            "bin_end": 1316.8,
            "count": 0
           },
           {
            "bin_start": 1316.8,
            "bin_end": 1375.2,
            "count": 0
           },
           {
            "bin_start": 1375.2,
            "bin_end": 1433.6,
            "count": 0
           },
           {
            "bin_start": 1433.6,
            "bin_end": 1492,
            "count": 1
           }
          ]
         }
        },
        {
         "name": 20,
         "dtype": "float64",
         "stats": {
          "unique_count": 3,
          "nan_count": 0,
          "min": "9.0",
          "max": "1130.0",
          "histogram": [
           {
            "bin_start": 9,
            "bin_end": 121.1,
            "count": 1
           },
           {
            "bin_start": 121.1,
            "bin_end": 233.2,
            "count": 0
           },
           {
            "bin_start": 233.2,
            "bin_end": 345.29999999999995,
            "count": 0
           },
           {
            "bin_start": 345.29999999999995,
            "bin_end": 457.4,
            "count": 0
           },
           {
            "bin_start": 457.4,
            "bin_end": 569.5,
            "count": 0
           },
           {
            "bin_start": 569.5,
            "bin_end": 681.5999999999999,
            "count": 0
           },
           {
            "bin_start": 681.5999999999999,
            "bin_end": 793.6999999999999,
            "count": 1
           },
           {
            "bin_start": 793.6999999999999,
            "bin_end": 905.8,
            "count": 0
           },
           {
            "bin_start": 905.8,
            "bin_end": 1017.9,
            "count": 0
           },
           {
            "bin_start": 1017.9,
            "bin_end": 1130,
            "count": 1
           }
          ]
         }
        },
        {
         "name": 21,
         "dtype": "float64",
         "stats": {
          "unique_count": 3,
          "nan_count": 0,
          "min": "2.0",
          "max": "1001.0",
          "histogram": [
           {
            "bin_start": 2,
            "bin_end": 101.9,
            "count": 1
           },
           {
            "bin_start": 101.9,
            "bin_end": 201.8,
            "count": 0
           },
           {
            "bin_start": 201.8,
            "bin_end": 301.70000000000005,
            "count": 0
           },
           {
            "bin_start": 301.70000000000005,
            "bin_end": 401.6,
            "count": 0
           },
           {
            "bin_start": 401.6,
            "bin_end": 501.5,
            "count": 0
           },
           {
            "bin_start": 501.5,
            "bin_end": 601.4000000000001,
            "count": 0
           },
           {
            "bin_start": 601.4000000000001,
            "bin_end": 701.3000000000001,
            "count": 0
           },
           {
            "bin_start": 701.3000000000001,
            "bin_end": 801.2,
            "count": 1
           },
           {
            "bin_start": 801.2,
            "bin_end": 901.1,
            "count": 0
           },
           {
            "bin_start": 901.1,
            "bin_end": 1001,
            "count": 1
           }
          ]
         }
        },
        {
         "name": 22,
         "dtype": "float64",
         "stats": {
          "unique_count": 3,
          "nan_count": 0,
          "min": "1.0",
          "max": "871.0",
          "histogram": [
           {
            "bin_start": 1,
            "bin_end": 88,
            "count": 1
           },
           {
            "bin_start": 88,
            "bin_end": 175,
            "count": 0
           },
           {
            "bin_start": 175,
            "bin_end": 262,
            "count": 0
           },
           {
            "bin_start": 262,
            "bin_end": 349,
            "count": 0
           },
           {
            "bin_start": 349,
            "bin_end": 436,
            "count": 0
           },
           {
            "bin_start": 436,
            "bin_end": 523,
            "count": 0
           },
           {
            "bin_start": 523,
            "bin_end": 610,
            "count": 0
           },
           {
            "bin_start": 610,
            "bin_end": 697,
            "count": 0
           },
           {
            "bin_start": 697,
            "bin_end": 784,
            "count": 0
           },
           {
            "bin_start": 784,
            "bin_end": 871,
            "count": 2
           }
          ]
         }
        },
        {
         "name": 23,
         "dtype": "float64",
         "stats": {
          "unique_count": 3,
          "nan_count": 0,
          "min": "2.0",
          "max": "746.0",
          "histogram": [
           {
            "bin_start": 2,
            "bin_end": 76.4,
            "count": 1
           },
           {
            "bin_start": 76.4,
            "bin_end": 150.8,
            "count": 0
           },
           {
            "bin_start": 150.8,
            "bin_end": 225.20000000000002,
            "count": 0
           },
           {
            "bin_start": 225.20000000000002,
            "bin_end": 299.6,
            "count": 0
           },
           {
            "bin_start": 299.6,
            "bin_end": 374,
            "count": 0
           },
           {
            "bin_start": 374,
            "bin_end": 448.40000000000003,
            "count": 0
           },
           {
            "bin_start": 448.40000000000003,
            "bin_end": 522.8000000000001,
            "count": 0
           },
           {
            "bin_start": 522.8000000000001,
            "bin_end": 597.2,
            "count": 0
           },
           {
            "bin_start": 597.2,
            "bin_end": 671.6,
            "count": 1
           },
           {
            "bin_start": 671.6,
            "bin_end": 746,
            "count": 1
           }
          ]
         }
        },
        {
         "name": "_deepnote_index_column",
         "dtype": "object"
        }
       ],
       "rows": [
        {
         "0": "nan",
         "1": "nan",
         "2": "nan",
         "3": "nan",
         "4": "nan",
         "5": "nan",
         "6": 2,
         "7": 6,
         "8": 2,
         "9": "nan",
         "10": 2,
         "11": 2,
         "12": 4,
         "13": "nan",
         "14": 4,
         "15": "nan",
         "16": 2,
         "17": "nan",
         "18": 2,
         "19": "nan",
         "20": 9,
         "21": 2,
         "22": 1,
         "23": 2,
         "_deepnote_index_column": "AMENDED"
        },
        {
         "0": 451,
         "1": 412,
         "2": 329,
         "3": 240,
         "4": 222,
         "5": 361,
         "6": 654,
         "7": 1446,
         "8": 1765,
         "9": 1551,
         "10": 1478,
         "11": 1605,
         "12": 1963,
         "13": 2292,
         "14": 2453,
         "15": 2726,
         "16": 2650,
         "17": 2679,
         "18": 2079,
         "19": 1492,
         "20": 1130,
         "21": 1001,
         "22": 871,
         "23": 626,
         "_deepnote_index_column": "NOT ON SCENE (DESK REPORT)"
        },
        {
         "0": 726,
         "1": 567,
         "2": 603,
         "3": 442,
         "4": 388,
         "5": 439,
         "6": 625,
         "7": 1030,
         "8": 1295,
         "9": 1140,
         "10": 1021,
         "11": 1198,
         "12": 1270,
         "13": 1109,
         "14": 1208,
         "15": 1429,
         "16": 1549,
         "17": 1594,
         "18": 1269,
         "19": 908,
         "20": 769,
         "21": 750,
         "22": 796,
         "23": 746,
         "_deepnote_index_column": "ON SCENE"
        }
       ]
      },
      "text/plain": "CRASH_HOUR                     0      1      2      3      4      5      6   \\\nREPORT_TYPE                                                                   \nAMENDED                       NaN    NaN    NaN    NaN    NaN    NaN    2.0   \nNOT ON SCENE (DESK REPORT)  451.0  412.0  329.0  240.0  222.0  361.0  654.0   \nON SCENE                    726.0  567.0  603.0  442.0  388.0  439.0  625.0   \n\nCRASH_HOUR                      7       8       9   ...      14      15  \\\nREPORT_TYPE                                         ...                   \nAMENDED                        6.0     2.0     NaN  ...     4.0     NaN   \nNOT ON SCENE (DESK REPORT)  1446.0  1765.0  1551.0  ...  2453.0  2726.0   \nON SCENE                    1030.0  1295.0  1140.0  ...  1208.0  1429.0   \n\nCRASH_HOUR                      16      17      18      19      20      21  \\\nREPORT_TYPE                                                                  \nAMENDED                        2.0     NaN     2.0     NaN     9.0     2.0   \nNOT ON SCENE (DESK REPORT)  2650.0  2679.0  2079.0  1492.0  1130.0  1001.0   \nON SCENE                    1549.0  1594.0  1269.0   908.0   769.0   750.0   \n\nCRASH_HOUR                     22     23  \nREPORT_TYPE                               \nAMENDED                       1.0    2.0  \nNOT ON SCENE (DESK REPORT)  871.0  626.0  \nON SCENE                    796.0  746.0  \n\n[3 rows x 24 columns]",
      "text/html": "<div>\n<style scoped>\n    .dataframe tbody tr th:only-of-type {\n        vertical-align: middle;\n    }\n\n    .dataframe tbody tr th {\n        vertical-align: top;\n    }\n\n    .dataframe thead th {\n        text-align: right;\n    }\n</style>\n<table border=\"1\" class=\"dataframe\">\n  <thead>\n    <tr style=\"text-align: right;\">\n      <th>CRASH_HOUR</th>\n      <th>0</th>\n      <th>1</th>\n      <th>2</th>\n      <th>3</th>\n      <th>4</th>\n      <th>5</th>\n      <th>6</th>\n      <th>7</th>\n      <th>8</th>\n      <th>9</th>\n      <th>...</th>\n      <th>14</th>\n      <th>15</th>\n      <th>16</th>\n      <th>17</th>\n      <th>18</th>\n      <th>19</th>\n      <th>20</th>\n      <th>21</th>\n      <th>22</th>\n      <th>23</th>\n    </tr>\n    <tr>\n      <th>REPORT_TYPE</th>\n      <th></th>\n      <th></th>\n      <th></th>\n      <th></th>\n      <th></th>\n      <th></th>\n      <th></th>\n      <th></th>\n      <th></th>\n      <th></th>\n      <th></th>\n      <th></th>\n      <th></th>\n      <th></th>\n      <th></th>\n      <th></th>\n      <th></th>\n      <th></th>\n      <th></th>\n      <th></th>\n      <th></th>\n    </tr>\n  </thead>\n  <tbody>\n    <tr>\n      <th>AMENDED</th>\n      <td>NaN</td>\n      <td>NaN</td>\n      <td>NaN</td>\n      <td>NaN</td>\n      <td>NaN</td>\n      <td>NaN</td>\n      <td>2.0</td>\n      <td>6.0</td>\n      <td>2.0</td>\n      <td>NaN</td>\n      <td>...</td>\n      <td>4.0</td>\n      <td>NaN</td>\n      <td>2.0</td>\n      <td>NaN</td>\n      <td>2.0</td>\n      <td>NaN</td>\n      <td>9.0</td>\n      <td>2.0</td>\n      <td>1.0</td>\n      <td>2.0</td>\n    </tr>\n    <tr>\n      <th>NOT ON SCENE (DESK REPORT)</th>\n      <td>451.0</td>\n      <td>412.0</td>\n      <td>329.0</td>\n      <td>240.0</td>\n      <td>222.0</td>\n      <td>361.0</td>\n      <td>654.0</td>\n      <td>1446.0</td>\n      <td>1765.0</td>\n      <td>1551.0</td>\n      <td>...</td>\n      <td>2453.0</td>\n      <td>2726.0</td>\n      <td>2650.0</td>\n      <td>2679.0</td>\n      <td>2079.0</td>\n      <td>1492.0</td>\n      <td>1130.0</td>\n      <td>1001.0</td>\n      <td>871.0</td>\n      <td>626.0</td>\n    </tr>\n    <tr>\n      <th>ON SCENE</th>\n      <td>726.0</td>\n      <td>567.0</td>\n      <td>603.0</td>\n      <td>442.0</td>\n      <td>388.0</td>\n      <td>439.0</td>\n      <td>625.0</td>\n      <td>1030.0</td>\n      <td>1295.0</td>\n      <td>1140.0</td>\n      <td>...</td>\n      <td>1208.0</td>\n      <td>1429.0</td>\n      <td>1549.0</td>\n      <td>1594.0</td>\n      <td>1269.0</td>\n      <td>908.0</td>\n      <td>769.0</td>\n      <td>750.0</td>\n      <td>796.0</td>\n      <td>746.0</td>\n    </tr>\n  </tbody>\n</table>\n<p>3 rows × 24 columns</p>\n</div>"
     },
     "metadata": {}
    }
   ]
  },
  {
   "cell_type": "markdown",
   "source": "<a style='text-decoration:none;line-height:16px;display:flex;color:#5B5B62;padding:10px;justify-content:end;' href='https://deepnote.com?utm_source=created-in-deepnote-cell&projectId=27dabb8f-c014-4c3b-9af9-2c50accbfcce' target=\"_blank\">\n<img alt='Created in deepnote.com' style='display:inline;max-height:16px;margin:0px;margin-right:7.5px;' src='data:image/svg+xml;base64,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' > </img>\nCreated in <span style='font-weight:600;margin-left:4px;'>Deepnote</span></a>",
   "metadata": {
    "tags": [],
    "created_in_deepnote_cell": true,
    "deepnote_cell_type": "markdown"
   }
  }
 ],
 "nbformat": 4,
 "nbformat_minor": 2,
 "metadata": {
  "orig_nbformat": 2,
  "deepnote": {
   "is_reactive": false
  },
  "deepnote_notebook_id": "59ff273a-ade3-49ba-8616-d246f4e71f76",
  "deepnote_execution_queue": []
 }
}