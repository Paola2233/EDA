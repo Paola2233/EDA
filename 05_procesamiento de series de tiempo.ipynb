{
 "cells": [
  {
   "cell_type": "markdown",
   "source": "# Análisis de Series de Tiempo (TSA)",
   "metadata": {
    "cell_id": "cb3f19573fdc492aa0068c88efdf8cca",
    "tags": [],
    "deepnote_cell_type": "markdown",
    "deepnote_cell_height": 92.390625
   }
  },
  {
   "cell_type": "code",
   "metadata": {
    "cell_id": "05fdd10e23ef4ca48b6c2913a08de10a",
    "tags": [],
    "deepnote_to_be_reexecuted": false,
    "source_hash": "fa773830",
    "execution_start": 1650431890146,
    "execution_millis": 4431,
    "deepnote_cell_type": "code",
    "deepnote_cell_height": 459.796875
   },
   "source": "!pip install quandl",
   "execution_count": null,
   "outputs": [
    {
     "name": "stdout",
     "text": "Requirement already satisfied: quandl in /root/venv/lib/python3.7/site-packages (3.7.0)\nRequirement already satisfied: requests>=2.7.0 in /shared-libs/python3.7/py/lib/python3.7/site-packages (from quandl) (2.27.1)\nRequirement already satisfied: python-dateutil in /shared-libs/python3.7/py-core/lib/python3.7/site-packages (from quandl) (2.8.2)\nRequirement already satisfied: more-itertools in /root/venv/lib/python3.7/site-packages (from quandl) (8.12.0)\nRequirement already satisfied: inflection>=0.3.1 in /root/venv/lib/python3.7/site-packages (from quandl) (0.5.1)\nRequirement already satisfied: numpy>=1.8 in /shared-libs/python3.7/py/lib/python3.7/site-packages (from quandl) (1.21.5)\nRequirement already satisfied: six in /shared-libs/python3.7/py-core/lib/python3.7/site-packages (from quandl) (1.16.0)\nRequirement already satisfied: pandas>=0.14 in /shared-libs/python3.7/py/lib/python3.7/site-packages (from quandl) (1.2.5)\nRequirement already satisfied: charset-normalizer~=2.0.0; python_version >= \"3\" in /shared-libs/python3.7/py-core/lib/python3.7/site-packages (from requests>=2.7.0->quandl) (2.0.12)\nRequirement already satisfied: urllib3<1.27,>=1.21.1 in /shared-libs/python3.7/py/lib/python3.7/site-packages (from requests>=2.7.0->quandl) (1.26.9)\nRequirement already satisfied: certifi>=2017.4.17 in /shared-libs/python3.7/py/lib/python3.7/site-packages (from requests>=2.7.0->quandl) (2021.10.8)\nRequirement already satisfied: idna<4,>=2.5; python_version >= \"3\" in /shared-libs/python3.7/py-core/lib/python3.7/site-packages (from requests>=2.7.0->quandl) (3.3)\nRequirement already satisfied: pytz>=2017.3 in /shared-libs/python3.7/py/lib/python3.7/site-packages (from pandas>=0.14->quandl) (2022.1)\n\u001b[33mWARNING: You are using pip version 20.1.1; however, version 22.0.4 is available.\nYou should consider upgrading via the '/root/venv/bin/python -m pip install --upgrade pip' command.\u001b[0m\n",
     "output_type": "stream"
    }
   ]
  },
  {
   "cell_type": "code",
   "metadata": {
    "tags": [],
    "cell_id": "e727942f-2001-4022-9dd4-be96e2ce440f",
    "deepnote_to_be_reexecuted": false,
    "source_hash": "42f652df",
    "execution_start": 1650431894179,
    "execution_millis": 18,
    "deepnote_cell_type": "code",
    "deepnote_cell_height": 81
   },
   "source": "import quandl",
   "execution_count": null,
   "outputs": []
  },
  {
   "cell_type": "code",
   "metadata": {
    "cell_id": "24983aaefb8a4e3e810a9458b250f8ea",
    "tags": [],
    "deepnote_to_be_reexecuted": false,
    "source_hash": "ddea27f9",
    "execution_start": 1650431894206,
    "execution_millis": 5,
    "deepnote_cell_type": "code",
    "deepnote_cell_height": 99
   },
   "source": "QUANDL_API_KEY = 'LphVrQ1zSEg9tztzWP49'\nquandl.ApiConfig.api_key = QUANDL_API_KEY",
   "execution_count": null,
   "outputs": []
  },
  {
   "cell_type": "code",
   "metadata": {
    "cell_id": "1bf709536a5a47218a22e25d2974162c",
    "tags": [],
    "deepnote_to_be_reexecuted": false,
    "source_hash": "c6b978af",
    "execution_start": 1650431894221,
    "execution_millis": 606,
    "deepnote_cell_type": "code",
    "deepnote_cell_height": 640.796875
   },
   "source": "quandl.get(\"FRED/GDP\")",
   "execution_count": null,
   "outputs": [
    {
     "output_type": "execute_result",
     "execution_count": 4,
     "data": {
      "application/vnd.deepnote.dataframe.v3+json": {
       "column_count": 1,
       "row_count": 300,
       "columns": [
        {
         "name": "Value",
         "dtype": "float64",
         "stats": {
          "unique_count": 300,
          "nan_count": 0,
          "min": "243.164",
          "max": "23992.355",
          "histogram": [
           {
            "bin_start": 243.164,
            "bin_end": 2618.0831,
            "count": 130
           },
           {
            "bin_start": 2618.0831,
            "bin_end": 4993.0022,
            "count": 33
           },
           {
            "bin_start": 4993.0022,
            "bin_end": 7367.9213,
            "count": 28
           },
           {
            "bin_start": 7367.9213,
            "bin_end": 9742.840400000001,
            "count": 20
           },
           {
            "bin_start": 9742.840400000001,
            "bin_end": 12117.7595,
            "count": 19
           },
           {
            "bin_start": 12117.7595,
            "bin_end": 14492.678600000001,
            "count": 15
           },
           {
            "bin_start": 14492.678600000001,
            "bin_end": 16867.597700000002,
            "count": 21
           },
           {
            "bin_start": 16867.597700000002,
            "bin_end": 19242.5168,
            "count": 15
           },
           {
            "bin_start": 19242.5168,
            "bin_end": 21617.4359,
            "count": 14
           },
           {
            "bin_start": 21617.4359,
            "bin_end": 23992.355,
            "count": 5
           }
          ]
         }
        },
        {
         "name": "_deepnote_index_column",
         "dtype": "datetime64[ns]"
        }
       ],
       "rows": [
        {
         "Value": 243.164,
         "_deepnote_index_column": "1947-01-01T00:00:00.000000"
        },
        {
         "Value": 245.968,
         "_deepnote_index_column": "1947-04-01T00:00:00.000000"
        },
        {
         "Value": 249.585,
         "_deepnote_index_column": "1947-07-01T00:00:00.000000"
        },
        {
         "Value": 259.745,
         "_deepnote_index_column": "1947-10-01T00:00:00.000000"
        },
        {
         "Value": 265.742,
         "_deepnote_index_column": "1948-01-01T00:00:00.000000"
        },
        {
         "Value": 272.567,
         "_deepnote_index_column": "1948-04-01T00:00:00.000000"
        },
        {
         "Value": 279.196,
         "_deepnote_index_column": "1948-07-01T00:00:00.000000"
        },
        {
         "Value": 280.366,
         "_deepnote_index_column": "1948-10-01T00:00:00.000000"
        },
        {
         "Value": 275.034,
         "_deepnote_index_column": "1949-01-01T00:00:00.000000"
        },
        {
         "Value": 271.351,
         "_deepnote_index_column": "1949-04-01T00:00:00.000000"
        }
       ]
      },
      "text/plain": "                Value\nDate                 \n1947-01-01    243.164\n1947-04-01    245.968\n1947-07-01    249.585\n1947-10-01    259.745\n1948-01-01    265.742\n...               ...\n2020-10-01  21477.597\n2021-01-01  22038.226\n2021-04-01  22740.959\n2021-07-01  23202.344\n2021-10-01  23992.355\n\n[300 rows x 1 columns]",
      "text/html": "<div>\n<style scoped>\n    .dataframe tbody tr th:only-of-type {\n        vertical-align: middle;\n    }\n\n    .dataframe tbody tr th {\n        vertical-align: top;\n    }\n\n    .dataframe thead th {\n        text-align: right;\n    }\n</style>\n<table border=\"1\" class=\"dataframe\">\n  <thead>\n    <tr style=\"text-align: right;\">\n      <th></th>\n      <th>Value</th>\n    </tr>\n    <tr>\n      <th>Date</th>\n      <th></th>\n    </tr>\n  </thead>\n  <tbody>\n    <tr>\n      <th>1947-01-01</th>\n      <td>243.164</td>\n    </tr>\n    <tr>\n      <th>1947-04-01</th>\n      <td>245.968</td>\n    </tr>\n    <tr>\n      <th>1947-07-01</th>\n      <td>249.585</td>\n    </tr>\n    <tr>\n      <th>1947-10-01</th>\n      <td>259.745</td>\n    </tr>\n    <tr>\n      <th>1948-01-01</th>\n      <td>265.742</td>\n    </tr>\n    <tr>\n      <th>...</th>\n      <td>...</td>\n    </tr>\n    <tr>\n      <th>2020-10-01</th>\n      <td>21477.597</td>\n    </tr>\n    <tr>\n      <th>2021-01-01</th>\n      <td>22038.226</td>\n    </tr>\n    <tr>\n      <th>2021-04-01</th>\n      <td>22740.959</td>\n    </tr>\n    <tr>\n      <th>2021-07-01</th>\n      <td>23202.344</td>\n    </tr>\n    <tr>\n      <th>2021-10-01</th>\n      <td>23992.355</td>\n    </tr>\n  </tbody>\n</table>\n<p>300 rows × 1 columns</p>\n</div>"
     },
     "metadata": {}
    }
   ]
  },
  {
   "cell_type": "markdown",
   "source": "En particular, se buscó información de bienes raíces, específicamente se busca saber la cantidad de personas que obtuvieron un crédito después del problema del 2009. Se pueden buscar datos de diferente índole en: https://data.nasdaq.com/tools/python",
   "metadata": {
    "cell_id": "9e41a1b699ca4a118ca44e54069e0a29",
    "tags": [],
    "deepnote_cell_type": "markdown",
    "deepnote_cell_height": 164.390625
   }
  },
  {
   "cell_type": "code",
   "metadata": {
    "cell_id": "b353ceff0c8543859980fe33d555b992",
    "tags": [],
    "deepnote_to_be_reexecuted": false,
    "source_hash": "1607be4d",
    "execution_start": 1650431940515,
    "execution_millis": 503,
    "deepnote_cell_type": "code",
    "deepnote_cell_height": 658.796875
   },
   "source": "df_real = quandl.get(\"CHRIS/CME_GC1\", column_index=6, collapse='weekly', start_date='2010-01-01')\ndf_real",
   "execution_count": null,
   "outputs": [
    {
     "output_type": "execute_result",
     "execution_count": 7,
     "data": {
      "application/vnd.deepnote.dataframe.v3+json": {
       "column_count": 1,
       "row_count": 600,
       "columns": [
        {
         "name": "Settle",
         "dtype": "float64",
         "stats": {
          "unique_count": 576,
          "nan_count": 0,
          "min": "1052.2",
          "max": "2055.5",
          "histogram": [
           {
            "bin_start": 1052.2,
            "bin_end": 1152.53,
            "count": 21
           },
           {
            "bin_start": 1152.53,
            "bin_end": 1252.8600000000001,
            "count": 98
           },
           {
            "bin_start": 1252.8600000000001,
            "bin_end": 1353.19,
            "count": 144
           },
           {
            "bin_start": 1353.19,
            "bin_end": 1453.52,
            "count": 117
           },
           {
            "bin_start": 1453.52,
            "bin_end": 1553.85,
            "count": 46
           },
           {
            "bin_start": 1553.85,
            "bin_end": 1654.18,
            "count": 55
           },
           {
            "bin_start": 1654.18,
            "bin_end": 1754.51,
            "count": 54
           },
           {
            "bin_start": 1754.51,
            "bin_end": 1854.8400000000001,
            "count": 37
           },
           {
            "bin_start": 1854.8400000000001,
            "bin_end": 1955.17,
            "count": 20
           },
           {
            "bin_start": 1955.17,
            "bin_end": 2055.5,
            "count": 8
           }
          ]
         }
        },
        {
         "name": "_deepnote_index_column",
         "dtype": "datetime64[ns]"
        }
       ],
       "rows": [
        {
         "Settle": 1138.9,
         "_deepnote_index_column": "2010-01-10T00:00:00.000000"
        },
        {
         "Settle": 1130.5,
         "_deepnote_index_column": "2010-01-17T00:00:00.000000"
        },
        {
         "Settle": 1089.7,
         "_deepnote_index_column": "2010-01-24T00:00:00.000000"
        },
        {
         "Settle": 1083,
         "_deepnote_index_column": "2010-01-31T00:00:00.000000"
        },
        {
         "Settle": 1052.2,
         "_deepnote_index_column": "2010-02-07T00:00:00.000000"
        },
        {
         "Settle": 1089.5,
         "_deepnote_index_column": "2010-02-14T00:00:00.000000"
        },
        {
         "Settle": 1121.3,
         "_deepnote_index_column": "2010-02-21T00:00:00.000000"
        },
        {
         "Settle": 1118.9,
         "_deepnote_index_column": "2010-02-28T00:00:00.000000"
        },
        {
         "Settle": 1135.2,
         "_deepnote_index_column": "2010-03-07T00:00:00.000000"
        },
        {
         "Settle": 1101.7,
         "_deepnote_index_column": "2010-03-14T00:00:00.000000"
        }
       ]
      },
      "text/plain": "            Settle\nDate              \n2010-01-10  1138.9\n2010-01-17  1130.5\n2010-01-24  1089.7\n2010-01-31  1083.0\n2010-02-07  1052.2\n...            ...\n2021-06-06  1889.8\n2021-06-13  1877.4\n2021-06-20  1767.9\n2021-06-27  1776.6\n2021-07-04  1763.6\n\n[600 rows x 1 columns]",
      "text/html": "<div>\n<style scoped>\n    .dataframe tbody tr th:only-of-type {\n        vertical-align: middle;\n    }\n\n    .dataframe tbody tr th {\n        vertical-align: top;\n    }\n\n    .dataframe thead th {\n        text-align: right;\n    }\n</style>\n<table border=\"1\" class=\"dataframe\">\n  <thead>\n    <tr style=\"text-align: right;\">\n      <th></th>\n      <th>Settle</th>\n    </tr>\n    <tr>\n      <th>Date</th>\n      <th></th>\n    </tr>\n  </thead>\n  <tbody>\n    <tr>\n      <th>2010-01-10</th>\n      <td>1138.9</td>\n    </tr>\n    <tr>\n      <th>2010-01-17</th>\n      <td>1130.5</td>\n    </tr>\n    <tr>\n      <th>2010-01-24</th>\n      <td>1089.7</td>\n    </tr>\n    <tr>\n      <th>2010-01-31</th>\n      <td>1083.0</td>\n    </tr>\n    <tr>\n      <th>2010-02-07</th>\n      <td>1052.2</td>\n    </tr>\n    <tr>\n      <th>...</th>\n      <td>...</td>\n    </tr>\n    <tr>\n      <th>2021-06-06</th>\n      <td>1889.8</td>\n    </tr>\n    <tr>\n      <th>2021-06-13</th>\n      <td>1877.4</td>\n    </tr>\n    <tr>\n      <th>2021-06-20</th>\n      <td>1767.9</td>\n    </tr>\n    <tr>\n      <th>2021-06-27</th>\n      <td>1776.6</td>\n    </tr>\n    <tr>\n      <th>2021-07-04</th>\n      <td>1763.6</td>\n    </tr>\n  </tbody>\n</table>\n<p>600 rows × 1 columns</p>\n</div>"
     },
     "metadata": {}
    }
   ]
  },
  {
   "cell_type": "code",
   "metadata": {
    "cell_id": "6b2a86135a434888a15b91a0b1b82c45",
    "tags": [],
    "deepnote_to_be_reexecuted": false,
    "source_hash": "58f8cf6a",
    "execution_start": 1650431998987,
    "execution_millis": 362,
    "deepnote_cell_type": "code",
    "deepnote_cell_height": 640.796875
   },
   "source": "df_real.resample('MS').ffill().dropna()",
   "execution_count": null,
   "outputs": [
    {
     "output_type": "execute_result",
     "execution_count": 8,
     "data": {
      "application/vnd.deepnote.dataframe.v3+json": {
       "column_count": 1,
       "row_count": 138,
       "columns": [
        {
         "name": "Settle",
         "dtype": "float64",
         "stats": {
          "unique_count": 137,
          "nan_count": 0,
          "min": "1083.0",
          "max": "1989.4",
          "histogram": [
           {
            "bin_start": 1083,
            "bin_end": 1173.64,
            "count": 7
           },
           {
            "bin_start": 1173.64,
            "bin_end": 1264.28,
            "count": 23
           },
           {
            "bin_start": 1264.28,
            "bin_end": 1354.92,
            "count": 29
           },
           {
            "bin_start": 1354.92,
            "bin_end": 1445.56,
            "count": 26
           },
           {
            "bin_start": 1445.56,
            "bin_end": 1536.2,
            "count": 8
           },
           {
            "bin_start": 1536.2,
            "bin_end": 1626.8400000000001,
            "count": 14
           },
           {
            "bin_start": 1626.8400000000001,
            "bin_end": 1717.48,
            "count": 10
           },
           {
            "bin_start": 1717.48,
            "bin_end": 1808.1200000000001,
            "count": 13
           },
           {
            "bin_start": 1808.1200000000001,
            "bin_end": 1898.7600000000002,
            "count": 5
           },
           {
            "bin_start": 1898.7600000000002,
            "bin_end": 1989.4,
            "count": 3
           }
          ]
         }
        },
        {
         "name": "_deepnote_index_column",
         "dtype": "datetime64[ns]"
        }
       ],
       "rows": [
        {
         "Settle": 1083,
         "_deepnote_index_column": "2010-02-01T00:00:00.000000"
        },
        {
         "Settle": 1118.9,
         "_deepnote_index_column": "2010-03-01T00:00:00.000000"
        },
        {
         "Settle": 1104.3,
         "_deepnote_index_column": "2010-04-01T00:00:00.000000"
        },
        {
         "Settle": 1153.1,
         "_deepnote_index_column": "2010-05-01T00:00:00.000000"
        },
        {
         "Settle": 1212.2,
         "_deepnote_index_column": "2010-06-01T00:00:00.000000"
        },
        {
         "Settle": 1255.8,
         "_deepnote_index_column": "2010-07-01T00:00:00.000000"
        },
        {
         "Settle": 1181.7,
         "_deepnote_index_column": "2010-08-01T00:00:00.000000"
        },
        {
         "Settle": 1236,
         "_deepnote_index_column": "2010-09-01T00:00:00.000000"
        },
        {
         "Settle": 1296.3,
         "_deepnote_index_column": "2010-10-01T00:00:00.000000"
        },
        {
         "Settle": 1357.6,
         "_deepnote_index_column": "2010-11-01T00:00:00.000000"
        }
       ]
      },
      "text/plain": "            Settle\nDate              \n2010-02-01  1083.0\n2010-03-01  1118.9\n2010-04-01  1104.3\n2010-05-01  1153.1\n2010-06-01  1212.2\n...            ...\n2021-03-01  1731.6\n2021-04-01  1734.7\n2021-05-01  1777.8\n2021-06-01  1902.5\n2021-07-01  1776.6\n\n[138 rows x 1 columns]",
      "text/html": "<div>\n<style scoped>\n    .dataframe tbody tr th:only-of-type {\n        vertical-align: middle;\n    }\n\n    .dataframe tbody tr th {\n        vertical-align: top;\n    }\n\n    .dataframe thead th {\n        text-align: right;\n    }\n</style>\n<table border=\"1\" class=\"dataframe\">\n  <thead>\n    <tr style=\"text-align: right;\">\n      <th></th>\n      <th>Settle</th>\n    </tr>\n    <tr>\n      <th>Date</th>\n      <th></th>\n    </tr>\n  </thead>\n  <tbody>\n    <tr>\n      <th>2010-02-01</th>\n      <td>1083.0</td>\n    </tr>\n    <tr>\n      <th>2010-03-01</th>\n      <td>1118.9</td>\n    </tr>\n    <tr>\n      <th>2010-04-01</th>\n      <td>1104.3</td>\n    </tr>\n    <tr>\n      <th>2010-05-01</th>\n      <td>1153.1</td>\n    </tr>\n    <tr>\n      <th>2010-06-01</th>\n      <td>1212.2</td>\n    </tr>\n    <tr>\n      <th>...</th>\n      <td>...</td>\n    </tr>\n    <tr>\n      <th>2021-03-01</th>\n      <td>1731.6</td>\n    </tr>\n    <tr>\n      <th>2021-04-01</th>\n      <td>1734.7</td>\n    </tr>\n    <tr>\n      <th>2021-05-01</th>\n      <td>1777.8</td>\n    </tr>\n    <tr>\n      <th>2021-06-01</th>\n      <td>1902.5</td>\n    </tr>\n    <tr>\n      <th>2021-07-01</th>\n      <td>1776.6</td>\n    </tr>\n  </tbody>\n</table>\n<p>138 rows × 1 columns</p>\n</div>"
     },
     "metadata": {}
    }
   ]
  },
  {
   "cell_type": "markdown",
   "source": "**Ventanas de tiempo**\n\nLas ventanas de tiempo o muestrales son muy útiles en el análisis de datos ya que nos permiten crear una serie de tiempo y ver como se ha comportado en el pasado la variable o estadístico que estamos estudiando \n\nLa idea es crear una serie siempre con la misma cantidad de periodos de manera que veamos su evolución en el tiempo.\n\nPor ejemplo nos sirve como una de las formas más simples para medir la variabilidad y la correlación que ha tenido un activo financiero o cualquier otra variable.\n\nFuente: https://ricovictor.com/index.php/2020/09/01/correlacion-y-covarianza-con-ventana-de-tiempo/\n\nCreamos una ventana de tiempo de 3 semanas",
   "metadata": {
    "cell_id": "6ea04f6d891d41b986a811bce2cc5675",
    "tags": [],
    "deepnote_cell_type": "markdown",
    "deepnote_cell_height": 548
   }
  },
  {
   "cell_type": "code",
   "metadata": {
    "cell_id": "436e80e56c4543de83f0d8612e149678",
    "tags": [],
    "deepnote_to_be_reexecuted": false,
    "source_hash": "ba92a03d",
    "execution_start": 1650432728702,
    "execution_millis": 3,
    "deepnote_cell_type": "code",
    "deepnote_cell_height": 99
   },
   "source": "window = df_real.rolling(3)\ndf_real_mean = window.mean()",
   "execution_count": null,
   "outputs": []
  },
  {
   "cell_type": "code",
   "metadata": {
    "cell_id": "143903ef9f434ab587f35716a964fe81",
    "tags": [],
    "deepnote_to_be_reexecuted": false,
    "source_hash": "6a77453d",
    "execution_start": 1650432758181,
    "execution_millis": 5,
    "deepnote_cell_type": "code",
    "deepnote_cell_height": 81
   },
   "source": "import matplotlib.pyplot as plt",
   "execution_count": null,
   "outputs": []
  },
  {
   "cell_type": "code",
   "metadata": {
    "cell_id": "3afe171d5c5c410ba3707d843d824f06",
    "tags": [],
    "deepnote_to_be_reexecuted": false,
    "source_hash": "eb9667d2",
    "execution_start": 1650432864479,
    "execution_millis": 311,
    "deepnote_cell_type": "code",
    "deepnote_cell_height": 182,
    "deepnote_output_heights": [
     null,
     197
    ]
   },
   "source": "plt.figure(figsize=(12,8))\nplt.plot(df_real, label = 'Datos originales')\nplt.plot(df_real_mean, label = 'Media')\nplt.legend()",
   "execution_count": null,
   "outputs": [
    {
     "output_type": "execute_result",
     "execution_count": 12,
     "data": {
      "text/plain": "<matplotlib.legend.Legend at 0x7f770d935e50>"
     },
     "metadata": {}
    },
    {
     "data": {
      "text/plain": "<Figure size 864x576 with 1 Axes>",
      "image/png": "[encoded data removed]"
     },
     "metadata": {
      "needs_background": "light",
      "image/png": {
       "width": 724,
       "height": 466
      }
     },
     "output_type": "display_data"
    }
   ]
  },
  {
   "cell_type": "markdown",
   "source": "Ahora veamos cómo hacer operaciones con las ventanas dinámicas y las series de tiempo",
   "metadata": {
    "cell_id": "5a82eff4a416434490a83ef457930dc4",
    "tags": [],
    "deepnote_cell_type": "markdown",
    "deepnote_cell_height": 74.796875
   }
  },
  {
   "cell_type": "code",
   "metadata": {
    "cell_id": "84ac1ed3bf8c4bf08402f431d7da42ff",
    "tags": [],
    "deepnote_to_be_reexecuted": false,
    "source_hash": "827aadaf",
    "execution_start": 1650433240895,
    "execution_millis": 3,
    "deepnote_cell_type": "code",
    "deepnote_cell_height": 81
   },
   "source": "from statsmodels.tsa.seasonal import seasonal_decompose",
   "execution_count": null,
   "outputs": []
  },
  {
   "cell_type": "code",
   "metadata": {
    "cell_id": "4df22aaad01943d8b8814465e1483be7",
    "tags": [],
    "deepnote_to_be_reexecuted": false,
    "source_hash": "31c0fa53",
    "execution_start": 1650433605556,
    "execution_millis": 1286,
    "deepnote_cell_type": "code",
    "deepnote_cell_height": 146,
    "deepnote_output_heights": [
     203,
     203
    ]
   },
   "source": "season_analysis = seasonal_decompose(df_real, period=12)\nseason_analysis.plot()",
   "execution_count": null,
   "outputs": [
    {
     "output_type": "execute_result",
     "execution_count": 22,
     "data": {
      "text/plain": "<Figure size 432x288 with 4 Axes>",
      "image/png": "[encoded data removed]"
     },
     "metadata": {
      "image/png": {
       "width": 424,
       "height": 281
      }
     }
    },
    {
     "data": {
      "text/plain": "<Figure size 432x288 with 4 Axes>",
      "image/png": "[encoded data removed]"
     },
     "metadata": {
      "needs_background": "light",
      "image/png": {
       "width": 424,
       "height": 281
      }
     },
     "output_type": "display_data"
    }
   ]
  },
  {
   "cell_type": "markdown",
   "source": "# TSA con Open Power System Data\n\n",
   "metadata": {
    "cell_id": "4c026a07d70a46f1badabec5301f884a",
    "tags": [],
    "deepnote_cell_type": "markdown",
    "deepnote_cell_height": 92.390625
   }
  },
  {
   "cell_type": "code",
   "metadata": {
    "cell_id": "3ec4dff41e794119b1fb70a83f38d9c1",
    "tags": [],
    "deepnote_to_be_reexecuted": false,
    "source_hash": "68301009",
    "execution_start": 1650434743951,
    "execution_millis": 5,
    "deepnote_cell_type": "code",
    "deepnote_cell_height": 135
   },
   "source": "import pandas as pd\nimport numpy as np\nimport seaborn as sns\nimport matplotlib.pyplot as plt",
   "execution_count": null,
   "outputs": []
  },
  {
   "cell_type": "code",
   "metadata": {
    "cell_id": "dc9611f5ce434266801d463307954994",
    "tags": [],
    "deepnote_to_be_reexecuted": false,
    "source_hash": "1852c39a",
    "execution_start": 1650434271757,
    "execution_millis": 318,
    "deepnote_cell_type": "code",
    "deepnote_cell_height": 694.796875
   },
   "source": "url = 'https://raw.githubusercontent.com/terranigmark/curso-analisis-exploratorio-datos-platzi/main/df_power.csv'\n\ndf_power = pd.read_csv(url,index_col=0)\ndf_power",
   "execution_count": null,
   "outputs": [
    {
     "output_type": "execute_result",
     "execution_count": 27,
     "data": {
      "application/vnd.deepnote.dataframe.v3+json": {
       "column_count": 5,
       "row_count": 4383,
       "columns": [
        {
         "name": "Date",
         "dtype": "object",
         "stats": {
          "unique_count": 4383,
          "nan_count": 0,
          "categories": [
           {
            "name": "2006-01-01",
            "count": 1
           },
           {
            "name": "2006-01-02",
            "count": 1
           },
           {
            "name": "4381 others",
            "count": 4381
           }
          ]
         }
        },
        {
         "name": "Consumption",
         "dtype": "float64",
         "stats": {
          "unique_count": 4374,
          "nan_count": 0,
          "min": "842.395",
          "max": "1709.5679999999998",
          "histogram": [
           {
            "bin_start": 842.395,
            "bin_end": 929.1123,
            "count": 15
           },
           {
            "bin_start": 929.1123,
            "bin_end": 1015.8295999999999,
            "count": 123
           },
           {
            "bin_start": 1015.8295999999999,
            "bin_end": 1102.5468999999998,
            "count": 360
           },
           {
            "bin_start": 1102.5468999999998,
            "bin_end": 1189.2641999999998,
            "count": 457
           },
           {
            "bin_start": 1189.2641999999998,
            "bin_end": 1275.9814999999999,
            "count": 443
           },
           {
            "bin_start": 1275.9814999999999,
            "bin_end": 1362.6988,
            "count": 740
           },
           {
            "bin_start": 1362.6988,
            "bin_end": 1449.4161,
            "count": 1057
           },
           {
            "bin_start": 1449.4161,
            "bin_end": 1536.1333999999997,
            "count": 700
           },
           {
            "bin_start": 1536.1333999999997,
            "bin_end": 1622.8507,
            "count": 426
           },
           {
            "bin_start": 1622.8507,
            "bin_end": 1709.5679999999998,
            "count": 62
           }
          ]
         }
        },
        {
         "name": "Wind",
         "dtype": "float64",
         "stats": {
          "unique_count": 2913,
          "nan_count": 1463,
          "min": "5.756999999999999",
          "max": "826.2779999999998",
          "histogram": [
           {
            "bin_start": 5.756999999999999,
            "bin_end": 87.80909999999999,
            "count": 1105
           },
           {
            "bin_start": 87.80909999999999,
            "bin_end": 169.86119999999997,
            "count": 774
           },
           {
            "bin_start": 169.86119999999997,
            "bin_end": 251.91329999999994,
            "count": 444
           },
           {
            "bin_start": 251.91329999999994,
            "bin_end": 333.96539999999993,
            "count": 254
           },
           {
            "bin_start": 333.96539999999993,
            "bin_end": 416.0174999999999,
            "count": 141
           },
           {
            "bin_start": 416.0174999999999,
            "bin_end": 498.06959999999987,
            "count": 74
           },
           {
            "bin_start": 498.06959999999987,
            "bin_end": 580.1216999999998,
            "count": 49
           },
           {
            "bin_start": 580.1216999999998,
            "bin_end": 662.1737999999998,
            "count": 48
           },
           {
            "bin_start": 662.1737999999998,
            "bin_end": 744.2258999999998,
            "count": 25
           },
           {
            "bin_start": 744.2258999999998,
            "bin_end": 826.2779999999998,
            "count": 6
           }
          ]
         }
        },
        {
         "name": "Solar",
         "dtype": "float64",
         "stats": {
          "unique_count": 2185,
          "nan_count": 2195,
          "min": "1.968",
          "max": "241.58",
          "histogram": [
           {
            "bin_start": 1.968,
            "bin_end": 25.9292,
            "count": 414
           },
           {
            "bin_start": 25.9292,
            "bin_end": 49.8904,
            "count": 341
           },
           {
            "bin_start": 49.8904,
            "bin_end": 73.8516,
            "count": 228
           },
           {
            "bin_start": 73.8516,
            "bin_end": 97.81280000000001,
            "count": 230
           },
           {
            "bin_start": 97.81280000000001,
            "bin_end": 121.77400000000002,
            "count": 272
           },
           {
            "bin_start": 121.77400000000002,
            "bin_end": 145.7352,
            "count": 271
           },
           {
            "bin_start": 145.7352,
            "bin_end": 169.6964,
            "count": 198
           },
           {
            "bin_start": 169.6964,
            "bin_end": 193.6576,
            "count": 149
           },
           {
            "bin_start": 193.6576,
            "bin_end": 217.6188,
            "count": 67
           },
           {
            "bin_start": 217.6188,
            "bin_end": 241.58,
            "count": 18
           }
          ]
         }
        },
        {
         "name": "Wind+Solar",
         "dtype": "float64",
         "stats": {
          "unique_count": 2184,
          "nan_count": 2196,
          "min": "21.478",
          "max": "851.556",
          "histogram": [
           {
            "bin_start": 21.478,
            "bin_end": 104.48580000000001,
            "count": 162
           },
           {
            "bin_start": 104.48580000000001,
            "bin_end": 187.49360000000001,
            "count": 492
           },
           {
            "bin_start": 187.49360000000001,
            "bin_end": 270.5014,
            "count": 665
           },
           {
            "bin_start": 270.5014,
            "bin_end": 353.5092,
            "count": 372
           },
           {
            "bin_start": 353.5092,
            "bin_end": 436.517,
            "count": 207
           },
           {
            "bin_start": 436.517,
            "bin_end": 519.5248,
            "count": 120
           },
           {
            "bin_start": 519.5248,
            "bin_end": 602.5326,
            "count": 72
           },
           {
            "bin_start": 602.5326,
            "bin_end": 685.5404,
            "count": 58
           },
           {
            "bin_start": 685.5404,
            "bin_end": 768.5482,
            "count": 29
           },
           {
            "bin_start": 768.5482,
            "bin_end": 851.556,
            "count": 10
           }
          ]
         }
        },
        {
         "name": "_deepnote_index_column",
         "dtype": "int64"
        }
       ],
       "rows": [
        {
         "Date": "2006-01-01",
         "Consumption": 1069.1840000000002,
         "Wind": "nan",
         "Solar": "nan",
         "Wind+Solar": "nan",
         "_deepnote_index_column": 0
        },
        {
         "Date": "2006-01-02",
         "Consumption": 1380.5210000000004,
         "Wind": "nan",
         "Solar": "nan",
         "Wind+Solar": "nan",
         "_deepnote_index_column": 1
        },
        {
         "Date": "2006-01-03",
         "Consumption": 1442.533,
         "Wind": "nan",
         "Solar": "nan",
         "Wind+Solar": "nan",
         "_deepnote_index_column": 2
        },
        {
         "Date": "2006-01-04",
         "Consumption": 1457.217,
         "Wind": "nan",
         "Solar": "nan",
         "Wind+Solar": "nan",
         "_deepnote_index_column": 3
        },
        {
         "Date": "2006-01-05",
         "Consumption": 1477.131,
         "Wind": "nan",
         "Solar": "nan",
         "Wind+Solar": "nan",
         "_deepnote_index_column": 4
        },
        {
         "Date": "2006-01-06",
         "Consumption": 1403.427,
         "Wind": "nan",
         "Solar": "nan",
         "Wind+Solar": "nan",
         "_deepnote_index_column": 5
        },
        {
         "Date": "2006-01-07",
         "Consumption": 1300.2870000000005,
         "Wind": "nan",
         "Solar": "nan",
         "Wind+Solar": "nan",
         "_deepnote_index_column": 6
        },
        {
         "Date": "2006-01-08",
         "Consumption": 1207.9849999999994,
         "Wind": "nan",
         "Solar": "nan",
         "Wind+Solar": "nan",
         "_deepnote_index_column": 7
        },
        {
         "Date": "2006-01-09",
         "Consumption": 1529.3229999999994,
         "Wind": "nan",
         "Solar": "nan",
         "Wind+Solar": "nan",
         "_deepnote_index_column": 8
        },
        {
         "Date": "2006-01-10",
         "Consumption": 1576.911,
         "Wind": "nan",
         "Solar": "nan",
         "Wind+Solar": "nan",
         "_deepnote_index_column": 9
        }
       ]
      },
      "text/plain": "            Date  Consumption     Wind   Solar  Wind+Solar\n0     2006-01-01   1069.18400      NaN     NaN         NaN\n1     2006-01-02   1380.52100      NaN     NaN         NaN\n2     2006-01-03   1442.53300      NaN     NaN         NaN\n3     2006-01-04   1457.21700      NaN     NaN         NaN\n4     2006-01-05   1477.13100      NaN     NaN         NaN\n...          ...          ...      ...     ...         ...\n4378  2017-12-27   1263.94091  394.507  16.530     411.037\n4379  2017-12-28   1299.86398  506.424  14.162     520.586\n4380  2017-12-29   1295.08753  584.277  29.854     614.131\n4381  2017-12-30   1215.44897  721.247   7.467     728.714\n4382  2017-12-31   1107.11488  721.176  19.980     741.156\n\n[4383 rows x 5 columns]",
      "text/html": "<div>\n<style scoped>\n    .dataframe tbody tr th:only-of-type {\n        vertical-align: middle;\n    }\n\n    .dataframe tbody tr th {\n        vertical-align: top;\n    }\n\n    .dataframe thead th {\n        text-align: right;\n    }\n</style>\n<table border=\"1\" class=\"dataframe\">\n  <thead>\n    <tr style=\"text-align: right;\">\n      <th></th>\n      <th>Date</th>\n      <th>Consumption</th>\n      <th>Wind</th>\n      <th>Solar</th>\n      <th>Wind+Solar</th>\n    </tr>\n  </thead>\n  <tbody>\n    <tr>\n      <th>0</th>\n      <td>2006-01-01</td>\n      <td>1069.18400</td>\n      <td>NaN</td>\n      <td>NaN</td>\n      <td>NaN</td>\n    </tr>\n    <tr>\n      <th>1</th>\n      <td>2006-01-02</td>\n      <td>1380.52100</td>\n      <td>NaN</td>\n      <td>NaN</td>\n      <td>NaN</td>\n    </tr>\n    <tr>\n      <th>2</th>\n      <td>2006-01-03</td>\n      <td>1442.53300</td>\n      <td>NaN</td>\n      <td>NaN</td>\n      <td>NaN</td>\n    </tr>\n    <tr>\n      <th>3</th>\n      <td>2006-01-04</td>\n      <td>1457.21700</td>\n      <td>NaN</td>\n      <td>NaN</td>\n      <td>NaN</td>\n    </tr>\n    <tr>\n      <th>4</th>\n      <td>2006-01-05</td>\n      <td>1477.13100</td>\n      <td>NaN</td>\n      <td>NaN</td>\n      <td>NaN</td>\n    </tr>\n    <tr>\n      <th>...</th>\n      <td>...</td>\n      <td>...</td>\n      <td>...</td>\n      <td>...</td>\n      <td>...</td>\n    </tr>\n    <tr>\n      <th>4378</th>\n      <td>2017-12-27</td>\n      <td>1263.94091</td>\n      <td>394.507</td>\n      <td>16.530</td>\n      <td>411.037</td>\n    </tr>\n    <tr>\n      <th>4379</th>\n      <td>2017-12-28</td>\n      <td>1299.86398</td>\n      <td>506.424</td>\n      <td>14.162</td>\n      <td>520.586</td>\n    </tr>\n    <tr>\n      <th>4380</th>\n      <td>2017-12-29</td>\n      <td>1295.08753</td>\n      <td>584.277</td>\n      <td>29.854</td>\n      <td>614.131</td>\n    </tr>\n    <tr>\n      <th>4381</th>\n      <td>2017-12-30</td>\n      <td>1215.44897</td>\n      <td>721.247</td>\n      <td>7.467</td>\n      <td>728.714</td>\n    </tr>\n    <tr>\n      <th>4382</th>\n      <td>2017-12-31</td>\n      <td>1107.11488</td>\n      <td>721.176</td>\n      <td>19.980</td>\n      <td>741.156</td>\n    </tr>\n  </tbody>\n</table>\n<p>4383 rows × 5 columns</p>\n</div>"
     },
     "metadata": {}
    }
   ]
  },
  {
   "cell_type": "code",
   "metadata": {
    "cell_id": "8b96cfce45a9439fbb1405083b775b7b",
    "tags": [],
    "deepnote_to_be_reexecuted": false,
    "source_hash": "877e74ee",
    "execution_start": 1650434314254,
    "execution_millis": 12,
    "deepnote_cell_type": "code",
    "deepnote_cell_height": 97
   },
   "source": "df_power.columns",
   "execution_count": null,
   "outputs": [
    {
     "output_type": "execute_result",
     "execution_count": 30,
     "data": {
      "text/plain": "Index(['Date', 'Consumption', 'Wind', 'Solar', 'Wind+Solar'], dtype='object')"
     },
     "metadata": {}
    }
   ]
  },
  {
   "cell_type": "code",
   "metadata": {
    "cell_id": "bbb52d14310d42dea6398f2d20c2f193",
    "tags": [],
    "deepnote_to_be_reexecuted": false,
    "source_hash": "2f787019",
    "execution_start": 1650434356195,
    "execution_millis": 0,
    "deepnote_cell_type": "code",
    "deepnote_cell_height": 81
   },
   "source": "df_power['Date'] = pd.to_datetime(df_power['Date'])",
   "execution_count": null,
   "outputs": []
  },
  {
   "cell_type": "code",
   "metadata": {
    "cell_id": "49c82cfe3eb24906b79a1b24cb2ad7e0",
    "tags": [],
    "deepnote_to_be_reexecuted": false,
    "source_hash": "ed192b95",
    "execution_start": 1650434364608,
    "execution_millis": 9,
    "deepnote_cell_type": "code",
    "deepnote_cell_height": 336.796875
   },
   "source": "df_power.info()",
   "execution_count": null,
   "outputs": [
    {
     "name": "stdout",
     "text": "<class 'pandas.core.frame.DataFrame'>\nInt64Index: 4383 entries, 0 to 4382\nData columns (total 5 columns):\n #   Column       Non-Null Count  Dtype         \n---  ------       --------------  -----         \n 0   Date         4383 non-null   datetime64[ns]\n 1   Consumption  4383 non-null   float64       \n 2   Wind         2920 non-null   float64       \n 3   Solar        2188 non-null   float64       \n 4   Wind+Solar   2187 non-null   float64       \ndtypes: datetime64[ns](1), float64(4)\nmemory usage: 334.5 KB\n",
     "output_type": "stream"
    }
   ]
  },
  {
   "cell_type": "code",
   "metadata": {
    "cell_id": "c3e002783a91426b99d148191c64413f",
    "tags": [],
    "deepnote_to_be_reexecuted": false,
    "source_hash": "609cffeb",
    "execution_start": 1650434431981,
    "execution_millis": 57,
    "deepnote_cell_type": "code",
    "deepnote_cell_height": 658.796875
   },
   "source": "df_power = df_power.set_index('Date')\ndf_power",
   "execution_count": null,
   "outputs": [
    {
     "output_type": "execute_result",
     "execution_count": 35,
     "data": {
      "application/vnd.deepnote.dataframe.v3+json": {
       "column_count": 4,
       "row_count": 4383,
       "columns": [
        {
         "name": "Consumption",
         "dtype": "float64",
         "stats": {
          "unique_count": 4374,
          "nan_count": 0,
          "min": "842.395",
          "max": "1709.5679999999998",
          "histogram": [
           {
            "bin_start": 842.395,
            "bin_end": 929.1123,
            "count": 15
           },
           {
            "bin_start": 929.1123,
            "bin_end": 1015.8295999999999,
            "count": 123
           },
           {
            "bin_start": 1015.8295999999999,
            "bin_end": 1102.5468999999998,
            "count": 360
           },
           {
            "bin_start": 1102.5468999999998,
            "bin_end": 1189.2641999999998,
            "count": 457
           },
           {
            "bin_start": 1189.2641999999998,
            "bin_end": 1275.9814999999999,
            "count": 443
           },
           {
            "bin_start": 1275.9814999999999,
            "bin_end": 1362.6988,
            "count": 740
           },
           {
            "bin_start": 1362.6988,
            "bin_end": 1449.4161,
            "count": 1057
           },
           {
            "bin_start": 1449.4161,
            "bin_end": 1536.1333999999997,
            "count": 700
           },
           {
            "bin_start": 1536.1333999999997,
            "bin_end": 1622.8507,
            "count": 426
           },
           {
            "bin_start": 1622.8507,
            "bin_end": 1709.5679999999998,
            "count": 62
           }
          ]
         }
        },
        {
         "name": "Wind",
         "dtype": "float64",
         "stats": {
          "unique_count": 2913,
          "nan_count": 1463,
          "min": "5.756999999999999",
          "max": "826.2779999999998",
          "histogram": [
           {
            "bin_start": 5.756999999999999,
            "bin_end": 87.80909999999999,
            "count": 1105
           },
           {
            "bin_start": 87.80909999999999,
            "bin_end": 169.86119999999997,
            "count": 774
           },
           {
            "bin_start": 169.86119999999997,
            "bin_end": 251.91329999999994,
            "count": 444
           },
           {
            "bin_start": 251.91329999999994,
            "bin_end": 333.96539999999993,
            "count": 254
           },
           {
            "bin_start": 333.96539999999993,
            "bin_end": 416.0174999999999,
            "count": 141
           },
           {
            "bin_start": 416.0174999999999,
            "bin_end": 498.06959999999987,
            "count": 74
           },
           {
            "bin_start": 498.06959999999987,
            "bin_end": 580.1216999999998,
            "count": 49
           },
           {
            "bin_start": 580.1216999999998,
            "bin_end": 662.1737999999998,
            "count": 48
           },
           {
            "bin_start": 662.1737999999998,
            "bin_end": 744.2258999999998,
            "count": 25
           },
           {
            "bin_start": 744.2258999999998,
            "bin_end": 826.2779999999998,
            "count": 6
           }
          ]
         }
        },
        {
         "name": "Solar",
         "dtype": "float64",
         "stats": {
          "unique_count": 2185,
          "nan_count": 2195,
          "min": "1.968",
          "max": "241.58",
          "histogram": [
           {
            "bin_start": 1.968,
            "bin_end": 25.9292,
            "count": 414
           },
           {
            "bin_start": 25.9292,
            "bin_end": 49.8904,
            "count": 341
           },
           {
            "bin_start": 49.8904,
            "bin_end": 73.8516,
            "count": 228
           },
           {
            "bin_start": 73.8516,
            "bin_end": 97.81280000000001,
            "count": 230
           },
           {
            "bin_start": 97.81280000000001,
            "bin_end": 121.77400000000002,
            "count": 272
           },
           {
            "bin_start": 121.77400000000002,
            "bin_end": 145.7352,
            "count": 271
           },
           {
            "bin_start": 145.7352,
            "bin_end": 169.6964,
            "count": 198
           },
           {
            "bin_start": 169.6964,
            "bin_end": 193.6576,
            "count": 149
           },
           {
            "bin_start": 193.6576,
            "bin_end": 217.6188,
            "count": 67
           },
           {
            "bin_start": 217.6188,
            "bin_end": 241.58,
            "count": 18
           }
          ]
         }
        },
        {
         "name": "Wind+Solar",
         "dtype": "float64",
         "stats": {
          "unique_count": 2184,
          "nan_count": 2196,
          "min": "21.478",
          "max": "851.556",
          "histogram": [
           {
            "bin_start": 21.478,
            "bin_end": 104.48580000000001,
            "count": 162
           },
           {
            "bin_start": 104.48580000000001,
            "bin_end": 187.49360000000001,
            "count": 492
           },
           {
            "bin_start": 187.49360000000001,
            "bin_end": 270.5014,
            "count": 665
           },
           {
            "bin_start": 270.5014,
            "bin_end": 353.5092,
            "count": 372
           },
           {
            "bin_start": 353.5092,
            "bin_end": 436.517,
            "count": 207
           },
           {
            "bin_start": 436.517,
            "bin_end": 519.5248,
            "count": 120
           },
           {
            "bin_start": 519.5248,
            "bin_end": 602.5326,
            "count": 72
           },
           {
            "bin_start": 602.5326,
            "bin_end": 685.5404,
            "count": 58
           },
           {
            "bin_start": 685.5404,
            "bin_end": 768.5482,
            "count": 29
           },
           {
            "bin_start": 768.5482,
            "bin_end": 851.556,
            "count": 10
           }
          ]
         }
        },
        {
         "name": "_deepnote_index_column",
         "dtype": "datetime64[ns]"
        }
       ],
       "rows": [
        {
         "Consumption": 1069.1840000000002,
         "Wind": "nan",
         "Solar": "nan",
         "Wind+Solar": "nan",
         "_deepnote_index_column": "2006-01-01T00:00:00.000000"
        },
        {
         "Consumption": 1380.5210000000004,
         "Wind": "nan",
         "Solar": "nan",
         "Wind+Solar": "nan",
         "_deepnote_index_column": "2006-01-02T00:00:00.000000"
        },
        {
         "Consumption": 1442.533,
         "Wind": "nan",
         "Solar": "nan",
         "Wind+Solar": "nan",
         "_deepnote_index_column": "2006-01-03T00:00:00.000000"
        },
        {
         "Consumption": 1457.217,
         "Wind": "nan",
         "Solar": "nan",
         "Wind+Solar": "nan",
         "_deepnote_index_column": "2006-01-04T00:00:00.000000"
        },
        {
         "Consumption": 1477.131,
         "Wind": "nan",
         "Solar": "nan",
         "Wind+Solar": "nan",
         "_deepnote_index_column": "2006-01-05T00:00:00.000000"
        },
        {
         "Consumption": 1403.427,
         "Wind": "nan",
         "Solar": "nan",
         "Wind+Solar": "nan",
         "_deepnote_index_column": "2006-01-06T00:00:00.000000"
        },
        {
         "Consumption": 1300.2870000000005,
         "Wind": "nan",
         "Solar": "nan",
         "Wind+Solar": "nan",
         "_deepnote_index_column": "2006-01-07T00:00:00.000000"
        },
        {
         "Consumption": 1207.9849999999994,
         "Wind": "nan",
         "Solar": "nan",
         "Wind+Solar": "nan",
         "_deepnote_index_column": "2006-01-08T00:00:00.000000"
        },
        {
         "Consumption": 1529.3229999999994,
         "Wind": "nan",
         "Solar": "nan",
         "Wind+Solar": "nan",
         "_deepnote_index_column": "2006-01-09T00:00:00.000000"
        },
        {
         "Consumption": 1576.911,
         "Wind": "nan",
         "Solar": "nan",
         "Wind+Solar": "nan",
         "_deepnote_index_column": "2006-01-10T00:00:00.000000"
        }
       ]
      },
      "text/plain": "            Consumption     Wind   Solar  Wind+Solar\nDate                                                \n2006-01-01   1069.18400      NaN     NaN         NaN\n2006-01-02   1380.52100      NaN     NaN         NaN\n2006-01-03   1442.53300      NaN     NaN         NaN\n2006-01-04   1457.21700      NaN     NaN         NaN\n2006-01-05   1477.13100      NaN     NaN         NaN\n...                 ...      ...     ...         ...\n2017-12-27   1263.94091  394.507  16.530     411.037\n2017-12-28   1299.86398  506.424  14.162     520.586\n2017-12-29   1295.08753  584.277  29.854     614.131\n2017-12-30   1215.44897  721.247   7.467     728.714\n2017-12-31   1107.11488  721.176  19.980     741.156\n\n[4383 rows x 4 columns]",
      "text/html": "<div>\n<style scoped>\n    .dataframe tbody tr th:only-of-type {\n        vertical-align: middle;\n    }\n\n    .dataframe tbody tr th {\n        vertical-align: top;\n    }\n\n    .dataframe thead th {\n        text-align: right;\n    }\n</style>\n<table border=\"1\" class=\"dataframe\">\n  <thead>\n    <tr style=\"text-align: right;\">\n      <th></th>\n      <th>Consumption</th>\n      <th>Wind</th>\n      <th>Solar</th>\n      <th>Wind+Solar</th>\n    </tr>\n    <tr>\n      <th>Date</th>\n      <th></th>\n      <th></th>\n      <th></th>\n      <th></th>\n    </tr>\n  </thead>\n  <tbody>\n    <tr>\n      <th>2006-01-01</th>\n      <td>1069.18400</td>\n      <td>NaN</td>\n      <td>NaN</td>\n      <td>NaN</td>\n    </tr>\n    <tr>\n      <th>2006-01-02</th>\n      <td>1380.52100</td>\n      <td>NaN</td>\n      <td>NaN</td>\n      <td>NaN</td>\n    </tr>\n    <tr>\n      <th>2006-01-03</th>\n      <td>1442.53300</td>\n      <td>NaN</td>\n      <td>NaN</td>\n      <td>NaN</td>\n    </tr>\n    <tr>\n      <th>2006-01-04</th>\n      <td>1457.21700</td>\n      <td>NaN</td>\n      <td>NaN</td>\n      <td>NaN</td>\n    </tr>\n    <tr>\n      <th>2006-01-05</th>\n      <td>1477.13100</td>\n      <td>NaN</td>\n      <td>NaN</td>\n      <td>NaN</td>\n    </tr>\n    <tr>\n      <th>...</th>\n      <td>...</td>\n      <td>...</td>\n      <td>...</td>\n      <td>...</td>\n    </tr>\n    <tr>\n      <th>2017-12-27</th>\n      <td>1263.94091</td>\n      <td>394.507</td>\n      <td>16.530</td>\n      <td>411.037</td>\n    </tr>\n    <tr>\n      <th>2017-12-28</th>\n      <td>1299.86398</td>\n      <td>506.424</td>\n      <td>14.162</td>\n      <td>520.586</td>\n    </tr>\n    <tr>\n      <th>2017-12-29</th>\n      <td>1295.08753</td>\n      <td>584.277</td>\n      <td>29.854</td>\n      <td>614.131</td>\n    </tr>\n    <tr>\n      <th>2017-12-30</th>\n      <td>1215.44897</td>\n      <td>721.247</td>\n      <td>7.467</td>\n      <td>728.714</td>\n    </tr>\n    <tr>\n      <th>2017-12-31</th>\n      <td>1107.11488</td>\n      <td>721.176</td>\n      <td>19.980</td>\n      <td>741.156</td>\n    </tr>\n  </tbody>\n</table>\n<p>4383 rows × 4 columns</p>\n</div>"
     },
     "metadata": {}
    }
   ]
  },
  {
   "cell_type": "code",
   "metadata": {
    "cell_id": "9ec5f9a4fe5c480b98ed6bc579988480",
    "tags": [],
    "deepnote_to_be_reexecuted": false,
    "source_hash": "c5993ab9",
    "execution_start": 1650434706245,
    "execution_millis": 71,
    "deepnote_cell_type": "code",
    "deepnote_cell_height": 694.796875
   },
   "source": "df_power['Year'] = df_power.index.year\ndf_power['Month'] = df_power.index.month\ndf_power['Day'] = df_power.index.day_name()\ndf_power",
   "execution_count": null,
   "outputs": [
    {
     "output_type": "execute_result",
     "execution_count": 44,
     "data": {
      "application/vnd.deepnote.dataframe.v3+json": {
       "column_count": 7,
       "row_count": 4383,
       "columns": [
        {
         "name": "Consumption",
         "dtype": "float64",
         "stats": {
          "unique_count": 4374,
          "nan_count": 0,
          "min": "842.395",
          "max": "1709.5679999999998",
          "histogram": [
           {
            "bin_start": 842.395,
            "bin_end": 929.1123,
            "count": 15
           },
           {
            "bin_start": 929.1123,
            "bin_end": 1015.8295999999999,
            "count": 123
           },
           {
            "bin_start": 1015.8295999999999,
            "bin_end": 1102.5468999999998,
            "count": 360
           },
           {
            "bin_start": 1102.5468999999998,
            "bin_end": 1189.2641999999998,
            "count": 457
           },
           {
            "bin_start": 1189.2641999999998,
            "bin_end": 1275.9814999999999,
            "count": 443
           },
           {
            "bin_start": 1275.9814999999999,
            "bin_end": 1362.6988,
            "count": 740
           },
           {
            "bin_start": 1362.6988,
            "bin_end": 1449.4161,
            "count": 1057
           },
           {
            "bin_start": 1449.4161,
            "bin_end": 1536.1333999999997,
            "count": 700
           },
           {
            "bin_start": 1536.1333999999997,
            "bin_end": 1622.8507,
            "count": 426
           },
           {
            "bin_start": 1622.8507,
            "bin_end": 1709.5679999999998,
            "count": 62
           }
          ]
         }
        },
        {
         "name": "Wind",
         "dtype": "float64",
         "stats": {
          "unique_count": 2913,
          "nan_count": 1463,
          "min": "5.756999999999999",
          "max": "826.2779999999998",
          "histogram": [
           {
            "bin_start": 5.756999999999999,
            "bin_end": 87.80909999999999,
            "count": 1105
           },
           {
            "bin_start": 87.80909999999999,
            "bin_end": 169.86119999999997,
            "count": 774
           },
           {
            "bin_start": 169.86119999999997,
            "bin_end": 251.91329999999994,
            "count": 444
           },
           {
            "bin_start": 251.91329999999994,
            "bin_end": 333.96539999999993,
            "count": 254
           },
           {
            "bin_start": 333.96539999999993,
            "bin_end": 416.0174999999999,
            "count": 141
           },
           {
            "bin_start": 416.0174999999999,
            "bin_end": 498.06959999999987,
            "count": 74
           },
           {
            "bin_start": 498.06959999999987,
            "bin_end": 580.1216999999998,
            "count": 49
           },
           {
            "bin_start": 580.1216999999998,
            "bin_end": 662.1737999999998,
            "count": 48
           },
           {
            "bin_start": 662.1737999999998,
            "bin_end": 744.2258999999998,
            "count": 25
           },
           {
            "bin_start": 744.2258999999998,
            "bin_end": 826.2779999999998,
            "count": 6
           }
          ]
         }
        },
        {
         "name": "Solar",
         "dtype": "float64",
         "stats": {
          "unique_count": 2185,
          "nan_count": 2195,
          "min": "1.968",
          "max": "241.58",
          "histogram": [
           {
            "bin_start": 1.968,
            "bin_end": 25.9292,
            "count": 414
           },
           {
            "bin_start": 25.9292,
            "bin_end": 49.8904,
            "count": 341
           },
           {
            "bin_start": 49.8904,
            "bin_end": 73.8516,
            "count": 228
           },
           {
            "bin_start": 73.8516,
            "bin_end": 97.81280000000001,
            "count": 230
           },
           {
            "bin_start": 97.81280000000001,
            "bin_end": 121.77400000000002,
            "count": 272
           },
           {
            "bin_start": 121.77400000000002,
            "bin_end": 145.7352,
            "count": 271
           },
           {
            "bin_start": 145.7352,
            "bin_end": 169.6964,
            "count": 198
           },
           {
            "bin_start": 169.6964,
            "bin_end": 193.6576,
            "count": 149
           },
           {
            "bin_start": 193.6576,
            "bin_end": 217.6188,
            "count": 67
           },
           {
            "bin_start": 217.6188,
            "bin_end": 241.58,
            "count": 18
           }
          ]
         }
        },
        {
         "name": "Wind+Solar",
         "dtype": "float64",
         "stats": {
          "unique_count": 2184,
          "nan_count": 2196,
          "min": "21.478",
          "max": "851.556",
          "histogram": [
           {
            "bin_start": 21.478,
            "bin_end": 104.48580000000001,
            "count": 162
           },
           {
            "bin_start": 104.48580000000001,
            "bin_end": 187.49360000000001,
            "count": 492
           },
           {
            "bin_start": 187.49360000000001,
            "bin_end": 270.5014,
            "count": 665
           },
           {
            "bin_start": 270.5014,
            "bin_end": 353.5092,
            "count": 372
           },
           {
            "bin_start": 353.5092,
            "bin_end": 436.517,
            "count": 207
           },
           {
            "bin_start": 436.517,
            "bin_end": 519.5248,
            "count": 120
           },
           {
            "bin_start": 519.5248,
            "bin_end": 602.5326,
            "count": 72
           },
           {
            "bin_start": 602.5326,
            "bin_end": 685.5404,
            "count": 58
           },
           {
            "bin_start": 685.5404,
            "bin_end": 768.5482,
            "count": 29
           },
           {
            "bin_start": 768.5482,
            "bin_end": 851.556,
            "count": 10
           }
          ]
         }
        },
        {
         "name": "Year",
         "dtype": "int64",
         "stats": {
          "unique_count": 12,
          "nan_count": 0,
          "min": "2006",
          "max": "2017",
          "histogram": [
           {
            "bin_start": 2006,
            "bin_end": 2007.1,
            "count": 730
           },
           {
            "bin_start": 2007.1,
            "bin_end": 2008.2,
            "count": 366
           },
           {
            "bin_start": 2008.2,
            "bin_end": 2009.3,
            "count": 365
           },
           {
            "bin_start": 2009.3,
            "bin_end": 2010.4,
            "count": 365
           },
           {
            "bin_start": 2010.4,
            "bin_end": 2011.5,
            "count": 365
           },
           {
            "bin_start": 2011.5,
            "bin_end": 2012.6,
            "count": 366
           },
           {
            "bin_start": 2012.6,
            "bin_end": 2013.7,
            "count": 365
           },
           {
            "bin_start": 2013.7,
            "bin_end": 2014.8,
            "count": 365
           },
           {
            "bin_start": 2014.8,
            "bin_end": 2015.9,
            "count": 365
           },
           {
            "bin_start": 2015.9,
            "bin_end": 2017,
            "count": 731
           }
          ]
         }
        },
        {
         "name": "Month",
         "dtype": "int64",
         "stats": {
          "unique_count": 12,
          "nan_count": 0,
          "min": "1",
          "max": "12",
          "histogram": [
           {
            "bin_start": 1,
            "bin_end": 2.1,
            "count": 711
           },
           {
            "bin_start": 2.1,
            "bin_end": 3.2,
            "count": 372
           },
           {
            "bin_start": 3.2,
            "bin_end": 4.300000000000001,
            "count": 360
           },
           {
            "bin_start": 4.300000000000001,
            "bin_end": 5.4,
            "count": 372
           },
           {
            "bin_start": 5.4,
            "bin_end": 6.5,
            "count": 360
           },
           {
            "bin_start": 6.5,
            "bin_end": 7.6000000000000005,
            "count": 372
           },
           {
            "bin_start": 7.6000000000000005,
            "bin_end": 8.700000000000001,
            "count": 372
           },
           {
            "bin_start": 8.700000000000001,
            "bin_end": 9.8,
            "count": 360
           },
           {
            "bin_start": 9.8,
            "bin_end": 10.9,
            "count": 372
           },
           {
            "bin_start": 10.9,
            "bin_end": 12,
            "count": 732
           }
          ]
         }
        },
        {
         "name": "Day",
         "dtype": "object",
         "stats": {
          "unique_count": 7,
          "nan_count": 0,
          "categories": [
           {
            "name": "Sunday",
            "count": 627
           },
           {
            "name": "Monday",
            "count": 626
           },
           {
            "name": "5 others",
            "count": 3130
           }
          ]
         }
        },
        {
         "name": "_deepnote_index_column",
         "dtype": "datetime64[ns]"
        }
       ],
       "rows": [
        {
         "Consumption": 1069.1840000000002,
         "Wind": "nan",
         "Solar": "nan",
         "Wind+Solar": "nan",
         "Year": 2006,
         "Month": 1,
         "Day": "Sunday",
         "_deepnote_index_column": "2006-01-01T00:00:00.000000"
        },
        {
         "Consumption": 1380.5210000000004,
         "Wind": "nan",
         "Solar": "nan",
         "Wind+Solar": "nan",
         "Year": 2006,
         "Month": 1,
         "Day": "Monday",
         "_deepnote_index_column": "2006-01-02T00:00:00.000000"
        },
        {
         "Consumption": 1442.533,
         "Wind": "nan",
         "Solar": "nan",
         "Wind+Solar": "nan",
         "Year": 2006,
         "Month": 1,
         "Day": "Tuesday",
         "_deepnote_index_column": "2006-01-03T00:00:00.000000"
        },
        {
         "Consumption": 1457.217,
         "Wind": "nan",
         "Solar": "nan",
         "Wind+Solar": "nan",
         "Year": 2006,
         "Month": 1,
         "Day": "Wednesday",
         "_deepnote_index_column": "2006-01-04T00:00:00.000000"
        },
        {
         "Consumption": 1477.131,
         "Wind": "nan",
         "Solar": "nan",
         "Wind+Solar": "nan",
         "Year": 2006,
         "Month": 1,
         "Day": "Thursday",
         "_deepnote_index_column": "2006-01-05T00:00:00.000000"
        },
        {
         "Consumption": 1403.427,
         "Wind": "nan",
         "Solar": "nan",
         "Wind+Solar": "nan",
         "Year": 2006,
         "Month": 1,
         "Day": "Friday",
         "_deepnote_index_column": "2006-01-06T00:00:00.000000"
        },
        {
         "Consumption": 1300.2870000000005,
         "Wind": "nan",
         "Solar": "nan",
         "Wind+Solar": "nan",
         "Year": 2006,
         "Month": 1,
         "Day": "Saturday",
         "_deepnote_index_column": "2006-01-07T00:00:00.000000"
        },
        {
         "Consumption": 1207.9849999999994,
         "Wind": "nan",
         "Solar": "nan",
         "Wind+Solar": "nan",
         "Year": 2006,
         "Month": 1,
         "Day": "Sunday",
         "_deepnote_index_column": "2006-01-08T00:00:00.000000"
        },
        {
         "Consumption": 1529.3229999999994,
         "Wind": "nan",
         "Solar": "nan",
         "Wind+Solar": "nan",
         "Year": 2006,
         "Month": 1,
         "Day": "Monday",
         "_deepnote_index_column": "2006-01-09T00:00:00.000000"
        },
        {
         "Consumption": 1576.911,
         "Wind": "nan",
         "Solar": "nan",
         "Wind+Solar": "nan",
         "Year": 2006,
         "Month": 1,
         "Day": "Tuesday",
         "_deepnote_index_column": "2006-01-10T00:00:00.000000"
        }
       ]
      },
      "text/plain": "            Consumption     Wind   Solar  Wind+Solar  Year  Month        Day\nDate                                                                        \n2006-01-01   1069.18400      NaN     NaN         NaN  2006      1     Sunday\n2006-01-02   1380.52100      NaN     NaN         NaN  2006      1     Monday\n2006-01-03   1442.53300      NaN     NaN         NaN  2006      1    Tuesday\n2006-01-04   1457.21700      NaN     NaN         NaN  2006      1  Wednesday\n2006-01-05   1477.13100      NaN     NaN         NaN  2006      1   Thursday\n...                 ...      ...     ...         ...   ...    ...        ...\n2017-12-27   1263.94091  394.507  16.530     411.037  2017     12  Wednesday\n2017-12-28   1299.86398  506.424  14.162     520.586  2017     12   Thursday\n2017-12-29   1295.08753  584.277  29.854     614.131  2017     12     Friday\n2017-12-30   1215.44897  721.247   7.467     728.714  2017     12   Saturday\n2017-12-31   1107.11488  721.176  19.980     741.156  2017     12     Sunday\n\n[4383 rows x 7 columns]",
      "text/html": "<div>\n<style scoped>\n    .dataframe tbody tr th:only-of-type {\n        vertical-align: middle;\n    }\n\n    .dataframe tbody tr th {\n        vertical-align: top;\n    }\n\n    .dataframe thead th {\n        text-align: right;\n    }\n</style>\n<table border=\"1\" class=\"dataframe\">\n  <thead>\n    <tr style=\"text-align: right;\">\n      <th></th>\n      <th>Consumption</th>\n      <th>Wind</th>\n      <th>Solar</th>\n      <th>Wind+Solar</th>\n      <th>Year</th>\n      <th>Month</th>\n      <th>Day</th>\n    </tr>\n    <tr>\n      <th>Date</th>\n      <th></th>\n      <th></th>\n      <th></th>\n      <th></th>\n      <th></th>\n      <th></th>\n      <th></th>\n    </tr>\n  </thead>\n  <tbody>\n    <tr>\n      <th>2006-01-01</th>\n      <td>1069.18400</td>\n      <td>NaN</td>\n      <td>NaN</td>\n      <td>NaN</td>\n      <td>2006</td>\n      <td>1</td>\n      <td>Sunday</td>\n    </tr>\n    <tr>\n      <th>2006-01-02</th>\n      <td>1380.52100</td>\n      <td>NaN</td>\n      <td>NaN</td>\n      <td>NaN</td>\n      <td>2006</td>\n      <td>1</td>\n      <td>Monday</td>\n    </tr>\n    <tr>\n      <th>2006-01-03</th>\n      <td>1442.53300</td>\n      <td>NaN</td>\n      <td>NaN</td>\n      <td>NaN</td>\n      <td>2006</td>\n      <td>1</td>\n      <td>Tuesday</td>\n    </tr>\n    <tr>\n      <th>2006-01-04</th>\n      <td>1457.21700</td>\n      <td>NaN</td>\n      <td>NaN</td>\n      <td>NaN</td>\n      <td>2006</td>\n      <td>1</td>\n      <td>Wednesday</td>\n    </tr>\n    <tr>\n      <th>2006-01-05</th>\n      <td>1477.13100</td>\n      <td>NaN</td>\n      <td>NaN</td>\n      <td>NaN</td>\n      <td>2006</td>\n      <td>1</td>\n      <td>Thursday</td>\n    </tr>\n    <tr>\n      <th>...</th>\n      <td>...</td>\n      <td>...</td>\n      <td>...</td>\n      <td>...</td>\n      <td>...</td>\n      <td>...</td>\n      <td>...</td>\n    </tr>\n    <tr>\n      <th>2017-12-27</th>\n      <td>1263.94091</td>\n      <td>394.507</td>\n      <td>16.530</td>\n      <td>411.037</td>\n      <td>2017</td>\n      <td>12</td>\n      <td>Wednesday</td>\n    </tr>\n    <tr>\n      <th>2017-12-28</th>\n      <td>1299.86398</td>\n      <td>506.424</td>\n      <td>14.162</td>\n      <td>520.586</td>\n      <td>2017</td>\n      <td>12</td>\n      <td>Thursday</td>\n    </tr>\n    <tr>\n      <th>2017-12-29</th>\n      <td>1295.08753</td>\n      <td>584.277</td>\n      <td>29.854</td>\n      <td>614.131</td>\n      <td>2017</td>\n      <td>12</td>\n      <td>Friday</td>\n    </tr>\n    <tr>\n      <th>2017-12-30</th>\n      <td>1215.44897</td>\n      <td>721.247</td>\n      <td>7.467</td>\n      <td>728.714</td>\n      <td>2017</td>\n      <td>12</td>\n      <td>Saturday</td>\n    </tr>\n    <tr>\n      <th>2017-12-31</th>\n      <td>1107.11488</td>\n      <td>721.176</td>\n      <td>19.980</td>\n      <td>741.156</td>\n      <td>2017</td>\n      <td>12</td>\n      <td>Sunday</td>\n    </tr>\n  </tbody>\n</table>\n<p>4383 rows × 7 columns</p>\n</div>"
     },
     "metadata": {}
    }
   ]
  },
  {
   "cell_type": "code",
   "metadata": {
    "cell_id": "0274d139656a4be29a765c145926fe41",
    "tags": [],
    "deepnote_to_be_reexecuted": false,
    "source_hash": "333c606c",
    "execution_start": 1650434780683,
    "execution_millis": 594,
    "deepnote_cell_type": "code",
    "deepnote_cell_height": 128,
    "deepnote_output_heights": [
     null,
     211
    ]
   },
   "source": "df_power['Consumption'].plot(linewidth=0.5n)",
   "execution_count": null,
   "outputs": [
    {
     "output_type": "execute_result",
     "execution_count": 46,
     "data": {
      "text/plain": "<AxesSubplot:xlabel='Date'>"
     },
     "metadata": {}
    },
    {
     "data": {
      "text/plain": "<Figure size 432x288 with 1 Axes>",
      "image/png": "[encoded data removed]"
     },
     "metadata": {
      "needs_background": "light",
      "image/png": {
       "width": 381,
       "height": 262
      }
     },
     "output_type": "display_data"
    }
   ]
  },
  {
   "cell_type": "code",
   "metadata": {
    "cell_id": "50a2d2730bbb44b09b32ba98366324dc",
    "tags": [],
    "deepnote_to_be_reexecuted": false,
    "source_hash": "4c4963d4",
    "execution_start": 1650435090765,
    "execution_millis": 1827,
    "deepnote_cell_type": "code",
    "deepnote_cell_height": 146,
    "deepnote_output_heights": [
     null,
     139
    ]
   },
   "source": "name = ['Consumption', 'Wind', 'Solar']\ndf_power[name].plot(marker='.', alpha=0.5, linestyle='None', figsize=(14,6), subplots=True)",
   "execution_count": null,
   "outputs": [
    {
     "output_type": "execute_result",
     "execution_count": 49,
     "data": {
      "text/plain": "array([<AxesSubplot:xlabel='Date'>, <AxesSubplot:xlabel='Date'>,\n       <AxesSubplot:xlabel='Date'>], dtype=object)"
     },
     "metadata": {}
    },
    {
     "data": {
      "text/plain": "<Figure size 1008x432 with 3 Axes>",
      "image/png": "[encoded data removed]"
     },
     "metadata": {
      "needs_background": "light",
      "image/png": {
       "width": 827,
       "height": 375
      }
     },
     "output_type": "display_data"
    }
   ]
  },
  {
   "cell_type": "code",
   "metadata": {
    "cell_id": "b8faff4e7c70430dabaf2e5f379172c2",
    "tags": [],
    "deepnote_to_be_reexecuted": false,
    "source_hash": "2e82afd4",
    "execution_start": 1650435171293,
    "execution_millis": 1060,
    "deepnote_cell_type": "code",
    "deepnote_cell_height": 128,
    "deepnote_output_heights": [
     null,
     223
    ]
   },
   "source": "df_power.loc['2016', 'Consumption'].plot()",
   "execution_count": null,
   "outputs": [
    {
     "output_type": "execute_result",
     "execution_count": 50,
     "data": {
      "text/plain": "<AxesSubplot:xlabel='Date'>"
     },
     "metadata": {}
    },
    {
     "data": {
      "text/plain": "<Figure size 432x288 with 1 Axes>",
      "image/png": "[encoded data removed]"
     },
     "metadata": {
      "needs_background": "light",
      "image/png": {
       "width": 381,
       "height": 277
      }
     },
     "output_type": "display_data"
    }
   ]
  },
  {
   "cell_type": "code",
   "metadata": {
    "cell_id": "203ce0829b324108935f7a3225630262",
    "tags": [],
    "deepnote_to_be_reexecuted": false,
    "source_hash": "ab956a30",
    "execution_start": 1650435238021,
    "execution_millis": 482,
    "deepnote_cell_type": "code",
    "deepnote_cell_height": 128,
    "deepnote_output_heights": [
     null,
     239
    ]
   },
   "source": "df_power.loc['2016-12', 'Consumption'].plot(marker='o')",
   "execution_count": null,
   "outputs": [
    {
     "output_type": "execute_result",
     "execution_count": 51,
     "data": {
      "text/plain": "<AxesSubplot:xlabel='Date'>"
     },
     "metadata": {}
    },
    {
     "data": {
      "text/plain": "<Figure size 432x288 with 1 Axes>",
      "image/png": "[encoded data removed]"
     },
     "metadata": {
      "needs_background": "light",
      "image/png": {
       "width": 381,
       "height": 297
      }
     },
     "output_type": "display_data"
    }
   ]
  },
  {
   "cell_type": "code",
   "metadata": {
    "cell_id": "15f22144d8ac43fc99981f6127b62221",
    "tags": [],
    "deepnote_to_be_reexecuted": false,
    "source_hash": "45890669",
    "execution_start": 1650436217694,
    "execution_millis": 1257,
    "deepnote_cell_type": "code",
    "deepnote_cell_height": 133,
    "deepnote_output_heights": [
     256
    ]
   },
   "source": "fig, ax = plt.subplots(3,1, figsize=(8,7))\nfor i, ax in zip(name, ax):\n    sns.boxplot(data=df_power, x='Month', y=i, ax=ax)",
   "execution_count": null,
   "outputs": [
    {
     "data": {
      "text/plain": "<Figure size 576x504 with 3 Axes>",
      "image/png": "[encoded data removed]"
     },
     "metadata": {
      "needs_background": "light",
      "image/png": {
       "width": 507,
       "height": 425
      }
     },
     "output_type": "display_data"
    }
   ]
  },
  {
   "cell_type": "markdown",
   "source": "Haciendo un análisis de la gráfica anterior, podemos ver que la producción de energía solar es mayor en verano, mientras que el consumo de energía eléctrica disminuye en esos mismos meses. Por su parte, la producción anual de energía eólica se mantiene constante, habiendo un pequeño aumento en los últimos 3 meses del año.\n\n# Desarrollo de evaluación de modelos\n\nImagina que ya estás en un proyecto de Data Science y tu quieres comprobar algo. Por ejemplo: ¿En que momento va a renunciar un empleado de la empresa?\n\nDebes plantear una hipótesis inicial, a esta le llamaremos “Hipótesis Nula” y algo que lo contratidga le llamaremos “Hipótesis alternativa”. Y a tu Hipótesis Nula la pondremos a prueba con una “Prueba de Hipótesis”, la cual debes elegir sabiamente.\nLa prueba de hipótesis la debemos elegir es en base a la forma en la que están distribuidos nuestros datos, tipos de medición , tipos de datos o características. Las pruebas pueden ser:\n\n- Anova\n- Z-test\n- T-test\n- Chi-squared test\n\nCuando ya hallas elegido tu prueba de hipótesis, tendrás un P-Value que te dirá si tu hipótesis se acepta o se rechaza, en base a su ubicación en la campana.\n\n**p-value**\n\nEl valor-p ayuda a diferenciar resultados que son producto del azar del muestreo, de resultados que son estadísticamente significativos.\n",
   "metadata": {
    "cell_id": "a7e96f404c3c47ee914ffc491549fd7e",
    "tags": [],
    "deepnote_cell_type": "markdown",
    "deepnote_cell_height": 1001.796875
   }
  },
  {
   "cell_type": "markdown",
   "source": "![Picture title](image-20220420-014436.png)",
   "metadata": {
    "cell_id": "9298b03718734fb18a4f500b21bd271e",
    "tags": [],
    "deepnote_cell_type": "markdown",
    "deepnote_cell_height": 70
   }
  },
  {
   "cell_type": "markdown",
   "source": "**Prueba de modelos**\n\nSi quieres comprobar si un modelo funciona de la manera correcta, entrénalo con un conjunto de datos de entrenamiento (se recomienda que contenga un 80% de los datos totales) y evalúa el rendimiento de tu modelo con el 20% de datos restantes.\n\nUna vez hallas evaluado tu modelo con el los conjuntos de datos de entrenamiento y de testing (80 y 20) puedes usar una matriz de confusión, esto te dirá todos los aciertos de tu modelo.\n\nUna vez termines de ver tu Matriz de confusión, podrás ver que tan preciso o exacto es tu modelo\n\n![Picture title](image-20220420-014632.png)",
   "metadata": {
    "cell_id": "4813d5f24fd64ec184f5f1964320efb8",
    "tags": [],
    "deepnote_cell_type": "markdown",
    "deepnote_cell_height": 448
   }
  },
  {
   "cell_type": "markdown",
   "source": "**Ejemplo**\n\n1. Entrenas el modelo\n2. Evaluación del modelo\n",
   "metadata": {
    "cell_id": "a217cc2aef214a67bfa471d080772940",
    "tags": [],
    "deepnote_cell_type": "markdown",
    "deepnote_cell_height": 128.1875
   }
  },
  {
   "cell_type": "markdown",
   "source": "![Picture title](image-20220420-014718.png)",
   "metadata": {
    "cell_id": "ead44763c8f6447392fca7e66bc6461d",
    "tags": [],
    "deepnote_cell_type": "markdown",
    "deepnote_cell_height": 70
   }
  },
  {
   "cell_type": "markdown",
   "source": "![Picture title](image-20220420-014833.png)",
   "metadata": {
    "cell_id": "4d21fd68185345b98d6133ff400f5a8a",
    "tags": [],
    "deepnote_cell_type": "markdown",
    "deepnote_cell_height": 70
   }
  },
  {
   "cell_type": "markdown",
   "source": "# Regresión y evaluación de hipótesis\n\nExisten varios tipos de regresiones:\n- Neural Network Regression\n- Neural Network Regression\n- Decision Tree Regression\n- Ridge Regression\n- ElasticNet Regression",
   "metadata": {
    "cell_id": "94523afd308a46c4a433e53a66b0a954",
    "tags": [],
    "deepnote_cell_type": "markdown",
    "deepnote_cell_height": 276.796875
   }
  },
  {
   "cell_type": "code",
   "metadata": {
    "cell_id": "9f147622287f48929c3ca134f7d0fce5",
    "tags": [],
    "deepnote_to_be_reexecuted": false,
    "source_hash": "ef4f3311",
    "execution_start": 1650438384140,
    "execution_millis": 0,
    "deepnote_cell_type": "code",
    "deepnote_cell_height": 117
   },
   "source": "import pandas as pd\nfrom sklearn import datasets\nimport numpy as np",
   "execution_count": null,
   "outputs": []
  },
  {
   "cell_type": "code",
   "metadata": {
    "cell_id": "203251a885be4676a7a1ed0962e30ad4",
    "tags": [],
    "deepnote_to_be_reexecuted": false,
    "source_hash": "59ea6612",
    "execution_start": 1650438409941,
    "execution_millis": 43,
    "deepnote_cell_type": "code",
    "deepnote_cell_height": 115,
    "deepnote_output_heights": [
     606.1875
    ]
   },
   "source": "iris = datasets.load_iris()\niris",
   "execution_count": null,
   "outputs": [
    {
     "output_type": "execute_result",
     "execution_count": 59,
     "data": {
      "text/plain": "{'data': array([[5.1, 3.5, 1.4, 0.2],\n        [4.9, 3. , 1.4, 0.2],\n        [4.7, 3.2, 1.3, 0.2],\n        [4.6, 3.1, 1.5, 0.2],\n        [5. , 3.6, 1.4, 0.2],\n        [5.4, 3.9, 1.7, 0.4],\n        [4.6, 3.4, 1.4, 0.3],\n        [5. , 3.4, 1.5, 0.2],\n        [4.4, 2.9, 1.4, 0.2],\n        [4.9, 3.1, 1.5, 0.1],\n        [5.4, 3.7, 1.5, 0.2],\n        [4.8, 3.4, 1.6, 0.2],\n        [4.8, 3. , 1.4, 0.1],\n        [4.3, 3. , 1.1, 0.1],\n        [5.8, 4. , 1.2, 0.2],\n        [5.7, 4.4, 1.5, 0.4],\n        [5.4, 3.9, 1.3, 0.4],\n        [5.1, 3.5, 1.4, 0.3],\n        [5.7, 3.8, 1.7, 0.3],\n        [5.1, 3.8, 1.5, 0.3],\n        [5.4, 3.4, 1.7, 0.2],\n        [5.1, 3.7, 1.5, 0.4],\n        [4.6, 3.6, 1. , 0.2],\n        [5.1, 3.3, 1.7, 0.5],\n        [4.8, 3.4, 1.9, 0.2],\n        [5. , 3. , 1.6, 0.2],\n        [5. , 3.4, 1.6, 0.4],\n        [5.2, 3.5, 1.5, 0.2],\n        [5.2, 3.4, 1.4, 0.2],\n        [4.7, 3.2, 1.6, 0.2],\n        [4.8, 3.1, 1.6, 0.2],\n        [5.4, 3.4, 1.5, 0.4],\n        [5.2, 4.1, 1.5, 0.1],\n        [5.5, 4.2, 1.4, 0.2],\n        [4.9, 3.1, 1.5, 0.2],\n        [5. , 3.2, 1.2, 0.2],\n        [5.5, 3.5, 1.3, 0.2],\n        [4.9, 3.6, 1.4, 0.1],\n        [4.4, 3. , 1.3, 0.2],\n        [5.1, 3.4, 1.5, 0.2],\n        [5. , 3.5, 1.3, 0.3],\n        [4.5, 2.3, 1.3, 0.3],\n        [4.4, 3.2, 1.3, 0.2],\n        [5. , 3.5, 1.6, 0.6],\n        [5.1, 3.8, 1.9, 0.4],\n        [4.8, 3. , 1.4, 0.3],\n        [5.1, 3.8, 1.6, 0.2],\n        [4.6, 3.2, 1.4, 0.2],\n        [5.3, 3.7, 1.5, 0.2],\n        [5. , 3.3, 1.4, 0.2],\n        [7. , 3.2, 4.7, 1.4],\n        [6.4, 3.2, 4.5, 1.5],\n        [6.9, 3.1, 4.9, 1.5],\n        [5.5, 2.3, 4. , 1.3],\n        [6.5, 2.8, 4.6, 1.5],\n        [5.7, 2.8, 4.5, 1.3],\n        [6.3, 3.3, 4.7, 1.6],\n        [4.9, 2.4, 3.3, 1. ],\n        [6.6, 2.9, 4.6, 1.3],\n        [5.2, 2.7, 3.9, 1.4],\n        [5. , 2. , 3.5, 1. ],\n        [5.9, 3. , 4.2, 1.5],\n        [6. , 2.2, 4. , 1. ],\n        [6.1, 2.9, 4.7, 1.4],\n        [5.6, 2.9, 3.6, 1.3],\n        [6.7, 3.1, 4.4, 1.4],\n        [5.6, 3. , 4.5, 1.5],\n        [5.8, 2.7, 4.1, 1. ],\n        [6.2, 2.2, 4.5, 1.5],\n        [5.6, 2.5, 3.9, 1.1],\n        [5.9, 3.2, 4.8, 1.8],\n        [6.1, 2.8, 4. , 1.3],\n        [6.3, 2.5, 4.9, 1.5],\n        [6.1, 2.8, 4.7, 1.2],\n        [6.4, 2.9, 4.3, 1.3],\n        [6.6, 3. , 4.4, 1.4],\n        [6.8, 2.8, 4.8, 1.4],\n        [6.7, 3. , 5. , 1.7],\n        [6. , 2.9, 4.5, 1.5],\n        [5.7, 2.6, 3.5, 1. ],\n        [5.5, 2.4, 3.8, 1.1],\n        [5.5, 2.4, 3.7, 1. ],\n        [5.8, 2.7, 3.9, 1.2],\n        [6. , 2.7, 5.1, 1.6],\n        [5.4, 3. , 4.5, 1.5],\n        [6. , 3.4, 4.5, 1.6],\n        [6.7, 3.1, 4.7, 1.5],\n        [6.3, 2.3, 4.4, 1.3],\n        [5.6, 3. , 4.1, 1.3],\n        [5.5, 2.5, 4. , 1.3],\n        [5.5, 2.6, 4.4, 1.2],\n        [6.1, 3. , 4.6, 1.4],\n        [5.8, 2.6, 4. , 1.2],\n        [5. , 2.3, 3.3, 1. ],\n        [5.6, 2.7, 4.2, 1.3],\n        [5.7, 3. , 4.2, 1.2],\n        [5.7, 2.9, 4.2, 1.3],\n        [6.2, 2.9, 4.3, 1.3],\n        [5.1, 2.5, 3. , 1.1],\n        [5.7, 2.8, 4.1, 1.3],\n        [6.3, 3.3, 6. , 2.5],\n        [5.8, 2.7, 5.1, 1.9],\n        [7.1, 3. , 5.9, 2.1],\n        [6.3, 2.9, 5.6, 1.8],\n        [6.5, 3. , 5.8, 2.2],\n        [7.6, 3. , 6.6, 2.1],\n        [4.9, 2.5, 4.5, 1.7],\n        [7.3, 2.9, 6.3, 1.8],\n        [6.7, 2.5, 5.8, 1.8],\n        [7.2, 3.6, 6.1, 2.5],\n        [6.5, 3.2, 5.1, 2. ],\n        [6.4, 2.7, 5.3, 1.9],\n        [6.8, 3. , 5.5, 2.1],\n        [5.7, 2.5, 5. , 2. ],\n        [5.8, 2.8, 5.1, 2.4],\n        [6.4, 3.2, 5.3, 2.3],\n        [6.5, 3. , 5.5, 1.8],\n        [7.7, 3.8, 6.7, 2.2],\n        [7.7, 2.6, 6.9, 2.3],\n        [6. , 2.2, 5. , 1.5],\n        [6.9, 3.2, 5.7, 2.3],\n        [5.6, 2.8, 4.9, 2. ],\n        [7.7, 2.8, 6.7, 2. ],\n        [6.3, 2.7, 4.9, 1.8],\n        [6.7, 3.3, 5.7, 2.1],\n        [7.2, 3.2, 6. , 1.8],\n        [6.2, 2.8, 4.8, 1.8],\n        [6.1, 3. , 4.9, 1.8],\n        [6.4, 2.8, 5.6, 2.1],\n        [7.2, 3. , 5.8, 1.6],\n        [7.4, 2.8, 6.1, 1.9],\n        [7.9, 3.8, 6.4, 2. ],\n        [6.4, 2.8, 5.6, 2.2],\n        [6.3, 2.8, 5.1, 1.5],\n        [6.1, 2.6, 5.6, 1.4],\n        [7.7, 3. , 6.1, 2.3],\n        [6.3, 3.4, 5.6, 2.4],\n        [6.4, 3.1, 5.5, 1.8],\n        [6. , 3. , 4.8, 1.8],\n        [6.9, 3.1, 5.4, 2.1],\n        [6.7, 3.1, 5.6, 2.4],\n        [6.9, 3.1, 5.1, 2.3],\n        [5.8, 2.7, 5.1, 1.9],\n        [6.8, 3.2, 5.9, 2.3],\n        [6.7, 3.3, 5.7, 2.5],\n        [6.7, 3. , 5.2, 2.3],\n        [6.3, 2.5, 5. , 1.9],\n        [6.5, 3. , 5.2, 2. ],\n        [6.2, 3.4, 5.4, 2.3],\n        [5.9, 3. , 5.1, 1.8]]),\n 'target': array([0, 0, 0, 0, 0, 0, 0, 0, 0, 0, 0, 0, 0, 0, 0, 0, 0, 0, 0, 0, 0, 0,\n        0, 0, 0, 0, 0, 0, 0, 0, 0, 0, 0, 0, 0, 0, 0, 0, 0, 0, 0, 0, 0, 0,\n        0, 0, 0, 0, 0, 0, 1, 1, 1, 1, 1, 1, 1, 1, 1, 1, 1, 1, 1, 1, 1, 1,\n        1, 1, 1, 1, 1, 1, 1, 1, 1, 1, 1, 1, 1, 1, 1, 1, 1, 1, 1, 1, 1, 1,\n        1, 1, 1, 1, 1, 1, 1, 1, 1, 1, 1, 1, 2, 2, 2, 2, 2, 2, 2, 2, 2, 2,\n        2, 2, 2, 2, 2, 2, 2, 2, 2, 2, 2, 2, 2, 2, 2, 2, 2, 2, 2, 2, 2, 2,\n        2, 2, 2, 2, 2, 2, 2, 2, 2, 2, 2, 2, 2, 2, 2, 2, 2, 2]),\n 'frame': None,\n 'target_names': array(['setosa', 'versicolor', 'virginica'], dtype='<U10'),\n 'DESCR': '.. _iris_dataset:\\n\\nIris plants dataset\\n--------------------\\n\\n**Data Set Characteristics:**\\n\\n    :Number of Instances: 150 (50 in each of three classes)\\n    :Number of Attributes: 4 numeric, predictive attributes and the class\\n    :Attribute Information:\\n        - sepal length in cm\\n        - sepal width in cm\\n        - petal length in cm\\n        - petal width in cm\\n        - class:\\n                - Iris-Setosa\\n                - Iris-Versicolour\\n                - Iris-Virginica\\n                \\n    :Summary Statistics:\\n\\n    ============== ==== ==== ======= ===== ====================\\n                    Min  Max   Mean    SD   Class Correlation\\n    ============== ==== ==== ======= ===== ====================\\n    sepal length:   4.3  7.9   5.84   0.83    0.7826\\n    sepal width:    2.0  4.4   3.05   0.43   -0.4194\\n    petal length:   1.0  6.9   3.76   1.76    0.9490  (high!)\\n    petal width:    0.1  2.5   1.20   0.76    0.9565  (high!)\\n    ============== ==== ==== ======= ===== ====================\\n\\n    :Missing Attribute Values: None\\n    :Class Distribution: 33.3% for each of 3 classes.\\n    :Creator: R.A. Fisher\\n    :Donor: Michael Marshall (MARSHALL%PLU@io.arc.nasa.gov)\\n    :Date: July, 1988\\n\\nThe famous Iris database, first used by Sir R.A. Fisher. The dataset is taken\\nfrom Fisher\\'s paper. Note that it\\'s the same as in R, but not as in the UCI\\nMachine Learning Repository, which has two wrong data points.\\n\\nThis is perhaps the best known database to be found in the\\npattern recognition literature.  Fisher\\'s paper is a classic in the field and\\nis referenced frequently to this day.  (See Duda & Hart, for example.)  The\\ndata set contains 3 classes of 50 instances each, where each class refers to a\\ntype of iris plant.  One class is linearly separable from the other 2; the\\nlatter are NOT linearly separable from each other.\\n\\n.. topic:: References\\n\\n   - Fisher, R.A. \"The use of multiple measurements in taxonomic problems\"\\n     Annual Eugenics, 7, Part II, 179-188 (1936); also in \"Contributions to\\n     Mathematical Statistics\" (John Wiley, NY, 1950).\\n   - Duda, R.O., & Hart, P.E. (1973) Pattern Classification and Scene Analysis.\\n     (Q327.D83) John Wiley & Sons.  ISBN 0-471-22361-1.  See page 218.\\n   - Dasarathy, B.V. (1980) \"Nosing Around the Neighborhood: A New System\\n     Structure and Classification Rule for Recognition in Partially Exposed\\n     Environments\".  IEEE Transactions on Pattern Analysis and Machine\\n     Intelligence, Vol. PAMI-2, No. 1, 67-71.\\n   - Gates, G.W. (1972) \"The Reduced Nearest Neighbor Rule\".  IEEE Transactions\\n     on Information Theory, May 1972, 431-433.\\n   - See also: 1988 MLC Proceedings, 54-64.  Cheeseman et al\"s AUTOCLASS II\\n     conceptual clustering system finds 3 classes in the data.\\n   - Many, many more ...',\n 'feature_names': ['sepal length (cm)',\n  'sepal width (cm)',\n  'petal length (cm)',\n  'petal width (cm)'],\n 'filename': 'iris.csv',\n 'data_module': 'sklearn.datasets.data'}"
     },
     "metadata": {}
    }
   ]
  },
  {
   "cell_type": "code",
   "metadata": {
    "cell_id": "366c14d76a7042b68e609963afcd7ab8",
    "tags": [],
    "deepnote_to_be_reexecuted": false,
    "source_hash": "d6f514ff",
    "execution_start": 1650438512749,
    "execution_millis": 23,
    "deepnote_cell_type": "code",
    "deepnote_cell_height": 694.796875
   },
   "source": "df = pd.DataFrame(iris.data)\ndf.columns = iris.feature_names\ndf['Target'] = iris.target  # clasificacion de las flores\ndf",
   "execution_count": null,
   "outputs": [
    {
     "output_type": "execute_result",
     "execution_count": 62,
     "data": {
      "application/vnd.deepnote.dataframe.v3+json": {
       "column_count": 5,
       "row_count": 150,
       "columns": [
        {
         "name": "sepal length (cm)",
         "dtype": "float64",
         "stats": {
          "unique_count": 35,
          "nan_count": 0,
          "min": "4.3",
          "max": "7.9",
          "histogram": [
           {
            "bin_start": 4.3,
            "bin_end": 4.66,
            "count": 9
           },
           {
            "bin_start": 4.66,
            "bin_end": 5.02,
            "count": 23
           },
           {
            "bin_start": 5.02,
            "bin_end": 5.38,
            "count": 14
           },
           {
            "bin_start": 5.38,
            "bin_end": 5.74,
            "count": 27
           },
           {
            "bin_start": 5.74,
            "bin_end": 6.1,
            "count": 16
           },
           {
            "bin_start": 6.1,
            "bin_end": 6.46,
            "count": 26
           },
           {
            "bin_start": 6.46,
            "bin_end": 6.82,
            "count": 18
           },
           {
            "bin_start": 6.82,
            "bin_end": 7.18,
            "count": 6
           },
           {
            "bin_start": 7.18,
            "bin_end": 7.54,
            "count": 5
           },
           {
            "bin_start": 7.54,
            "bin_end": 7.9,
            "count": 6
           }
          ]
         }
        },
        {
         "name": "sepal width (cm)",
         "dtype": "float64",
         "stats": {
          "unique_count": 23,
          "nan_count": 0,
          "min": "2.0",
          "max": "4.4",
          "histogram": [
           {
            "bin_start": 2,
            "bin_end": 2.24,
            "count": 4
           },
           {
            "bin_start": 2.24,
            "bin_end": 2.48,
            "count": 7
           },
           {
            "bin_start": 2.48,
            "bin_end": 2.72,
            "count": 22
           },
           {
            "bin_start": 2.72,
            "bin_end": 2.96,
            "count": 24
           },
           {
            "bin_start": 2.96,
            "bin_end": 3.2,
            "count": 37
           },
           {
            "bin_start": 3.2,
            "bin_end": 3.4400000000000004,
            "count": 31
           },
           {
            "bin_start": 3.4400000000000004,
            "bin_end": 3.6800000000000006,
            "count": 10
           },
           {
            "bin_start": 3.6800000000000006,
            "bin_end": 3.9200000000000004,
            "count": 11
           },
           {
            "bin_start": 3.9200000000000004,
            "bin_end": 4.16,
            "count": 2
           },
           {
            "bin_start": 4.16,
            "bin_end": 4.4,
            "count": 2
           }
          ]
         }
        },
        {
         "name": "petal length (cm)",
         "dtype": "float64",
         "stats": {
          "unique_count": 43,
          "nan_count": 0,
          "min": "1.0",
          "max": "6.9",
          "histogram": [
           {
            "bin_start": 1,
            "bin_end": 1.59,
            "count": 37
           },
           {
            "bin_start": 1.59,
            "bin_end": 2.18,
            "count": 13
           },
           {
            "bin_start": 2.18,
            "bin_end": 2.7700000000000005,
            "count": 0
           },
           {
            "bin_start": 2.7700000000000005,
            "bin_end": 3.3600000000000003,
            "count": 3
           },
           {
            "bin_start": 3.3600000000000003,
            "bin_end": 3.95,
            "count": 8
           },
           {
            "bin_start": 3.95,
            "bin_end": 4.540000000000001,
            "count": 26
           },
           {
            "bin_start": 4.540000000000001,
            "bin_end": 5.130000000000001,
            "count": 29
           },
           {
            "bin_start": 5.130000000000001,
            "bin_end": 5.720000000000001,
            "count": 18
           },
           {
            "bin_start": 5.720000000000001,
            "bin_end": 6.3100000000000005,
            "count": 11
           },
           {
            "bin_start": 6.3100000000000005,
            "bin_end": 6.9,
            "count": 5
           }
          ]
         }
        },
        {
         "name": "petal width (cm)",
         "dtype": "float64",
         "stats": {
          "unique_count": 22,
          "nan_count": 0,
          "min": "0.1",
          "max": "2.5",
          "histogram": [
           {
            "bin_start": 0.1,
            "bin_end": 0.33999999999999997,
            "count": 41
           },
           {
            "bin_start": 0.33999999999999997,
            "bin_end": 0.58,
            "count": 8
           },
           {
            "bin_start": 0.58,
            "bin_end": 0.82,
            "count": 1
           },
           {
            "bin_start": 0.82,
            "bin_end": 1.06,
            "count": 7
           },
           {
            "bin_start": 1.06,
            "bin_end": 1.3,
            "count": 8
           },
           {
            "bin_start": 1.3,
            "bin_end": 1.54,
            "count": 33
           },
           {
            "bin_start": 1.54,
            "bin_end": 1.78,
            "count": 6
           },
           {
            "bin_start": 1.78,
            "bin_end": 2.02,
            "count": 23
           },
           {
            "bin_start": 2.02,
            "bin_end": 2.2600000000000002,
            "count": 9
           },
           {
            "bin_start": 2.2600000000000002,
            "bin_end": 2.5,
            "count": 14
           }
          ]
         }
        },
        {
         "name": "Target",
         "dtype": "int64",
         "stats": {
          "unique_count": 3,
          "nan_count": 0,
          "min": "0",
          "max": "2",
          "histogram": [
           {
            "bin_start": 0,
            "bin_end": 0.2,
            "count": 50
           },
           {
            "bin_start": 0.2,
            "bin_end": 0.4,
            "count": 0
           },
           {
            "bin_start": 0.4,
            "bin_end": 0.6000000000000001,
            "count": 0
           },
           {
            "bin_start": 0.6000000000000001,
            "bin_end": 0.8,
            "count": 0
           },
           {
            "bin_start": 0.8,
            "bin_end": 1,
            "count": 0
           },
           {
            "bin_start": 1,
            "bin_end": 1.2000000000000002,
            "count": 50
           },
           {
            "bin_start": 1.2000000000000002,
            "bin_end": 1.4000000000000001,
            "count": 0
           },
           {
            "bin_start": 1.4000000000000001,
            "bin_end": 1.6,
            "count": 0
           },
           {
            "bin_start": 1.6,
            "bin_end": 1.8,
            "count": 0
           },
           {
            "bin_start": 1.8,
            "bin_end": 2,
            "count": 50
           }
          ]
         }
        },
        {
         "name": "_deepnote_index_column",
         "dtype": "int64"
        }
       ],
       "rows": [
        {
         "sepal length (cm)": 5.1,
         "sepal width (cm)": 3.5,
         "petal length (cm)": 1.4,
         "petal width (cm)": 0.2,
         "Target": 0,
         "_deepnote_index_column": 0
        },
        {
         "sepal length (cm)": 4.9,
         "sepal width (cm)": 3,
         "petal length (cm)": 1.4,
         "petal width (cm)": 0.2,
         "Target": 0,
         "_deepnote_index_column": 1
        },
        {
         "sepal length (cm)": 4.7,
         "sepal width (cm)": 3.2,
         "petal length (cm)": 1.3,
         "petal width (cm)": 0.2,
         "Target": 0,
         "_deepnote_index_column": 2
        },
        {
         "sepal length (cm)": 4.6,
         "sepal width (cm)": 3.1,
         "petal length (cm)": 1.5,
         "petal width (cm)": 0.2,
         "Target": 0,
         "_deepnote_index_column": 3
        },
        {
         "sepal length (cm)": 5,
         "sepal width (cm)": 3.6,
         "petal length (cm)": 1.4,
         "petal width (cm)": 0.2,
         "Target": 0,
         "_deepnote_index_column": 4
        },
        {
         "sepal length (cm)": 5.4,
         "sepal width (cm)": 3.9,
         "petal length (cm)": 1.7,
         "petal width (cm)": 0.4,
         "Target": 0,
         "_deepnote_index_column": 5
        },
        {
         "sepal length (cm)": 4.6,
         "sepal width (cm)": 3.4,
         "petal length (cm)": 1.4,
         "petal width (cm)": 0.3,
         "Target": 0,
         "_deepnote_index_column": 6
        },
        {
         "sepal length (cm)": 5,
         "sepal width (cm)": 3.4,
         "petal length (cm)": 1.5,
         "petal width (cm)": 0.2,
         "Target": 0,
         "_deepnote_index_column": 7
        },
        {
         "sepal length (cm)": 4.4,
         "sepal width (cm)": 2.9,
         "petal length (cm)": 1.4,
         "petal width (cm)": 0.2,
         "Target": 0,
         "_deepnote_index_column": 8
        },
        {
         "sepal length (cm)": 4.9,
         "sepal width (cm)": 3.1,
         "petal length (cm)": 1.5,
         "petal width (cm)": 0.1,
         "Target": 0,
         "_deepnote_index_column": 9
        }
       ]
      },
      "text/plain": "     sepal length (cm)  sepal width (cm)  petal length (cm)  petal width (cm)  \\\n0                  5.1               3.5                1.4               0.2   \n1                  4.9               3.0                1.4               0.2   \n2                  4.7               3.2                1.3               0.2   \n3                  4.6               3.1                1.5               0.2   \n4                  5.0               3.6                1.4               0.2   \n..                 ...               ...                ...               ...   \n145                6.7               3.0                5.2               2.3   \n146                6.3               2.5                5.0               1.9   \n147                6.5               3.0                5.2               2.0   \n148                6.2               3.4                5.4               2.3   \n149                5.9               3.0                5.1               1.8   \n\n     Target  \n0         0  \n1         0  \n2         0  \n3         0  \n4         0  \n..      ...  \n145       2  \n146       2  \n147       2  \n148       2  \n149       2  \n\n[150 rows x 5 columns]",
      "text/html": "<div>\n<style scoped>\n    .dataframe tbody tr th:only-of-type {\n        vertical-align: middle;\n    }\n\n    .dataframe tbody tr th {\n        vertical-align: top;\n    }\n\n    .dataframe thead th {\n        text-align: right;\n    }\n</style>\n<table border=\"1\" class=\"dataframe\">\n  <thead>\n    <tr style=\"text-align: right;\">\n      <th></th>\n      <th>sepal length (cm)</th>\n      <th>sepal width (cm)</th>\n      <th>petal length (cm)</th>\n      <th>petal width (cm)</th>\n      <th>Target</th>\n    </tr>\n  </thead>\n  <tbody>\n    <tr>\n      <th>0</th>\n      <td>5.1</td>\n      <td>3.5</td>\n      <td>1.4</td>\n      <td>0.2</td>\n      <td>0</td>\n    </tr>\n    <tr>\n      <th>1</th>\n      <td>4.9</td>\n      <td>3.0</td>\n      <td>1.4</td>\n      <td>0.2</td>\n      <td>0</td>\n    </tr>\n    <tr>\n      <th>2</th>\n      <td>4.7</td>\n      <td>3.2</td>\n      <td>1.3</td>\n      <td>0.2</td>\n      <td>0</td>\n    </tr>\n    <tr>\n      <th>3</th>\n      <td>4.6</td>\n      <td>3.1</td>\n      <td>1.5</td>\n      <td>0.2</td>\n      <td>0</td>\n    </tr>\n    <tr>\n      <th>4</th>\n      <td>5.0</td>\n      <td>3.6</td>\n      <td>1.4</td>\n      <td>0.2</td>\n      <td>0</td>\n    </tr>\n    <tr>\n      <th>...</th>\n      <td>...</td>\n      <td>...</td>\n      <td>...</td>\n      <td>...</td>\n      <td>...</td>\n    </tr>\n    <tr>\n      <th>145</th>\n      <td>6.7</td>\n      <td>3.0</td>\n      <td>5.2</td>\n      <td>2.3</td>\n      <td>2</td>\n    </tr>\n    <tr>\n      <th>146</th>\n      <td>6.3</td>\n      <td>2.5</td>\n      <td>5.0</td>\n      <td>1.9</td>\n      <td>2</td>\n    </tr>\n    <tr>\n      <th>147</th>\n      <td>6.5</td>\n      <td>3.0</td>\n      <td>5.2</td>\n      <td>2.0</td>\n      <td>2</td>\n    </tr>\n    <tr>\n      <th>148</th>\n      <td>6.2</td>\n      <td>3.4</td>\n      <td>5.4</td>\n      <td>2.3</td>\n      <td>2</td>\n    </tr>\n    <tr>\n      <th>149</th>\n      <td>5.9</td>\n      <td>3.0</td>\n      <td>5.1</td>\n      <td>1.8</td>\n      <td>2</td>\n    </tr>\n  </tbody>\n</table>\n<p>150 rows × 5 columns</p>\n</div>"
     },
     "metadata": {}
    }
   ]
  },
  {
   "cell_type": "code",
   "metadata": {
    "cell_id": "8bb9b0ee41594a1fb68c6ee73d7fc917",
    "tags": [],
    "deepnote_to_be_reexecuted": false,
    "source_hash": "6ca82642",
    "execution_start": 1650438630473,
    "execution_millis": 15,
    "deepnote_cell_type": "code",
    "deepnote_cell_height": 97
   },
   "source": "iris.target_names",
   "execution_count": null,
   "outputs": [
    {
     "output_type": "execute_result",
     "execution_count": 63,
     "data": {
      "text/plain": "array(['setosa', 'versicolor', 'virginica'], dtype='<U10')"
     },
     "metadata": {}
    }
   ]
  },
  {
   "cell_type": "code",
   "metadata": {
    "cell_id": "083bccdcaa3c4cae98585b28d8b3a2f0",
    "tags": [],
    "deepnote_to_be_reexecuted": false,
    "source_hash": "e7b81fef",
    "execution_start": 1650438722336,
    "execution_millis": 66,
    "deepnote_cell_type": "code",
    "deepnote_cell_height": 658.796875
   },
   "source": "df['Target_name'] = df['Target'].map({0:'setosa', 1:'versicolor', 2:'virginica'})\ndf",
   "execution_count": null,
   "outputs": [
    {
     "output_type": "execute_result",
     "execution_count": 64,
     "data": {
      "application/vnd.deepnote.dataframe.v3+json": {
       "column_count": 6,
       "row_count": 150,
       "columns": [
        {
         "name": "sepal length (cm)",
         "dtype": "float64",
         "stats": {
          "unique_count": 35,
          "nan_count": 0,
          "min": "4.3",
          "max": "7.9",
          "histogram": [
           {
            "bin_start": 4.3,
            "bin_end": 4.66,
            "count": 9
           },
           {
            "bin_start": 4.66,
            "bin_end": 5.02,
            "count": 23
           },
           {
            "bin_start": 5.02,
            "bin_end": 5.38,
            "count": 14
           },
           {
            "bin_start": 5.38,
            "bin_end": 5.74,
            "count": 27
           },
           {
            "bin_start": 5.74,
            "bin_end": 6.1,
            "count": 16
           },
           {
            "bin_start": 6.1,
            "bin_end": 6.46,
            "count": 26
           },
           {
            "bin_start": 6.46,
            "bin_end": 6.82,
            "count": 18
           },
           {
            "bin_start": 6.82,
            "bin_end": 7.18,
            "count": 6
           },
           {
            "bin_start": 7.18,
            "bin_end": 7.54,
            "count": 5
           },
           {
            "bin_start": 7.54,
            "bin_end": 7.9,
            "count": 6
           }
          ]
         }
        },
        {
         "name": "sepal width (cm)",
         "dtype": "float64",
         "stats": {
          "unique_count": 23,
          "nan_count": 0,
          "min": "2.0",
          "max": "4.4",
          "histogram": [
           {
            "bin_start": 2,
            "bin_end": 2.24,
            "count": 4
           },
           {
            "bin_start": 2.24,
            "bin_end": 2.48,
            "count": 7
           },
           {
            "bin_start": 2.48,
            "bin_end": 2.72,
            "count": 22
           },
           {
            "bin_start": 2.72,
            "bin_end": 2.96,
            "count": 24
           },
           {
            "bin_start": 2.96,
            "bin_end": 3.2,
            "count": 37
           },
           {
            "bin_start": 3.2,
            "bin_end": 3.4400000000000004,
            "count": 31
           },
           {
            "bin_start": 3.4400000000000004,
            "bin_end": 3.6800000000000006,
            "count": 10
           },
           {
            "bin_start": 3.6800000000000006,
            "bin_end": 3.9200000000000004,
            "count": 11
           },
           {
            "bin_start": 3.9200000000000004,
            "bin_end": 4.16,
            "count": 2
           },
           {
            "bin_start": 4.16,
            "bin_end": 4.4,
            "count": 2
           }
          ]
         }
        },
        {
         "name": "petal length (cm)",
         "dtype": "float64",
         "stats": {
          "unique_count": 43,
          "nan_count": 0,
          "min": "1.0",
          "max": "6.9",
          "histogram": [
           {
            "bin_start": 1,
            "bin_end": 1.59,
            "count": 37
           },
           {
            "bin_start": 1.59,
            "bin_end": 2.18,
            "count": 13
           },
           {
            "bin_start": 2.18,
            "bin_end": 2.7700000000000005,
            "count": 0
           },
           {
            "bin_start": 2.7700000000000005,
            "bin_end": 3.3600000000000003,
            "count": 3
           },
           {
            "bin_start": 3.3600000000000003,
            "bin_end": 3.95,
            "count": 8
           },
           {
            "bin_start": 3.95,
            "bin_end": 4.540000000000001,
            "count": 26
           },
           {
            "bin_start": 4.540000000000001,
            "bin_end": 5.130000000000001,
            "count": 29
           },
           {
            "bin_start": 5.130000000000001,
            "bin_end": 5.720000000000001,
            "count": 18
           },
           {
            "bin_start": 5.720000000000001,
            "bin_end": 6.3100000000000005,
            "count": 11
           },
           {
            "bin_start": 6.3100000000000005,
            "bin_end": 6.9,
            "count": 5
           }
          ]
         }
        },
        {
         "name": "petal width (cm)",
         "dtype": "float64",
         "stats": {
          "unique_count": 22,
          "nan_count": 0,
          "min": "0.1",
          "max": "2.5",
          "histogram": [
           {
            "bin_start": 0.1,
            "bin_end": 0.33999999999999997,
            "count": 41
           },
           {
            "bin_start": 0.33999999999999997,
            "bin_end": 0.58,
            "count": 8
           },
           {
            "bin_start": 0.58,
            "bin_end": 0.82,
            "count": 1
           },
           {
            "bin_start": 0.82,
            "bin_end": 1.06,
            "count": 7
           },
           {
            "bin_start": 1.06,
            "bin_end": 1.3,
            "count": 8
           },
           {
            "bin_start": 1.3,
            "bin_end": 1.54,
            "count": 33
           },
           {
            "bin_start": 1.54,
            "bin_end": 1.78,
            "count": 6
           },
           {
            "bin_start": 1.78,
            "bin_end": 2.02,
            "count": 23
           },
           {
            "bin_start": 2.02,
            "bin_end": 2.2600000000000002,
            "count": 9
           },
           {
            "bin_start": 2.2600000000000002,
            "bin_end": 2.5,
            "count": 14
           }
          ]
         }
        },
        {
         "name": "Target",
         "dtype": "int64",
         "stats": {
          "unique_count": 3,
          "nan_count": 0,
          "min": "0",
          "max": "2",
          "histogram": [
           {
            "bin_start": 0,
            "bin_end": 0.2,
            "count": 50
           },
           {
            "bin_start": 0.2,
            "bin_end": 0.4,
            "count": 0
           },
           {
            "bin_start": 0.4,
            "bin_end": 0.6000000000000001,
            "count": 0
           },
           {
            "bin_start": 0.6000000000000001,
            "bin_end": 0.8,
            "count": 0
           },
           {
            "bin_start": 0.8,
            "bin_end": 1,
            "count": 0
           },
           {
            "bin_start": 1,
            "bin_end": 1.2000000000000002,
            "count": 50
           },
           {
            "bin_start": 1.2000000000000002,
            "bin_end": 1.4000000000000001,
            "count": 0
           },
           {
            "bin_start": 1.4000000000000001,
            "bin_end": 1.6,
            "count": 0
           },
           {
            "bin_start": 1.6,
            "bin_end": 1.8,
            "count": 0
           },
           {
            "bin_start": 1.8,
            "bin_end": 2,
            "count": 50
           }
          ]
         }
        },
        {
         "name": "Target_name",
         "dtype": "object",
         "stats": {
          "unique_count": 3,
          "nan_count": 0,
          "categories": [
           {
            "name": "setosa",
            "count": 50
           },
           {
            "name": "versicolor",
            "count": 50
           },
           {
            "name": "virginica",
            "count": 50
           }
          ]
         }
        },
        {
         "name": "_deepnote_index_column",
         "dtype": "int64"
        }
       ],
       "rows": [
        {
         "sepal length (cm)": 5.1,
         "sepal width (cm)": 3.5,
         "petal length (cm)": 1.4,
         "petal width (cm)": 0.2,
         "Target": 0,
         "Target_name": "setosa",
         "_deepnote_index_column": 0
        },
        {
         "sepal length (cm)": 4.9,
         "sepal width (cm)": 3,
         "petal length (cm)": 1.4,
         "petal width (cm)": 0.2,
         "Target": 0,
         "Target_name": "setosa",
         "_deepnote_index_column": 1
        },
        {
         "sepal length (cm)": 4.7,
         "sepal width (cm)": 3.2,
         "petal length (cm)": 1.3,
         "petal width (cm)": 0.2,
         "Target": 0,
         "Target_name": "setosa",
         "_deepnote_index_column": 2
        },
        {
         "sepal length (cm)": 4.6,
         "sepal width (cm)": 3.1,
         "petal length (cm)": 1.5,
         "petal width (cm)": 0.2,
         "Target": 0,
         "Target_name": "setosa",
         "_deepnote_index_column": 3
        },
        {
         "sepal length (cm)": 5,
         "sepal width (cm)": 3.6,
         "petal length (cm)": 1.4,
         "petal width (cm)": 0.2,
         "Target": 0,
         "Target_name": "setosa",
         "_deepnote_index_column": 4
        },
        {
         "sepal length (cm)": 5.4,
         "sepal width (cm)": 3.9,
         "petal length (cm)": 1.7,
         "petal width (cm)": 0.4,
         "Target": 0,
         "Target_name": "setosa",
         "_deepnote_index_column": 5
        },
        {
         "sepal length (cm)": 4.6,
         "sepal width (cm)": 3.4,
         "petal length (cm)": 1.4,
         "petal width (cm)": 0.3,
         "Target": 0,
         "Target_name": "setosa",
         "_deepnote_index_column": 6
        },
        {
         "sepal length (cm)": 5,
         "sepal width (cm)": 3.4,
         "petal length (cm)": 1.5,
         "petal width (cm)": 0.2,
         "Target": 0,
         "Target_name": "setosa",
         "_deepnote_index_column": 7
        },
        {
         "sepal length (cm)": 4.4,
         "sepal width (cm)": 2.9,
         "petal length (cm)": 1.4,
         "petal width (cm)": 0.2,
         "Target": 0,
         "Target_name": "setosa",
         "_deepnote_index_column": 8
        },
        {
         "sepal length (cm)": 4.9,
         "sepal width (cm)": 3.1,
         "petal length (cm)": 1.5,
         "petal width (cm)": 0.1,
         "Target": 0,
         "Target_name": "setosa",
         "_deepnote_index_column": 9
        }
       ]
      },
      "text/plain": "     sepal length (cm)  sepal width (cm)  petal length (cm)  petal width (cm)  \\\n0                  5.1               3.5                1.4               0.2   \n1                  4.9               3.0                1.4               0.2   \n2                  4.7               3.2                1.3               0.2   \n3                  4.6               3.1                1.5               0.2   \n4                  5.0               3.6                1.4               0.2   \n..                 ...               ...                ...               ...   \n145                6.7               3.0                5.2               2.3   \n146                6.3               2.5                5.0               1.9   \n147                6.5               3.0                5.2               2.0   \n148                6.2               3.4                5.4               2.3   \n149                5.9               3.0                5.1               1.8   \n\n     Target Target_name  \n0         0      setosa  \n1         0      setosa  \n2         0      setosa  \n3         0      setosa  \n4         0      setosa  \n..      ...         ...  \n145       2   virginica  \n146       2   virginica  \n147       2   virginica  \n148       2   virginica  \n149       2   virginica  \n\n[150 rows x 6 columns]",
      "text/html": "<div>\n<style scoped>\n    .dataframe tbody tr th:only-of-type {\n        vertical-align: middle;\n    }\n\n    .dataframe tbody tr th {\n        vertical-align: top;\n    }\n\n    .dataframe thead th {\n        text-align: right;\n    }\n</style>\n<table border=\"1\" class=\"dataframe\">\n  <thead>\n    <tr style=\"text-align: right;\">\n      <th></th>\n      <th>sepal length (cm)</th>\n      <th>sepal width (cm)</th>\n      <th>petal length (cm)</th>\n      <th>petal width (cm)</th>\n      <th>Target</th>\n      <th>Target_name</th>\n    </tr>\n  </thead>\n  <tbody>\n    <tr>\n      <th>0</th>\n      <td>5.1</td>\n      <td>3.5</td>\n      <td>1.4</td>\n      <td>0.2</td>\n      <td>0</td>\n      <td>setosa</td>\n    </tr>\n    <tr>\n      <th>1</th>\n      <td>4.9</td>\n      <td>3.0</td>\n      <td>1.4</td>\n      <td>0.2</td>\n      <td>0</td>\n      <td>setosa</td>\n    </tr>\n    <tr>\n      <th>2</th>\n      <td>4.7</td>\n      <td>3.2</td>\n      <td>1.3</td>\n      <td>0.2</td>\n      <td>0</td>\n      <td>setosa</td>\n    </tr>\n    <tr>\n      <th>3</th>\n      <td>4.6</td>\n      <td>3.1</td>\n      <td>1.5</td>\n      <td>0.2</td>\n      <td>0</td>\n      <td>setosa</td>\n    </tr>\n    <tr>\n      <th>4</th>\n      <td>5.0</td>\n      <td>3.6</td>\n      <td>1.4</td>\n      <td>0.2</td>\n      <td>0</td>\n      <td>setosa</td>\n    </tr>\n    <tr>\n      <th>...</th>\n      <td>...</td>\n      <td>...</td>\n      <td>...</td>\n      <td>...</td>\n      <td>...</td>\n      <td>...</td>\n    </tr>\n    <tr>\n      <th>145</th>\n      <td>6.7</td>\n      <td>3.0</td>\n      <td>5.2</td>\n      <td>2.3</td>\n      <td>2</td>\n      <td>virginica</td>\n    </tr>\n    <tr>\n      <th>146</th>\n      <td>6.3</td>\n      <td>2.5</td>\n      <td>5.0</td>\n      <td>1.9</td>\n      <td>2</td>\n      <td>virginica</td>\n    </tr>\n    <tr>\n      <th>147</th>\n      <td>6.5</td>\n      <td>3.0</td>\n      <td>5.2</td>\n      <td>2.0</td>\n      <td>2</td>\n      <td>virginica</td>\n    </tr>\n    <tr>\n      <th>148</th>\n      <td>6.2</td>\n      <td>3.4</td>\n      <td>5.4</td>\n      <td>2.3</td>\n      <td>2</td>\n      <td>virginica</td>\n    </tr>\n    <tr>\n      <th>149</th>\n      <td>5.9</td>\n      <td>3.0</td>\n      <td>5.1</td>\n      <td>1.8</td>\n      <td>2</td>\n      <td>virginica</td>\n    </tr>\n  </tbody>\n</table>\n<p>150 rows × 6 columns</p>\n</div>"
     },
     "metadata": {}
    }
   ]
  },
  {
   "cell_type": "code",
   "metadata": {
    "cell_id": "9b6e2db104754e26a03f7385aa9c7f16",
    "tags": [],
    "deepnote_to_be_reexecuted": false,
    "source_hash": "746a4dbc",
    "execution_start": 1650438770037,
    "execution_millis": 101,
    "deepnote_cell_type": "code",
    "deepnote_cell_height": 81
   },
   "source": "from sklearn.model_selection import train_test_split",
   "execution_count": null,
   "outputs": []
  },
  {
   "cell_type": "code",
   "metadata": {
    "cell_id": "db7c6f6f125549d9b69d15919cf8f8e5",
    "tags": [],
    "deepnote_to_be_reexecuted": false,
    "source_hash": "3abbf060",
    "execution_start": 1650439367695,
    "execution_millis": 32,
    "deepnote_cell_type": "code",
    "deepnote_cell_height": 151,
    "deepnote_output_heights": [
     78.796875
    ]
   },
   "source": "target = ['Target', 'Target_name']\n# Lista de descriptores\ndesc = list(set(list(df.columns)) - set(target))  # Quitamos las columnas de target\ndesc",
   "execution_count": null,
   "outputs": [
    {
     "output_type": "execute_result",
     "execution_count": 78,
     "data": {
      "text/plain": "['petal width (cm)',\n 'sepal length (cm)',\n 'sepal width (cm)',\n 'petal length (cm)']"
     },
     "metadata": {}
    }
   ]
  },
  {
   "cell_type": "code",
   "metadata": {
    "cell_id": "c5544fe3d98c46888f6bbd8a554f5228",
    "tags": [],
    "deepnote_to_be_reexecuted": false,
    "source_hash": "99a0db59",
    "execution_start": 1650439918170,
    "execution_millis": 2,
    "deepnote_cell_type": "code",
    "deepnote_cell_height": 117
   },
   "source": "X = df[desc].values\ny = df['Target'].values\nX_train, X_test, y_train, y_test = train_test_split(X,y, test_size=0.30, random_state=40)",
   "execution_count": null,
   "outputs": []
  },
  {
   "cell_type": "markdown",
   "source": "# Métricas de evaluación y regresión",
   "metadata": {
    "cell_id": "a7bb58d5baf948688526c73c9742e52c",
    "tags": [],
    "deepnote_cell_type": "markdown",
    "deepnote_cell_height": 92.390625
   }
  },
  {
   "cell_type": "code",
   "metadata": {
    "cell_id": "5d93305dfeee4669bbef4140c6979b26",
    "tags": [],
    "deepnote_to_be_reexecuted": false,
    "source_hash": "ea8ff8d2",
    "execution_start": 1650439846638,
    "execution_millis": 8,
    "owner_user_id": "bc33c0a1-8048-44d5-b0e9-3d851b1fa595",
    "deepnote_cell_type": "code",
    "deepnote_cell_height": 81
   },
   "source": "from sklearn.tree import DecisionTreeRegressor",
   "execution_count": null,
   "outputs": []
  },
  {
   "cell_type": "code",
   "metadata": {
    "cell_id": "17abb1e7b5e447aab89c4c91d2e2a7cc",
    "tags": [],
    "deepnote_to_be_reexecuted": false,
    "source_hash": "538b74cc",
    "execution_start": 1650439924153,
    "execution_millis": 27,
    "deepnote_cell_type": "code",
    "deepnote_cell_height": 115,
    "deepnote_output_heights": [
     21.1875
    ]
   },
   "source": "reg_1 = DecisionTreeRegressor(max_depth=4)\nreg_1.fit(X_train, y_train)",
   "execution_count": null,
   "outputs": [
    {
     "output_type": "execute_result",
     "execution_count": 84,
     "data": {
      "text/plain": "DecisionTreeRegressor(max_depth=4)"
     },
     "metadata": {}
    }
   ]
  },
  {
   "cell_type": "code",
   "metadata": {
    "cell_id": "a041d414152d4ae1b7f4cb681252d924",
    "tags": [],
    "deepnote_to_be_reexecuted": false,
    "source_hash": "8ff4cbe1",
    "execution_start": 1650440030986,
    "execution_millis": 9,
    "deepnote_cell_type": "code",
    "deepnote_cell_height": 99
   },
   "source": "predict_train = reg_1.predict(X_train)\npredict_test = reg_1.predict(X_test)",
   "execution_count": null,
   "outputs": []
  },
  {
   "cell_type": "markdown",
   "source": "Realizando una matriz de confusión",
   "metadata": {
    "cell_id": "1a1ad335891148998b399b7e3cd9ca7e",
    "tags": [],
    "deepnote_cell_type": "markdown",
    "deepnote_cell_height": 52.390625
   }
  },
  {
   "cell_type": "code",
   "metadata": {
    "cell_id": "656d3e0f8674491ea765b4eecfe3a636",
    "tags": [],
    "deepnote_to_be_reexecuted": false,
    "source_hash": "ca64a164",
    "execution_start": 1650440077480,
    "execution_millis": 9,
    "deepnote_cell_type": "code",
    "deepnote_cell_height": 81
   },
   "source": "from sklearn.metrics import classification_report, confusion_matrix",
   "execution_count": null,
   "outputs": []
  },
  {
   "cell_type": "code",
   "metadata": {
    "cell_id": "3712ae7984ed4340827c1e62aecff5a2",
    "tags": [],
    "deepnote_to_be_reexecuted": false,
    "source_hash": "43021887",
    "execution_start": 1650440133408,
    "execution_millis": 42,
    "deepnote_cell_type": "code",
    "deepnote_cell_height": 296.796875
   },
   "source": "print(classification_report(y_test, predict_test))",
   "execution_count": null,
   "outputs": [
    {
     "name": "stdout",
     "text": "              precision    recall  f1-score   support\n\n           0       1.00      1.00      1.00        16\n           1       1.00      1.00      1.00        14\n           2       1.00      1.00      1.00        15\n\n    accuracy                           1.00        45\n   macro avg       1.00      1.00      1.00        45\nweighted avg       1.00      1.00      1.00        45\n\n",
     "output_type": "stream"
    }
   ]
  },
  {
   "cell_type": "code",
   "metadata": {
    "cell_id": "3fa211cfe765412785d6b17f158bdc74",
    "tags": [],
    "deepnote_to_be_reexecuted": false,
    "source_hash": "dd6f2d82",
    "execution_start": 1650440250746,
    "execution_millis": 5,
    "deepnote_cell_type": "code",
    "deepnote_cell_height": 152
   },
   "source": "print(confusion_matrix(y_test, predict_test))",
   "execution_count": null,
   "outputs": [
    {
     "name": "stdout",
     "text": "[[16  0  0]\n [ 0 14  0]\n [ 0  0 15]]\n",
     "output_type": "stream"
    }
   ]
  },
  {
   "cell_type": "code",
   "metadata": {
    "cell_id": "282d143df1354870b641ecde4ad31adf",
    "tags": [],
    "deepnote_cell_type": "code",
    "deepnote_cell_height": 66
   },
   "source": "",
   "execution_count": null,
   "outputs": []
  },
  {
   "cell_type": "markdown",
   "source": "<a style='text-decoration:none;line-height:16px;display:flex;color:#5B5B62;padding:10px;justify-content:end;' href='https://deepnote.com?utm_source=created-in-deepnote-cell&projectId=27dabb8f-c014-4c3b-9af9-2c50accbfcce' target=\"_blank\">\n<img alt='Created in deepnote.com' style='display:inline;max-height:16px;margin:0px;margin-right:7.5px;' src='data:image/svg+xml;base64,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' > </img>\nCreated in <span style='font-weight:600;margin-left:4px;'>Deepnote</span></a>",
   "metadata": {
    "tags": [],
    "created_in_deepnote_cell": true,
    "deepnote_cell_type": "markdown"
   }
  }
 ],
 "nbformat": 4,
 "nbformat_minor": 2,
 "metadata": {
  "orig_nbformat": 2,
  "deepnote": {},
  "deepnote_notebook_id": "0507f03f-ffa2-46b9-99a1-8c4dc2296003",
  "deepnote_execution_queue": []
 }
}